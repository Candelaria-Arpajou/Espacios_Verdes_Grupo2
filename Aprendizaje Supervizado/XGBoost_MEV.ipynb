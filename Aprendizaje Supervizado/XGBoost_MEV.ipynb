{
  "cells": [
    {
      "cell_type": "code",
      "execution_count": null,
      "metadata": {
        "id": "P8OmE19QyLOf"
      },
      "outputs": [],
      "source": [
        "import numpy as np\n",
        "import pandas as pd\n",
        "import seaborn as sns\n",
        "import matplotlib.pyplot as plt\n",
        "\n",
        "import itertools\n"
      ]
    },
    {
      "cell_type": "code",
      "execution_count": null,
      "metadata": {
        "colab": {
          "base_uri": "https://localhost:8080/"
        },
        "id": "sk2T1kT5mIPq",
        "outputId": "3e8ca6e4-db74-4dd9-e1ec-19a6508e758d"
      },
      "outputs": [
        {
          "output_type": "stream",
          "name": "stdout",
          "text": [
            "Mounted at /content/drive\n"
          ]
        }
      ],
      "source": [
        "from google.colab import drive # La usamos para montar nuestra unidad de Google Drive\n",
        "drive.mount('/content/drive') # Montamos nuestra unidad de Google Drive"
      ]
    },
    {
      "cell_type": "markdown",
      "metadata": {
        "id": "Riq3CUhUO_as"
      },
      "source": [
        "Cargamos los dataset de cada receta para implementar el modelo"
      ]
    },
    {
      "cell_type": "code",
      "execution_count": null,
      "metadata": {
        "colab": {
          "base_uri": "https://localhost:8080/"
        },
        "id": "SdgqZV0-CA1S",
        "outputId": "5a2f61a9-59b2-4da8-ff2b-c1ba73322513"
      },
      "outputs": [
        {
          "output_type": "stream",
          "name": "stdout",
          "text": [
            "Downloading...\n",
            "From: https://drive.google.com/uc?id=1tH9oqyL2KtNerYWH8012raDla7iko7jL\n",
            "To: /content/df_A_modelo_encode.csv\n",
            "100% 49.6M/49.6M [00:00<00:00, 143MB/s]\n"
          ]
        }
      ],
      "source": [
        "!gdown https://drive.google.com/file/d/1tH9oqyL2KtNerYWH8012raDla7iko7jL/view?usp=sharing --fuzzy"
      ]
    },
    {
      "cell_type": "code",
      "execution_count": null,
      "metadata": {
        "id": "jqUKXvv1CxfI"
      },
      "outputs": [],
      "source": [
        "file_name1 = 'df_A_modelo_encode.csv'\n",
        "df_A_xgb = pd.read_csv(file_name1)"
      ]
    },
    {
      "cell_type": "code",
      "execution_count": null,
      "metadata": {
        "colab": {
          "base_uri": "https://localhost:8080/"
        },
        "id": "ZudfUZZ9DQ_Z",
        "outputId": "950b2739-b7b2-467c-d70c-74278cf35e0e"
      },
      "outputs": [
        {
          "output_type": "stream",
          "name": "stdout",
          "text": [
            "Downloading...\n",
            "From: https://drive.google.com/uc?id=1BgEwnFrLOQNpqTkik12pvzWizLiWTOeH\n",
            "To: /content/df_B_modelo_encode.csv\n",
            "100% 51.1M/51.1M [00:00<00:00, 55.2MB/s]\n"
          ]
        }
      ],
      "source": [
        "!gdown https://drive.google.com/file/d/1BgEwnFrLOQNpqTkik12pvzWizLiWTOeH/view?usp=sharing --fuzzy"
      ]
    },
    {
      "cell_type": "code",
      "execution_count": null,
      "metadata": {
        "id": "gvAZhYZXDZWg"
      },
      "outputs": [],
      "source": [
        "file_name2 = 'df_B_modelo_encode.csv'\n",
        "df_B_xgb = pd.read_csv(file_name2)"
      ]
    },
    {
      "cell_type": "code",
      "execution_count": null,
      "metadata": {
        "colab": {
          "base_uri": "https://localhost:8080/"
        },
        "id": "-HzDWmEZDZZ3",
        "outputId": "edd53d1b-c5a9-4b10-f08a-2bf5f4494f5a"
      },
      "outputs": [
        {
          "output_type": "stream",
          "name": "stdout",
          "text": [
            "Downloading...\n",
            "From: https://drive.google.com/uc?id=1tI7pc0yVTkHK5sBuK4M0CEyEoPoj-ATS\n",
            "To: /content/df_C_modelo_encode.csv\n",
            "100% 61.7M/61.7M [00:00<00:00, 109MB/s]\n"
          ]
        }
      ],
      "source": [
        "!gdown https://drive.google.com/file/d/1tI7pc0yVTkHK5sBuK4M0CEyEoPoj-ATS/view?usp=sharing --fuzzy"
      ]
    },
    {
      "cell_type": "code",
      "execution_count": null,
      "metadata": {
        "id": "4Ot8k5utDZhf"
      },
      "outputs": [],
      "source": [
        "file_name3 = 'df_C_modelo_encode.csv'\n",
        "df_C_xgb = pd.read_csv(file_name3)"
      ]
    },
    {
      "cell_type": "code",
      "execution_count": null,
      "metadata": {
        "colab": {
          "base_uri": "https://localhost:8080/"
        },
        "id": "btrwT2EeEsdf",
        "outputId": "6b797eaf-2933-460b-df11-15706f2eab2b"
      },
      "outputs": [
        {
          "output_type": "stream",
          "name": "stdout",
          "text": [
            "Downloading...\n",
            "From: https://drive.google.com/uc?id=18E6orTGLwBPyPuoJIJIAv_WXFIIfsliX\n",
            "To: /content/df_D_modelo_encode.csv\n",
            "100% 61.0M/61.0M [00:00<00:00, 79.9MB/s]\n"
          ]
        }
      ],
      "source": [
        "!gdown https://drive.google.com/file/d/18E6orTGLwBPyPuoJIJIAv_WXFIIfsliX/view?usp=sharing --fuzzy"
      ]
    },
    {
      "cell_type": "code",
      "execution_count": null,
      "metadata": {
        "id": "iwtrash5EsjP"
      },
      "outputs": [],
      "source": [
        "file_name4 = 'df_D_modelo_encode.csv'\n",
        "df_D_xgb = pd.read_csv(file_name4)"
      ]
    },
    {
      "cell_type": "markdown",
      "metadata": {
        "id": "NTufTVgo0JPp"
      },
      "source": [
        "Librerias necesarias para el modelo"
      ]
    },
    {
      "cell_type": "code",
      "execution_count": null,
      "metadata": {
        "id": "ws7-Ma8k0IXg"
      },
      "outputs": [],
      "source": [
        "from sklearn.model_selection import train_test_split, GridSearchCV, StratifiedKFold, RandomizedSearchCV\n",
        "from sklearn.metrics import accuracy_score, ConfusionMatrixDisplay, classification_report, recall_score, precision_score\n",
        "from sklearn.metrics import plot_confusion_matrix, confusion_matrix\n",
        "from xgboost import  XGBClassifier\n",
        "\n",
        "\n",
        "%matplotlib notebook\n",
        "%matplotlib inline"
      ]
    },
    {
      "cell_type": "code",
      "execution_count": null,
      "metadata": {
        "colab": {
          "base_uri": "https://localhost:8080/",
          "height": 364
        },
        "id": "0NSPZIZ_2a2z",
        "outputId": "135e1570-2ba1-436e-f875-9151b3d186b9"
      },
      "outputs": [
        {
          "output_type": "execute_result",
          "data": {
            "text/plain": [
              "         ndvi_median   mNDVI_median    gari_median  tcariOsavi_median  \\\n",
              "count  170090.000000  170090.000000  170090.000000      170090.000000   \n",
              "mean        0.364385       1.051277       1.045381           0.191310   \n",
              "std         0.128667       0.231609       0.215483           0.049479   \n",
              "min        -0.009102       0.254644       0.308995           0.034613   \n",
              "25%         0.258850       0.877130       0.882758           0.161540   \n",
              "50%         0.351721       1.044740       1.045812           0.194309   \n",
              "75%         0.465916       1.200434       1.194116           0.223182   \n",
              "max         0.747038       1.770667       1.744506           0.328613   \n",
              "\n",
              "         sipi_median    ndii_median     B04_median     B08_median  \\\n",
              "count  170090.000000  170090.000000  170090.000000  170090.000000   \n",
              "mean        0.994003       0.053580       0.125309       0.269195   \n",
              "std         0.112413       0.081421       0.033215       0.042451   \n",
              "min         0.638591      -0.206024       0.042400       0.119800   \n",
              "25%         0.913383      -0.008449       0.100000       0.236300   \n",
              "50%         0.975294       0.043326       0.123250       0.269200   \n",
              "75%         1.064357       0.110543       0.148100       0.300400   \n",
              "max         1.400520       0.325748       0.248600       0.403100   \n",
              "\n",
              "          B11_median  clouds_on_raster       area_m2         target  \\\n",
              "count  170090.000000     170090.000000  1.700900e+05  170090.000000   \n",
              "mean        0.241356          0.416255  1.885898e+04       0.692545   \n",
              "std         0.040652          1.476307  6.864772e+04       0.461441   \n",
              "min         0.107700          0.000000  4.225951e+02       0.000000   \n",
              "25%         0.212500          0.000000  2.929467e+03       0.000000   \n",
              "50%         0.239700          0.000000  6.336731e+03       1.000000   \n",
              "75%         0.269400          0.000000  3.136548e+04       1.000000   \n",
              "max         0.373200          9.826493  1.370630e+06       1.000000   \n",
              "\n",
              "                 año            mes  estacion_Invierno  estacion_Otoño  \\\n",
              "count  170090.000000  170090.000000      170090.000000   170090.000000   \n",
              "mean     2019.393245       6.559433           0.209413        0.239567   \n",
              "std         1.397456       3.620712           0.406891        0.426821   \n",
              "min      2017.000000       1.000000           0.000000        0.000000   \n",
              "25%      2018.000000       3.000000           0.000000        0.000000   \n",
              "50%      2019.000000       7.000000           0.000000        0.000000   \n",
              "75%      2021.000000      10.000000           0.000000        0.000000   \n",
              "max      2022.000000      12.000000           1.000000        1.000000   \n",
              "\n",
              "       estacion_Primavera  estacion_Verano  \n",
              "count       170090.000000    170090.000000  \n",
              "mean             0.273808         0.277212  \n",
              "std              0.445913         0.447623  \n",
              "min              0.000000         0.000000  \n",
              "25%              0.000000         0.000000  \n",
              "50%              0.000000         0.000000  \n",
              "75%              1.000000         1.000000  \n",
              "max              1.000000         1.000000  "
            ],
            "text/html": [
              "\n",
              "  <div id=\"df-c2191ce7-66f6-4d71-ad5f-4df069d2095f\">\n",
              "    <div class=\"colab-df-container\">\n",
              "      <div>\n",
              "<style scoped>\n",
              "    .dataframe tbody tr th:only-of-type {\n",
              "        vertical-align: middle;\n",
              "    }\n",
              "\n",
              "    .dataframe tbody tr th {\n",
              "        vertical-align: top;\n",
              "    }\n",
              "\n",
              "    .dataframe thead th {\n",
              "        text-align: right;\n",
              "    }\n",
              "</style>\n",
              "<table border=\"1\" class=\"dataframe\">\n",
              "  <thead>\n",
              "    <tr style=\"text-align: right;\">\n",
              "      <th></th>\n",
              "      <th>ndvi_median</th>\n",
              "      <th>mNDVI_median</th>\n",
              "      <th>gari_median</th>\n",
              "      <th>tcariOsavi_median</th>\n",
              "      <th>sipi_median</th>\n",
              "      <th>ndii_median</th>\n",
              "      <th>B04_median</th>\n",
              "      <th>B08_median</th>\n",
              "      <th>B11_median</th>\n",
              "      <th>clouds_on_raster</th>\n",
              "      <th>area_m2</th>\n",
              "      <th>target</th>\n",
              "      <th>año</th>\n",
              "      <th>mes</th>\n",
              "      <th>estacion_Invierno</th>\n",
              "      <th>estacion_Otoño</th>\n",
              "      <th>estacion_Primavera</th>\n",
              "      <th>estacion_Verano</th>\n",
              "    </tr>\n",
              "  </thead>\n",
              "  <tbody>\n",
              "    <tr>\n",
              "      <th>count</th>\n",
              "      <td>170090.000000</td>\n",
              "      <td>170090.000000</td>\n",
              "      <td>170090.000000</td>\n",
              "      <td>170090.000000</td>\n",
              "      <td>170090.000000</td>\n",
              "      <td>170090.000000</td>\n",
              "      <td>170090.000000</td>\n",
              "      <td>170090.000000</td>\n",
              "      <td>170090.000000</td>\n",
              "      <td>170090.000000</td>\n",
              "      <td>1.700900e+05</td>\n",
              "      <td>170090.000000</td>\n",
              "      <td>170090.000000</td>\n",
              "      <td>170090.000000</td>\n",
              "      <td>170090.000000</td>\n",
              "      <td>170090.000000</td>\n",
              "      <td>170090.000000</td>\n",
              "      <td>170090.000000</td>\n",
              "    </tr>\n",
              "    <tr>\n",
              "      <th>mean</th>\n",
              "      <td>0.364385</td>\n",
              "      <td>1.051277</td>\n",
              "      <td>1.045381</td>\n",
              "      <td>0.191310</td>\n",
              "      <td>0.994003</td>\n",
              "      <td>0.053580</td>\n",
              "      <td>0.125309</td>\n",
              "      <td>0.269195</td>\n",
              "      <td>0.241356</td>\n",
              "      <td>0.416255</td>\n",
              "      <td>1.885898e+04</td>\n",
              "      <td>0.692545</td>\n",
              "      <td>2019.393245</td>\n",
              "      <td>6.559433</td>\n",
              "      <td>0.209413</td>\n",
              "      <td>0.239567</td>\n",
              "      <td>0.273808</td>\n",
              "      <td>0.277212</td>\n",
              "    </tr>\n",
              "    <tr>\n",
              "      <th>std</th>\n",
              "      <td>0.128667</td>\n",
              "      <td>0.231609</td>\n",
              "      <td>0.215483</td>\n",
              "      <td>0.049479</td>\n",
              "      <td>0.112413</td>\n",
              "      <td>0.081421</td>\n",
              "      <td>0.033215</td>\n",
              "      <td>0.042451</td>\n",
              "      <td>0.040652</td>\n",
              "      <td>1.476307</td>\n",
              "      <td>6.864772e+04</td>\n",
              "      <td>0.461441</td>\n",
              "      <td>1.397456</td>\n",
              "      <td>3.620712</td>\n",
              "      <td>0.406891</td>\n",
              "      <td>0.426821</td>\n",
              "      <td>0.445913</td>\n",
              "      <td>0.447623</td>\n",
              "    </tr>\n",
              "    <tr>\n",
              "      <th>min</th>\n",
              "      <td>-0.009102</td>\n",
              "      <td>0.254644</td>\n",
              "      <td>0.308995</td>\n",
              "      <td>0.034613</td>\n",
              "      <td>0.638591</td>\n",
              "      <td>-0.206024</td>\n",
              "      <td>0.042400</td>\n",
              "      <td>0.119800</td>\n",
              "      <td>0.107700</td>\n",
              "      <td>0.000000</td>\n",
              "      <td>4.225951e+02</td>\n",
              "      <td>0.000000</td>\n",
              "      <td>2017.000000</td>\n",
              "      <td>1.000000</td>\n",
              "      <td>0.000000</td>\n",
              "      <td>0.000000</td>\n",
              "      <td>0.000000</td>\n",
              "      <td>0.000000</td>\n",
              "    </tr>\n",
              "    <tr>\n",
              "      <th>25%</th>\n",
              "      <td>0.258850</td>\n",
              "      <td>0.877130</td>\n",
              "      <td>0.882758</td>\n",
              "      <td>0.161540</td>\n",
              "      <td>0.913383</td>\n",
              "      <td>-0.008449</td>\n",
              "      <td>0.100000</td>\n",
              "      <td>0.236300</td>\n",
              "      <td>0.212500</td>\n",
              "      <td>0.000000</td>\n",
              "      <td>2.929467e+03</td>\n",
              "      <td>0.000000</td>\n",
              "      <td>2018.000000</td>\n",
              "      <td>3.000000</td>\n",
              "      <td>0.000000</td>\n",
              "      <td>0.000000</td>\n",
              "      <td>0.000000</td>\n",
              "      <td>0.000000</td>\n",
              "    </tr>\n",
              "    <tr>\n",
              "      <th>50%</th>\n",
              "      <td>0.351721</td>\n",
              "      <td>1.044740</td>\n",
              "      <td>1.045812</td>\n",
              "      <td>0.194309</td>\n",
              "      <td>0.975294</td>\n",
              "      <td>0.043326</td>\n",
              "      <td>0.123250</td>\n",
              "      <td>0.269200</td>\n",
              "      <td>0.239700</td>\n",
              "      <td>0.000000</td>\n",
              "      <td>6.336731e+03</td>\n",
              "      <td>1.000000</td>\n",
              "      <td>2019.000000</td>\n",
              "      <td>7.000000</td>\n",
              "      <td>0.000000</td>\n",
              "      <td>0.000000</td>\n",
              "      <td>0.000000</td>\n",
              "      <td>0.000000</td>\n",
              "    </tr>\n",
              "    <tr>\n",
              "      <th>75%</th>\n",
              "      <td>0.465916</td>\n",
              "      <td>1.200434</td>\n",
              "      <td>1.194116</td>\n",
              "      <td>0.223182</td>\n",
              "      <td>1.064357</td>\n",
              "      <td>0.110543</td>\n",
              "      <td>0.148100</td>\n",
              "      <td>0.300400</td>\n",
              "      <td>0.269400</td>\n",
              "      <td>0.000000</td>\n",
              "      <td>3.136548e+04</td>\n",
              "      <td>1.000000</td>\n",
              "      <td>2021.000000</td>\n",
              "      <td>10.000000</td>\n",
              "      <td>0.000000</td>\n",
              "      <td>0.000000</td>\n",
              "      <td>1.000000</td>\n",
              "      <td>1.000000</td>\n",
              "    </tr>\n",
              "    <tr>\n",
              "      <th>max</th>\n",
              "      <td>0.747038</td>\n",
              "      <td>1.770667</td>\n",
              "      <td>1.744506</td>\n",
              "      <td>0.328613</td>\n",
              "      <td>1.400520</td>\n",
              "      <td>0.325748</td>\n",
              "      <td>0.248600</td>\n",
              "      <td>0.403100</td>\n",
              "      <td>0.373200</td>\n",
              "      <td>9.826493</td>\n",
              "      <td>1.370630e+06</td>\n",
              "      <td>1.000000</td>\n",
              "      <td>2022.000000</td>\n",
              "      <td>12.000000</td>\n",
              "      <td>1.000000</td>\n",
              "      <td>1.000000</td>\n",
              "      <td>1.000000</td>\n",
              "      <td>1.000000</td>\n",
              "    </tr>\n",
              "  </tbody>\n",
              "</table>\n",
              "</div>\n",
              "      <button class=\"colab-df-convert\" onclick=\"convertToInteractive('df-c2191ce7-66f6-4d71-ad5f-4df069d2095f')\"\n",
              "              title=\"Convert this dataframe to an interactive table.\"\n",
              "              style=\"display:none;\">\n",
              "        \n",
              "  <svg xmlns=\"http://www.w3.org/2000/svg\" height=\"24px\"viewBox=\"0 0 24 24\"\n",
              "       width=\"24px\">\n",
              "    <path d=\"M0 0h24v24H0V0z\" fill=\"none\"/>\n",
              "    <path d=\"M18.56 5.44l.94 2.06.94-2.06 2.06-.94-2.06-.94-.94-2.06-.94 2.06-2.06.94zm-11 1L8.5 8.5l.94-2.06 2.06-.94-2.06-.94L8.5 2.5l-.94 2.06-2.06.94zm10 10l.94 2.06.94-2.06 2.06-.94-2.06-.94-.94-2.06-.94 2.06-2.06.94z\"/><path d=\"M17.41 7.96l-1.37-1.37c-.4-.4-.92-.59-1.43-.59-.52 0-1.04.2-1.43.59L10.3 9.45l-7.72 7.72c-.78.78-.78 2.05 0 2.83L4 21.41c.39.39.9.59 1.41.59.51 0 1.02-.2 1.41-.59l7.78-7.78 2.81-2.81c.8-.78.8-2.07 0-2.86zM5.41 20L4 18.59l7.72-7.72 1.47 1.35L5.41 20z\"/>\n",
              "  </svg>\n",
              "      </button>\n",
              "      \n",
              "  <style>\n",
              "    .colab-df-container {\n",
              "      display:flex;\n",
              "      flex-wrap:wrap;\n",
              "      gap: 12px;\n",
              "    }\n",
              "\n",
              "    .colab-df-convert {\n",
              "      background-color: #E8F0FE;\n",
              "      border: none;\n",
              "      border-radius: 50%;\n",
              "      cursor: pointer;\n",
              "      display: none;\n",
              "      fill: #1967D2;\n",
              "      height: 32px;\n",
              "      padding: 0 0 0 0;\n",
              "      width: 32px;\n",
              "    }\n",
              "\n",
              "    .colab-df-convert:hover {\n",
              "      background-color: #E2EBFA;\n",
              "      box-shadow: 0px 1px 2px rgba(60, 64, 67, 0.3), 0px 1px 3px 1px rgba(60, 64, 67, 0.15);\n",
              "      fill: #174EA6;\n",
              "    }\n",
              "\n",
              "    [theme=dark] .colab-df-convert {\n",
              "      background-color: #3B4455;\n",
              "      fill: #D2E3FC;\n",
              "    }\n",
              "\n",
              "    [theme=dark] .colab-df-convert:hover {\n",
              "      background-color: #434B5C;\n",
              "      box-shadow: 0px 1px 3px 1px rgba(0, 0, 0, 0.15);\n",
              "      filter: drop-shadow(0px 1px 2px rgba(0, 0, 0, 0.3));\n",
              "      fill: #FFFFFF;\n",
              "    }\n",
              "  </style>\n",
              "\n",
              "      <script>\n",
              "        const buttonEl =\n",
              "          document.querySelector('#df-c2191ce7-66f6-4d71-ad5f-4df069d2095f button.colab-df-convert');\n",
              "        buttonEl.style.display =\n",
              "          google.colab.kernel.accessAllowed ? 'block' : 'none';\n",
              "\n",
              "        async function convertToInteractive(key) {\n",
              "          const element = document.querySelector('#df-c2191ce7-66f6-4d71-ad5f-4df069d2095f');\n",
              "          const dataTable =\n",
              "            await google.colab.kernel.invokeFunction('convertToInteractive',\n",
              "                                                     [key], {});\n",
              "          if (!dataTable) return;\n",
              "\n",
              "          const docLinkHtml = 'Like what you see? Visit the ' +\n",
              "            '<a target=\"_blank\" href=https://colab.research.google.com/notebooks/data_table.ipynb>data table notebook</a>'\n",
              "            + ' to learn more about interactive tables.';\n",
              "          element.innerHTML = '';\n",
              "          dataTable['output_type'] = 'display_data';\n",
              "          await google.colab.output.renderOutput(dataTable, element);\n",
              "          const docLink = document.createElement('div');\n",
              "          docLink.innerHTML = docLinkHtml;\n",
              "          element.appendChild(docLink);\n",
              "        }\n",
              "      </script>\n",
              "    </div>\n",
              "  </div>\n",
              "  "
            ]
          },
          "metadata": {},
          "execution_count": 14
        }
      ],
      "source": [
        "df_A_xgb.describe()"
      ]
    },
    {
      "cell_type": "code",
      "execution_count": null,
      "metadata": {
        "colab": {
          "base_uri": "https://localhost:8080/"
        },
        "id": "ETJUqdzH4hGX",
        "outputId": "d6d33b55-2922-48ea-c5bc-35829dc7a9b4"
      },
      "outputs": [
        {
          "output_type": "stream",
          "name": "stdout",
          "text": [
            "<class 'pandas.core.frame.DataFrame'>\n",
            "RangeIndex: 170090 entries, 0 to 170089\n",
            "Data columns (total 20 columns):\n",
            " #   Column              Non-Null Count   Dtype  \n",
            "---  ------              --------------   -----  \n",
            " 0   ndvi_median         170090 non-null  float64\n",
            " 1   mNDVI_median        170090 non-null  float64\n",
            " 2   gari_median         170090 non-null  float64\n",
            " 3   tcariOsavi_median   170090 non-null  float64\n",
            " 4   sipi_median         170090 non-null  float64\n",
            " 5   ndii_median         170090 non-null  float64\n",
            " 6   B04_median          170090 non-null  float64\n",
            " 7   B08_median          170090 non-null  float64\n",
            " 8   B11_median          170090 non-null  float64\n",
            " 9   raster              170090 non-null  object \n",
            " 10  clouds_on_raster    170090 non-null  float64\n",
            " 11  area_m2             170090 non-null  float64\n",
            " 12  date                170090 non-null  object \n",
            " 13  target              170090 non-null  int64  \n",
            " 14  año                 170090 non-null  int64  \n",
            " 15  mes                 170090 non-null  int64  \n",
            " 16  estacion_Invierno   170090 non-null  int64  \n",
            " 17  estacion_Otoño      170090 non-null  int64  \n",
            " 18  estacion_Primavera  170090 non-null  int64  \n",
            " 19  estacion_Verano     170090 non-null  int64  \n",
            "dtypes: float64(11), int64(7), object(2)\n",
            "memory usage: 26.0+ MB\n"
          ]
        }
      ],
      "source": [
        "df_A_xgb.info()"
      ]
    },
    {
      "cell_type": "code",
      "execution_count": null,
      "metadata": {
        "colab": {
          "base_uri": "https://localhost:8080/",
          "height": 364
        },
        "id": "y4rmdHG72kUZ",
        "outputId": "c5efbb61-4b4b-485a-e6f2-4a973cb672fb"
      },
      "outputs": [
        {
          "output_type": "execute_result",
          "data": {
            "text/plain": [
              "         ndvi_median   mNDVI_median    gari_median  tcariOsavi_median  \\\n",
              "count  175007.000000  175007.000000  175007.000000      175007.000000   \n",
              "mean        0.363666       1.053057       1.046904           0.190664   \n",
              "std         0.128009       0.233666       0.216699           0.050191   \n",
              "min        -0.009102       0.234709       0.308995           0.019951   \n",
              "25%         0.259406       0.879246       0.884892           0.161708   \n",
              "50%         0.352282       1.046662       1.047842           0.194424   \n",
              "75%         0.463583       1.198785       1.192772           0.222526   \n",
              "max         0.747038       1.811232       1.781766           0.330740   \n",
              "\n",
              "         sipi_median    ndii_median     B04_median     B08_median  \\\n",
              "count  175007.000000  175007.000000  175007.000000  175007.000000   \n",
              "mean        0.993507       0.053517       0.125467       0.269052   \n",
              "std         0.112388       0.081156       0.033266       0.042491   \n",
              "min         0.625000      -0.185634       0.042400       0.116200   \n",
              "25%         0.913881      -0.007830       0.100300       0.236400   \n",
              "50%         0.974899       0.043867       0.123000       0.269300   \n",
              "75%         1.062989       0.109303       0.148400       0.299850   \n",
              "max         1.394037       0.327150       0.258200       0.413900   \n",
              "\n",
              "          B11_median  clouds_on_raster       area_m2         target  \\\n",
              "count  175007.000000     175007.000000  1.750070e+05  175007.000000   \n",
              "mean        0.241278          0.443781  1.881031e+04       0.691389   \n",
              "std         0.040770          1.534604  6.830559e+04       0.461921   \n",
              "min         0.107700          0.000000  4.225951e+02       0.000000   \n",
              "25%         0.212700          0.000000  2.929467e+03       0.000000   \n",
              "50%         0.239300          0.000000  6.336731e+03       1.000000   \n",
              "75%         0.268900          0.000000  3.136548e+04       1.000000   \n",
              "max         0.382500          9.826493  1.370630e+06       1.000000   \n",
              "\n",
              "                 año            mes  estacion_Invierno  estacion_Otoño  \\\n",
              "count  175007.000000  175007.000000      175007.000000   175007.000000   \n",
              "mean     2019.405978       6.580097           0.213769        0.238505   \n",
              "std         1.392611       3.610216           0.409967        0.426170   \n",
              "min      2017.000000       1.000000           0.000000        0.000000   \n",
              "25%      2018.000000       3.000000           0.000000        0.000000   \n",
              "50%      2019.000000       7.000000           0.000000        0.000000   \n",
              "75%      2021.000000      10.000000           0.000000        0.000000   \n",
              "max      2022.000000      12.000000           1.000000        1.000000   \n",
              "\n",
              "       estacion_Primavera  estacion_Verano  \n",
              "count       175007.000000    175007.000000  \n",
              "mean             0.274663         0.273063  \n",
              "std              0.446346         0.445534  \n",
              "min              0.000000         0.000000  \n",
              "25%              0.000000         0.000000  \n",
              "50%              0.000000         0.000000  \n",
              "75%              1.000000         1.000000  \n",
              "max              1.000000         1.000000  "
            ],
            "text/html": [
              "\n",
              "  <div id=\"df-bc5b4aba-ba55-4f2b-971a-31ed3f8cfbe9\">\n",
              "    <div class=\"colab-df-container\">\n",
              "      <div>\n",
              "<style scoped>\n",
              "    .dataframe tbody tr th:only-of-type {\n",
              "        vertical-align: middle;\n",
              "    }\n",
              "\n",
              "    .dataframe tbody tr th {\n",
              "        vertical-align: top;\n",
              "    }\n",
              "\n",
              "    .dataframe thead th {\n",
              "        text-align: right;\n",
              "    }\n",
              "</style>\n",
              "<table border=\"1\" class=\"dataframe\">\n",
              "  <thead>\n",
              "    <tr style=\"text-align: right;\">\n",
              "      <th></th>\n",
              "      <th>ndvi_median</th>\n",
              "      <th>mNDVI_median</th>\n",
              "      <th>gari_median</th>\n",
              "      <th>tcariOsavi_median</th>\n",
              "      <th>sipi_median</th>\n",
              "      <th>ndii_median</th>\n",
              "      <th>B04_median</th>\n",
              "      <th>B08_median</th>\n",
              "      <th>B11_median</th>\n",
              "      <th>clouds_on_raster</th>\n",
              "      <th>area_m2</th>\n",
              "      <th>target</th>\n",
              "      <th>año</th>\n",
              "      <th>mes</th>\n",
              "      <th>estacion_Invierno</th>\n",
              "      <th>estacion_Otoño</th>\n",
              "      <th>estacion_Primavera</th>\n",
              "      <th>estacion_Verano</th>\n",
              "    </tr>\n",
              "  </thead>\n",
              "  <tbody>\n",
              "    <tr>\n",
              "      <th>count</th>\n",
              "      <td>175007.000000</td>\n",
              "      <td>175007.000000</td>\n",
              "      <td>175007.000000</td>\n",
              "      <td>175007.000000</td>\n",
              "      <td>175007.000000</td>\n",
              "      <td>175007.000000</td>\n",
              "      <td>175007.000000</td>\n",
              "      <td>175007.000000</td>\n",
              "      <td>175007.000000</td>\n",
              "      <td>175007.000000</td>\n",
              "      <td>1.750070e+05</td>\n",
              "      <td>175007.000000</td>\n",
              "      <td>175007.000000</td>\n",
              "      <td>175007.000000</td>\n",
              "      <td>175007.000000</td>\n",
              "      <td>175007.000000</td>\n",
              "      <td>175007.000000</td>\n",
              "      <td>175007.000000</td>\n",
              "    </tr>\n",
              "    <tr>\n",
              "      <th>mean</th>\n",
              "      <td>0.363666</td>\n",
              "      <td>1.053057</td>\n",
              "      <td>1.046904</td>\n",
              "      <td>0.190664</td>\n",
              "      <td>0.993507</td>\n",
              "      <td>0.053517</td>\n",
              "      <td>0.125467</td>\n",
              "      <td>0.269052</td>\n",
              "      <td>0.241278</td>\n",
              "      <td>0.443781</td>\n",
              "      <td>1.881031e+04</td>\n",
              "      <td>0.691389</td>\n",
              "      <td>2019.405978</td>\n",
              "      <td>6.580097</td>\n",
              "      <td>0.213769</td>\n",
              "      <td>0.238505</td>\n",
              "      <td>0.274663</td>\n",
              "      <td>0.273063</td>\n",
              "    </tr>\n",
              "    <tr>\n",
              "      <th>std</th>\n",
              "      <td>0.128009</td>\n",
              "      <td>0.233666</td>\n",
              "      <td>0.216699</td>\n",
              "      <td>0.050191</td>\n",
              "      <td>0.112388</td>\n",
              "      <td>0.081156</td>\n",
              "      <td>0.033266</td>\n",
              "      <td>0.042491</td>\n",
              "      <td>0.040770</td>\n",
              "      <td>1.534604</td>\n",
              "      <td>6.830559e+04</td>\n",
              "      <td>0.461921</td>\n",
              "      <td>1.392611</td>\n",
              "      <td>3.610216</td>\n",
              "      <td>0.409967</td>\n",
              "      <td>0.426170</td>\n",
              "      <td>0.446346</td>\n",
              "      <td>0.445534</td>\n",
              "    </tr>\n",
              "    <tr>\n",
              "      <th>min</th>\n",
              "      <td>-0.009102</td>\n",
              "      <td>0.234709</td>\n",
              "      <td>0.308995</td>\n",
              "      <td>0.019951</td>\n",
              "      <td>0.625000</td>\n",
              "      <td>-0.185634</td>\n",
              "      <td>0.042400</td>\n",
              "      <td>0.116200</td>\n",
              "      <td>0.107700</td>\n",
              "      <td>0.000000</td>\n",
              "      <td>4.225951e+02</td>\n",
              "      <td>0.000000</td>\n",
              "      <td>2017.000000</td>\n",
              "      <td>1.000000</td>\n",
              "      <td>0.000000</td>\n",
              "      <td>0.000000</td>\n",
              "      <td>0.000000</td>\n",
              "      <td>0.000000</td>\n",
              "    </tr>\n",
              "    <tr>\n",
              "      <th>25%</th>\n",
              "      <td>0.259406</td>\n",
              "      <td>0.879246</td>\n",
              "      <td>0.884892</td>\n",
              "      <td>0.161708</td>\n",
              "      <td>0.913881</td>\n",
              "      <td>-0.007830</td>\n",
              "      <td>0.100300</td>\n",
              "      <td>0.236400</td>\n",
              "      <td>0.212700</td>\n",
              "      <td>0.000000</td>\n",
              "      <td>2.929467e+03</td>\n",
              "      <td>0.000000</td>\n",
              "      <td>2018.000000</td>\n",
              "      <td>3.000000</td>\n",
              "      <td>0.000000</td>\n",
              "      <td>0.000000</td>\n",
              "      <td>0.000000</td>\n",
              "      <td>0.000000</td>\n",
              "    </tr>\n",
              "    <tr>\n",
              "      <th>50%</th>\n",
              "      <td>0.352282</td>\n",
              "      <td>1.046662</td>\n",
              "      <td>1.047842</td>\n",
              "      <td>0.194424</td>\n",
              "      <td>0.974899</td>\n",
              "      <td>0.043867</td>\n",
              "      <td>0.123000</td>\n",
              "      <td>0.269300</td>\n",
              "      <td>0.239300</td>\n",
              "      <td>0.000000</td>\n",
              "      <td>6.336731e+03</td>\n",
              "      <td>1.000000</td>\n",
              "      <td>2019.000000</td>\n",
              "      <td>7.000000</td>\n",
              "      <td>0.000000</td>\n",
              "      <td>0.000000</td>\n",
              "      <td>0.000000</td>\n",
              "      <td>0.000000</td>\n",
              "    </tr>\n",
              "    <tr>\n",
              "      <th>75%</th>\n",
              "      <td>0.463583</td>\n",
              "      <td>1.198785</td>\n",
              "      <td>1.192772</td>\n",
              "      <td>0.222526</td>\n",
              "      <td>1.062989</td>\n",
              "      <td>0.109303</td>\n",
              "      <td>0.148400</td>\n",
              "      <td>0.299850</td>\n",
              "      <td>0.268900</td>\n",
              "      <td>0.000000</td>\n",
              "      <td>3.136548e+04</td>\n",
              "      <td>1.000000</td>\n",
              "      <td>2021.000000</td>\n",
              "      <td>10.000000</td>\n",
              "      <td>0.000000</td>\n",
              "      <td>0.000000</td>\n",
              "      <td>1.000000</td>\n",
              "      <td>1.000000</td>\n",
              "    </tr>\n",
              "    <tr>\n",
              "      <th>max</th>\n",
              "      <td>0.747038</td>\n",
              "      <td>1.811232</td>\n",
              "      <td>1.781766</td>\n",
              "      <td>0.330740</td>\n",
              "      <td>1.394037</td>\n",
              "      <td>0.327150</td>\n",
              "      <td>0.258200</td>\n",
              "      <td>0.413900</td>\n",
              "      <td>0.382500</td>\n",
              "      <td>9.826493</td>\n",
              "      <td>1.370630e+06</td>\n",
              "      <td>1.000000</td>\n",
              "      <td>2022.000000</td>\n",
              "      <td>12.000000</td>\n",
              "      <td>1.000000</td>\n",
              "      <td>1.000000</td>\n",
              "      <td>1.000000</td>\n",
              "      <td>1.000000</td>\n",
              "    </tr>\n",
              "  </tbody>\n",
              "</table>\n",
              "</div>\n",
              "      <button class=\"colab-df-convert\" onclick=\"convertToInteractive('df-bc5b4aba-ba55-4f2b-971a-31ed3f8cfbe9')\"\n",
              "              title=\"Convert this dataframe to an interactive table.\"\n",
              "              style=\"display:none;\">\n",
              "        \n",
              "  <svg xmlns=\"http://www.w3.org/2000/svg\" height=\"24px\"viewBox=\"0 0 24 24\"\n",
              "       width=\"24px\">\n",
              "    <path d=\"M0 0h24v24H0V0z\" fill=\"none\"/>\n",
              "    <path d=\"M18.56 5.44l.94 2.06.94-2.06 2.06-.94-2.06-.94-.94-2.06-.94 2.06-2.06.94zm-11 1L8.5 8.5l.94-2.06 2.06-.94-2.06-.94L8.5 2.5l-.94 2.06-2.06.94zm10 10l.94 2.06.94-2.06 2.06-.94-2.06-.94-.94-2.06-.94 2.06-2.06.94z\"/><path d=\"M17.41 7.96l-1.37-1.37c-.4-.4-.92-.59-1.43-.59-.52 0-1.04.2-1.43.59L10.3 9.45l-7.72 7.72c-.78.78-.78 2.05 0 2.83L4 21.41c.39.39.9.59 1.41.59.51 0 1.02-.2 1.41-.59l7.78-7.78 2.81-2.81c.8-.78.8-2.07 0-2.86zM5.41 20L4 18.59l7.72-7.72 1.47 1.35L5.41 20z\"/>\n",
              "  </svg>\n",
              "      </button>\n",
              "      \n",
              "  <style>\n",
              "    .colab-df-container {\n",
              "      display:flex;\n",
              "      flex-wrap:wrap;\n",
              "      gap: 12px;\n",
              "    }\n",
              "\n",
              "    .colab-df-convert {\n",
              "      background-color: #E8F0FE;\n",
              "      border: none;\n",
              "      border-radius: 50%;\n",
              "      cursor: pointer;\n",
              "      display: none;\n",
              "      fill: #1967D2;\n",
              "      height: 32px;\n",
              "      padding: 0 0 0 0;\n",
              "      width: 32px;\n",
              "    }\n",
              "\n",
              "    .colab-df-convert:hover {\n",
              "      background-color: #E2EBFA;\n",
              "      box-shadow: 0px 1px 2px rgba(60, 64, 67, 0.3), 0px 1px 3px 1px rgba(60, 64, 67, 0.15);\n",
              "      fill: #174EA6;\n",
              "    }\n",
              "\n",
              "    [theme=dark] .colab-df-convert {\n",
              "      background-color: #3B4455;\n",
              "      fill: #D2E3FC;\n",
              "    }\n",
              "\n",
              "    [theme=dark] .colab-df-convert:hover {\n",
              "      background-color: #434B5C;\n",
              "      box-shadow: 0px 1px 3px 1px rgba(0, 0, 0, 0.15);\n",
              "      filter: drop-shadow(0px 1px 2px rgba(0, 0, 0, 0.3));\n",
              "      fill: #FFFFFF;\n",
              "    }\n",
              "  </style>\n",
              "\n",
              "      <script>\n",
              "        const buttonEl =\n",
              "          document.querySelector('#df-bc5b4aba-ba55-4f2b-971a-31ed3f8cfbe9 button.colab-df-convert');\n",
              "        buttonEl.style.display =\n",
              "          google.colab.kernel.accessAllowed ? 'block' : 'none';\n",
              "\n",
              "        async function convertToInteractive(key) {\n",
              "          const element = document.querySelector('#df-bc5b4aba-ba55-4f2b-971a-31ed3f8cfbe9');\n",
              "          const dataTable =\n",
              "            await google.colab.kernel.invokeFunction('convertToInteractive',\n",
              "                                                     [key], {});\n",
              "          if (!dataTable) return;\n",
              "\n",
              "          const docLinkHtml = 'Like what you see? Visit the ' +\n",
              "            '<a target=\"_blank\" href=https://colab.research.google.com/notebooks/data_table.ipynb>data table notebook</a>'\n",
              "            + ' to learn more about interactive tables.';\n",
              "          element.innerHTML = '';\n",
              "          dataTable['output_type'] = 'display_data';\n",
              "          await google.colab.output.renderOutput(dataTable, element);\n",
              "          const docLink = document.createElement('div');\n",
              "          docLink.innerHTML = docLinkHtml;\n",
              "          element.appendChild(docLink);\n",
              "        }\n",
              "      </script>\n",
              "    </div>\n",
              "  </div>\n",
              "  "
            ]
          },
          "metadata": {},
          "execution_count": 16
        }
      ],
      "source": [
        "df_B_xgb.describe()"
      ]
    },
    {
      "cell_type": "code",
      "execution_count": null,
      "metadata": {
        "colab": {
          "base_uri": "https://localhost:8080/"
        },
        "id": "wRd_QwIV4oaP",
        "outputId": "01e17c84-c639-429c-c1a7-f9d3d204e875"
      },
      "outputs": [
        {
          "output_type": "stream",
          "name": "stdout",
          "text": [
            "<class 'pandas.core.frame.DataFrame'>\n",
            "RangeIndex: 175007 entries, 0 to 175006\n",
            "Data columns (total 20 columns):\n",
            " #   Column              Non-Null Count   Dtype  \n",
            "---  ------              --------------   -----  \n",
            " 0   ndvi_median         175007 non-null  float64\n",
            " 1   mNDVI_median        175007 non-null  float64\n",
            " 2   gari_median         175007 non-null  float64\n",
            " 3   tcariOsavi_median   175007 non-null  float64\n",
            " 4   sipi_median         175007 non-null  float64\n",
            " 5   ndii_median         175007 non-null  float64\n",
            " 6   B04_median          175007 non-null  float64\n",
            " 7   B08_median          175007 non-null  float64\n",
            " 8   B11_median          175007 non-null  float64\n",
            " 9   raster              175007 non-null  object \n",
            " 10  clouds_on_raster    175007 non-null  float64\n",
            " 11  area_m2             175007 non-null  float64\n",
            " 12  date                175007 non-null  object \n",
            " 13  target              175007 non-null  int64  \n",
            " 14  año                 175007 non-null  int64  \n",
            " 15  mes                 175007 non-null  int64  \n",
            " 16  estacion_Invierno   175007 non-null  int64  \n",
            " 17  estacion_Otoño      175007 non-null  int64  \n",
            " 18  estacion_Primavera  175007 non-null  int64  \n",
            " 19  estacion_Verano     175007 non-null  int64  \n",
            "dtypes: float64(11), int64(7), object(2)\n",
            "memory usage: 26.7+ MB\n"
          ]
        }
      ],
      "source": [
        "df_B_xgb.info()"
      ]
    },
    {
      "cell_type": "code",
      "execution_count": null,
      "metadata": {
        "colab": {
          "base_uri": "https://localhost:8080/",
          "height": 364
        },
        "id": "Q442epYj3y4u",
        "outputId": "784e6bc6-cae3-4022-a497-6b2fc4c59e99"
      },
      "outputs": [
        {
          "output_type": "execute_result",
          "data": {
            "text/plain": [
              "         ndvi_median   mNDVI_median    gari_median  tcariOsavi_median  \\\n",
              "count  209975.000000  209975.000000  209975.000000      209975.000000   \n",
              "mean        0.360393       1.056179       1.048979           0.186304   \n",
              "std         0.129677       0.249764       0.229699           0.053963   \n",
              "min        -0.009102      -0.038760       0.299199          -0.048641   \n",
              "25%         0.250544       0.878140       0.888130           0.159433   \n",
              "50%         0.349143       1.046311       1.047573           0.192141   \n",
              "75%         0.463446       1.205720       1.199225           0.218981   \n",
              "max         0.762083       2.071175       1.973077           0.369972   \n",
              "\n",
              "         sipi_median    ndii_median     B04_median     B08_median  \\\n",
              "count  209975.000000  209975.000000  209975.000000  209975.000000   \n",
              "mean        0.995806       0.055157       0.127558       0.271164   \n",
              "std         0.125364       0.082092       0.034765       0.042764   \n",
              "min         0.474378      -0.146854       0.042400       0.136800   \n",
              "25%         0.911408      -0.008313       0.102100       0.238300   \n",
              "50%         0.974401       0.046276       0.125800       0.271500   \n",
              "75%         1.064299       0.113271       0.150400       0.301800   \n",
              "max         1.656963       0.330231       0.287400       0.404600   \n",
              "\n",
              "          B11_median  clouds_on_raster       area_m2         target  \\\n",
              "count  209975.000000     209975.000000  2.099750e+05  209975.000000   \n",
              "mean        0.242459          3.906942  1.868400e+04       0.697412   \n",
              "std         0.041735          8.843725  6.888406e+04       0.459380   \n",
              "min         0.093400          0.000000  4.225951e+02       0.000000   \n",
              "25%         0.213100          0.000000  2.928527e+03       0.000000   \n",
              "50%         0.240900          0.000000  6.128520e+03       1.000000   \n",
              "75%         0.270200          0.533689  3.136548e+04       1.000000   \n",
              "max         0.395550         37.477434  1.370630e+06       1.000000   \n",
              "\n",
              "                 año            mes  estacion_Invierno  estacion_Otoño  \\\n",
              "count  209975.000000  209975.000000      209975.000000   209975.000000   \n",
              "mean     2019.470213       6.445096           0.221245        0.233175   \n",
              "std         1.407488       3.600756           0.415086        0.422854   \n",
              "min      2017.000000       1.000000           0.000000        0.000000   \n",
              "25%      2018.000000       3.000000           0.000000        0.000000   \n",
              "50%      2020.000000       7.000000           0.000000        0.000000   \n",
              "75%      2021.000000      10.000000           0.000000        0.000000   \n",
              "max      2022.000000      12.000000           1.000000        1.000000   \n",
              "\n",
              "       estacion_Primavera  estacion_Verano  \n",
              "count       209975.000000    209975.000000  \n",
              "mean             0.267460         0.278119  \n",
              "std              0.442636         0.448073  \n",
              "min              0.000000         0.000000  \n",
              "25%              0.000000         0.000000  \n",
              "50%              0.000000         0.000000  \n",
              "75%              1.000000         1.000000  \n",
              "max              1.000000         1.000000  "
            ],
            "text/html": [
              "\n",
              "  <div id=\"df-16cb34ff-bef7-406c-865d-c39ddec6df4d\">\n",
              "    <div class=\"colab-df-container\">\n",
              "      <div>\n",
              "<style scoped>\n",
              "    .dataframe tbody tr th:only-of-type {\n",
              "        vertical-align: middle;\n",
              "    }\n",
              "\n",
              "    .dataframe tbody tr th {\n",
              "        vertical-align: top;\n",
              "    }\n",
              "\n",
              "    .dataframe thead th {\n",
              "        text-align: right;\n",
              "    }\n",
              "</style>\n",
              "<table border=\"1\" class=\"dataframe\">\n",
              "  <thead>\n",
              "    <tr style=\"text-align: right;\">\n",
              "      <th></th>\n",
              "      <th>ndvi_median</th>\n",
              "      <th>mNDVI_median</th>\n",
              "      <th>gari_median</th>\n",
              "      <th>tcariOsavi_median</th>\n",
              "      <th>sipi_median</th>\n",
              "      <th>ndii_median</th>\n",
              "      <th>B04_median</th>\n",
              "      <th>B08_median</th>\n",
              "      <th>B11_median</th>\n",
              "      <th>clouds_on_raster</th>\n",
              "      <th>area_m2</th>\n",
              "      <th>target</th>\n",
              "      <th>año</th>\n",
              "      <th>mes</th>\n",
              "      <th>estacion_Invierno</th>\n",
              "      <th>estacion_Otoño</th>\n",
              "      <th>estacion_Primavera</th>\n",
              "      <th>estacion_Verano</th>\n",
              "    </tr>\n",
              "  </thead>\n",
              "  <tbody>\n",
              "    <tr>\n",
              "      <th>count</th>\n",
              "      <td>209975.000000</td>\n",
              "      <td>209975.000000</td>\n",
              "      <td>209975.000000</td>\n",
              "      <td>209975.000000</td>\n",
              "      <td>209975.000000</td>\n",
              "      <td>209975.000000</td>\n",
              "      <td>209975.000000</td>\n",
              "      <td>209975.000000</td>\n",
              "      <td>209975.000000</td>\n",
              "      <td>209975.000000</td>\n",
              "      <td>2.099750e+05</td>\n",
              "      <td>209975.000000</td>\n",
              "      <td>209975.000000</td>\n",
              "      <td>209975.000000</td>\n",
              "      <td>209975.000000</td>\n",
              "      <td>209975.000000</td>\n",
              "      <td>209975.000000</td>\n",
              "      <td>209975.000000</td>\n",
              "    </tr>\n",
              "    <tr>\n",
              "      <th>mean</th>\n",
              "      <td>0.360393</td>\n",
              "      <td>1.056179</td>\n",
              "      <td>1.048979</td>\n",
              "      <td>0.186304</td>\n",
              "      <td>0.995806</td>\n",
              "      <td>0.055157</td>\n",
              "      <td>0.127558</td>\n",
              "      <td>0.271164</td>\n",
              "      <td>0.242459</td>\n",
              "      <td>3.906942</td>\n",
              "      <td>1.868400e+04</td>\n",
              "      <td>0.697412</td>\n",
              "      <td>2019.470213</td>\n",
              "      <td>6.445096</td>\n",
              "      <td>0.221245</td>\n",
              "      <td>0.233175</td>\n",
              "      <td>0.267460</td>\n",
              "      <td>0.278119</td>\n",
              "    </tr>\n",
              "    <tr>\n",
              "      <th>std</th>\n",
              "      <td>0.129677</td>\n",
              "      <td>0.249764</td>\n",
              "      <td>0.229699</td>\n",
              "      <td>0.053963</td>\n",
              "      <td>0.125364</td>\n",
              "      <td>0.082092</td>\n",
              "      <td>0.034765</td>\n",
              "      <td>0.042764</td>\n",
              "      <td>0.041735</td>\n",
              "      <td>8.843725</td>\n",
              "      <td>6.888406e+04</td>\n",
              "      <td>0.459380</td>\n",
              "      <td>1.407488</td>\n",
              "      <td>3.600756</td>\n",
              "      <td>0.415086</td>\n",
              "      <td>0.422854</td>\n",
              "      <td>0.442636</td>\n",
              "      <td>0.448073</td>\n",
              "    </tr>\n",
              "    <tr>\n",
              "      <th>min</th>\n",
              "      <td>-0.009102</td>\n",
              "      <td>-0.038760</td>\n",
              "      <td>0.299199</td>\n",
              "      <td>-0.048641</td>\n",
              "      <td>0.474378</td>\n",
              "      <td>-0.146854</td>\n",
              "      <td>0.042400</td>\n",
              "      <td>0.136800</td>\n",
              "      <td>0.093400</td>\n",
              "      <td>0.000000</td>\n",
              "      <td>4.225951e+02</td>\n",
              "      <td>0.000000</td>\n",
              "      <td>2017.000000</td>\n",
              "      <td>1.000000</td>\n",
              "      <td>0.000000</td>\n",
              "      <td>0.000000</td>\n",
              "      <td>0.000000</td>\n",
              "      <td>0.000000</td>\n",
              "    </tr>\n",
              "    <tr>\n",
              "      <th>25%</th>\n",
              "      <td>0.250544</td>\n",
              "      <td>0.878140</td>\n",
              "      <td>0.888130</td>\n",
              "      <td>0.159433</td>\n",
              "      <td>0.911408</td>\n",
              "      <td>-0.008313</td>\n",
              "      <td>0.102100</td>\n",
              "      <td>0.238300</td>\n",
              "      <td>0.213100</td>\n",
              "      <td>0.000000</td>\n",
              "      <td>2.928527e+03</td>\n",
              "      <td>0.000000</td>\n",
              "      <td>2018.000000</td>\n",
              "      <td>3.000000</td>\n",
              "      <td>0.000000</td>\n",
              "      <td>0.000000</td>\n",
              "      <td>0.000000</td>\n",
              "      <td>0.000000</td>\n",
              "    </tr>\n",
              "    <tr>\n",
              "      <th>50%</th>\n",
              "      <td>0.349143</td>\n",
              "      <td>1.046311</td>\n",
              "      <td>1.047573</td>\n",
              "      <td>0.192141</td>\n",
              "      <td>0.974401</td>\n",
              "      <td>0.046276</td>\n",
              "      <td>0.125800</td>\n",
              "      <td>0.271500</td>\n",
              "      <td>0.240900</td>\n",
              "      <td>0.000000</td>\n",
              "      <td>6.128520e+03</td>\n",
              "      <td>1.000000</td>\n",
              "      <td>2020.000000</td>\n",
              "      <td>7.000000</td>\n",
              "      <td>0.000000</td>\n",
              "      <td>0.000000</td>\n",
              "      <td>0.000000</td>\n",
              "      <td>0.000000</td>\n",
              "    </tr>\n",
              "    <tr>\n",
              "      <th>75%</th>\n",
              "      <td>0.463446</td>\n",
              "      <td>1.205720</td>\n",
              "      <td>1.199225</td>\n",
              "      <td>0.218981</td>\n",
              "      <td>1.064299</td>\n",
              "      <td>0.113271</td>\n",
              "      <td>0.150400</td>\n",
              "      <td>0.301800</td>\n",
              "      <td>0.270200</td>\n",
              "      <td>0.533689</td>\n",
              "      <td>3.136548e+04</td>\n",
              "      <td>1.000000</td>\n",
              "      <td>2021.000000</td>\n",
              "      <td>10.000000</td>\n",
              "      <td>0.000000</td>\n",
              "      <td>0.000000</td>\n",
              "      <td>1.000000</td>\n",
              "      <td>1.000000</td>\n",
              "    </tr>\n",
              "    <tr>\n",
              "      <th>max</th>\n",
              "      <td>0.762083</td>\n",
              "      <td>2.071175</td>\n",
              "      <td>1.973077</td>\n",
              "      <td>0.369972</td>\n",
              "      <td>1.656963</td>\n",
              "      <td>0.330231</td>\n",
              "      <td>0.287400</td>\n",
              "      <td>0.404600</td>\n",
              "      <td>0.395550</td>\n",
              "      <td>37.477434</td>\n",
              "      <td>1.370630e+06</td>\n",
              "      <td>1.000000</td>\n",
              "      <td>2022.000000</td>\n",
              "      <td>12.000000</td>\n",
              "      <td>1.000000</td>\n",
              "      <td>1.000000</td>\n",
              "      <td>1.000000</td>\n",
              "      <td>1.000000</td>\n",
              "    </tr>\n",
              "  </tbody>\n",
              "</table>\n",
              "</div>\n",
              "      <button class=\"colab-df-convert\" onclick=\"convertToInteractive('df-16cb34ff-bef7-406c-865d-c39ddec6df4d')\"\n",
              "              title=\"Convert this dataframe to an interactive table.\"\n",
              "              style=\"display:none;\">\n",
              "        \n",
              "  <svg xmlns=\"http://www.w3.org/2000/svg\" height=\"24px\"viewBox=\"0 0 24 24\"\n",
              "       width=\"24px\">\n",
              "    <path d=\"M0 0h24v24H0V0z\" fill=\"none\"/>\n",
              "    <path d=\"M18.56 5.44l.94 2.06.94-2.06 2.06-.94-2.06-.94-.94-2.06-.94 2.06-2.06.94zm-11 1L8.5 8.5l.94-2.06 2.06-.94-2.06-.94L8.5 2.5l-.94 2.06-2.06.94zm10 10l.94 2.06.94-2.06 2.06-.94-2.06-.94-.94-2.06-.94 2.06-2.06.94z\"/><path d=\"M17.41 7.96l-1.37-1.37c-.4-.4-.92-.59-1.43-.59-.52 0-1.04.2-1.43.59L10.3 9.45l-7.72 7.72c-.78.78-.78 2.05 0 2.83L4 21.41c.39.39.9.59 1.41.59.51 0 1.02-.2 1.41-.59l7.78-7.78 2.81-2.81c.8-.78.8-2.07 0-2.86zM5.41 20L4 18.59l7.72-7.72 1.47 1.35L5.41 20z\"/>\n",
              "  </svg>\n",
              "      </button>\n",
              "      \n",
              "  <style>\n",
              "    .colab-df-container {\n",
              "      display:flex;\n",
              "      flex-wrap:wrap;\n",
              "      gap: 12px;\n",
              "    }\n",
              "\n",
              "    .colab-df-convert {\n",
              "      background-color: #E8F0FE;\n",
              "      border: none;\n",
              "      border-radius: 50%;\n",
              "      cursor: pointer;\n",
              "      display: none;\n",
              "      fill: #1967D2;\n",
              "      height: 32px;\n",
              "      padding: 0 0 0 0;\n",
              "      width: 32px;\n",
              "    }\n",
              "\n",
              "    .colab-df-convert:hover {\n",
              "      background-color: #E2EBFA;\n",
              "      box-shadow: 0px 1px 2px rgba(60, 64, 67, 0.3), 0px 1px 3px 1px rgba(60, 64, 67, 0.15);\n",
              "      fill: #174EA6;\n",
              "    }\n",
              "\n",
              "    [theme=dark] .colab-df-convert {\n",
              "      background-color: #3B4455;\n",
              "      fill: #D2E3FC;\n",
              "    }\n",
              "\n",
              "    [theme=dark] .colab-df-convert:hover {\n",
              "      background-color: #434B5C;\n",
              "      box-shadow: 0px 1px 3px 1px rgba(0, 0, 0, 0.15);\n",
              "      filter: drop-shadow(0px 1px 2px rgba(0, 0, 0, 0.3));\n",
              "      fill: #FFFFFF;\n",
              "    }\n",
              "  </style>\n",
              "\n",
              "      <script>\n",
              "        const buttonEl =\n",
              "          document.querySelector('#df-16cb34ff-bef7-406c-865d-c39ddec6df4d button.colab-df-convert');\n",
              "        buttonEl.style.display =\n",
              "          google.colab.kernel.accessAllowed ? 'block' : 'none';\n",
              "\n",
              "        async function convertToInteractive(key) {\n",
              "          const element = document.querySelector('#df-16cb34ff-bef7-406c-865d-c39ddec6df4d');\n",
              "          const dataTable =\n",
              "            await google.colab.kernel.invokeFunction('convertToInteractive',\n",
              "                                                     [key], {});\n",
              "          if (!dataTable) return;\n",
              "\n",
              "          const docLinkHtml = 'Like what you see? Visit the ' +\n",
              "            '<a target=\"_blank\" href=https://colab.research.google.com/notebooks/data_table.ipynb>data table notebook</a>'\n",
              "            + ' to learn more about interactive tables.';\n",
              "          element.innerHTML = '';\n",
              "          dataTable['output_type'] = 'display_data';\n",
              "          await google.colab.output.renderOutput(dataTable, element);\n",
              "          const docLink = document.createElement('div');\n",
              "          docLink.innerHTML = docLinkHtml;\n",
              "          element.appendChild(docLink);\n",
              "        }\n",
              "      </script>\n",
              "    </div>\n",
              "  </div>\n",
              "  "
            ]
          },
          "metadata": {},
          "execution_count": 12
        }
      ],
      "source": [
        "df_C_xgb.describe()"
      ]
    },
    {
      "cell_type": "code",
      "execution_count": null,
      "metadata": {
        "colab": {
          "base_uri": "https://localhost:8080/"
        },
        "id": "CsUbYudV4v1p",
        "outputId": "eab29eba-d394-4c47-9f57-fee682818940"
      },
      "outputs": [
        {
          "output_type": "stream",
          "name": "stdout",
          "text": [
            "<class 'pandas.core.frame.DataFrame'>\n",
            "RangeIndex: 209975 entries, 0 to 209974\n",
            "Data columns (total 20 columns):\n",
            " #   Column              Non-Null Count   Dtype  \n",
            "---  ------              --------------   -----  \n",
            " 0   ndvi_median         209975 non-null  float64\n",
            " 1   mNDVI_median        209975 non-null  float64\n",
            " 2   gari_median         209975 non-null  float64\n",
            " 3   tcariOsavi_median   209975 non-null  float64\n",
            " 4   sipi_median         209975 non-null  float64\n",
            " 5   ndii_median         209975 non-null  float64\n",
            " 6   B04_median          209975 non-null  float64\n",
            " 7   B08_median          209975 non-null  float64\n",
            " 8   B11_median          209975 non-null  float64\n",
            " 9   raster              209975 non-null  object \n",
            " 10  clouds_on_raster    209975 non-null  float64\n",
            " 11  area_m2             209975 non-null  float64\n",
            " 12  date                209975 non-null  object \n",
            " 13  target              209975 non-null  int64  \n",
            " 14  año                 209975 non-null  int64  \n",
            " 15  mes                 209975 non-null  int64  \n",
            " 16  estacion_Invierno   209975 non-null  int64  \n",
            " 17  estacion_Otoño      209975 non-null  int64  \n",
            " 18  estacion_Primavera  209975 non-null  int64  \n",
            " 19  estacion_Verano     209975 non-null  int64  \n",
            "dtypes: float64(11), int64(7), object(2)\n",
            "memory usage: 32.0+ MB\n"
          ]
        }
      ],
      "source": [
        "df_C_xgb.info()"
      ]
    },
    {
      "cell_type": "code",
      "execution_count": null,
      "metadata": {
        "colab": {
          "base_uri": "https://localhost:8080/",
          "height": 364
        },
        "id": "eiqqqCf7354o",
        "outputId": "147eb188-41b4-463e-e0ef-a95da866408e"
      },
      "outputs": [
        {
          "output_type": "execute_result",
          "data": {
            "text/plain": [
              "         ndvi_median   mNDVI_median    gari_median  tcariOsavi_median  \\\n",
              "count  209975.000000  209975.000000  209975.000000      209975.000000   \n",
              "mean        0.065475       0.051695       0.024733          -0.028560   \n",
              "std         0.724173       0.774762       0.753107           0.838992   \n",
              "min        -2.653122      -2.601384      -2.595154          -2.774369   \n",
              "25%        -0.453150      -0.475215      -0.487141          -0.509989   \n",
              "50%         0.000000       0.000000       0.000000           0.000000   \n",
              "75%         0.532518       0.514881       0.503570           0.488989   \n",
              "max         2.583387       2.698531       2.717551           2.438409   \n",
              "\n",
              "         sipi_median    ndii_median     B04_median     B08_median  \\\n",
              "count  209975.000000  209975.000000  209975.000000  209975.000000   \n",
              "mean        0.085783       0.046964       0.004219      -0.007655   \n",
              "std         0.784420       0.793250       0.744961       0.766811   \n",
              "min        -2.704100      -2.731226      -2.679892      -2.707441   \n",
              "25%        -0.455283      -0.470958      -0.522829      -0.516650   \n",
              "50%         0.000000       0.000000       0.000000       0.000000   \n",
              "75%         0.540894       0.519406       0.477184       0.483968   \n",
              "max         2.677993       3.062737       2.850592       2.720931   \n",
              "\n",
              "          B11_median  clouds_on_raster       area_m2         target  \\\n",
              "count  209975.000000     209975.000000  2.099750e+05  209975.000000   \n",
              "mean       -0.002683          3.906942  1.868400e+04       0.697412   \n",
              "std         0.754307          8.843725  6.888406e+04       0.459380   \n",
              "min        -2.790905          0.000000  4.225951e+02       0.000000   \n",
              "25%        -0.512090          0.000000  2.928527e+03       0.000000   \n",
              "50%         0.000000          0.000000  6.128520e+03       1.000000   \n",
              "75%         0.489689          0.533689  3.136548e+04       1.000000   \n",
              "max         2.752699         37.477434  1.370630e+06       1.000000   \n",
              "\n",
              "                 año            mes  estacion_Invierno  estacion_Otoño  \\\n",
              "count  209975.000000  209975.000000      209975.000000   209975.000000   \n",
              "mean     2019.470213       6.445096           0.221245        0.233175   \n",
              "std         1.407488       3.600756           0.415086        0.422854   \n",
              "min      2017.000000       1.000000           0.000000        0.000000   \n",
              "25%      2018.000000       3.000000           0.000000        0.000000   \n",
              "50%      2020.000000       7.000000           0.000000        0.000000   \n",
              "75%      2021.000000      10.000000           0.000000        0.000000   \n",
              "max      2022.000000      12.000000           1.000000        1.000000   \n",
              "\n",
              "       estacion_Primavera  estacion_Verano  \n",
              "count       209975.000000    209975.000000  \n",
              "mean             0.267460         0.278119  \n",
              "std              0.442636         0.448073  \n",
              "min              0.000000         0.000000  \n",
              "25%              0.000000         0.000000  \n",
              "50%              0.000000         0.000000  \n",
              "75%              1.000000         1.000000  \n",
              "max              1.000000         1.000000  "
            ],
            "text/html": [
              "\n",
              "  <div id=\"df-2b363872-88fc-4aa6-9cdd-454a58a4f857\">\n",
              "    <div class=\"colab-df-container\">\n",
              "      <div>\n",
              "<style scoped>\n",
              "    .dataframe tbody tr th:only-of-type {\n",
              "        vertical-align: middle;\n",
              "    }\n",
              "\n",
              "    .dataframe tbody tr th {\n",
              "        vertical-align: top;\n",
              "    }\n",
              "\n",
              "    .dataframe thead th {\n",
              "        text-align: right;\n",
              "    }\n",
              "</style>\n",
              "<table border=\"1\" class=\"dataframe\">\n",
              "  <thead>\n",
              "    <tr style=\"text-align: right;\">\n",
              "      <th></th>\n",
              "      <th>ndvi_median</th>\n",
              "      <th>mNDVI_median</th>\n",
              "      <th>gari_median</th>\n",
              "      <th>tcariOsavi_median</th>\n",
              "      <th>sipi_median</th>\n",
              "      <th>ndii_median</th>\n",
              "      <th>B04_median</th>\n",
              "      <th>B08_median</th>\n",
              "      <th>B11_median</th>\n",
              "      <th>clouds_on_raster</th>\n",
              "      <th>area_m2</th>\n",
              "      <th>target</th>\n",
              "      <th>año</th>\n",
              "      <th>mes</th>\n",
              "      <th>estacion_Invierno</th>\n",
              "      <th>estacion_Otoño</th>\n",
              "      <th>estacion_Primavera</th>\n",
              "      <th>estacion_Verano</th>\n",
              "    </tr>\n",
              "  </thead>\n",
              "  <tbody>\n",
              "    <tr>\n",
              "      <th>count</th>\n",
              "      <td>209975.000000</td>\n",
              "      <td>209975.000000</td>\n",
              "      <td>209975.000000</td>\n",
              "      <td>209975.000000</td>\n",
              "      <td>209975.000000</td>\n",
              "      <td>209975.000000</td>\n",
              "      <td>209975.000000</td>\n",
              "      <td>209975.000000</td>\n",
              "      <td>209975.000000</td>\n",
              "      <td>209975.000000</td>\n",
              "      <td>2.099750e+05</td>\n",
              "      <td>209975.000000</td>\n",
              "      <td>209975.000000</td>\n",
              "      <td>209975.000000</td>\n",
              "      <td>209975.000000</td>\n",
              "      <td>209975.000000</td>\n",
              "      <td>209975.000000</td>\n",
              "      <td>209975.000000</td>\n",
              "    </tr>\n",
              "    <tr>\n",
              "      <th>mean</th>\n",
              "      <td>0.065475</td>\n",
              "      <td>0.051695</td>\n",
              "      <td>0.024733</td>\n",
              "      <td>-0.028560</td>\n",
              "      <td>0.085783</td>\n",
              "      <td>0.046964</td>\n",
              "      <td>0.004219</td>\n",
              "      <td>-0.007655</td>\n",
              "      <td>-0.002683</td>\n",
              "      <td>3.906942</td>\n",
              "      <td>1.868400e+04</td>\n",
              "      <td>0.697412</td>\n",
              "      <td>2019.470213</td>\n",
              "      <td>6.445096</td>\n",
              "      <td>0.221245</td>\n",
              "      <td>0.233175</td>\n",
              "      <td>0.267460</td>\n",
              "      <td>0.278119</td>\n",
              "    </tr>\n",
              "    <tr>\n",
              "      <th>std</th>\n",
              "      <td>0.724173</td>\n",
              "      <td>0.774762</td>\n",
              "      <td>0.753107</td>\n",
              "      <td>0.838992</td>\n",
              "      <td>0.784420</td>\n",
              "      <td>0.793250</td>\n",
              "      <td>0.744961</td>\n",
              "      <td>0.766811</td>\n",
              "      <td>0.754307</td>\n",
              "      <td>8.843725</td>\n",
              "      <td>6.888406e+04</td>\n",
              "      <td>0.459380</td>\n",
              "      <td>1.407488</td>\n",
              "      <td>3.600756</td>\n",
              "      <td>0.415086</td>\n",
              "      <td>0.422854</td>\n",
              "      <td>0.442636</td>\n",
              "      <td>0.448073</td>\n",
              "    </tr>\n",
              "    <tr>\n",
              "      <th>min</th>\n",
              "      <td>-2.653122</td>\n",
              "      <td>-2.601384</td>\n",
              "      <td>-2.595154</td>\n",
              "      <td>-2.774369</td>\n",
              "      <td>-2.704100</td>\n",
              "      <td>-2.731226</td>\n",
              "      <td>-2.679892</td>\n",
              "      <td>-2.707441</td>\n",
              "      <td>-2.790905</td>\n",
              "      <td>0.000000</td>\n",
              "      <td>4.225951e+02</td>\n",
              "      <td>0.000000</td>\n",
              "      <td>2017.000000</td>\n",
              "      <td>1.000000</td>\n",
              "      <td>0.000000</td>\n",
              "      <td>0.000000</td>\n",
              "      <td>0.000000</td>\n",
              "      <td>0.000000</td>\n",
              "    </tr>\n",
              "    <tr>\n",
              "      <th>25%</th>\n",
              "      <td>-0.453150</td>\n",
              "      <td>-0.475215</td>\n",
              "      <td>-0.487141</td>\n",
              "      <td>-0.509989</td>\n",
              "      <td>-0.455283</td>\n",
              "      <td>-0.470958</td>\n",
              "      <td>-0.522829</td>\n",
              "      <td>-0.516650</td>\n",
              "      <td>-0.512090</td>\n",
              "      <td>0.000000</td>\n",
              "      <td>2.928527e+03</td>\n",
              "      <td>0.000000</td>\n",
              "      <td>2018.000000</td>\n",
              "      <td>3.000000</td>\n",
              "      <td>0.000000</td>\n",
              "      <td>0.000000</td>\n",
              "      <td>0.000000</td>\n",
              "      <td>0.000000</td>\n",
              "    </tr>\n",
              "    <tr>\n",
              "      <th>50%</th>\n",
              "      <td>0.000000</td>\n",
              "      <td>0.000000</td>\n",
              "      <td>0.000000</td>\n",
              "      <td>0.000000</td>\n",
              "      <td>0.000000</td>\n",
              "      <td>0.000000</td>\n",
              "      <td>0.000000</td>\n",
              "      <td>0.000000</td>\n",
              "      <td>0.000000</td>\n",
              "      <td>0.000000</td>\n",
              "      <td>6.128520e+03</td>\n",
              "      <td>1.000000</td>\n",
              "      <td>2020.000000</td>\n",
              "      <td>7.000000</td>\n",
              "      <td>0.000000</td>\n",
              "      <td>0.000000</td>\n",
              "      <td>0.000000</td>\n",
              "      <td>0.000000</td>\n",
              "    </tr>\n",
              "    <tr>\n",
              "      <th>75%</th>\n",
              "      <td>0.532518</td>\n",
              "      <td>0.514881</td>\n",
              "      <td>0.503570</td>\n",
              "      <td>0.488989</td>\n",
              "      <td>0.540894</td>\n",
              "      <td>0.519406</td>\n",
              "      <td>0.477184</td>\n",
              "      <td>0.483968</td>\n",
              "      <td>0.489689</td>\n",
              "      <td>0.533689</td>\n",
              "      <td>3.136548e+04</td>\n",
              "      <td>1.000000</td>\n",
              "      <td>2021.000000</td>\n",
              "      <td>10.000000</td>\n",
              "      <td>0.000000</td>\n",
              "      <td>0.000000</td>\n",
              "      <td>1.000000</td>\n",
              "      <td>1.000000</td>\n",
              "    </tr>\n",
              "    <tr>\n",
              "      <th>max</th>\n",
              "      <td>2.583387</td>\n",
              "      <td>2.698531</td>\n",
              "      <td>2.717551</td>\n",
              "      <td>2.438409</td>\n",
              "      <td>2.677993</td>\n",
              "      <td>3.062737</td>\n",
              "      <td>2.850592</td>\n",
              "      <td>2.720931</td>\n",
              "      <td>2.752699</td>\n",
              "      <td>37.477434</td>\n",
              "      <td>1.370630e+06</td>\n",
              "      <td>1.000000</td>\n",
              "      <td>2022.000000</td>\n",
              "      <td>12.000000</td>\n",
              "      <td>1.000000</td>\n",
              "      <td>1.000000</td>\n",
              "      <td>1.000000</td>\n",
              "      <td>1.000000</td>\n",
              "    </tr>\n",
              "  </tbody>\n",
              "</table>\n",
              "</div>\n",
              "      <button class=\"colab-df-convert\" onclick=\"convertToInteractive('df-2b363872-88fc-4aa6-9cdd-454a58a4f857')\"\n",
              "              title=\"Convert this dataframe to an interactive table.\"\n",
              "              style=\"display:none;\">\n",
              "        \n",
              "  <svg xmlns=\"http://www.w3.org/2000/svg\" height=\"24px\"viewBox=\"0 0 24 24\"\n",
              "       width=\"24px\">\n",
              "    <path d=\"M0 0h24v24H0V0z\" fill=\"none\"/>\n",
              "    <path d=\"M18.56 5.44l.94 2.06.94-2.06 2.06-.94-2.06-.94-.94-2.06-.94 2.06-2.06.94zm-11 1L8.5 8.5l.94-2.06 2.06-.94-2.06-.94L8.5 2.5l-.94 2.06-2.06.94zm10 10l.94 2.06.94-2.06 2.06-.94-2.06-.94-.94-2.06-.94 2.06-2.06.94z\"/><path d=\"M17.41 7.96l-1.37-1.37c-.4-.4-.92-.59-1.43-.59-.52 0-1.04.2-1.43.59L10.3 9.45l-7.72 7.72c-.78.78-.78 2.05 0 2.83L4 21.41c.39.39.9.59 1.41.59.51 0 1.02-.2 1.41-.59l7.78-7.78 2.81-2.81c.8-.78.8-2.07 0-2.86zM5.41 20L4 18.59l7.72-7.72 1.47 1.35L5.41 20z\"/>\n",
              "  </svg>\n",
              "      </button>\n",
              "      \n",
              "  <style>\n",
              "    .colab-df-container {\n",
              "      display:flex;\n",
              "      flex-wrap:wrap;\n",
              "      gap: 12px;\n",
              "    }\n",
              "\n",
              "    .colab-df-convert {\n",
              "      background-color: #E8F0FE;\n",
              "      border: none;\n",
              "      border-radius: 50%;\n",
              "      cursor: pointer;\n",
              "      display: none;\n",
              "      fill: #1967D2;\n",
              "      height: 32px;\n",
              "      padding: 0 0 0 0;\n",
              "      width: 32px;\n",
              "    }\n",
              "\n",
              "    .colab-df-convert:hover {\n",
              "      background-color: #E2EBFA;\n",
              "      box-shadow: 0px 1px 2px rgba(60, 64, 67, 0.3), 0px 1px 3px 1px rgba(60, 64, 67, 0.15);\n",
              "      fill: #174EA6;\n",
              "    }\n",
              "\n",
              "    [theme=dark] .colab-df-convert {\n",
              "      background-color: #3B4455;\n",
              "      fill: #D2E3FC;\n",
              "    }\n",
              "\n",
              "    [theme=dark] .colab-df-convert:hover {\n",
              "      background-color: #434B5C;\n",
              "      box-shadow: 0px 1px 3px 1px rgba(0, 0, 0, 0.15);\n",
              "      filter: drop-shadow(0px 1px 2px rgba(0, 0, 0, 0.3));\n",
              "      fill: #FFFFFF;\n",
              "    }\n",
              "  </style>\n",
              "\n",
              "      <script>\n",
              "        const buttonEl =\n",
              "          document.querySelector('#df-2b363872-88fc-4aa6-9cdd-454a58a4f857 button.colab-df-convert');\n",
              "        buttonEl.style.display =\n",
              "          google.colab.kernel.accessAllowed ? 'block' : 'none';\n",
              "\n",
              "        async function convertToInteractive(key) {\n",
              "          const element = document.querySelector('#df-2b363872-88fc-4aa6-9cdd-454a58a4f857');\n",
              "          const dataTable =\n",
              "            await google.colab.kernel.invokeFunction('convertToInteractive',\n",
              "                                                     [key], {});\n",
              "          if (!dataTable) return;\n",
              "\n",
              "          const docLinkHtml = 'Like what you see? Visit the ' +\n",
              "            '<a target=\"_blank\" href=https://colab.research.google.com/notebooks/data_table.ipynb>data table notebook</a>'\n",
              "            + ' to learn more about interactive tables.';\n",
              "          element.innerHTML = '';\n",
              "          dataTable['output_type'] = 'display_data';\n",
              "          await google.colab.output.renderOutput(dataTable, element);\n",
              "          const docLink = document.createElement('div');\n",
              "          docLink.innerHTML = docLinkHtml;\n",
              "          element.appendChild(docLink);\n",
              "        }\n",
              "      </script>\n",
              "    </div>\n",
              "  </div>\n",
              "  "
            ]
          },
          "metadata": {},
          "execution_count": 11
        }
      ],
      "source": [
        "df_D_xgb.describe()"
      ]
    },
    {
      "cell_type": "code",
      "execution_count": null,
      "metadata": {
        "colab": {
          "base_uri": "https://localhost:8080/"
        },
        "id": "uFLfS2XI4zjs",
        "outputId": "02ba19f8-53b4-4903-8b7b-496efb10e7f3"
      },
      "outputs": [
        {
          "output_type": "stream",
          "name": "stdout",
          "text": [
            "<class 'pandas.core.frame.DataFrame'>\n",
            "RangeIndex: 209975 entries, 0 to 209974\n",
            "Data columns (total 20 columns):\n",
            " #   Column              Non-Null Count   Dtype  \n",
            "---  ------              --------------   -----  \n",
            " 0   ndvi_median         209975 non-null  float64\n",
            " 1   mNDVI_median        209975 non-null  float64\n",
            " 2   gari_median         209975 non-null  float64\n",
            " 3   tcariOsavi_median   209975 non-null  float64\n",
            " 4   sipi_median         209975 non-null  float64\n",
            " 5   ndii_median         209975 non-null  float64\n",
            " 6   B04_median          209975 non-null  float64\n",
            " 7   B08_median          209975 non-null  float64\n",
            " 8   B11_median          209975 non-null  float64\n",
            " 9   raster              209975 non-null  object \n",
            " 10  clouds_on_raster    209975 non-null  float64\n",
            " 11  area_m2             209975 non-null  float64\n",
            " 12  date                209975 non-null  object \n",
            " 13  target              209975 non-null  int64  \n",
            " 14  año                 209975 non-null  int64  \n",
            " 15  mes                 209975 non-null  int64  \n",
            " 16  estacion_Invierno   209975 non-null  int64  \n",
            " 17  estacion_Otoño      209975 non-null  int64  \n",
            " 18  estacion_Primavera  209975 non-null  int64  \n",
            " 19  estacion_Verano     209975 non-null  int64  \n",
            "dtypes: float64(11), int64(7), object(2)\n",
            "memory usage: 32.0+ MB\n"
          ]
        }
      ],
      "source": [
        "df_D_xgb.info()"
      ]
    },
    {
      "cell_type": "markdown",
      "metadata": {
        "id": "o1NiG5PG7ltj"
      },
      "source": [
        "##Preparación de los dataset para modelos basados en datos temporales.\n",
        "\n"
      ]
    },
    {
      "cell_type": "markdown",
      "metadata": {
        "id": "i9mSyudk8CZj"
      },
      "source": [
        "Convertimos los datos de la variable date a tipo fecha y agregamos una columna adicional en cada dataset basada en el número de la semana del año. La columna 'week' toma 53 valores distintos.\n",
        "\n",
        "x.strftime('%U'): Número de semana del año (domingo como primer día de la semana). Todos los días de un nuevo año que preceden al primer domingo se consideran en la semana 0."
      ]
    },
    {
      "cell_type": "code",
      "execution_count": null,
      "metadata": {
        "id": "hfusFs-wSgyf"
      },
      "outputs": [],
      "source": [
        "def prc_dates(df,col='date',drop_col=True):\n",
        "\n",
        "  df[col]=pd.to_datetime(df[col])\n",
        "  # df['month']=df[col].apply(lambda x: x.month)\n",
        "  # df['year']=df[col].apply(lambda x: x.year)\n",
        "  df['week']=df[col].apply(lambda x:float(x.strftime('%U')))\n",
        "  if drop_col:\n",
        "    df.drop(col,axis=1,inplace=True)\n",
        "  return df"
      ]
    },
    {
      "cell_type": "code",
      "execution_count": null,
      "metadata": {
        "colab": {
          "base_uri": "https://localhost:8080/",
          "height": 270
        },
        "id": "NADRUIdOS8us",
        "outputId": "76e615da-cd22-4d9b-e544-f2cc6d7f7f9d"
      },
      "outputs": [
        {
          "output_type": "execute_result",
          "data": {
            "text/plain": [
              "   ndvi_median  mNDVI_median  gari_median  tcariOsavi_median  sipi_median  \\\n",
              "0     0.547001      1.301351     1.285897           0.212710     0.884216   \n",
              "1     0.534292      1.059602     1.061493           0.240232     0.971875   \n",
              "2     0.525454      1.057045     1.058720           0.203292     0.973017   \n",
              "3     0.593190      1.072501     1.073903           0.211842     0.966202   \n",
              "4     0.508717      1.012175     1.012648           0.264819     0.993986   \n",
              "\n",
              "   ndii_median  B04_median  B08_median  B11_median  \\\n",
              "0     0.166902      0.0779      0.2645     0.18770   \n",
              "1     0.145259      0.0988      0.3329     0.25420   \n",
              "2     0.158971      0.1062      0.3415     0.24640   \n",
              "3     0.195676      0.1037      0.3928     0.26675   \n",
              "4     0.129762      0.1219      0.3773     0.28950   \n",
              "\n",
              "                                              raster  clouds_on_raster  \\\n",
              "0  S2A_MSIL1C_20170103T142022_N0204_R010_T20JLL_2...               0.0   \n",
              "1  S2A_MSIL1C_20170103T142022_N0204_R010_T20JLL_2...               0.0   \n",
              "2  S2A_MSIL1C_20170103T142022_N0204_R010_T20JLL_2...               0.0   \n",
              "3  S2A_MSIL1C_20170103T142022_N0204_R010_T20JLL_2...               0.0   \n",
              "4  S2A_MSIL1C_20170103T142022_N0204_R010_T20JLL_2...               0.0   \n",
              "\n",
              "       area_m2  target   año  mes  estacion_Invierno  estacion_Otoño  \\\n",
              "0  4650.710032       1  2017    1                  0               0   \n",
              "1  1502.000513       1  2017    1                  0               0   \n",
              "2  2004.192528       1  2017    1                  0               0   \n",
              "3  6940.507640       1  2017    1                  0               0   \n",
              "4  4587.356048       1  2017    1                  0               0   \n",
              "\n",
              "   estacion_Primavera  estacion_Verano  week  \n",
              "0                   0                1   1.0  \n",
              "1                   0                1   1.0  \n",
              "2                   0                1   1.0  \n",
              "3                   0                1   1.0  \n",
              "4                   0                1   1.0  "
            ],
            "text/html": [
              "\n",
              "  <div id=\"df-3d31afb0-95f3-49c9-802b-d646b6acc3e5\">\n",
              "    <div class=\"colab-df-container\">\n",
              "      <div>\n",
              "<style scoped>\n",
              "    .dataframe tbody tr th:only-of-type {\n",
              "        vertical-align: middle;\n",
              "    }\n",
              "\n",
              "    .dataframe tbody tr th {\n",
              "        vertical-align: top;\n",
              "    }\n",
              "\n",
              "    .dataframe thead th {\n",
              "        text-align: right;\n",
              "    }\n",
              "</style>\n",
              "<table border=\"1\" class=\"dataframe\">\n",
              "  <thead>\n",
              "    <tr style=\"text-align: right;\">\n",
              "      <th></th>\n",
              "      <th>ndvi_median</th>\n",
              "      <th>mNDVI_median</th>\n",
              "      <th>gari_median</th>\n",
              "      <th>tcariOsavi_median</th>\n",
              "      <th>sipi_median</th>\n",
              "      <th>ndii_median</th>\n",
              "      <th>B04_median</th>\n",
              "      <th>B08_median</th>\n",
              "      <th>B11_median</th>\n",
              "      <th>raster</th>\n",
              "      <th>clouds_on_raster</th>\n",
              "      <th>area_m2</th>\n",
              "      <th>target</th>\n",
              "      <th>año</th>\n",
              "      <th>mes</th>\n",
              "      <th>estacion_Invierno</th>\n",
              "      <th>estacion_Otoño</th>\n",
              "      <th>estacion_Primavera</th>\n",
              "      <th>estacion_Verano</th>\n",
              "      <th>week</th>\n",
              "    </tr>\n",
              "  </thead>\n",
              "  <tbody>\n",
              "    <tr>\n",
              "      <th>0</th>\n",
              "      <td>0.547001</td>\n",
              "      <td>1.301351</td>\n",
              "      <td>1.285897</td>\n",
              "      <td>0.212710</td>\n",
              "      <td>0.884216</td>\n",
              "      <td>0.166902</td>\n",
              "      <td>0.0779</td>\n",
              "      <td>0.2645</td>\n",
              "      <td>0.18770</td>\n",
              "      <td>S2A_MSIL1C_20170103T142022_N0204_R010_T20JLL_2...</td>\n",
              "      <td>0.0</td>\n",
              "      <td>4650.710032</td>\n",
              "      <td>1</td>\n",
              "      <td>2017</td>\n",
              "      <td>1</td>\n",
              "      <td>0</td>\n",
              "      <td>0</td>\n",
              "      <td>0</td>\n",
              "      <td>1</td>\n",
              "      <td>1.0</td>\n",
              "    </tr>\n",
              "    <tr>\n",
              "      <th>1</th>\n",
              "      <td>0.534292</td>\n",
              "      <td>1.059602</td>\n",
              "      <td>1.061493</td>\n",
              "      <td>0.240232</td>\n",
              "      <td>0.971875</td>\n",
              "      <td>0.145259</td>\n",
              "      <td>0.0988</td>\n",
              "      <td>0.3329</td>\n",
              "      <td>0.25420</td>\n",
              "      <td>S2A_MSIL1C_20170103T142022_N0204_R010_T20JLL_2...</td>\n",
              "      <td>0.0</td>\n",
              "      <td>1502.000513</td>\n",
              "      <td>1</td>\n",
              "      <td>2017</td>\n",
              "      <td>1</td>\n",
              "      <td>0</td>\n",
              "      <td>0</td>\n",
              "      <td>0</td>\n",
              "      <td>1</td>\n",
              "      <td>1.0</td>\n",
              "    </tr>\n",
              "    <tr>\n",
              "      <th>2</th>\n",
              "      <td>0.525454</td>\n",
              "      <td>1.057045</td>\n",
              "      <td>1.058720</td>\n",
              "      <td>0.203292</td>\n",
              "      <td>0.973017</td>\n",
              "      <td>0.158971</td>\n",
              "      <td>0.1062</td>\n",
              "      <td>0.3415</td>\n",
              "      <td>0.24640</td>\n",
              "      <td>S2A_MSIL1C_20170103T142022_N0204_R010_T20JLL_2...</td>\n",
              "      <td>0.0</td>\n",
              "      <td>2004.192528</td>\n",
              "      <td>1</td>\n",
              "      <td>2017</td>\n",
              "      <td>1</td>\n",
              "      <td>0</td>\n",
              "      <td>0</td>\n",
              "      <td>0</td>\n",
              "      <td>1</td>\n",
              "      <td>1.0</td>\n",
              "    </tr>\n",
              "    <tr>\n",
              "      <th>3</th>\n",
              "      <td>0.593190</td>\n",
              "      <td>1.072501</td>\n",
              "      <td>1.073903</td>\n",
              "      <td>0.211842</td>\n",
              "      <td>0.966202</td>\n",
              "      <td>0.195676</td>\n",
              "      <td>0.1037</td>\n",
              "      <td>0.3928</td>\n",
              "      <td>0.26675</td>\n",
              "      <td>S2A_MSIL1C_20170103T142022_N0204_R010_T20JLL_2...</td>\n",
              "      <td>0.0</td>\n",
              "      <td>6940.507640</td>\n",
              "      <td>1</td>\n",
              "      <td>2017</td>\n",
              "      <td>1</td>\n",
              "      <td>0</td>\n",
              "      <td>0</td>\n",
              "      <td>0</td>\n",
              "      <td>1</td>\n",
              "      <td>1.0</td>\n",
              "    </tr>\n",
              "    <tr>\n",
              "      <th>4</th>\n",
              "      <td>0.508717</td>\n",
              "      <td>1.012175</td>\n",
              "      <td>1.012648</td>\n",
              "      <td>0.264819</td>\n",
              "      <td>0.993986</td>\n",
              "      <td>0.129762</td>\n",
              "      <td>0.1219</td>\n",
              "      <td>0.3773</td>\n",
              "      <td>0.28950</td>\n",
              "      <td>S2A_MSIL1C_20170103T142022_N0204_R010_T20JLL_2...</td>\n",
              "      <td>0.0</td>\n",
              "      <td>4587.356048</td>\n",
              "      <td>1</td>\n",
              "      <td>2017</td>\n",
              "      <td>1</td>\n",
              "      <td>0</td>\n",
              "      <td>0</td>\n",
              "      <td>0</td>\n",
              "      <td>1</td>\n",
              "      <td>1.0</td>\n",
              "    </tr>\n",
              "  </tbody>\n",
              "</table>\n",
              "</div>\n",
              "      <button class=\"colab-df-convert\" onclick=\"convertToInteractive('df-3d31afb0-95f3-49c9-802b-d646b6acc3e5')\"\n",
              "              title=\"Convert this dataframe to an interactive table.\"\n",
              "              style=\"display:none;\">\n",
              "        \n",
              "  <svg xmlns=\"http://www.w3.org/2000/svg\" height=\"24px\"viewBox=\"0 0 24 24\"\n",
              "       width=\"24px\">\n",
              "    <path d=\"M0 0h24v24H0V0z\" fill=\"none\"/>\n",
              "    <path d=\"M18.56 5.44l.94 2.06.94-2.06 2.06-.94-2.06-.94-.94-2.06-.94 2.06-2.06.94zm-11 1L8.5 8.5l.94-2.06 2.06-.94-2.06-.94L8.5 2.5l-.94 2.06-2.06.94zm10 10l.94 2.06.94-2.06 2.06-.94-2.06-.94-.94-2.06-.94 2.06-2.06.94z\"/><path d=\"M17.41 7.96l-1.37-1.37c-.4-.4-.92-.59-1.43-.59-.52 0-1.04.2-1.43.59L10.3 9.45l-7.72 7.72c-.78.78-.78 2.05 0 2.83L4 21.41c.39.39.9.59 1.41.59.51 0 1.02-.2 1.41-.59l7.78-7.78 2.81-2.81c.8-.78.8-2.07 0-2.86zM5.41 20L4 18.59l7.72-7.72 1.47 1.35L5.41 20z\"/>\n",
              "  </svg>\n",
              "      </button>\n",
              "      \n",
              "  <style>\n",
              "    .colab-df-container {\n",
              "      display:flex;\n",
              "      flex-wrap:wrap;\n",
              "      gap: 12px;\n",
              "    }\n",
              "\n",
              "    .colab-df-convert {\n",
              "      background-color: #E8F0FE;\n",
              "      border: none;\n",
              "      border-radius: 50%;\n",
              "      cursor: pointer;\n",
              "      display: none;\n",
              "      fill: #1967D2;\n",
              "      height: 32px;\n",
              "      padding: 0 0 0 0;\n",
              "      width: 32px;\n",
              "    }\n",
              "\n",
              "    .colab-df-convert:hover {\n",
              "      background-color: #E2EBFA;\n",
              "      box-shadow: 0px 1px 2px rgba(60, 64, 67, 0.3), 0px 1px 3px 1px rgba(60, 64, 67, 0.15);\n",
              "      fill: #174EA6;\n",
              "    }\n",
              "\n",
              "    [theme=dark] .colab-df-convert {\n",
              "      background-color: #3B4455;\n",
              "      fill: #D2E3FC;\n",
              "    }\n",
              "\n",
              "    [theme=dark] .colab-df-convert:hover {\n",
              "      background-color: #434B5C;\n",
              "      box-shadow: 0px 1px 3px 1px rgba(0, 0, 0, 0.15);\n",
              "      filter: drop-shadow(0px 1px 2px rgba(0, 0, 0, 0.3));\n",
              "      fill: #FFFFFF;\n",
              "    }\n",
              "  </style>\n",
              "\n",
              "      <script>\n",
              "        const buttonEl =\n",
              "          document.querySelector('#df-3d31afb0-95f3-49c9-802b-d646b6acc3e5 button.colab-df-convert');\n",
              "        buttonEl.style.display =\n",
              "          google.colab.kernel.accessAllowed ? 'block' : 'none';\n",
              "\n",
              "        async function convertToInteractive(key) {\n",
              "          const element = document.querySelector('#df-3d31afb0-95f3-49c9-802b-d646b6acc3e5');\n",
              "          const dataTable =\n",
              "            await google.colab.kernel.invokeFunction('convertToInteractive',\n",
              "                                                     [key], {});\n",
              "          if (!dataTable) return;\n",
              "\n",
              "          const docLinkHtml = 'Like what you see? Visit the ' +\n",
              "            '<a target=\"_blank\" href=https://colab.research.google.com/notebooks/data_table.ipynb>data table notebook</a>'\n",
              "            + ' to learn more about interactive tables.';\n",
              "          element.innerHTML = '';\n",
              "          dataTable['output_type'] = 'display_data';\n",
              "          await google.colab.output.renderOutput(dataTable, element);\n",
              "          const docLink = document.createElement('div');\n",
              "          docLink.innerHTML = docLinkHtml;\n",
              "          element.appendChild(docLink);\n",
              "        }\n",
              "      </script>\n",
              "    </div>\n",
              "  </div>\n",
              "  "
            ]
          },
          "metadata": {},
          "execution_count": 14
        }
      ],
      "source": [
        "df_A=prc_dates(df_A_xgb.copy())\n",
        "df_A.head()"
      ]
    },
    {
      "cell_type": "code",
      "execution_count": null,
      "metadata": {
        "colab": {
          "base_uri": "https://localhost:8080/",
          "height": 270
        },
        "id": "z9t5xNkiR7Do",
        "outputId": "44542239-0fef-434c-edaa-d74a7902feaf"
      },
      "outputs": [
        {
          "output_type": "execute_result",
          "data": {
            "text/plain": [
              "   ndvi_median  mNDVI_median  gari_median  tcariOsavi_median  sipi_median  \\\n",
              "0     0.547001      1.301351     1.285897           0.212710     0.884216   \n",
              "1     0.534292      1.059602     1.061493           0.240232     0.971875   \n",
              "2     0.525454      1.057045     1.058720           0.203292     0.973017   \n",
              "3     0.593190      1.072501     1.073903           0.211842     0.966202   \n",
              "4     0.508717      1.012175     1.012648           0.264819     0.993986   \n",
              "\n",
              "   ndii_median  B04_median  B08_median  B11_median  \\\n",
              "0     0.166902      0.0779      0.2645     0.18770   \n",
              "1     0.145259      0.0988      0.3329     0.25420   \n",
              "2     0.158971      0.1062      0.3415     0.24640   \n",
              "3     0.195676      0.1037      0.3928     0.26675   \n",
              "4     0.129762      0.1219      0.3773     0.28950   \n",
              "\n",
              "                                              raster  clouds_on_raster  \\\n",
              "0  S2A_MSIL1C_20170103T142022_N0204_R010_T20JLL_2...               0.0   \n",
              "1  S2A_MSIL1C_20170103T142022_N0204_R010_T20JLL_2...               0.0   \n",
              "2  S2A_MSIL1C_20170103T142022_N0204_R010_T20JLL_2...               0.0   \n",
              "3  S2A_MSIL1C_20170103T142022_N0204_R010_T20JLL_2...               0.0   \n",
              "4  S2A_MSIL1C_20170103T142022_N0204_R010_T20JLL_2...               0.0   \n",
              "\n",
              "       area_m2  target   año  mes  estacion_Invierno  estacion_Otoño  \\\n",
              "0  4650.710032       1  2017    1                  0               0   \n",
              "1  1502.000513       1  2017    1                  0               0   \n",
              "2  2004.192528       1  2017    1                  0               0   \n",
              "3  6940.507640       1  2017    1                  0               0   \n",
              "4  4587.356048       1  2017    1                  0               0   \n",
              "\n",
              "   estacion_Primavera  estacion_Verano  week  \n",
              "0                   0                1   1.0  \n",
              "1                   0                1   1.0  \n",
              "2                   0                1   1.0  \n",
              "3                   0                1   1.0  \n",
              "4                   0                1   1.0  "
            ],
            "text/html": [
              "\n",
              "  <div id=\"df-b348c2e0-ffb6-47a0-b4f2-aaf9869669d8\">\n",
              "    <div class=\"colab-df-container\">\n",
              "      <div>\n",
              "<style scoped>\n",
              "    .dataframe tbody tr th:only-of-type {\n",
              "        vertical-align: middle;\n",
              "    }\n",
              "\n",
              "    .dataframe tbody tr th {\n",
              "        vertical-align: top;\n",
              "    }\n",
              "\n",
              "    .dataframe thead th {\n",
              "        text-align: right;\n",
              "    }\n",
              "</style>\n",
              "<table border=\"1\" class=\"dataframe\">\n",
              "  <thead>\n",
              "    <tr style=\"text-align: right;\">\n",
              "      <th></th>\n",
              "      <th>ndvi_median</th>\n",
              "      <th>mNDVI_median</th>\n",
              "      <th>gari_median</th>\n",
              "      <th>tcariOsavi_median</th>\n",
              "      <th>sipi_median</th>\n",
              "      <th>ndii_median</th>\n",
              "      <th>B04_median</th>\n",
              "      <th>B08_median</th>\n",
              "      <th>B11_median</th>\n",
              "      <th>raster</th>\n",
              "      <th>clouds_on_raster</th>\n",
              "      <th>area_m2</th>\n",
              "      <th>target</th>\n",
              "      <th>año</th>\n",
              "      <th>mes</th>\n",
              "      <th>estacion_Invierno</th>\n",
              "      <th>estacion_Otoño</th>\n",
              "      <th>estacion_Primavera</th>\n",
              "      <th>estacion_Verano</th>\n",
              "      <th>week</th>\n",
              "    </tr>\n",
              "  </thead>\n",
              "  <tbody>\n",
              "    <tr>\n",
              "      <th>0</th>\n",
              "      <td>0.547001</td>\n",
              "      <td>1.301351</td>\n",
              "      <td>1.285897</td>\n",
              "      <td>0.212710</td>\n",
              "      <td>0.884216</td>\n",
              "      <td>0.166902</td>\n",
              "      <td>0.0779</td>\n",
              "      <td>0.2645</td>\n",
              "      <td>0.18770</td>\n",
              "      <td>S2A_MSIL1C_20170103T142022_N0204_R010_T20JLL_2...</td>\n",
              "      <td>0.0</td>\n",
              "      <td>4650.710032</td>\n",
              "      <td>1</td>\n",
              "      <td>2017</td>\n",
              "      <td>1</td>\n",
              "      <td>0</td>\n",
              "      <td>0</td>\n",
              "      <td>0</td>\n",
              "      <td>1</td>\n",
              "      <td>1.0</td>\n",
              "    </tr>\n",
              "    <tr>\n",
              "      <th>1</th>\n",
              "      <td>0.534292</td>\n",
              "      <td>1.059602</td>\n",
              "      <td>1.061493</td>\n",
              "      <td>0.240232</td>\n",
              "      <td>0.971875</td>\n",
              "      <td>0.145259</td>\n",
              "      <td>0.0988</td>\n",
              "      <td>0.3329</td>\n",
              "      <td>0.25420</td>\n",
              "      <td>S2A_MSIL1C_20170103T142022_N0204_R010_T20JLL_2...</td>\n",
              "      <td>0.0</td>\n",
              "      <td>1502.000513</td>\n",
              "      <td>1</td>\n",
              "      <td>2017</td>\n",
              "      <td>1</td>\n",
              "      <td>0</td>\n",
              "      <td>0</td>\n",
              "      <td>0</td>\n",
              "      <td>1</td>\n",
              "      <td>1.0</td>\n",
              "    </tr>\n",
              "    <tr>\n",
              "      <th>2</th>\n",
              "      <td>0.525454</td>\n",
              "      <td>1.057045</td>\n",
              "      <td>1.058720</td>\n",
              "      <td>0.203292</td>\n",
              "      <td>0.973017</td>\n",
              "      <td>0.158971</td>\n",
              "      <td>0.1062</td>\n",
              "      <td>0.3415</td>\n",
              "      <td>0.24640</td>\n",
              "      <td>S2A_MSIL1C_20170103T142022_N0204_R010_T20JLL_2...</td>\n",
              "      <td>0.0</td>\n",
              "      <td>2004.192528</td>\n",
              "      <td>1</td>\n",
              "      <td>2017</td>\n",
              "      <td>1</td>\n",
              "      <td>0</td>\n",
              "      <td>0</td>\n",
              "      <td>0</td>\n",
              "      <td>1</td>\n",
              "      <td>1.0</td>\n",
              "    </tr>\n",
              "    <tr>\n",
              "      <th>3</th>\n",
              "      <td>0.593190</td>\n",
              "      <td>1.072501</td>\n",
              "      <td>1.073903</td>\n",
              "      <td>0.211842</td>\n",
              "      <td>0.966202</td>\n",
              "      <td>0.195676</td>\n",
              "      <td>0.1037</td>\n",
              "      <td>0.3928</td>\n",
              "      <td>0.26675</td>\n",
              "      <td>S2A_MSIL1C_20170103T142022_N0204_R010_T20JLL_2...</td>\n",
              "      <td>0.0</td>\n",
              "      <td>6940.507640</td>\n",
              "      <td>1</td>\n",
              "      <td>2017</td>\n",
              "      <td>1</td>\n",
              "      <td>0</td>\n",
              "      <td>0</td>\n",
              "      <td>0</td>\n",
              "      <td>1</td>\n",
              "      <td>1.0</td>\n",
              "    </tr>\n",
              "    <tr>\n",
              "      <th>4</th>\n",
              "      <td>0.508717</td>\n",
              "      <td>1.012175</td>\n",
              "      <td>1.012648</td>\n",
              "      <td>0.264819</td>\n",
              "      <td>0.993986</td>\n",
              "      <td>0.129762</td>\n",
              "      <td>0.1219</td>\n",
              "      <td>0.3773</td>\n",
              "      <td>0.28950</td>\n",
              "      <td>S2A_MSIL1C_20170103T142022_N0204_R010_T20JLL_2...</td>\n",
              "      <td>0.0</td>\n",
              "      <td>4587.356048</td>\n",
              "      <td>1</td>\n",
              "      <td>2017</td>\n",
              "      <td>1</td>\n",
              "      <td>0</td>\n",
              "      <td>0</td>\n",
              "      <td>0</td>\n",
              "      <td>1</td>\n",
              "      <td>1.0</td>\n",
              "    </tr>\n",
              "  </tbody>\n",
              "</table>\n",
              "</div>\n",
              "      <button class=\"colab-df-convert\" onclick=\"convertToInteractive('df-b348c2e0-ffb6-47a0-b4f2-aaf9869669d8')\"\n",
              "              title=\"Convert this dataframe to an interactive table.\"\n",
              "              style=\"display:none;\">\n",
              "        \n",
              "  <svg xmlns=\"http://www.w3.org/2000/svg\" height=\"24px\"viewBox=\"0 0 24 24\"\n",
              "       width=\"24px\">\n",
              "    <path d=\"M0 0h24v24H0V0z\" fill=\"none\"/>\n",
              "    <path d=\"M18.56 5.44l.94 2.06.94-2.06 2.06-.94-2.06-.94-.94-2.06-.94 2.06-2.06.94zm-11 1L8.5 8.5l.94-2.06 2.06-.94-2.06-.94L8.5 2.5l-.94 2.06-2.06.94zm10 10l.94 2.06.94-2.06 2.06-.94-2.06-.94-.94-2.06-.94 2.06-2.06.94z\"/><path d=\"M17.41 7.96l-1.37-1.37c-.4-.4-.92-.59-1.43-.59-.52 0-1.04.2-1.43.59L10.3 9.45l-7.72 7.72c-.78.78-.78 2.05 0 2.83L4 21.41c.39.39.9.59 1.41.59.51 0 1.02-.2 1.41-.59l7.78-7.78 2.81-2.81c.8-.78.8-2.07 0-2.86zM5.41 20L4 18.59l7.72-7.72 1.47 1.35L5.41 20z\"/>\n",
              "  </svg>\n",
              "      </button>\n",
              "      \n",
              "  <style>\n",
              "    .colab-df-container {\n",
              "      display:flex;\n",
              "      flex-wrap:wrap;\n",
              "      gap: 12px;\n",
              "    }\n",
              "\n",
              "    .colab-df-convert {\n",
              "      background-color: #E8F0FE;\n",
              "      border: none;\n",
              "      border-radius: 50%;\n",
              "      cursor: pointer;\n",
              "      display: none;\n",
              "      fill: #1967D2;\n",
              "      height: 32px;\n",
              "      padding: 0 0 0 0;\n",
              "      width: 32px;\n",
              "    }\n",
              "\n",
              "    .colab-df-convert:hover {\n",
              "      background-color: #E2EBFA;\n",
              "      box-shadow: 0px 1px 2px rgba(60, 64, 67, 0.3), 0px 1px 3px 1px rgba(60, 64, 67, 0.15);\n",
              "      fill: #174EA6;\n",
              "    }\n",
              "\n",
              "    [theme=dark] .colab-df-convert {\n",
              "      background-color: #3B4455;\n",
              "      fill: #D2E3FC;\n",
              "    }\n",
              "\n",
              "    [theme=dark] .colab-df-convert:hover {\n",
              "      background-color: #434B5C;\n",
              "      box-shadow: 0px 1px 3px 1px rgba(0, 0, 0, 0.15);\n",
              "      filter: drop-shadow(0px 1px 2px rgba(0, 0, 0, 0.3));\n",
              "      fill: #FFFFFF;\n",
              "    }\n",
              "  </style>\n",
              "\n",
              "      <script>\n",
              "        const buttonEl =\n",
              "          document.querySelector('#df-b348c2e0-ffb6-47a0-b4f2-aaf9869669d8 button.colab-df-convert');\n",
              "        buttonEl.style.display =\n",
              "          google.colab.kernel.accessAllowed ? 'block' : 'none';\n",
              "\n",
              "        async function convertToInteractive(key) {\n",
              "          const element = document.querySelector('#df-b348c2e0-ffb6-47a0-b4f2-aaf9869669d8');\n",
              "          const dataTable =\n",
              "            await google.colab.kernel.invokeFunction('convertToInteractive',\n",
              "                                                     [key], {});\n",
              "          if (!dataTable) return;\n",
              "\n",
              "          const docLinkHtml = 'Like what you see? Visit the ' +\n",
              "            '<a target=\"_blank\" href=https://colab.research.google.com/notebooks/data_table.ipynb>data table notebook</a>'\n",
              "            + ' to learn more about interactive tables.';\n",
              "          element.innerHTML = '';\n",
              "          dataTable['output_type'] = 'display_data';\n",
              "          await google.colab.output.renderOutput(dataTable, element);\n",
              "          const docLink = document.createElement('div');\n",
              "          docLink.innerHTML = docLinkHtml;\n",
              "          element.appendChild(docLink);\n",
              "        }\n",
              "      </script>\n",
              "    </div>\n",
              "  </div>\n",
              "  "
            ]
          },
          "metadata": {},
          "execution_count": 18
        }
      ],
      "source": [
        "df_B=prc_dates(df_B_xgb.copy())\n",
        "df_B.head()"
      ]
    },
    {
      "cell_type": "code",
      "execution_count": null,
      "metadata": {
        "colab": {
          "base_uri": "https://localhost:8080/",
          "height": 270
        },
        "id": "KB9w-O70SAqL",
        "outputId": "38678d71-9a7d-4ebc-bb29-dc238db5aeff"
      },
      "outputs": [
        {
          "output_type": "execute_result",
          "data": {
            "text/plain": [
              "   ndvi_median  mNDVI_median  gari_median  tcariOsavi_median  sipi_median  \\\n",
              "0     0.547001      1.301351     1.285897           0.212710     0.884216   \n",
              "1     0.534292      1.059602     1.061493           0.240232     0.971875   \n",
              "2     0.525454      1.057045     1.058720           0.203292     0.973017   \n",
              "3     0.593190      1.072501     1.073903           0.211842     0.966202   \n",
              "4     0.508717      1.012175     1.012648           0.264819     0.993986   \n",
              "\n",
              "   ndii_median  B04_median  B08_median  B11_median  \\\n",
              "0     0.166902      0.0779      0.2645     0.18770   \n",
              "1     0.145259      0.0988      0.3329     0.25420   \n",
              "2     0.158971      0.1062      0.3415     0.24640   \n",
              "3     0.195676      0.1037      0.3928     0.26675   \n",
              "4     0.129762      0.1219      0.3773     0.28950   \n",
              "\n",
              "                                              raster  clouds_on_raster  \\\n",
              "0  S2A_MSIL1C_20170103T142022_N0204_R010_T20JLL_2...               0.0   \n",
              "1  S2A_MSIL1C_20170103T142022_N0204_R010_T20JLL_2...               0.0   \n",
              "2  S2A_MSIL1C_20170103T142022_N0204_R010_T20JLL_2...               0.0   \n",
              "3  S2A_MSIL1C_20170103T142022_N0204_R010_T20JLL_2...               0.0   \n",
              "4  S2A_MSIL1C_20170103T142022_N0204_R010_T20JLL_2...               0.0   \n",
              "\n",
              "       area_m2  target   año  mes  estacion_Invierno  estacion_Otoño  \\\n",
              "0  4650.710032       1  2017    1                  0               0   \n",
              "1  1502.000513       1  2017    1                  0               0   \n",
              "2  2004.192528       1  2017    1                  0               0   \n",
              "3  6940.507640       1  2017    1                  0               0   \n",
              "4  4587.356048       1  2017    1                  0               0   \n",
              "\n",
              "   estacion_Primavera  estacion_Verano  week  \n",
              "0                   0                1   1.0  \n",
              "1                   0                1   1.0  \n",
              "2                   0                1   1.0  \n",
              "3                   0                1   1.0  \n",
              "4                   0                1   1.0  "
            ],
            "text/html": [
              "\n",
              "  <div id=\"df-e866d8c6-a06e-4d35-920d-b739c11c4faf\">\n",
              "    <div class=\"colab-df-container\">\n",
              "      <div>\n",
              "<style scoped>\n",
              "    .dataframe tbody tr th:only-of-type {\n",
              "        vertical-align: middle;\n",
              "    }\n",
              "\n",
              "    .dataframe tbody tr th {\n",
              "        vertical-align: top;\n",
              "    }\n",
              "\n",
              "    .dataframe thead th {\n",
              "        text-align: right;\n",
              "    }\n",
              "</style>\n",
              "<table border=\"1\" class=\"dataframe\">\n",
              "  <thead>\n",
              "    <tr style=\"text-align: right;\">\n",
              "      <th></th>\n",
              "      <th>ndvi_median</th>\n",
              "      <th>mNDVI_median</th>\n",
              "      <th>gari_median</th>\n",
              "      <th>tcariOsavi_median</th>\n",
              "      <th>sipi_median</th>\n",
              "      <th>ndii_median</th>\n",
              "      <th>B04_median</th>\n",
              "      <th>B08_median</th>\n",
              "      <th>B11_median</th>\n",
              "      <th>raster</th>\n",
              "      <th>clouds_on_raster</th>\n",
              "      <th>area_m2</th>\n",
              "      <th>target</th>\n",
              "      <th>año</th>\n",
              "      <th>mes</th>\n",
              "      <th>estacion_Invierno</th>\n",
              "      <th>estacion_Otoño</th>\n",
              "      <th>estacion_Primavera</th>\n",
              "      <th>estacion_Verano</th>\n",
              "      <th>week</th>\n",
              "    </tr>\n",
              "  </thead>\n",
              "  <tbody>\n",
              "    <tr>\n",
              "      <th>0</th>\n",
              "      <td>0.547001</td>\n",
              "      <td>1.301351</td>\n",
              "      <td>1.285897</td>\n",
              "      <td>0.212710</td>\n",
              "      <td>0.884216</td>\n",
              "      <td>0.166902</td>\n",
              "      <td>0.0779</td>\n",
              "      <td>0.2645</td>\n",
              "      <td>0.18770</td>\n",
              "      <td>S2A_MSIL1C_20170103T142022_N0204_R010_T20JLL_2...</td>\n",
              "      <td>0.0</td>\n",
              "      <td>4650.710032</td>\n",
              "      <td>1</td>\n",
              "      <td>2017</td>\n",
              "      <td>1</td>\n",
              "      <td>0</td>\n",
              "      <td>0</td>\n",
              "      <td>0</td>\n",
              "      <td>1</td>\n",
              "      <td>1.0</td>\n",
              "    </tr>\n",
              "    <tr>\n",
              "      <th>1</th>\n",
              "      <td>0.534292</td>\n",
              "      <td>1.059602</td>\n",
              "      <td>1.061493</td>\n",
              "      <td>0.240232</td>\n",
              "      <td>0.971875</td>\n",
              "      <td>0.145259</td>\n",
              "      <td>0.0988</td>\n",
              "      <td>0.3329</td>\n",
              "      <td>0.25420</td>\n",
              "      <td>S2A_MSIL1C_20170103T142022_N0204_R010_T20JLL_2...</td>\n",
              "      <td>0.0</td>\n",
              "      <td>1502.000513</td>\n",
              "      <td>1</td>\n",
              "      <td>2017</td>\n",
              "      <td>1</td>\n",
              "      <td>0</td>\n",
              "      <td>0</td>\n",
              "      <td>0</td>\n",
              "      <td>1</td>\n",
              "      <td>1.0</td>\n",
              "    </tr>\n",
              "    <tr>\n",
              "      <th>2</th>\n",
              "      <td>0.525454</td>\n",
              "      <td>1.057045</td>\n",
              "      <td>1.058720</td>\n",
              "      <td>0.203292</td>\n",
              "      <td>0.973017</td>\n",
              "      <td>0.158971</td>\n",
              "      <td>0.1062</td>\n",
              "      <td>0.3415</td>\n",
              "      <td>0.24640</td>\n",
              "      <td>S2A_MSIL1C_20170103T142022_N0204_R010_T20JLL_2...</td>\n",
              "      <td>0.0</td>\n",
              "      <td>2004.192528</td>\n",
              "      <td>1</td>\n",
              "      <td>2017</td>\n",
              "      <td>1</td>\n",
              "      <td>0</td>\n",
              "      <td>0</td>\n",
              "      <td>0</td>\n",
              "      <td>1</td>\n",
              "      <td>1.0</td>\n",
              "    </tr>\n",
              "    <tr>\n",
              "      <th>3</th>\n",
              "      <td>0.593190</td>\n",
              "      <td>1.072501</td>\n",
              "      <td>1.073903</td>\n",
              "      <td>0.211842</td>\n",
              "      <td>0.966202</td>\n",
              "      <td>0.195676</td>\n",
              "      <td>0.1037</td>\n",
              "      <td>0.3928</td>\n",
              "      <td>0.26675</td>\n",
              "      <td>S2A_MSIL1C_20170103T142022_N0204_R010_T20JLL_2...</td>\n",
              "      <td>0.0</td>\n",
              "      <td>6940.507640</td>\n",
              "      <td>1</td>\n",
              "      <td>2017</td>\n",
              "      <td>1</td>\n",
              "      <td>0</td>\n",
              "      <td>0</td>\n",
              "      <td>0</td>\n",
              "      <td>1</td>\n",
              "      <td>1.0</td>\n",
              "    </tr>\n",
              "    <tr>\n",
              "      <th>4</th>\n",
              "      <td>0.508717</td>\n",
              "      <td>1.012175</td>\n",
              "      <td>1.012648</td>\n",
              "      <td>0.264819</td>\n",
              "      <td>0.993986</td>\n",
              "      <td>0.129762</td>\n",
              "      <td>0.1219</td>\n",
              "      <td>0.3773</td>\n",
              "      <td>0.28950</td>\n",
              "      <td>S2A_MSIL1C_20170103T142022_N0204_R010_T20JLL_2...</td>\n",
              "      <td>0.0</td>\n",
              "      <td>4587.356048</td>\n",
              "      <td>1</td>\n",
              "      <td>2017</td>\n",
              "      <td>1</td>\n",
              "      <td>0</td>\n",
              "      <td>0</td>\n",
              "      <td>0</td>\n",
              "      <td>1</td>\n",
              "      <td>1.0</td>\n",
              "    </tr>\n",
              "  </tbody>\n",
              "</table>\n",
              "</div>\n",
              "      <button class=\"colab-df-convert\" onclick=\"convertToInteractive('df-e866d8c6-a06e-4d35-920d-b739c11c4faf')\"\n",
              "              title=\"Convert this dataframe to an interactive table.\"\n",
              "              style=\"display:none;\">\n",
              "        \n",
              "  <svg xmlns=\"http://www.w3.org/2000/svg\" height=\"24px\"viewBox=\"0 0 24 24\"\n",
              "       width=\"24px\">\n",
              "    <path d=\"M0 0h24v24H0V0z\" fill=\"none\"/>\n",
              "    <path d=\"M18.56 5.44l.94 2.06.94-2.06 2.06-.94-2.06-.94-.94-2.06-.94 2.06-2.06.94zm-11 1L8.5 8.5l.94-2.06 2.06-.94-2.06-.94L8.5 2.5l-.94 2.06-2.06.94zm10 10l.94 2.06.94-2.06 2.06-.94-2.06-.94-.94-2.06-.94 2.06-2.06.94z\"/><path d=\"M17.41 7.96l-1.37-1.37c-.4-.4-.92-.59-1.43-.59-.52 0-1.04.2-1.43.59L10.3 9.45l-7.72 7.72c-.78.78-.78 2.05 0 2.83L4 21.41c.39.39.9.59 1.41.59.51 0 1.02-.2 1.41-.59l7.78-7.78 2.81-2.81c.8-.78.8-2.07 0-2.86zM5.41 20L4 18.59l7.72-7.72 1.47 1.35L5.41 20z\"/>\n",
              "  </svg>\n",
              "      </button>\n",
              "      \n",
              "  <style>\n",
              "    .colab-df-container {\n",
              "      display:flex;\n",
              "      flex-wrap:wrap;\n",
              "      gap: 12px;\n",
              "    }\n",
              "\n",
              "    .colab-df-convert {\n",
              "      background-color: #E8F0FE;\n",
              "      border: none;\n",
              "      border-radius: 50%;\n",
              "      cursor: pointer;\n",
              "      display: none;\n",
              "      fill: #1967D2;\n",
              "      height: 32px;\n",
              "      padding: 0 0 0 0;\n",
              "      width: 32px;\n",
              "    }\n",
              "\n",
              "    .colab-df-convert:hover {\n",
              "      background-color: #E2EBFA;\n",
              "      box-shadow: 0px 1px 2px rgba(60, 64, 67, 0.3), 0px 1px 3px 1px rgba(60, 64, 67, 0.15);\n",
              "      fill: #174EA6;\n",
              "    }\n",
              "\n",
              "    [theme=dark] .colab-df-convert {\n",
              "      background-color: #3B4455;\n",
              "      fill: #D2E3FC;\n",
              "    }\n",
              "\n",
              "    [theme=dark] .colab-df-convert:hover {\n",
              "      background-color: #434B5C;\n",
              "      box-shadow: 0px 1px 3px 1px rgba(0, 0, 0, 0.15);\n",
              "      filter: drop-shadow(0px 1px 2px rgba(0, 0, 0, 0.3));\n",
              "      fill: #FFFFFF;\n",
              "    }\n",
              "  </style>\n",
              "\n",
              "      <script>\n",
              "        const buttonEl =\n",
              "          document.querySelector('#df-e866d8c6-a06e-4d35-920d-b739c11c4faf button.colab-df-convert');\n",
              "        buttonEl.style.display =\n",
              "          google.colab.kernel.accessAllowed ? 'block' : 'none';\n",
              "\n",
              "        async function convertToInteractive(key) {\n",
              "          const element = document.querySelector('#df-e866d8c6-a06e-4d35-920d-b739c11c4faf');\n",
              "          const dataTable =\n",
              "            await google.colab.kernel.invokeFunction('convertToInteractive',\n",
              "                                                     [key], {});\n",
              "          if (!dataTable) return;\n",
              "\n",
              "          const docLinkHtml = 'Like what you see? Visit the ' +\n",
              "            '<a target=\"_blank\" href=https://colab.research.google.com/notebooks/data_table.ipynb>data table notebook</a>'\n",
              "            + ' to learn more about interactive tables.';\n",
              "          element.innerHTML = '';\n",
              "          dataTable['output_type'] = 'display_data';\n",
              "          await google.colab.output.renderOutput(dataTable, element);\n",
              "          const docLink = document.createElement('div');\n",
              "          docLink.innerHTML = docLinkHtml;\n",
              "          element.appendChild(docLink);\n",
              "        }\n",
              "      </script>\n",
              "    </div>\n",
              "  </div>\n",
              "  "
            ]
          },
          "metadata": {},
          "execution_count": 19
        }
      ],
      "source": [
        "df_C=prc_dates(df_C_xgb.copy())\n",
        "df_C.head()"
      ]
    },
    {
      "cell_type": "code",
      "execution_count": null,
      "metadata": {
        "colab": {
          "base_uri": "https://localhost:8080/",
          "height": 270
        },
        "id": "F5gCQ6n8SFSb",
        "outputId": "34bb97fd-f513-496d-ccb1-d869a2f0d20e"
      },
      "outputs": [
        {
          "output_type": "execute_result",
          "data": {
            "text/plain": [
              "   ndvi_median  mNDVI_median  gari_median  tcariOsavi_median  sipi_median  \\\n",
              "0     0.440542      0.914034     0.845873           0.277973    -0.783929   \n",
              "1     0.339254     -0.415755    -0.413891           0.930872     0.441245   \n",
              "2     0.268823     -0.429821    -0.429458           0.054535     0.457200   \n",
              "3     0.808639     -0.344802    -0.344223           0.257369     0.361958   \n",
              "4     0.135438     -0.676639    -0.688103           1.514164     0.750275   \n",
              "\n",
              "   ndii_median  B04_median  B08_median  B11_median  \\\n",
              "0     0.395028   -0.837579   -0.921562   -0.956877   \n",
              "1     0.139189   -0.171974    0.717252    0.514361   \n",
              "2     0.301277    0.063694    0.923302    0.341795   \n",
              "3     0.735170   -0.015924    2.152411    0.792015   \n",
              "4    -0.043999    0.563694    1.781043    1.295334   \n",
              "\n",
              "                                              raster  clouds_on_raster  \\\n",
              "0  S2A_MSIL1C_20170103T142022_N0204_R010_T20JLL_2...               0.0   \n",
              "1  S2A_MSIL1C_20170103T142022_N0204_R010_T20JLL_2...               0.0   \n",
              "2  S2A_MSIL1C_20170103T142022_N0204_R010_T20JLL_2...               0.0   \n",
              "3  S2A_MSIL1C_20170103T142022_N0204_R010_T20JLL_2...               0.0   \n",
              "4  S2A_MSIL1C_20170103T142022_N0204_R010_T20JLL_2...               0.0   \n",
              "\n",
              "       area_m2  target   año  mes  estacion_Invierno  estacion_Otoño  \\\n",
              "0  4650.710032       1  2017    1                  0               0   \n",
              "1  1502.000513       1  2017    1                  0               0   \n",
              "2  2004.192528       1  2017    1                  0               0   \n",
              "3  6940.507640       1  2017    1                  0               0   \n",
              "4  4587.356048       1  2017    1                  0               0   \n",
              "\n",
              "   estacion_Primavera  estacion_Verano  week  \n",
              "0                   0                1   1.0  \n",
              "1                   0                1   1.0  \n",
              "2                   0                1   1.0  \n",
              "3                   0                1   1.0  \n",
              "4                   0                1   1.0  "
            ],
            "text/html": [
              "\n",
              "  <div id=\"df-81e4452c-a719-4f90-9cdf-63c678a85090\">\n",
              "    <div class=\"colab-df-container\">\n",
              "      <div>\n",
              "<style scoped>\n",
              "    .dataframe tbody tr th:only-of-type {\n",
              "        vertical-align: middle;\n",
              "    }\n",
              "\n",
              "    .dataframe tbody tr th {\n",
              "        vertical-align: top;\n",
              "    }\n",
              "\n",
              "    .dataframe thead th {\n",
              "        text-align: right;\n",
              "    }\n",
              "</style>\n",
              "<table border=\"1\" class=\"dataframe\">\n",
              "  <thead>\n",
              "    <tr style=\"text-align: right;\">\n",
              "      <th></th>\n",
              "      <th>ndvi_median</th>\n",
              "      <th>mNDVI_median</th>\n",
              "      <th>gari_median</th>\n",
              "      <th>tcariOsavi_median</th>\n",
              "      <th>sipi_median</th>\n",
              "      <th>ndii_median</th>\n",
              "      <th>B04_median</th>\n",
              "      <th>B08_median</th>\n",
              "      <th>B11_median</th>\n",
              "      <th>raster</th>\n",
              "      <th>clouds_on_raster</th>\n",
              "      <th>area_m2</th>\n",
              "      <th>target</th>\n",
              "      <th>año</th>\n",
              "      <th>mes</th>\n",
              "      <th>estacion_Invierno</th>\n",
              "      <th>estacion_Otoño</th>\n",
              "      <th>estacion_Primavera</th>\n",
              "      <th>estacion_Verano</th>\n",
              "      <th>week</th>\n",
              "    </tr>\n",
              "  </thead>\n",
              "  <tbody>\n",
              "    <tr>\n",
              "      <th>0</th>\n",
              "      <td>0.440542</td>\n",
              "      <td>0.914034</td>\n",
              "      <td>0.845873</td>\n",
              "      <td>0.277973</td>\n",
              "      <td>-0.783929</td>\n",
              "      <td>0.395028</td>\n",
              "      <td>-0.837579</td>\n",
              "      <td>-0.921562</td>\n",
              "      <td>-0.956877</td>\n",
              "      <td>S2A_MSIL1C_20170103T142022_N0204_R010_T20JLL_2...</td>\n",
              "      <td>0.0</td>\n",
              "      <td>4650.710032</td>\n",
              "      <td>1</td>\n",
              "      <td>2017</td>\n",
              "      <td>1</td>\n",
              "      <td>0</td>\n",
              "      <td>0</td>\n",
              "      <td>0</td>\n",
              "      <td>1</td>\n",
              "      <td>1.0</td>\n",
              "    </tr>\n",
              "    <tr>\n",
              "      <th>1</th>\n",
              "      <td>0.339254</td>\n",
              "      <td>-0.415755</td>\n",
              "      <td>-0.413891</td>\n",
              "      <td>0.930872</td>\n",
              "      <td>0.441245</td>\n",
              "      <td>0.139189</td>\n",
              "      <td>-0.171974</td>\n",
              "      <td>0.717252</td>\n",
              "      <td>0.514361</td>\n",
              "      <td>S2A_MSIL1C_20170103T142022_N0204_R010_T20JLL_2...</td>\n",
              "      <td>0.0</td>\n",
              "      <td>1502.000513</td>\n",
              "      <td>1</td>\n",
              "      <td>2017</td>\n",
              "      <td>1</td>\n",
              "      <td>0</td>\n",
              "      <td>0</td>\n",
              "      <td>0</td>\n",
              "      <td>1</td>\n",
              "      <td>1.0</td>\n",
              "    </tr>\n",
              "    <tr>\n",
              "      <th>2</th>\n",
              "      <td>0.268823</td>\n",
              "      <td>-0.429821</td>\n",
              "      <td>-0.429458</td>\n",
              "      <td>0.054535</td>\n",
              "      <td>0.457200</td>\n",
              "      <td>0.301277</td>\n",
              "      <td>0.063694</td>\n",
              "      <td>0.923302</td>\n",
              "      <td>0.341795</td>\n",
              "      <td>S2A_MSIL1C_20170103T142022_N0204_R010_T20JLL_2...</td>\n",
              "      <td>0.0</td>\n",
              "      <td>2004.192528</td>\n",
              "      <td>1</td>\n",
              "      <td>2017</td>\n",
              "      <td>1</td>\n",
              "      <td>0</td>\n",
              "      <td>0</td>\n",
              "      <td>0</td>\n",
              "      <td>1</td>\n",
              "      <td>1.0</td>\n",
              "    </tr>\n",
              "    <tr>\n",
              "      <th>3</th>\n",
              "      <td>0.808639</td>\n",
              "      <td>-0.344802</td>\n",
              "      <td>-0.344223</td>\n",
              "      <td>0.257369</td>\n",
              "      <td>0.361958</td>\n",
              "      <td>0.735170</td>\n",
              "      <td>-0.015924</td>\n",
              "      <td>2.152411</td>\n",
              "      <td>0.792015</td>\n",
              "      <td>S2A_MSIL1C_20170103T142022_N0204_R010_T20JLL_2...</td>\n",
              "      <td>0.0</td>\n",
              "      <td>6940.507640</td>\n",
              "      <td>1</td>\n",
              "      <td>2017</td>\n",
              "      <td>1</td>\n",
              "      <td>0</td>\n",
              "      <td>0</td>\n",
              "      <td>0</td>\n",
              "      <td>1</td>\n",
              "      <td>1.0</td>\n",
              "    </tr>\n",
              "    <tr>\n",
              "      <th>4</th>\n",
              "      <td>0.135438</td>\n",
              "      <td>-0.676639</td>\n",
              "      <td>-0.688103</td>\n",
              "      <td>1.514164</td>\n",
              "      <td>0.750275</td>\n",
              "      <td>-0.043999</td>\n",
              "      <td>0.563694</td>\n",
              "      <td>1.781043</td>\n",
              "      <td>1.295334</td>\n",
              "      <td>S2A_MSIL1C_20170103T142022_N0204_R010_T20JLL_2...</td>\n",
              "      <td>0.0</td>\n",
              "      <td>4587.356048</td>\n",
              "      <td>1</td>\n",
              "      <td>2017</td>\n",
              "      <td>1</td>\n",
              "      <td>0</td>\n",
              "      <td>0</td>\n",
              "      <td>0</td>\n",
              "      <td>1</td>\n",
              "      <td>1.0</td>\n",
              "    </tr>\n",
              "  </tbody>\n",
              "</table>\n",
              "</div>\n",
              "      <button class=\"colab-df-convert\" onclick=\"convertToInteractive('df-81e4452c-a719-4f90-9cdf-63c678a85090')\"\n",
              "              title=\"Convert this dataframe to an interactive table.\"\n",
              "              style=\"display:none;\">\n",
              "        \n",
              "  <svg xmlns=\"http://www.w3.org/2000/svg\" height=\"24px\"viewBox=\"0 0 24 24\"\n",
              "       width=\"24px\">\n",
              "    <path d=\"M0 0h24v24H0V0z\" fill=\"none\"/>\n",
              "    <path d=\"M18.56 5.44l.94 2.06.94-2.06 2.06-.94-2.06-.94-.94-2.06-.94 2.06-2.06.94zm-11 1L8.5 8.5l.94-2.06 2.06-.94-2.06-.94L8.5 2.5l-.94 2.06-2.06.94zm10 10l.94 2.06.94-2.06 2.06-.94-2.06-.94-.94-2.06-.94 2.06-2.06.94z\"/><path d=\"M17.41 7.96l-1.37-1.37c-.4-.4-.92-.59-1.43-.59-.52 0-1.04.2-1.43.59L10.3 9.45l-7.72 7.72c-.78.78-.78 2.05 0 2.83L4 21.41c.39.39.9.59 1.41.59.51 0 1.02-.2 1.41-.59l7.78-7.78 2.81-2.81c.8-.78.8-2.07 0-2.86zM5.41 20L4 18.59l7.72-7.72 1.47 1.35L5.41 20z\"/>\n",
              "  </svg>\n",
              "      </button>\n",
              "      \n",
              "  <style>\n",
              "    .colab-df-container {\n",
              "      display:flex;\n",
              "      flex-wrap:wrap;\n",
              "      gap: 12px;\n",
              "    }\n",
              "\n",
              "    .colab-df-convert {\n",
              "      background-color: #E8F0FE;\n",
              "      border: none;\n",
              "      border-radius: 50%;\n",
              "      cursor: pointer;\n",
              "      display: none;\n",
              "      fill: #1967D2;\n",
              "      height: 32px;\n",
              "      padding: 0 0 0 0;\n",
              "      width: 32px;\n",
              "    }\n",
              "\n",
              "    .colab-df-convert:hover {\n",
              "      background-color: #E2EBFA;\n",
              "      box-shadow: 0px 1px 2px rgba(60, 64, 67, 0.3), 0px 1px 3px 1px rgba(60, 64, 67, 0.15);\n",
              "      fill: #174EA6;\n",
              "    }\n",
              "\n",
              "    [theme=dark] .colab-df-convert {\n",
              "      background-color: #3B4455;\n",
              "      fill: #D2E3FC;\n",
              "    }\n",
              "\n",
              "    [theme=dark] .colab-df-convert:hover {\n",
              "      background-color: #434B5C;\n",
              "      box-shadow: 0px 1px 3px 1px rgba(0, 0, 0, 0.15);\n",
              "      filter: drop-shadow(0px 1px 2px rgba(0, 0, 0, 0.3));\n",
              "      fill: #FFFFFF;\n",
              "    }\n",
              "  </style>\n",
              "\n",
              "      <script>\n",
              "        const buttonEl =\n",
              "          document.querySelector('#df-81e4452c-a719-4f90-9cdf-63c678a85090 button.colab-df-convert');\n",
              "        buttonEl.style.display =\n",
              "          google.colab.kernel.accessAllowed ? 'block' : 'none';\n",
              "\n",
              "        async function convertToInteractive(key) {\n",
              "          const element = document.querySelector('#df-81e4452c-a719-4f90-9cdf-63c678a85090');\n",
              "          const dataTable =\n",
              "            await google.colab.kernel.invokeFunction('convertToInteractive',\n",
              "                                                     [key], {});\n",
              "          if (!dataTable) return;\n",
              "\n",
              "          const docLinkHtml = 'Like what you see? Visit the ' +\n",
              "            '<a target=\"_blank\" href=https://colab.research.google.com/notebooks/data_table.ipynb>data table notebook</a>'\n",
              "            + ' to learn more about interactive tables.';\n",
              "          element.innerHTML = '';\n",
              "          dataTable['output_type'] = 'display_data';\n",
              "          await google.colab.output.renderOutput(dataTable, element);\n",
              "          const docLink = document.createElement('div');\n",
              "          docLink.innerHTML = docLinkHtml;\n",
              "          element.appendChild(docLink);\n",
              "        }\n",
              "      </script>\n",
              "    </div>\n",
              "  </div>\n",
              "  "
            ]
          },
          "metadata": {},
          "execution_count": 20
        }
      ],
      "source": [
        "df_D=prc_dates(df_D_xgb.copy())\n",
        "df_D.head()"
      ]
    },
    {
      "cell_type": "markdown",
      "metadata": {
        "id": "GgzhHN7iSoyW"
      },
      "source": [
        "## Split\n",
        "\n",
        "Para la separación de datos en los conjuntos train y test utilizaremos la siguiente función, en todas las recetas."
      ]
    },
    {
      "cell_type": "code",
      "execution_count": null,
      "metadata": {
        "id": "mdguyk1hSyF4"
      },
      "outputs": [],
      "source": [
        "from sklearn.model_selection import train_test_split\n",
        "#\n",
        "def pd_Xy_splitter(pd_in,x_list,y_list):\n",
        "    # dummy function to split pd\n",
        "    if y_list!=None:\n",
        "        X,y= pd_in.loc[:,x_list],pd_in.loc[:,y_list]\n",
        "    else:\n",
        "        X,y= pd_in.loc[:,x_list],None    \n",
        "    return X,y"
      ]
    },
    {
      "cell_type": "markdown",
      "metadata": {
        "id": "l1tw3cdRTNBa"
      },
      "source": [
        "## Métricas\n",
        "\n",
        "Utilizaremos la matriz de confusión y las métricas asociadas a ella para evaluar nuestro modelo. Para esto invocaremos para cada receta la siguiente función."
      ]
    },
    {
      "cell_type": "code",
      "execution_count": null,
      "metadata": {
        "id": "aRQiVwZLTMbo"
      },
      "outputs": [],
      "source": [
        "def plot_confusion_matrix(cm, classes,\n",
        "                          normalize=False,\n",
        "                          title='Confusion matrix',\n",
        "                          cmap=plt.cm.Blues,color_bar=False):\n",
        "    \"\"\"\n",
        "    This function prints and plots the confusion matrix.\n",
        "    Normalization can be applied by setting `normalize=True`.\n",
        "    \"\"\"\n",
        "    if normalize:\n",
        "        cm = cm.astype('float') / cm.sum(axis=1)[:, np.newaxis]\n",
        "\n",
        "    plt.imshow(cm, interpolation='nearest', cmap=cmap)\n",
        "    plt.title(title)\n",
        "    if color_bar:\n",
        "        plt.colorbar()\n",
        "    tick_marks = np.arange(len(classes))\n",
        "    plt.xticks(tick_marks, classes, rotation=45)\n",
        "    plt.yticks(tick_marks, classes)\n",
        "\n",
        "    fmt = '.2f' if normalize else 'd'\n",
        "    thresh = cm.max() / 2.\n",
        "    for i, j in itertools.product(range(cm.shape[0]), range(cm.shape[1])):\n",
        "        plt.text(j, i, format(cm[i, j], fmt),\n",
        "                 horizontalalignment=\"center\",\n",
        "                 color=\"white\" if cm[i, j] > thresh else \"black\")\n",
        "\n",
        "    plt.tight_layout()\n",
        "    plt.ylabel('Etiqueta correcta')\n",
        "    plt.xlabel('Etiqueta predicha')\n",
        "\n",
        "def print_plot_classification_report(model,X_case,Y_case,Case,plotFlag=False,classes_list=['NO_CASE','CASE']):\n",
        "    print(Case)\n",
        "    print(\"Reporte de clasificación  (sobre conjunto \" + Case+\"):\", end=\"\\n\\n\")\n",
        "    y_true, y_pred = Y_case, model.predict(X_case)\n",
        "    cr_pd=classification_report(y_true, y_pred,target_names=classes_list)\n",
        "    cr_dict=classification_report(y_true, y_pred,target_names=classes_list,output_dict=True)\n",
        "    print(cr_pd, end=\"\\n\\n\")\n",
        "    print(\"================================================\", end=\"\\n\\n\")\n",
        "    if plotFlag:\n",
        "        plot_confusion_matrix(confusion_matrix(y_true, y_pred),\n",
        "                      classes=classes_list, title= Case)\n",
        "        plt.show()\n",
        "    return cr_dict"
      ]
    },
    {
      "cell_type": "markdown",
      "metadata": {
        "id": "jY-_AV7k2NVr"
      },
      "source": [
        "##XGBoost receta A"
      ]
    },
    {
      "cell_type": "markdown",
      "metadata": {
        "id": "6CBll1lmCz3t"
      },
      "source": [
        "###Separación en datos de entrenamiento y prueba\n",
        "\n",
        "Con el objetivo de poder entrenar los modelos, hacer búsqueda de los mejores hiperparámetros y, finalmente, evaluar su capacidad predictiva, se reparten los datos en conjunto train y test"
      ]
    },
    {
      "cell_type": "markdown",
      "metadata": {
        "id": "ElVWo4MMEDOi"
      },
      "source": [
        "Miremos si la variable target está balanceada en cuanto a sus clases"
      ]
    },
    {
      "cell_type": "code",
      "execution_count": null,
      "metadata": {
        "colab": {
          "base_uri": "https://localhost:8080/",
          "height": 279
        },
        "id": "rqUJYrSsDuIQ",
        "outputId": "b18507cc-7858-4a9d-d916-6be8783b401b"
      },
      "outputs": [
        {
          "output_type": "display_data",
          "data": {
            "text/plain": [
              "<Figure size 432x288 with 1 Axes>"
            ],
            "image/png": "[encoded data removed]"
          },
          "metadata": {
            "needs_background": "light"
          }
        }
      ],
      "source": [
        "plt.figure(figsize=(6,4))\n",
        "sns.countplot(x='target', data= df_A, order = df_A['target'].value_counts().index)\n",
        "plt.show()"
      ]
    },
    {
      "cell_type": "code",
      "execution_count": null,
      "metadata": {
        "colab": {
          "base_uri": "https://localhost:8080/",
          "height": 452
        },
        "id": "VqNbvRJXEylp",
        "outputId": "31b0cece-71b2-42f2-eb6f-1ad23e6564f5"
      },
      "outputs": [
        {
          "output_type": "display_data",
          "data": {
            "text/plain": [
              "<Figure size 454x454 with 1 Axes>"
            ],
            "image/png": "[encoded data removed]"
          },
          "metadata": {}
        }
      ],
      "source": [
        "verde = df_A[df_A.target == 1].shape[0]\n",
        "no_verde = df_A[df_A.target == 0].shape[0]\n",
        "\n",
        "etiquetas = ['Verde', 'No verde']\n",
        "\n",
        "plt.figure(figsize=(2, 2), dpi=227)\n",
        "plt.pie([verde, no_verde],\n",
        "        labels=etiquetas,\n",
        "        textprops={'fontsize': 5},\n",
        "        startangle=90,\n",
        "        autopct='%1.0f%%')\n",
        "plt.title('Porcentaje de registros de espacios verdes y no verdes')\n",
        "plt.show()"
      ]
    },
    {
      "cell_type": "markdown",
      "metadata": {
        "id": "hM4QXGxXEikb"
      },
      "source": [
        "Como se observa el dataset para la receta A no está balanceado, por lo que incluiremos el parámetro 'stratify' en train_test_split."
      ]
    },
    {
      "cell_type": "code",
      "execution_count": null,
      "metadata": {
        "id": "9IzHQ6VYhFtN"
      },
      "outputs": [],
      "source": [
        "#para usar en la función pd_Xy_splitter\n",
        "ind_ban=[\"ndvi_median\", \"mNDVI_median\", \"gari_median\",\"tcariOsavi_median\", \"sipi_median\", \n",
        "                \"ndii_median\", \"B04_median\", \"B08_median\", \"B11_median\"]\n",
        "\n",
        "add= [\"mes\", \"area_m2\", \"week\"]\n",
        "\n",
        "x_case_A= ind_ban + add\n",
        "\n",
        "y_case_A=['target']"
      ]
    },
    {
      "cell_type": "code",
      "execution_count": null,
      "metadata": {
        "id": "kan1NyGchWMd"
      },
      "outputs": [],
      "source": [
        "XY_train_A,XY_test_A=train_test_split(df_A,test_size=0.3, stratify=df_A.target, random_state=1)\n",
        "#\n",
        "X_train_A,Y_train_A = pd_Xy_splitter(XY_train_A,x_case_A,y_case_A)\n",
        "X_test_A,Y_test_A = pd_Xy_splitter(XY_test_A,x_case_A,y_case_A)"
      ]
    },
    {
      "cell_type": "markdown",
      "metadata": {
        "id": "R--gjMsZU29G"
      },
      "source": [
        "### Generamos el modelo XGBoost para clasificación base"
      ]
    },
    {
      "cell_type": "code",
      "execution_count": null,
      "metadata": {
        "colab": {
          "base_uri": "https://localhost:8080/"
        },
        "id": "j0q3UiKStZZN",
        "outputId": "ffdac83a-27fd-4e4c-e49c-9d29059266fd"
      },
      "outputs": [
        {
          "output_type": "execute_result",
          "data": {
            "text/plain": [
              "XGBClassifier(random_state=10)"
            ]
          },
          "metadata": {},
          "execution_count": 26
        }
      ],
      "source": [
        "model_A= XGBClassifier(random_state=10)\n",
        "model_A"
      ]
    },
    {
      "cell_type": "markdown",
      "metadata": {
        "id": "-wrGY4tZiBQS"
      },
      "source": [
        "####Entrenamiento"
      ]
    },
    {
      "cell_type": "code",
      "execution_count": null,
      "metadata": {
        "colab": {
          "base_uri": "https://localhost:8080/"
        },
        "id": "LI18ufNDhAkK",
        "outputId": "52b6bd08-546c-439a-cf4c-7e1e4a4c6606"
      },
      "outputs": [
        {
          "output_type": "execute_result",
          "data": {
            "text/plain": [
              "XGBClassifier(random_state=10)"
            ]
          },
          "metadata": {},
          "execution_count": 27
        }
      ],
      "source": [
        "X_case_A=X_train_A; Y_case_A=Y_train_A ; Case= 'TRAIN';\n",
        "\n",
        "model=model_A\n",
        "# Fit\n",
        "model.fit(X_case_A,Y_case_A.values.ravel())"
      ]
    },
    {
      "cell_type": "markdown",
      "metadata": {
        "id": "U5ewr7feVkT6"
      },
      "source": [
        "##### Métricas de entrenamiento"
      ]
    },
    {
      "cell_type": "code",
      "execution_count": null,
      "metadata": {
        "colab": {
          "base_uri": "https://localhost:8080/",
          "height": 814
        },
        "id": "UI_CqJYjh30a",
        "outputId": "13868fc4-8d4f-473a-e6b1-c4781983739b"
      },
      "outputs": [
        {
          "output_type": "stream",
          "name": "stdout",
          "text": [
            "TRAIN\n",
            "Reporte de clasificación  (sobre conjunto TRAIN):\n",
            "\n",
            "              precision    recall  f1-score   support\n",
            "\n",
            "    NO_VERDE       1.00      1.00      1.00     36607\n",
            "       VERDE       1.00      1.00      1.00     82456\n",
            "\n",
            "    accuracy                           1.00    119063\n",
            "   macro avg       1.00      1.00      1.00    119063\n",
            "weighted avg       1.00      1.00      1.00    119063\n",
            "\n",
            "\n",
            "================================================\n",
            "\n"
          ]
        },
        {
          "output_type": "display_data",
          "data": {
            "text/plain": [
              "<Figure size 432x288 with 1 Axes>"
            ],
            "image/png": "[encoded data removed]"
          },
          "metadata": {
            "needs_background": "light"
          }
        },
        {
          "output_type": "execute_result",
          "data": {
            "text/plain": [
              "{'NO_VERDE': {'precision': 1.0,\n",
              "  'recall': 1.0,\n",
              "  'f1-score': 1.0,\n",
              "  'support': 36607},\n",
              " 'VERDE': {'precision': 1.0, 'recall': 1.0, 'f1-score': 1.0, 'support': 82456},\n",
              " 'accuracy': 1.0,\n",
              " 'macro avg': {'precision': 1.0,\n",
              "  'recall': 1.0,\n",
              "  'f1-score': 1.0,\n",
              "  'support': 119063},\n",
              " 'weighted avg': {'precision': 1.0,\n",
              "  'recall': 1.0,\n",
              "  'f1-score': 1.0,\n",
              "  'support': 119063}}"
            ]
          },
          "metadata": {},
          "execution_count": 28
        }
      ],
      "source": [
        "print_plot_classification_report(model,X_case_A,Y_case_A,Case,plotFlag=True,classes_list=['NO_VERDE','VERDE'])"
      ]
    },
    {
      "cell_type": "markdown",
      "metadata": {
        "id": "BA9jdO4ziNXr"
      },
      "source": [
        "####Test"
      ]
    },
    {
      "cell_type": "markdown",
      "metadata": {
        "id": "UiFm9z0nWToS"
      },
      "source": [
        "##### Métricas de test"
      ]
    },
    {
      "cell_type": "code",
      "execution_count": null,
      "metadata": {
        "colab": {
          "base_uri": "https://localhost:8080/",
          "height": 814
        },
        "id": "f3p4aFgQiMkq",
        "outputId": "8a60f17c-749c-42f3-f8cf-9f0cb0785ed1"
      },
      "outputs": [
        {
          "output_type": "stream",
          "name": "stdout",
          "text": [
            "TEST\n",
            "Reporte de clasificación  (sobre conjunto TEST):\n",
            "\n",
            "              precision    recall  f1-score   support\n",
            "\n",
            "    NO_VERDE       1.00      1.00      1.00     15688\n",
            "       VERDE       1.00      1.00      1.00     35339\n",
            "\n",
            "    accuracy                           1.00     51027\n",
            "   macro avg       1.00      1.00      1.00     51027\n",
            "weighted avg       1.00      1.00      1.00     51027\n",
            "\n",
            "\n",
            "================================================\n",
            "\n"
          ]
        },
        {
          "output_type": "display_data",
          "data": {
            "text/plain": [
              "<Figure size 432x288 with 1 Axes>"
            ],
            "image/png": "[encoded data removed]"
          },
          "metadata": {
            "needs_background": "light"
          }
        },
        {
          "output_type": "execute_result",
          "data": {
            "text/plain": [
              "{'NO_VERDE': {'precision': 1.0,\n",
              "  'recall': 1.0,\n",
              "  'f1-score': 1.0,\n",
              "  'support': 15688},\n",
              " 'VERDE': {'precision': 1.0, 'recall': 1.0, 'f1-score': 1.0, 'support': 35339},\n",
              " 'accuracy': 1.0,\n",
              " 'macro avg': {'precision': 1.0,\n",
              "  'recall': 1.0,\n",
              "  'f1-score': 1.0,\n",
              "  'support': 51027},\n",
              " 'weighted avg': {'precision': 1.0,\n",
              "  'recall': 1.0,\n",
              "  'f1-score': 1.0,\n",
              "  'support': 51027}}"
            ]
          },
          "metadata": {},
          "execution_count": 29
        }
      ],
      "source": [
        "X_case_test_A=X_test_A; Y_case_test_A=Y_test_A ; Case_test='TEST'\n",
        "\n",
        "print_plot_classification_report(model,X_case_test_A,Y_case_test_A,Case_test,plotFlag=True,classes_list=['NO_VERDE','VERDE'])"
      ]
    },
    {
      "cell_type": "markdown",
      "source": [
        "Importancia de features en el modelo base"
      ],
      "metadata": {
        "id": "8ZPL4Dk7xsEJ"
      }
    },
    {
      "cell_type": "code",
      "execution_count": null,
      "metadata": {
        "id": "q3ajqBa3oqre"
      },
      "outputs": [],
      "source": [
        "fi = pd.DataFrame(columns=[\"FEATURE\", \"IMPORTANCE\"])\n",
        "fi[\"FEATURE\"] = X_train_A.columns\n",
        "fi[\"IMPORTANCE\"] = model.feature_importances_\n",
        "fi = fi.sort_values(\"IMPORTANCE\", ascending=False)"
      ]
    },
    {
      "cell_type": "code",
      "execution_count": null,
      "metadata": {
        "colab": {
          "base_uri": "https://localhost:8080/",
          "height": 877
        },
        "id": "sOZxjlcAoyPC",
        "outputId": "a3fd6216-5cc7-4d29-ec7b-cad3f131aa62"
      },
      "outputs": [
        {
          "output_type": "display_data",
          "data": {
            "text/plain": [
              "<Figure size 360x1080 with 1 Axes>"
            ],
            "image/png": "[encoded data removed]"
          },
          "metadata": {
            "needs_background": "light"
          }
        }
      ],
      "source": [
        "plt.figure(figsize=(5, 15))\n",
        "sns.barplot(y=fi.FEATURE, x=fi.IMPORTANCE)\n",
        "plt.show()"
      ]
    },
    {
      "cell_type": "markdown",
      "metadata": {
        "id": "wl4hP6HSkWTM"
      },
      "source": [
        "El gráfico anterior nos muestra que la variable area_m2 tiene aproximadamente el 90% de importancia en el modelo, por lo que creemos que opaca el poder de clasificación del resto de las variables. Debido a esto decidimos quitarla del modelo de clasificación en la etapa de optimización."
      ]
    },
    {
      "cell_type": "markdown",
      "metadata": {
        "id": "57ydYGNhrY-0"
      },
      "source": [
        "#### Optimización de parámetros"
      ]
    },
    {
      "cell_type": "markdown",
      "metadata": {
        "id": "pnX_Tf43qOkr"
      },
      "source": [
        "Generamos un nuevo conjunto de entrenamiento y test sin tener en cuenta la variable area."
      ]
    },
    {
      "cell_type": "code",
      "execution_count": null,
      "metadata": {
        "id": "plPCrO07k3B-"
      },
      "outputs": [],
      "source": [
        "ind_ban=[\"ndvi_median\", \"mNDVI_median\", \"gari_median\",\"tcariOsavi_median\", \"sipi_median\", \n",
        "                \"ndii_median\", \"B04_median\", \"B08_median\", \"B11_median\"]\n",
        "\n",
        "add_no_area= [\"mes\", \"week\"]\n",
        "\n",
        "x_case_A_1= ind_ban + add_no_area\n",
        "\n",
        "y_case_A=['target']"
      ]
    },
    {
      "cell_type": "code",
      "execution_count": null,
      "metadata": {
        "id": "ABF1kfdRl4m-"
      },
      "outputs": [],
      "source": [
        "# XY_train_A,XY_test_A=train_test_split(df_A,test_size=0.3, stratify=df_A.target, random_state=1)\n",
        "# #\n",
        "X_train_A_1,Y_train_A_1 = pd_Xy_splitter(XY_train_A, x_case_A_1, y_case_A)\n",
        "X_test_A_1,Y_test_A_1 = pd_Xy_splitter(XY_test_A, x_case_A_1, y_case_A)"
      ]
    },
    {
      "cell_type": "code",
      "source": [
        "X_case_A=X_train_A_1; Y_case_A=Y_train_A_1 ; Case= 'TRAIN';\n",
        "\n",
        "model=model_A\n",
        "# Fit\n",
        "model.fit(X_case_A,Y_case_A.values.ravel())"
      ],
      "metadata": {
        "colab": {
          "base_uri": "https://localhost:8080/"
        },
        "id": "HsgQZH4xmE0R",
        "outputId": "80668881-2413-428a-de1f-9fbcace942a6"
      },
      "execution_count": null,
      "outputs": [
        {
          "output_type": "execute_result",
          "data": {
            "text/plain": [
              "XGBClassifier(random_state=10)"
            ]
          },
          "metadata": {},
          "execution_count": 32
        }
      ]
    },
    {
      "cell_type": "code",
      "source": [
        "print_plot_classification_report(model,X_case_A,Y_case_A,Case,plotFlag=True,classes_list=['NO_VERDE','VERDE'])"
      ],
      "metadata": {
        "colab": {
          "base_uri": "https://localhost:8080/",
          "height": 867
        },
        "id": "-5g_xgcmmadM",
        "outputId": "94d8a533-59a4-440d-9b1e-0568d218fe28"
      },
      "execution_count": null,
      "outputs": [
        {
          "output_type": "stream",
          "name": "stdout",
          "text": [
            "TRAIN\n",
            "Reporte de clasificación  (sobre conjunto TRAIN):\n",
            "\n",
            "              precision    recall  f1-score   support\n",
            "\n",
            "    NO_VERDE       0.87      0.59      0.70     36607\n",
            "       VERDE       0.84      0.96      0.90     82456\n",
            "\n",
            "    accuracy                           0.85    119063\n",
            "   macro avg       0.85      0.77      0.80    119063\n",
            "weighted avg       0.85      0.85      0.84    119063\n",
            "\n",
            "\n",
            "================================================\n",
            "\n"
          ]
        },
        {
          "output_type": "display_data",
          "data": {
            "text/plain": [
              "<Figure size 432x288 with 1 Axes>"
            ],
            "image/png": "[encoded data removed]"
          },
          "metadata": {
            "needs_background": "light"
          }
        },
        {
          "output_type": "execute_result",
          "data": {
            "text/plain": [
              "{'NO_VERDE': {'precision': 0.8681358673675698,\n",
              "  'recall': 0.5864725325757368,\n",
              "  'f1-score': 0.7000342370836526,\n",
              "  'support': 36607},\n",
              " 'VERDE': {'precision': 0.8395259347206174,\n",
              "  'recall': 0.9604516348112933,\n",
              "  'f1-score': 0.8959267827749464,\n",
              "  'support': 82456},\n",
              " 'accuracy': 0.8454683654871791,\n",
              " 'macro avg': {'precision': 0.8538309010440936,\n",
              "  'recall': 0.7734620836935151,\n",
              "  'f1-score': 0.7979805099292996,\n",
              "  'support': 119063},\n",
              " 'weighted avg': {'precision': 0.8483223181848925,\n",
              "  'recall': 0.8454683654871791,\n",
              "  'f1-score': 0.835697841625125,\n",
              "  'support': 119063}}"
            ]
          },
          "metadata": {},
          "execution_count": 33
        }
      ]
    },
    {
      "cell_type": "code",
      "source": [
        "X_case_test_A=X_test_A_1; Y_case_test_A=Y_test_A_1 ; Case_test='TEST'\n",
        "\n",
        "print_plot_classification_report(model,X_case_test_A,Y_case_test_A,Case_test,plotFlag=True,classes_list=['NO_VERDE','VERDE'])"
      ],
      "metadata": {
        "colab": {
          "base_uri": "https://localhost:8080/",
          "height": 867
        },
        "id": "zm5CKOc8mkrN",
        "outputId": "42596718-d83f-410f-be7e-f39be01d9cad"
      },
      "execution_count": null,
      "outputs": [
        {
          "output_type": "stream",
          "name": "stdout",
          "text": [
            "TEST\n",
            "Reporte de clasificación  (sobre conjunto TEST):\n",
            "\n",
            "              precision    recall  f1-score   support\n",
            "\n",
            "    NO_VERDE       0.86      0.59      0.70     15688\n",
            "       VERDE       0.84      0.96      0.89     35339\n",
            "\n",
            "    accuracy                           0.84     51027\n",
            "   macro avg       0.85      0.77      0.80     51027\n",
            "weighted avg       0.85      0.84      0.83     51027\n",
            "\n",
            "\n",
            "================================================\n",
            "\n"
          ]
        },
        {
          "output_type": "display_data",
          "data": {
            "text/plain": [
              "<Figure size 432x288 with 1 Axes>"
            ],
            "image/png": "[encoded data removed]"
          },
          "metadata": {
            "needs_background": "light"
          }
        },
        {
          "output_type": "execute_result",
          "data": {
            "text/plain": [
              "{'NO_VERDE': {'precision': 0.8605975723622783,\n",
              "  'recall': 0.5875191228964813,\n",
              "  'f1-score': 0.6983104780665201,\n",
              "  'support': 15688},\n",
              " 'VERDE': {'precision': 0.8394969863829154,\n",
              "  'recall': 0.9577520586321062,\n",
              "  'f1-score': 0.8947340594268796,\n",
              "  'support': 35339},\n",
              " 'accuracy': 0.843925764791189,\n",
              " 'macro avg': {'precision': 0.8500472793725968,\n",
              "  'recall': 0.7726355907642938,\n",
              "  'f1-score': 0.7965222687466998,\n",
              "  'support': 51027},\n",
              " 'weighted avg': {'precision': 0.8459842576872101,\n",
              "  'recall': 0.843925764791189,\n",
              "  'f1-score': 0.8343445961156655,\n",
              "  'support': 51027}}"
            ]
          },
          "metadata": {},
          "execution_count": 34
        }
      ]
    },
    {
      "cell_type": "markdown",
      "source": [
        "Importancia de features sin considerar \"area_m2\""
      ],
      "metadata": {
        "id": "E5tFdqsnm1Sd"
      }
    },
    {
      "cell_type": "code",
      "source": [
        "fi_1 = pd.DataFrame(columns=[\"FEATURE\", \"IMPORTANCE\"])\n",
        "fi_1[\"FEATURE\"] = X_train_A_1.columns\n",
        "fi_1[\"IMPORTANCE\"] = model.feature_importances_\n",
        "fi_1 = fi_1.sort_values(\"IMPORTANCE\", ascending=False)"
      ],
      "metadata": {
        "id": "hlj9hEfgm06b"
      },
      "execution_count": null,
      "outputs": []
    },
    {
      "cell_type": "code",
      "source": [
        "plt.figure(figsize=(5, 15))\n",
        "sns.barplot(y=fi_1.FEATURE, x=fi_1.IMPORTANCE)\n",
        "plt.show()"
      ],
      "metadata": {
        "colab": {
          "base_uri": "https://localhost:8080/",
          "height": 877
        },
        "id": "R-PdBzSFnB3L",
        "outputId": "37b5782f-3276-4eaf-ff82-144db23ab477"
      },
      "execution_count": null,
      "outputs": [
        {
          "output_type": "display_data",
          "data": {
            "text/plain": [
              "<Figure size 360x1080 with 1 Axes>"
            ],
            "image/png": "[encoded data removed]"
          },
          "metadata": {
            "needs_background": "light"
          }
        }
      ]
    },
    {
      "cell_type": "markdown",
      "metadata": {
        "id": "ZdGvdHltqcpW"
      },
      "source": [
        "Optimización por medio de RandomizedSearch"
      ]
    },
    {
      "cell_type": "code",
      "execution_count": null,
      "metadata": {
        "id": "phxm58rirXym"
      },
      "outputs": [],
      "source": [
        "parameters_A = {\n",
        "    'max_depth': range (2, 5, 1),\n",
        "    'n_estimators': range(50, 300, 50),\n",
        "    'learning_rate': [0.0001, 0.001, 0.01, 0.1, 1],\n",
        "    'objetive': ['binary:logistic','binary:hinge'],\n",
        "}"
      ]
    },
    {
      "cell_type": "code",
      "execution_count": null,
      "metadata": {
        "id": "0vnDg5C6rc9D"
      },
      "outputs": [],
      "source": [
        "rs_A = RandomizedSearchCV(\n",
        "    estimator=model_A,\n",
        "    param_distributions=parameters_A,\n",
        "    scoring = 'accuracy',\n",
        "    cv = 5,\n",
        "    verbose=False,\n",
        "    random_state = 10)\n",
        "\n"
      ]
    },
    {
      "cell_type": "code",
      "source": [
        "rs_A.fit(X_train_A_1, Y_train_A_1)"
      ],
      "metadata": {
        "colab": {
          "base_uri": "https://localhost:8080/"
        },
        "id": "BFx1qkPNqg7F",
        "outputId": "b992ea30-7d6d-45af-ef2a-25bf55b1a067"
      },
      "execution_count": null,
      "outputs": [
        {
          "output_type": "stream",
          "name": "stderr",
          "text": [
            "/usr/local/lib/python3.7/dist-packages/sklearn/preprocessing/_label.py:98: DataConversionWarning: A column-vector y was passed when a 1d array was expected. Please change the shape of y to (n_samples, ), for example using ravel().\n",
            "  y = column_or_1d(y, warn=True)\n",
            "/usr/local/lib/python3.7/dist-packages/sklearn/preprocessing/_label.py:133: DataConversionWarning: A column-vector y was passed when a 1d array was expected. Please change the shape of y to (n_samples, ), for example using ravel().\n",
            "  y = column_or_1d(y, warn=True)\n",
            "/usr/local/lib/python3.7/dist-packages/sklearn/preprocessing/_label.py:98: DataConversionWarning: A column-vector y was passed when a 1d array was expected. Please change the shape of y to (n_samples, ), for example using ravel().\n",
            "  y = column_or_1d(y, warn=True)\n",
            "/usr/local/lib/python3.7/dist-packages/sklearn/preprocessing/_label.py:133: DataConversionWarning: A column-vector y was passed when a 1d array was expected. Please change the shape of y to (n_samples, ), for example using ravel().\n",
            "  y = column_or_1d(y, warn=True)\n",
            "/usr/local/lib/python3.7/dist-packages/sklearn/preprocessing/_label.py:98: DataConversionWarning: A column-vector y was passed when a 1d array was expected. Please change the shape of y to (n_samples, ), for example using ravel().\n",
            "  y = column_or_1d(y, warn=True)\n",
            "/usr/local/lib/python3.7/dist-packages/sklearn/preprocessing/_label.py:133: DataConversionWarning: A column-vector y was passed when a 1d array was expected. Please change the shape of y to (n_samples, ), for example using ravel().\n",
            "  y = column_or_1d(y, warn=True)\n",
            "/usr/local/lib/python3.7/dist-packages/sklearn/preprocessing/_label.py:98: DataConversionWarning: A column-vector y was passed when a 1d array was expected. Please change the shape of y to (n_samples, ), for example using ravel().\n",
            "  y = column_or_1d(y, warn=True)\n",
            "/usr/local/lib/python3.7/dist-packages/sklearn/preprocessing/_label.py:133: DataConversionWarning: A column-vector y was passed when a 1d array was expected. Please change the shape of y to (n_samples, ), for example using ravel().\n",
            "  y = column_or_1d(y, warn=True)\n",
            "/usr/local/lib/python3.7/dist-packages/sklearn/preprocessing/_label.py:98: DataConversionWarning: A column-vector y was passed when a 1d array was expected. Please change the shape of y to (n_samples, ), for example using ravel().\n",
            "  y = column_or_1d(y, warn=True)\n",
            "/usr/local/lib/python3.7/dist-packages/sklearn/preprocessing/_label.py:133: DataConversionWarning: A column-vector y was passed when a 1d array was expected. Please change the shape of y to (n_samples, ), for example using ravel().\n",
            "  y = column_or_1d(y, warn=True)\n",
            "/usr/local/lib/python3.7/dist-packages/sklearn/preprocessing/_label.py:98: DataConversionWarning: A column-vector y was passed when a 1d array was expected. Please change the shape of y to (n_samples, ), for example using ravel().\n",
            "  y = column_or_1d(y, warn=True)\n",
            "/usr/local/lib/python3.7/dist-packages/sklearn/preprocessing/_label.py:133: DataConversionWarning: A column-vector y was passed when a 1d array was expected. Please change the shape of y to (n_samples, ), for example using ravel().\n",
            "  y = column_or_1d(y, warn=True)\n",
            "/usr/local/lib/python3.7/dist-packages/sklearn/preprocessing/_label.py:98: DataConversionWarning: A column-vector y was passed when a 1d array was expected. Please change the shape of y to (n_samples, ), for example using ravel().\n",
            "  y = column_or_1d(y, warn=True)\n",
            "/usr/local/lib/python3.7/dist-packages/sklearn/preprocessing/_label.py:133: DataConversionWarning: A column-vector y was passed when a 1d array was expected. Please change the shape of y to (n_samples, ), for example using ravel().\n",
            "  y = column_or_1d(y, warn=True)\n",
            "/usr/local/lib/python3.7/dist-packages/sklearn/preprocessing/_label.py:98: DataConversionWarning: A column-vector y was passed when a 1d array was expected. Please change the shape of y to (n_samples, ), for example using ravel().\n",
            "  y = column_or_1d(y, warn=True)\n",
            "/usr/local/lib/python3.7/dist-packages/sklearn/preprocessing/_label.py:133: DataConversionWarning: A column-vector y was passed when a 1d array was expected. Please change the shape of y to (n_samples, ), for example using ravel().\n",
            "  y = column_or_1d(y, warn=True)\n",
            "/usr/local/lib/python3.7/dist-packages/sklearn/preprocessing/_label.py:98: DataConversionWarning: A column-vector y was passed when a 1d array was expected. Please change the shape of y to (n_samples, ), for example using ravel().\n",
            "  y = column_or_1d(y, warn=True)\n",
            "/usr/local/lib/python3.7/dist-packages/sklearn/preprocessing/_label.py:133: DataConversionWarning: A column-vector y was passed when a 1d array was expected. Please change the shape of y to (n_samples, ), for example using ravel().\n",
            "  y = column_or_1d(y, warn=True)\n",
            "/usr/local/lib/python3.7/dist-packages/sklearn/preprocessing/_label.py:98: DataConversionWarning: A column-vector y was passed when a 1d array was expected. Please change the shape of y to (n_samples, ), for example using ravel().\n",
            "  y = column_or_1d(y, warn=True)\n",
            "/usr/local/lib/python3.7/dist-packages/sklearn/preprocessing/_label.py:133: DataConversionWarning: A column-vector y was passed when a 1d array was expected. Please change the shape of y to (n_samples, ), for example using ravel().\n",
            "  y = column_or_1d(y, warn=True)\n",
            "/usr/local/lib/python3.7/dist-packages/sklearn/preprocessing/_label.py:98: DataConversionWarning: A column-vector y was passed when a 1d array was expected. Please change the shape of y to (n_samples, ), for example using ravel().\n",
            "  y = column_or_1d(y, warn=True)\n",
            "/usr/local/lib/python3.7/dist-packages/sklearn/preprocessing/_label.py:133: DataConversionWarning: A column-vector y was passed when a 1d array was expected. Please change the shape of y to (n_samples, ), for example using ravel().\n",
            "  y = column_or_1d(y, warn=True)\n",
            "/usr/local/lib/python3.7/dist-packages/sklearn/preprocessing/_label.py:98: DataConversionWarning: A column-vector y was passed when a 1d array was expected. Please change the shape of y to (n_samples, ), for example using ravel().\n",
            "  y = column_or_1d(y, warn=True)\n",
            "/usr/local/lib/python3.7/dist-packages/sklearn/preprocessing/_label.py:133: DataConversionWarning: A column-vector y was passed when a 1d array was expected. Please change the shape of y to (n_samples, ), for example using ravel().\n",
            "  y = column_or_1d(y, warn=True)\n",
            "/usr/local/lib/python3.7/dist-packages/sklearn/preprocessing/_label.py:98: DataConversionWarning: A column-vector y was passed when a 1d array was expected. Please change the shape of y to (n_samples, ), for example using ravel().\n",
            "  y = column_or_1d(y, warn=True)\n",
            "/usr/local/lib/python3.7/dist-packages/sklearn/preprocessing/_label.py:133: DataConversionWarning: A column-vector y was passed when a 1d array was expected. Please change the shape of y to (n_samples, ), for example using ravel().\n",
            "  y = column_or_1d(y, warn=True)\n",
            "/usr/local/lib/python3.7/dist-packages/sklearn/preprocessing/_label.py:98: DataConversionWarning: A column-vector y was passed when a 1d array was expected. Please change the shape of y to (n_samples, ), for example using ravel().\n",
            "  y = column_or_1d(y, warn=True)\n",
            "/usr/local/lib/python3.7/dist-packages/sklearn/preprocessing/_label.py:133: DataConversionWarning: A column-vector y was passed when a 1d array was expected. Please change the shape of y to (n_samples, ), for example using ravel().\n",
            "  y = column_or_1d(y, warn=True)\n",
            "/usr/local/lib/python3.7/dist-packages/sklearn/preprocessing/_label.py:98: DataConversionWarning: A column-vector y was passed when a 1d array was expected. Please change the shape of y to (n_samples, ), for example using ravel().\n",
            "  y = column_or_1d(y, warn=True)\n",
            "/usr/local/lib/python3.7/dist-packages/sklearn/preprocessing/_label.py:133: DataConversionWarning: A column-vector y was passed when a 1d array was expected. Please change the shape of y to (n_samples, ), for example using ravel().\n",
            "  y = column_or_1d(y, warn=True)\n",
            "/usr/local/lib/python3.7/dist-packages/sklearn/preprocessing/_label.py:98: DataConversionWarning: A column-vector y was passed when a 1d array was expected. Please change the shape of y to (n_samples, ), for example using ravel().\n",
            "  y = column_or_1d(y, warn=True)\n",
            "/usr/local/lib/python3.7/dist-packages/sklearn/preprocessing/_label.py:133: DataConversionWarning: A column-vector y was passed when a 1d array was expected. Please change the shape of y to (n_samples, ), for example using ravel().\n",
            "  y = column_or_1d(y, warn=True)\n",
            "/usr/local/lib/python3.7/dist-packages/sklearn/preprocessing/_label.py:98: DataConversionWarning: A column-vector y was passed when a 1d array was expected. Please change the shape of y to (n_samples, ), for example using ravel().\n",
            "  y = column_or_1d(y, warn=True)\n",
            "/usr/local/lib/python3.7/dist-packages/sklearn/preprocessing/_label.py:133: DataConversionWarning: A column-vector y was passed when a 1d array was expected. Please change the shape of y to (n_samples, ), for example using ravel().\n",
            "  y = column_or_1d(y, warn=True)\n",
            "/usr/local/lib/python3.7/dist-packages/sklearn/preprocessing/_label.py:98: DataConversionWarning: A column-vector y was passed when a 1d array was expected. Please change the shape of y to (n_samples, ), for example using ravel().\n",
            "  y = column_or_1d(y, warn=True)\n",
            "/usr/local/lib/python3.7/dist-packages/sklearn/preprocessing/_label.py:133: DataConversionWarning: A column-vector y was passed when a 1d array was expected. Please change the shape of y to (n_samples, ), for example using ravel().\n",
            "  y = column_or_1d(y, warn=True)\n",
            "/usr/local/lib/python3.7/dist-packages/sklearn/preprocessing/_label.py:98: DataConversionWarning: A column-vector y was passed when a 1d array was expected. Please change the shape of y to (n_samples, ), for example using ravel().\n",
            "  y = column_or_1d(y, warn=True)\n",
            "/usr/local/lib/python3.7/dist-packages/sklearn/preprocessing/_label.py:133: DataConversionWarning: A column-vector y was passed when a 1d array was expected. Please change the shape of y to (n_samples, ), for example using ravel().\n",
            "  y = column_or_1d(y, warn=True)\n",
            "/usr/local/lib/python3.7/dist-packages/sklearn/preprocessing/_label.py:98: DataConversionWarning: A column-vector y was passed when a 1d array was expected. Please change the shape of y to (n_samples, ), for example using ravel().\n",
            "  y = column_or_1d(y, warn=True)\n",
            "/usr/local/lib/python3.7/dist-packages/sklearn/preprocessing/_label.py:133: DataConversionWarning: A column-vector y was passed when a 1d array was expected. Please change the shape of y to (n_samples, ), for example using ravel().\n",
            "  y = column_or_1d(y, warn=True)\n",
            "/usr/local/lib/python3.7/dist-packages/sklearn/preprocessing/_label.py:98: DataConversionWarning: A column-vector y was passed when a 1d array was expected. Please change the shape of y to (n_samples, ), for example using ravel().\n",
            "  y = column_or_1d(y, warn=True)\n",
            "/usr/local/lib/python3.7/dist-packages/sklearn/preprocessing/_label.py:133: DataConversionWarning: A column-vector y was passed when a 1d array was expected. Please change the shape of y to (n_samples, ), for example using ravel().\n",
            "  y = column_or_1d(y, warn=True)\n",
            "/usr/local/lib/python3.7/dist-packages/sklearn/preprocessing/_label.py:98: DataConversionWarning: A column-vector y was passed when a 1d array was expected. Please change the shape of y to (n_samples, ), for example using ravel().\n",
            "  y = column_or_1d(y, warn=True)\n",
            "/usr/local/lib/python3.7/dist-packages/sklearn/preprocessing/_label.py:133: DataConversionWarning: A column-vector y was passed when a 1d array was expected. Please change the shape of y to (n_samples, ), for example using ravel().\n",
            "  y = column_or_1d(y, warn=True)\n",
            "/usr/local/lib/python3.7/dist-packages/sklearn/preprocessing/_label.py:98: DataConversionWarning: A column-vector y was passed when a 1d array was expected. Please change the shape of y to (n_samples, ), for example using ravel().\n",
            "  y = column_or_1d(y, warn=True)\n",
            "/usr/local/lib/python3.7/dist-packages/sklearn/preprocessing/_label.py:133: DataConversionWarning: A column-vector y was passed when a 1d array was expected. Please change the shape of y to (n_samples, ), for example using ravel().\n",
            "  y = column_or_1d(y, warn=True)\n",
            "/usr/local/lib/python3.7/dist-packages/sklearn/preprocessing/_label.py:98: DataConversionWarning: A column-vector y was passed when a 1d array was expected. Please change the shape of y to (n_samples, ), for example using ravel().\n",
            "  y = column_or_1d(y, warn=True)\n",
            "/usr/local/lib/python3.7/dist-packages/sklearn/preprocessing/_label.py:133: DataConversionWarning: A column-vector y was passed when a 1d array was expected. Please change the shape of y to (n_samples, ), for example using ravel().\n",
            "  y = column_or_1d(y, warn=True)\n",
            "/usr/local/lib/python3.7/dist-packages/sklearn/preprocessing/_label.py:98: DataConversionWarning: A column-vector y was passed when a 1d array was expected. Please change the shape of y to (n_samples, ), for example using ravel().\n",
            "  y = column_or_1d(y, warn=True)\n",
            "/usr/local/lib/python3.7/dist-packages/sklearn/preprocessing/_label.py:133: DataConversionWarning: A column-vector y was passed when a 1d array was expected. Please change the shape of y to (n_samples, ), for example using ravel().\n",
            "  y = column_or_1d(y, warn=True)\n",
            "/usr/local/lib/python3.7/dist-packages/sklearn/preprocessing/_label.py:98: DataConversionWarning: A column-vector y was passed when a 1d array was expected. Please change the shape of y to (n_samples, ), for example using ravel().\n",
            "  y = column_or_1d(y, warn=True)\n",
            "/usr/local/lib/python3.7/dist-packages/sklearn/preprocessing/_label.py:133: DataConversionWarning: A column-vector y was passed when a 1d array was expected. Please change the shape of y to (n_samples, ), for example using ravel().\n",
            "  y = column_or_1d(y, warn=True)\n",
            "/usr/local/lib/python3.7/dist-packages/sklearn/preprocessing/_label.py:98: DataConversionWarning: A column-vector y was passed when a 1d array was expected. Please change the shape of y to (n_samples, ), for example using ravel().\n",
            "  y = column_or_1d(y, warn=True)\n",
            "/usr/local/lib/python3.7/dist-packages/sklearn/preprocessing/_label.py:133: DataConversionWarning: A column-vector y was passed when a 1d array was expected. Please change the shape of y to (n_samples, ), for example using ravel().\n",
            "  y = column_or_1d(y, warn=True)\n",
            "/usr/local/lib/python3.7/dist-packages/sklearn/preprocessing/_label.py:98: DataConversionWarning: A column-vector y was passed when a 1d array was expected. Please change the shape of y to (n_samples, ), for example using ravel().\n",
            "  y = column_or_1d(y, warn=True)\n",
            "/usr/local/lib/python3.7/dist-packages/sklearn/preprocessing/_label.py:133: DataConversionWarning: A column-vector y was passed when a 1d array was expected. Please change the shape of y to (n_samples, ), for example using ravel().\n",
            "  y = column_or_1d(y, warn=True)\n",
            "/usr/local/lib/python3.7/dist-packages/sklearn/preprocessing/_label.py:98: DataConversionWarning: A column-vector y was passed when a 1d array was expected. Please change the shape of y to (n_samples, ), for example using ravel().\n",
            "  y = column_or_1d(y, warn=True)\n",
            "/usr/local/lib/python3.7/dist-packages/sklearn/preprocessing/_label.py:133: DataConversionWarning: A column-vector y was passed when a 1d array was expected. Please change the shape of y to (n_samples, ), for example using ravel().\n",
            "  y = column_or_1d(y, warn=True)\n",
            "/usr/local/lib/python3.7/dist-packages/sklearn/preprocessing/_label.py:98: DataConversionWarning: A column-vector y was passed when a 1d array was expected. Please change the shape of y to (n_samples, ), for example using ravel().\n",
            "  y = column_or_1d(y, warn=True)\n",
            "/usr/local/lib/python3.7/dist-packages/sklearn/preprocessing/_label.py:133: DataConversionWarning: A column-vector y was passed when a 1d array was expected. Please change the shape of y to (n_samples, ), for example using ravel().\n",
            "  y = column_or_1d(y, warn=True)\n",
            "/usr/local/lib/python3.7/dist-packages/sklearn/preprocessing/_label.py:98: DataConversionWarning: A column-vector y was passed when a 1d array was expected. Please change the shape of y to (n_samples, ), for example using ravel().\n",
            "  y = column_or_1d(y, warn=True)\n",
            "/usr/local/lib/python3.7/dist-packages/sklearn/preprocessing/_label.py:133: DataConversionWarning: A column-vector y was passed when a 1d array was expected. Please change the shape of y to (n_samples, ), for example using ravel().\n",
            "  y = column_or_1d(y, warn=True)\n",
            "/usr/local/lib/python3.7/dist-packages/sklearn/preprocessing/_label.py:98: DataConversionWarning: A column-vector y was passed when a 1d array was expected. Please change the shape of y to (n_samples, ), for example using ravel().\n",
            "  y = column_or_1d(y, warn=True)\n",
            "/usr/local/lib/python3.7/dist-packages/sklearn/preprocessing/_label.py:133: DataConversionWarning: A column-vector y was passed when a 1d array was expected. Please change the shape of y to (n_samples, ), for example using ravel().\n",
            "  y = column_or_1d(y, warn=True)\n",
            "/usr/local/lib/python3.7/dist-packages/sklearn/preprocessing/_label.py:98: DataConversionWarning: A column-vector y was passed when a 1d array was expected. Please change the shape of y to (n_samples, ), for example using ravel().\n",
            "  y = column_or_1d(y, warn=True)\n",
            "/usr/local/lib/python3.7/dist-packages/sklearn/preprocessing/_label.py:133: DataConversionWarning: A column-vector y was passed when a 1d array was expected. Please change the shape of y to (n_samples, ), for example using ravel().\n",
            "  y = column_or_1d(y, warn=True)\n",
            "/usr/local/lib/python3.7/dist-packages/sklearn/preprocessing/_label.py:98: DataConversionWarning: A column-vector y was passed when a 1d array was expected. Please change the shape of y to (n_samples, ), for example using ravel().\n",
            "  y = column_or_1d(y, warn=True)\n",
            "/usr/local/lib/python3.7/dist-packages/sklearn/preprocessing/_label.py:133: DataConversionWarning: A column-vector y was passed when a 1d array was expected. Please change the shape of y to (n_samples, ), for example using ravel().\n",
            "  y = column_or_1d(y, warn=True)\n",
            "/usr/local/lib/python3.7/dist-packages/sklearn/preprocessing/_label.py:98: DataConversionWarning: A column-vector y was passed when a 1d array was expected. Please change the shape of y to (n_samples, ), for example using ravel().\n",
            "  y = column_or_1d(y, warn=True)\n",
            "/usr/local/lib/python3.7/dist-packages/sklearn/preprocessing/_label.py:133: DataConversionWarning: A column-vector y was passed when a 1d array was expected. Please change the shape of y to (n_samples, ), for example using ravel().\n",
            "  y = column_or_1d(y, warn=True)\n",
            "/usr/local/lib/python3.7/dist-packages/sklearn/preprocessing/_label.py:98: DataConversionWarning: A column-vector y was passed when a 1d array was expected. Please change the shape of y to (n_samples, ), for example using ravel().\n",
            "  y = column_or_1d(y, warn=True)\n",
            "/usr/local/lib/python3.7/dist-packages/sklearn/preprocessing/_label.py:133: DataConversionWarning: A column-vector y was passed when a 1d array was expected. Please change the shape of y to (n_samples, ), for example using ravel().\n",
            "  y = column_or_1d(y, warn=True)\n",
            "/usr/local/lib/python3.7/dist-packages/sklearn/preprocessing/_label.py:98: DataConversionWarning: A column-vector y was passed when a 1d array was expected. Please change the shape of y to (n_samples, ), for example using ravel().\n",
            "  y = column_or_1d(y, warn=True)\n",
            "/usr/local/lib/python3.7/dist-packages/sklearn/preprocessing/_label.py:133: DataConversionWarning: A column-vector y was passed when a 1d array was expected. Please change the shape of y to (n_samples, ), for example using ravel().\n",
            "  y = column_or_1d(y, warn=True)\n",
            "/usr/local/lib/python3.7/dist-packages/sklearn/preprocessing/_label.py:98: DataConversionWarning: A column-vector y was passed when a 1d array was expected. Please change the shape of y to (n_samples, ), for example using ravel().\n",
            "  y = column_or_1d(y, warn=True)\n",
            "/usr/local/lib/python3.7/dist-packages/sklearn/preprocessing/_label.py:133: DataConversionWarning: A column-vector y was passed when a 1d array was expected. Please change the shape of y to (n_samples, ), for example using ravel().\n",
            "  y = column_or_1d(y, warn=True)\n",
            "/usr/local/lib/python3.7/dist-packages/sklearn/preprocessing/_label.py:98: DataConversionWarning: A column-vector y was passed when a 1d array was expected. Please change the shape of y to (n_samples, ), for example using ravel().\n",
            "  y = column_or_1d(y, warn=True)\n",
            "/usr/local/lib/python3.7/dist-packages/sklearn/preprocessing/_label.py:133: DataConversionWarning: A column-vector y was passed when a 1d array was expected. Please change the shape of y to (n_samples, ), for example using ravel().\n",
            "  y = column_or_1d(y, warn=True)\n",
            "/usr/local/lib/python3.7/dist-packages/sklearn/preprocessing/_label.py:98: DataConversionWarning: A column-vector y was passed when a 1d array was expected. Please change the shape of y to (n_samples, ), for example using ravel().\n",
            "  y = column_or_1d(y, warn=True)\n",
            "/usr/local/lib/python3.7/dist-packages/sklearn/preprocessing/_label.py:133: DataConversionWarning: A column-vector y was passed when a 1d array was expected. Please change the shape of y to (n_samples, ), for example using ravel().\n",
            "  y = column_or_1d(y, warn=True)\n",
            "/usr/local/lib/python3.7/dist-packages/sklearn/preprocessing/_label.py:98: DataConversionWarning: A column-vector y was passed when a 1d array was expected. Please change the shape of y to (n_samples, ), for example using ravel().\n",
            "  y = column_or_1d(y, warn=True)\n",
            "/usr/local/lib/python3.7/dist-packages/sklearn/preprocessing/_label.py:133: DataConversionWarning: A column-vector y was passed when a 1d array was expected. Please change the shape of y to (n_samples, ), for example using ravel().\n",
            "  y = column_or_1d(y, warn=True)\n",
            "/usr/local/lib/python3.7/dist-packages/sklearn/preprocessing/_label.py:98: DataConversionWarning: A column-vector y was passed when a 1d array was expected. Please change the shape of y to (n_samples, ), for example using ravel().\n",
            "  y = column_or_1d(y, warn=True)\n",
            "/usr/local/lib/python3.7/dist-packages/sklearn/preprocessing/_label.py:133: DataConversionWarning: A column-vector y was passed when a 1d array was expected. Please change the shape of y to (n_samples, ), for example using ravel().\n",
            "  y = column_or_1d(y, warn=True)\n",
            "/usr/local/lib/python3.7/dist-packages/sklearn/preprocessing/_label.py:98: DataConversionWarning: A column-vector y was passed when a 1d array was expected. Please change the shape of y to (n_samples, ), for example using ravel().\n",
            "  y = column_or_1d(y, warn=True)\n",
            "/usr/local/lib/python3.7/dist-packages/sklearn/preprocessing/_label.py:133: DataConversionWarning: A column-vector y was passed when a 1d array was expected. Please change the shape of y to (n_samples, ), for example using ravel().\n",
            "  y = column_or_1d(y, warn=True)\n",
            "/usr/local/lib/python3.7/dist-packages/sklearn/preprocessing/_label.py:98: DataConversionWarning: A column-vector y was passed when a 1d array was expected. Please change the shape of y to (n_samples, ), for example using ravel().\n",
            "  y = column_or_1d(y, warn=True)\n",
            "/usr/local/lib/python3.7/dist-packages/sklearn/preprocessing/_label.py:133: DataConversionWarning: A column-vector y was passed when a 1d array was expected. Please change the shape of y to (n_samples, ), for example using ravel().\n",
            "  y = column_or_1d(y, warn=True)\n",
            "/usr/local/lib/python3.7/dist-packages/sklearn/preprocessing/_label.py:98: DataConversionWarning: A column-vector y was passed when a 1d array was expected. Please change the shape of y to (n_samples, ), for example using ravel().\n",
            "  y = column_or_1d(y, warn=True)\n",
            "/usr/local/lib/python3.7/dist-packages/sklearn/preprocessing/_label.py:133: DataConversionWarning: A column-vector y was passed when a 1d array was expected. Please change the shape of y to (n_samples, ), for example using ravel().\n",
            "  y = column_or_1d(y, warn=True)\n",
            "/usr/local/lib/python3.7/dist-packages/sklearn/preprocessing/_label.py:98: DataConversionWarning: A column-vector y was passed when a 1d array was expected. Please change the shape of y to (n_samples, ), for example using ravel().\n",
            "  y = column_or_1d(y, warn=True)\n",
            "/usr/local/lib/python3.7/dist-packages/sklearn/preprocessing/_label.py:133: DataConversionWarning: A column-vector y was passed when a 1d array was expected. Please change the shape of y to (n_samples, ), for example using ravel().\n",
            "  y = column_or_1d(y, warn=True)\n",
            "/usr/local/lib/python3.7/dist-packages/sklearn/preprocessing/_label.py:98: DataConversionWarning: A column-vector y was passed when a 1d array was expected. Please change the shape of y to (n_samples, ), for example using ravel().\n",
            "  y = column_or_1d(y, warn=True)\n",
            "/usr/local/lib/python3.7/dist-packages/sklearn/preprocessing/_label.py:133: DataConversionWarning: A column-vector y was passed when a 1d array was expected. Please change the shape of y to (n_samples, ), for example using ravel().\n",
            "  y = column_or_1d(y, warn=True)\n",
            "/usr/local/lib/python3.7/dist-packages/sklearn/preprocessing/_label.py:98: DataConversionWarning: A column-vector y was passed when a 1d array was expected. Please change the shape of y to (n_samples, ), for example using ravel().\n",
            "  y = column_or_1d(y, warn=True)\n",
            "/usr/local/lib/python3.7/dist-packages/sklearn/preprocessing/_label.py:133: DataConversionWarning: A column-vector y was passed when a 1d array was expected. Please change the shape of y to (n_samples, ), for example using ravel().\n",
            "  y = column_or_1d(y, warn=True)\n",
            "/usr/local/lib/python3.7/dist-packages/sklearn/preprocessing/_label.py:98: DataConversionWarning: A column-vector y was passed when a 1d array was expected. Please change the shape of y to (n_samples, ), for example using ravel().\n",
            "  y = column_or_1d(y, warn=True)\n",
            "/usr/local/lib/python3.7/dist-packages/sklearn/preprocessing/_label.py:133: DataConversionWarning: A column-vector y was passed when a 1d array was expected. Please change the shape of y to (n_samples, ), for example using ravel().\n",
            "  y = column_or_1d(y, warn=True)\n",
            "/usr/local/lib/python3.7/dist-packages/sklearn/preprocessing/_label.py:98: DataConversionWarning: A column-vector y was passed when a 1d array was expected. Please change the shape of y to (n_samples, ), for example using ravel().\n",
            "  y = column_or_1d(y, warn=True)\n",
            "/usr/local/lib/python3.7/dist-packages/sklearn/preprocessing/_label.py:133: DataConversionWarning: A column-vector y was passed when a 1d array was expected. Please change the shape of y to (n_samples, ), for example using ravel().\n",
            "  y = column_or_1d(y, warn=True)\n",
            "/usr/local/lib/python3.7/dist-packages/sklearn/preprocessing/_label.py:98: DataConversionWarning: A column-vector y was passed when a 1d array was expected. Please change the shape of y to (n_samples, ), for example using ravel().\n",
            "  y = column_or_1d(y, warn=True)\n",
            "/usr/local/lib/python3.7/dist-packages/sklearn/preprocessing/_label.py:133: DataConversionWarning: A column-vector y was passed when a 1d array was expected. Please change the shape of y to (n_samples, ), for example using ravel().\n",
            "  y = column_or_1d(y, warn=True)\n"
          ]
        },
        {
          "output_type": "execute_result",
          "data": {
            "text/plain": [
              "RandomizedSearchCV(cv=5, estimator=XGBClassifier(random_state=10),\n",
              "                   param_distributions={'learning_rate': [0.0001, 0.001, 0.01,\n",
              "                                                          0.1, 1],\n",
              "                                        'max_depth': range(2, 5),\n",
              "                                        'n_estimators': range(50, 300, 50),\n",
              "                                        'objetive': ['binary:logistic',\n",
              "                                                     'binary:hinge']},\n",
              "                   random_state=10, scoring='accuracy', verbose=False)"
            ]
          },
          "metadata": {},
          "execution_count": 89
        }
      ]
    },
    {
      "cell_type": "markdown",
      "metadata": {
        "id": "yaQScugLYyHs"
      },
      "source": [
        "Resultados de la optimización de hiperparámetros"
      ]
    },
    {
      "cell_type": "code",
      "execution_count": null,
      "metadata": {
        "colab": {
          "base_uri": "https://localhost:8080/",
          "height": 597
        },
        "id": "tOJbtwkrYyCK",
        "outputId": "56d79107-edda-43db-cf04-968b96944a1a"
      },
      "outputs": [
        {
          "output_type": "execute_result",
          "data": {
            "text/plain": [
              "   mean_fit_time  std_fit_time  mean_score_time  std_score_time  \\\n",
              "1       5.635948      0.047260         0.056642        0.000983   \n",
              "0      23.509213      0.564058         0.175545        0.004083   \n",
              "3       3.067171      0.040375         0.035240        0.001200   \n",
              "9      17.254437      0.565974         0.110168        0.003004   \n",
              "6       8.644711      0.118854         0.069762        0.003045   \n",
              "7      12.081656      0.366705         0.110112        0.011837   \n",
              "\n",
              "    param_objetive param_n_estimators param_max_depth param_learning_rate  \\\n",
              "1     binary:hinge                 50               4                 0.1   \n",
              "0     binary:hinge                200               4                0.01   \n",
              "3     binary:hinge                 50               2                 0.1   \n",
              "9     binary:hinge                150               4               0.001   \n",
              "6  binary:logistic                100               3                0.01   \n",
              "7     binary:hinge                200               2                0.01   \n",
              "\n",
              "                                              params  split0_test_score  \\\n",
              "1  {'objetive': 'binary:hinge', 'n_estimators': 5...           0.842607   \n",
              "0  {'objetive': 'binary:hinge', 'n_estimators': 2...           0.830303   \n",
              "3  {'objetive': 'binary:hinge', 'n_estimators': 5...           0.818922   \n",
              "9  {'objetive': 'binary:hinge', 'n_estimators': 1...           0.813547   \n",
              "6  {'objetive': 'binary:logistic', 'n_estimators'...           0.809138   \n",
              "7  {'objetive': 'binary:hinge', 'n_estimators': 2...           0.802041   \n",
              "\n",
              "   split1_test_score  split2_test_score  split3_test_score  split4_test_score  \\\n",
              "1           0.841725           0.844497           0.844196           0.839787   \n",
              "0           0.829001           0.833242           0.832605           0.827314   \n",
              "3           0.817075           0.822198           0.819671           0.815807   \n",
              "9           0.815563           0.817705           0.812909           0.808458   \n",
              "6           0.804980           0.812707           0.809046           0.804804   \n",
              "7           0.801621           0.808970           0.803502           0.799135   \n",
              "\n",
              "   mean_test_score  std_test_score  rank_test_score  \n",
              "1         0.842562        0.001722                1  \n",
              "0         0.830493        0.002209                2  \n",
              "3         0.818735        0.002201                3  \n",
              "9         0.813636        0.003086                4  \n",
              "6         0.808135        0.002959                5  \n",
              "7         0.803054        0.003275                6  "
            ],
            "text/html": [
              "\n",
              "  <div id=\"df-c3324ac3-41ed-4276-81b1-f2bde75b7f8f\">\n",
              "    <div class=\"colab-df-container\">\n",
              "      <div>\n",
              "<style scoped>\n",
              "    .dataframe tbody tr th:only-of-type {\n",
              "        vertical-align: middle;\n",
              "    }\n",
              "\n",
              "    .dataframe tbody tr th {\n",
              "        vertical-align: top;\n",
              "    }\n",
              "\n",
              "    .dataframe thead th {\n",
              "        text-align: right;\n",
              "    }\n",
              "</style>\n",
              "<table border=\"1\" class=\"dataframe\">\n",
              "  <thead>\n",
              "    <tr style=\"text-align: right;\">\n",
              "      <th></th>\n",
              "      <th>mean_fit_time</th>\n",
              "      <th>std_fit_time</th>\n",
              "      <th>mean_score_time</th>\n",
              "      <th>std_score_time</th>\n",
              "      <th>param_objetive</th>\n",
              "      <th>param_n_estimators</th>\n",
              "      <th>param_max_depth</th>\n",
              "      <th>param_learning_rate</th>\n",
              "      <th>params</th>\n",
              "      <th>split0_test_score</th>\n",
              "      <th>split1_test_score</th>\n",
              "      <th>split2_test_score</th>\n",
              "      <th>split3_test_score</th>\n",
              "      <th>split4_test_score</th>\n",
              "      <th>mean_test_score</th>\n",
              "      <th>std_test_score</th>\n",
              "      <th>rank_test_score</th>\n",
              "    </tr>\n",
              "  </thead>\n",
              "  <tbody>\n",
              "    <tr>\n",
              "      <th>1</th>\n",
              "      <td>5.635948</td>\n",
              "      <td>0.047260</td>\n",
              "      <td>0.056642</td>\n",
              "      <td>0.000983</td>\n",
              "      <td>binary:hinge</td>\n",
              "      <td>50</td>\n",
              "      <td>4</td>\n",
              "      <td>0.1</td>\n",
              "      <td>{'objetive': 'binary:hinge', 'n_estimators': 5...</td>\n",
              "      <td>0.842607</td>\n",
              "      <td>0.841725</td>\n",
              "      <td>0.844497</td>\n",
              "      <td>0.844196</td>\n",
              "      <td>0.839787</td>\n",
              "      <td>0.842562</td>\n",
              "      <td>0.001722</td>\n",
              "      <td>1</td>\n",
              "    </tr>\n",
              "    <tr>\n",
              "      <th>0</th>\n",
              "      <td>23.509213</td>\n",
              "      <td>0.564058</td>\n",
              "      <td>0.175545</td>\n",
              "      <td>0.004083</td>\n",
              "      <td>binary:hinge</td>\n",
              "      <td>200</td>\n",
              "      <td>4</td>\n",
              "      <td>0.01</td>\n",
              "      <td>{'objetive': 'binary:hinge', 'n_estimators': 2...</td>\n",
              "      <td>0.830303</td>\n",
              "      <td>0.829001</td>\n",
              "      <td>0.833242</td>\n",
              "      <td>0.832605</td>\n",
              "      <td>0.827314</td>\n",
              "      <td>0.830493</td>\n",
              "      <td>0.002209</td>\n",
              "      <td>2</td>\n",
              "    </tr>\n",
              "    <tr>\n",
              "      <th>3</th>\n",
              "      <td>3.067171</td>\n",
              "      <td>0.040375</td>\n",
              "      <td>0.035240</td>\n",
              "      <td>0.001200</td>\n",
              "      <td>binary:hinge</td>\n",
              "      <td>50</td>\n",
              "      <td>2</td>\n",
              "      <td>0.1</td>\n",
              "      <td>{'objetive': 'binary:hinge', 'n_estimators': 5...</td>\n",
              "      <td>0.818922</td>\n",
              "      <td>0.817075</td>\n",
              "      <td>0.822198</td>\n",
              "      <td>0.819671</td>\n",
              "      <td>0.815807</td>\n",
              "      <td>0.818735</td>\n",
              "      <td>0.002201</td>\n",
              "      <td>3</td>\n",
              "    </tr>\n",
              "    <tr>\n",
              "      <th>9</th>\n",
              "      <td>17.254437</td>\n",
              "      <td>0.565974</td>\n",
              "      <td>0.110168</td>\n",
              "      <td>0.003004</td>\n",
              "      <td>binary:hinge</td>\n",
              "      <td>150</td>\n",
              "      <td>4</td>\n",
              "      <td>0.001</td>\n",
              "      <td>{'objetive': 'binary:hinge', 'n_estimators': 1...</td>\n",
              "      <td>0.813547</td>\n",
              "      <td>0.815563</td>\n",
              "      <td>0.817705</td>\n",
              "      <td>0.812909</td>\n",
              "      <td>0.808458</td>\n",
              "      <td>0.813636</td>\n",
              "      <td>0.003086</td>\n",
              "      <td>4</td>\n",
              "    </tr>\n",
              "    <tr>\n",
              "      <th>6</th>\n",
              "      <td>8.644711</td>\n",
              "      <td>0.118854</td>\n",
              "      <td>0.069762</td>\n",
              "      <td>0.003045</td>\n",
              "      <td>binary:logistic</td>\n",
              "      <td>100</td>\n",
              "      <td>3</td>\n",
              "      <td>0.01</td>\n",
              "      <td>{'objetive': 'binary:logistic', 'n_estimators'...</td>\n",
              "      <td>0.809138</td>\n",
              "      <td>0.804980</td>\n",
              "      <td>0.812707</td>\n",
              "      <td>0.809046</td>\n",
              "      <td>0.804804</td>\n",
              "      <td>0.808135</td>\n",
              "      <td>0.002959</td>\n",
              "      <td>5</td>\n",
              "    </tr>\n",
              "    <tr>\n",
              "      <th>7</th>\n",
              "      <td>12.081656</td>\n",
              "      <td>0.366705</td>\n",
              "      <td>0.110112</td>\n",
              "      <td>0.011837</td>\n",
              "      <td>binary:hinge</td>\n",
              "      <td>200</td>\n",
              "      <td>2</td>\n",
              "      <td>0.01</td>\n",
              "      <td>{'objetive': 'binary:hinge', 'n_estimators': 2...</td>\n",
              "      <td>0.802041</td>\n",
              "      <td>0.801621</td>\n",
              "      <td>0.808970</td>\n",
              "      <td>0.803502</td>\n",
              "      <td>0.799135</td>\n",
              "      <td>0.803054</td>\n",
              "      <td>0.003275</td>\n",
              "      <td>6</td>\n",
              "    </tr>\n",
              "  </tbody>\n",
              "</table>\n",
              "</div>\n",
              "      <button class=\"colab-df-convert\" onclick=\"convertToInteractive('df-c3324ac3-41ed-4276-81b1-f2bde75b7f8f')\"\n",
              "              title=\"Convert this dataframe to an interactive table.\"\n",
              "              style=\"display:none;\">\n",
              "        \n",
              "  <svg xmlns=\"http://www.w3.org/2000/svg\" height=\"24px\"viewBox=\"0 0 24 24\"\n",
              "       width=\"24px\">\n",
              "    <path d=\"M0 0h24v24H0V0z\" fill=\"none\"/>\n",
              "    <path d=\"M18.56 5.44l.94 2.06.94-2.06 2.06-.94-2.06-.94-.94-2.06-.94 2.06-2.06.94zm-11 1L8.5 8.5l.94-2.06 2.06-.94-2.06-.94L8.5 2.5l-.94 2.06-2.06.94zm10 10l.94 2.06.94-2.06 2.06-.94-2.06-.94-.94-2.06-.94 2.06-2.06.94z\"/><path d=\"M17.41 7.96l-1.37-1.37c-.4-.4-.92-.59-1.43-.59-.52 0-1.04.2-1.43.59L10.3 9.45l-7.72 7.72c-.78.78-.78 2.05 0 2.83L4 21.41c.39.39.9.59 1.41.59.51 0 1.02-.2 1.41-.59l7.78-7.78 2.81-2.81c.8-.78.8-2.07 0-2.86zM5.41 20L4 18.59l7.72-7.72 1.47 1.35L5.41 20z\"/>\n",
              "  </svg>\n",
              "      </button>\n",
              "      \n",
              "  <style>\n",
              "    .colab-df-container {\n",
              "      display:flex;\n",
              "      flex-wrap:wrap;\n",
              "      gap: 12px;\n",
              "    }\n",
              "\n",
              "    .colab-df-convert {\n",
              "      background-color: #E8F0FE;\n",
              "      border: none;\n",
              "      border-radius: 50%;\n",
              "      cursor: pointer;\n",
              "      display: none;\n",
              "      fill: #1967D2;\n",
              "      height: 32px;\n",
              "      padding: 0 0 0 0;\n",
              "      width: 32px;\n",
              "    }\n",
              "\n",
              "    .colab-df-convert:hover {\n",
              "      background-color: #E2EBFA;\n",
              "      box-shadow: 0px 1px 2px rgba(60, 64, 67, 0.3), 0px 1px 3px 1px rgba(60, 64, 67, 0.15);\n",
              "      fill: #174EA6;\n",
              "    }\n",
              "\n",
              "    [theme=dark] .colab-df-convert {\n",
              "      background-color: #3B4455;\n",
              "      fill: #D2E3FC;\n",
              "    }\n",
              "\n",
              "    [theme=dark] .colab-df-convert:hover {\n",
              "      background-color: #434B5C;\n",
              "      box-shadow: 0px 1px 3px 1px rgba(0, 0, 0, 0.15);\n",
              "      filter: drop-shadow(0px 1px 2px rgba(0, 0, 0, 0.3));\n",
              "      fill: #FFFFFF;\n",
              "    }\n",
              "  </style>\n",
              "\n",
              "      <script>\n",
              "        const buttonEl =\n",
              "          document.querySelector('#df-c3324ac3-41ed-4276-81b1-f2bde75b7f8f button.colab-df-convert');\n",
              "        buttonEl.style.display =\n",
              "          google.colab.kernel.accessAllowed ? 'block' : 'none';\n",
              "\n",
              "        async function convertToInteractive(key) {\n",
              "          const element = document.querySelector('#df-c3324ac3-41ed-4276-81b1-f2bde75b7f8f');\n",
              "          const dataTable =\n",
              "            await google.colab.kernel.invokeFunction('convertToInteractive',\n",
              "                                                     [key], {});\n",
              "          if (!dataTable) return;\n",
              "\n",
              "          const docLinkHtml = 'Like what you see? Visit the ' +\n",
              "            '<a target=\"_blank\" href=https://colab.research.google.com/notebooks/data_table.ipynb>data table notebook</a>'\n",
              "            + ' to learn more about interactive tables.';\n",
              "          element.innerHTML = '';\n",
              "          dataTable['output_type'] = 'display_data';\n",
              "          await google.colab.output.renderOutput(dataTable, element);\n",
              "          const docLink = document.createElement('div');\n",
              "          docLink.innerHTML = docLinkHtml;\n",
              "          element.appendChild(docLink);\n",
              "        }\n",
              "      </script>\n",
              "    </div>\n",
              "  </div>\n",
              "  "
            ]
          },
          "metadata": {},
          "execution_count": 90
        }
      ],
      "source": [
        "results_A = rs_A.cv_results_\n",
        "\n",
        "data_xgb_A=pd.DataFrame(results_A)\n",
        "data_xgb_A.sort_values('rank_test_score')[:6]"
      ]
    },
    {
      "cell_type": "code",
      "execution_count": null,
      "metadata": {
        "colab": {
          "base_uri": "https://localhost:8080/",
          "height": 206
        },
        "id": "Z2kTV_WQcnt6",
        "outputId": "58dc9a94-0aeb-4156-aabd-71f8ecd8eac0"
      },
      "outputs": [
        {
          "output_type": "execute_result",
          "data": {
            "text/plain": [
              "  param_learning_rate   param_objetive param_max_depth param_n_estimators  \\\n",
              "1                 0.1     binary:hinge               4                 50   \n",
              "0                0.01     binary:hinge               4                200   \n",
              "3                 0.1     binary:hinge               2                 50   \n",
              "9               0.001     binary:hinge               4                150   \n",
              "6                0.01  binary:logistic               3                100   \n",
              "\n",
              "   mean_test_score  std_test_score  rank_test_score  \n",
              "1         0.842562        0.001722                1  \n",
              "0         0.830493        0.002209                2  \n",
              "3         0.818735        0.002201                3  \n",
              "9         0.813636        0.003086                4  \n",
              "6         0.808135        0.002959                5  "
            ],
            "text/html": [
              "\n",
              "  <div id=\"df-c13a1449-604c-4de6-8d64-b9d19a9d6afd\">\n",
              "    <div class=\"colab-df-container\">\n",
              "      <div>\n",
              "<style scoped>\n",
              "    .dataframe tbody tr th:only-of-type {\n",
              "        vertical-align: middle;\n",
              "    }\n",
              "\n",
              "    .dataframe tbody tr th {\n",
              "        vertical-align: top;\n",
              "    }\n",
              "\n",
              "    .dataframe thead th {\n",
              "        text-align: right;\n",
              "    }\n",
              "</style>\n",
              "<table border=\"1\" class=\"dataframe\">\n",
              "  <thead>\n",
              "    <tr style=\"text-align: right;\">\n",
              "      <th></th>\n",
              "      <th>param_learning_rate</th>\n",
              "      <th>param_objetive</th>\n",
              "      <th>param_max_depth</th>\n",
              "      <th>param_n_estimators</th>\n",
              "      <th>mean_test_score</th>\n",
              "      <th>std_test_score</th>\n",
              "      <th>rank_test_score</th>\n",
              "    </tr>\n",
              "  </thead>\n",
              "  <tbody>\n",
              "    <tr>\n",
              "      <th>1</th>\n",
              "      <td>0.1</td>\n",
              "      <td>binary:hinge</td>\n",
              "      <td>4</td>\n",
              "      <td>50</td>\n",
              "      <td>0.842562</td>\n",
              "      <td>0.001722</td>\n",
              "      <td>1</td>\n",
              "    </tr>\n",
              "    <tr>\n",
              "      <th>0</th>\n",
              "      <td>0.01</td>\n",
              "      <td>binary:hinge</td>\n",
              "      <td>4</td>\n",
              "      <td>200</td>\n",
              "      <td>0.830493</td>\n",
              "      <td>0.002209</td>\n",
              "      <td>2</td>\n",
              "    </tr>\n",
              "    <tr>\n",
              "      <th>3</th>\n",
              "      <td>0.1</td>\n",
              "      <td>binary:hinge</td>\n",
              "      <td>2</td>\n",
              "      <td>50</td>\n",
              "      <td>0.818735</td>\n",
              "      <td>0.002201</td>\n",
              "      <td>3</td>\n",
              "    </tr>\n",
              "    <tr>\n",
              "      <th>9</th>\n",
              "      <td>0.001</td>\n",
              "      <td>binary:hinge</td>\n",
              "      <td>4</td>\n",
              "      <td>150</td>\n",
              "      <td>0.813636</td>\n",
              "      <td>0.003086</td>\n",
              "      <td>4</td>\n",
              "    </tr>\n",
              "    <tr>\n",
              "      <th>6</th>\n",
              "      <td>0.01</td>\n",
              "      <td>binary:logistic</td>\n",
              "      <td>3</td>\n",
              "      <td>100</td>\n",
              "      <td>0.808135</td>\n",
              "      <td>0.002959</td>\n",
              "      <td>5</td>\n",
              "    </tr>\n",
              "  </tbody>\n",
              "</table>\n",
              "</div>\n",
              "      <button class=\"colab-df-convert\" onclick=\"convertToInteractive('df-c13a1449-604c-4de6-8d64-b9d19a9d6afd')\"\n",
              "              title=\"Convert this dataframe to an interactive table.\"\n",
              "              style=\"display:none;\">\n",
              "        \n",
              "  <svg xmlns=\"http://www.w3.org/2000/svg\" height=\"24px\"viewBox=\"0 0 24 24\"\n",
              "       width=\"24px\">\n",
              "    <path d=\"M0 0h24v24H0V0z\" fill=\"none\"/>\n",
              "    <path d=\"M18.56 5.44l.94 2.06.94-2.06 2.06-.94-2.06-.94-.94-2.06-.94 2.06-2.06.94zm-11 1L8.5 8.5l.94-2.06 2.06-.94-2.06-.94L8.5 2.5l-.94 2.06-2.06.94zm10 10l.94 2.06.94-2.06 2.06-.94-2.06-.94-.94-2.06-.94 2.06-2.06.94z\"/><path d=\"M17.41 7.96l-1.37-1.37c-.4-.4-.92-.59-1.43-.59-.52 0-1.04.2-1.43.59L10.3 9.45l-7.72 7.72c-.78.78-.78 2.05 0 2.83L4 21.41c.39.39.9.59 1.41.59.51 0 1.02-.2 1.41-.59l7.78-7.78 2.81-2.81c.8-.78.8-2.07 0-2.86zM5.41 20L4 18.59l7.72-7.72 1.47 1.35L5.41 20z\"/>\n",
              "  </svg>\n",
              "      </button>\n",
              "      \n",
              "  <style>\n",
              "    .colab-df-container {\n",
              "      display:flex;\n",
              "      flex-wrap:wrap;\n",
              "      gap: 12px;\n",
              "    }\n",
              "\n",
              "    .colab-df-convert {\n",
              "      background-color: #E8F0FE;\n",
              "      border: none;\n",
              "      border-radius: 50%;\n",
              "      cursor: pointer;\n",
              "      display: none;\n",
              "      fill: #1967D2;\n",
              "      height: 32px;\n",
              "      padding: 0 0 0 0;\n",
              "      width: 32px;\n",
              "    }\n",
              "\n",
              "    .colab-df-convert:hover {\n",
              "      background-color: #E2EBFA;\n",
              "      box-shadow: 0px 1px 2px rgba(60, 64, 67, 0.3), 0px 1px 3px 1px rgba(60, 64, 67, 0.15);\n",
              "      fill: #174EA6;\n",
              "    }\n",
              "\n",
              "    [theme=dark] .colab-df-convert {\n",
              "      background-color: #3B4455;\n",
              "      fill: #D2E3FC;\n",
              "    }\n",
              "\n",
              "    [theme=dark] .colab-df-convert:hover {\n",
              "      background-color: #434B5C;\n",
              "      box-shadow: 0px 1px 3px 1px rgba(0, 0, 0, 0.15);\n",
              "      filter: drop-shadow(0px 1px 2px rgba(0, 0, 0, 0.3));\n",
              "      fill: #FFFFFF;\n",
              "    }\n",
              "  </style>\n",
              "\n",
              "      <script>\n",
              "        const buttonEl =\n",
              "          document.querySelector('#df-c13a1449-604c-4de6-8d64-b9d19a9d6afd button.colab-df-convert');\n",
              "        buttonEl.style.display =\n",
              "          google.colab.kernel.accessAllowed ? 'block' : 'none';\n",
              "\n",
              "        async function convertToInteractive(key) {\n",
              "          const element = document.querySelector('#df-c13a1449-604c-4de6-8d64-b9d19a9d6afd');\n",
              "          const dataTable =\n",
              "            await google.colab.kernel.invokeFunction('convertToInteractive',\n",
              "                                                     [key], {});\n",
              "          if (!dataTable) return;\n",
              "\n",
              "          const docLinkHtml = 'Like what you see? Visit the ' +\n",
              "            '<a target=\"_blank\" href=https://colab.research.google.com/notebooks/data_table.ipynb>data table notebook</a>'\n",
              "            + ' to learn more about interactive tables.';\n",
              "          element.innerHTML = '';\n",
              "          dataTable['output_type'] = 'display_data';\n",
              "          await google.colab.output.renderOutput(dataTable, element);\n",
              "          const docLink = document.createElement('div');\n",
              "          docLink.innerHTML = docLinkHtml;\n",
              "          element.appendChild(docLink);\n",
              "        }\n",
              "      </script>\n",
              "    </div>\n",
              "  </div>\n",
              "  "
            ]
          },
          "metadata": {},
          "execution_count": 91
        }
      ],
      "source": [
        "data_xgb_A[['param_learning_rate','param_objetive','param_max_depth','param_n_estimators','mean_test_score','std_test_score','rank_test_score']].sort_values(by='rank_test_score', ascending=True).head(5)"
      ]
    },
    {
      "cell_type": "markdown",
      "metadata": {
        "id": "EXhTjiOxqk4j"
      },
      "source": [
        "Extraemos el mejor modelo obtenido de la optimización"
      ]
    },
    {
      "cell_type": "code",
      "execution_count": null,
      "metadata": {
        "colab": {
          "base_uri": "https://localhost:8080/"
        },
        "id": "aOJN8QkXdOkO",
        "outputId": "39480f99-c91a-47e9-fb80-fbf4cb635751"
      },
      "outputs": [
        {
          "output_type": "execute_result",
          "data": {
            "text/plain": [
              "XGBClassifier(max_depth=4, n_estimators=50, objetive='binary:hinge',\n",
              "              random_state=10)"
            ]
          },
          "metadata": {},
          "execution_count": 92
        }
      ],
      "source": [
        "best_xgb_A=rs_A.best_estimator_\n",
        "best_xgb_A\n"
      ]
    },
    {
      "cell_type": "markdown",
      "metadata": {
        "id": "basYWVlPqv0Z"
      },
      "source": [
        "Exploramos la importancia de las variables para el mejor modelo. Vemos que las variables temporales ocupan un lugar importante en la clasificación."
      ]
    },
    {
      "cell_type": "code",
      "execution_count": null,
      "metadata": {
        "id": "HcEbHncPpZrS"
      },
      "outputs": [],
      "source": [
        "fi_best_A = pd.DataFrame(columns=[\"FEATURE\", \"IMPORTANCE\"])\n",
        "fi_best_A[\"FEATURE\"] = X_train_A_1.columns\n",
        "fi_best_A[\"IMPORTANCE\"] = best_xgb_A.feature_importances_\n",
        "fi_best_A = fi_best_A.sort_values(\"IMPORTANCE\", ascending=False)"
      ]
    },
    {
      "cell_type": "code",
      "execution_count": null,
      "metadata": {
        "colab": {
          "base_uri": "https://localhost:8080/",
          "height": 877
        },
        "id": "wjAMi8cnpeR1",
        "outputId": "70d04d95-5a16-4adb-d74f-c1f1daeb1f42"
      },
      "outputs": [
        {
          "output_type": "display_data",
          "data": {
            "text/plain": [
              "<Figure size 360x1080 with 1 Axes>"
            ],
            "image/png": "[encoded data removed]"
          },
          "metadata": {
            "needs_background": "light"
          }
        }
      ],
      "source": [
        "plt.figure(figsize=(5, 15))\n",
        "sns.barplot(y=fi_best_A.FEATURE, x=fi_best_A.IMPORTANCE)\n",
        "plt.show()"
      ]
    },
    {
      "cell_type": "markdown",
      "metadata": {
        "id": "L15nDAlArAl_"
      },
      "source": [
        "Metricas de train y test para el mejor modelo."
      ]
    },
    {
      "cell_type": "markdown",
      "metadata": {
        "id": "KDrLh_1UrIuC"
      },
      "source": [
        "Train"
      ]
    },
    {
      "cell_type": "code",
      "execution_count": null,
      "metadata": {
        "colab": {
          "base_uri": "https://localhost:8080/",
          "height": 867
        },
        "id": "acIZEg6BfSrR",
        "outputId": "2b94c507-de24-48e4-8072-0ed1e78f8dc9"
      },
      "outputs": [
        {
          "output_type": "stream",
          "name": "stdout",
          "text": [
            "TRAIN\n",
            "Reporte de clasificación  (sobre conjunto TRAIN):\n",
            "\n",
            "              precision    recall  f1-score   support\n",
            "\n",
            "    NO_VERDE       0.87      0.59      0.70     36607\n",
            "       VERDE       0.84      0.96      0.90     82456\n",
            "\n",
            "    accuracy                           0.85    119063\n",
            "   macro avg       0.85      0.77      0.80    119063\n",
            "weighted avg       0.85      0.85      0.84    119063\n",
            "\n",
            "\n",
            "================================================\n",
            "\n"
          ]
        },
        {
          "output_type": "display_data",
          "data": {
            "text/plain": [
              "<Figure size 432x288 with 1 Axes>"
            ],
            "image/png": "[encoded data removed]"
          },
          "metadata": {
            "needs_background": "light"
          }
        },
        {
          "output_type": "execute_result",
          "data": {
            "text/plain": [
              "{'NO_VERDE': {'precision': 0.8680679062247373,\n",
              "  'recall': 0.5866637528341574,\n",
              "  'f1-score': 0.7001483365119728,\n",
              "  'support': 36607},\n",
              " 'VERDE': {'precision': 0.8395831345483075,\n",
              "  'recall': 0.9604152517706414,\n",
              "  'f1-score': 0.8959435227034886,\n",
              "  'support': 82456},\n",
              " 'accuracy': 0.8455019611466199,\n",
              " 'macro avg': {'precision': 0.8538255203865224,\n",
              "  'recall': 0.7735395023023994,\n",
              "  'f1-score': 0.7980459296077307,\n",
              "  'support': 119063},\n",
              " 'weighted avg': {'precision': 0.8483410361361984,\n",
              "  'recall': 0.8455019611466199,\n",
              "  'f1-score': 0.8357445156155366,\n",
              "  'support': 119063}}"
            ]
          },
          "metadata": {},
          "execution_count": 98
        }
      ],
      "source": [
        "print_plot_classification_report(best_xgb_A,X_case_A,Y_case_A,Case,plotFlag=True,classes_list=['NO_VERDE','VERDE'])"
      ]
    },
    {
      "cell_type": "markdown",
      "metadata": {
        "id": "Ul8UswQsrK3q"
      },
      "source": [
        "Test"
      ]
    },
    {
      "cell_type": "code",
      "execution_count": null,
      "metadata": {
        "colab": {
          "base_uri": "https://localhost:8080/",
          "height": 867
        },
        "id": "pTf48ONzfmll",
        "outputId": "1bb6162c-ac94-4359-be64-450f979525de"
      },
      "outputs": [
        {
          "output_type": "stream",
          "name": "stdout",
          "text": [
            "TEST\n",
            "Reporte de clasificación  (sobre conjunto TEST):\n",
            "\n",
            "              precision    recall  f1-score   support\n",
            "\n",
            "    NO_VERDE       0.86      0.59      0.70     15688\n",
            "       VERDE       0.84      0.96      0.89     35339\n",
            "\n",
            "    accuracy                           0.84     51027\n",
            "   macro avg       0.85      0.77      0.80     51027\n",
            "weighted avg       0.85      0.84      0.83     51027\n",
            "\n",
            "\n",
            "================================================\n",
            "\n"
          ]
        },
        {
          "output_type": "display_data",
          "data": {
            "text/plain": [
              "<Figure size 432x288 with 1 Axes>"
            ],
            "image/png": "[encoded data removed]"
          },
          "metadata": {
            "needs_background": "light"
          }
        },
        {
          "output_type": "execute_result",
          "data": {
            "text/plain": [
              "{'NO_VERDE': {'precision': 0.8615485564304461,\n",
              "  'recall': 0.5858618052014278,\n",
              "  'f1-score': 0.6974502959477917,\n",
              "  'support': 15688},\n",
              " 'VERDE': {'precision': 0.8390197973190614,\n",
              "  'recall': 0.9582048162087212,\n",
              "  'f1-score': 0.8946603609078179,\n",
              "  'support': 35339},\n",
              " 'accuracy': 0.8437297901111176,\n",
              " 'macro avg': {'precision': 0.8502841768747538,\n",
              "  'recall': 0.7720333107050745,\n",
              "  'f1-score': 0.7960553284278048,\n",
              "  'support': 51027},\n",
              " 'weighted avg': {'precision': 0.845946153423465,\n",
              "  'recall': 0.8437297901111176,\n",
              "  'f1-score': 0.8340290970848833,\n",
              "  'support': 51027}}"
            ]
          },
          "metadata": {},
          "execution_count": 99
        }
      ],
      "source": [
        "print_plot_classification_report(best_xgb_A, X_case_test_A, Y_case_test_A,Case_test,plotFlag=True,classes_list=['NO_VERDE','VERDE'])"
      ]
    },
    {
      "cell_type": "markdown",
      "metadata": {
        "id": "TYj23JQJgxA1"
      },
      "source": [
        "## XGBoost receta B"
      ]
    },
    {
      "cell_type": "markdown",
      "metadata": {
        "id": "uftaXNVxsQhA"
      },
      "source": [
        "####Split y modelo"
      ]
    },
    {
      "cell_type": "code",
      "execution_count": null,
      "metadata": {
        "colab": {
          "base_uri": "https://localhost:8080/",
          "height": 279
        },
        "id": "LFxXNcrLYWDZ",
        "outputId": "2823f41b-40a3-4e01-e049-c5be19ebba53"
      },
      "outputs": [
        {
          "output_type": "display_data",
          "data": {
            "text/plain": [
              "<Figure size 432x288 with 1 Axes>"
            ],
            "image/png": "[encoded data removed]"
          },
          "metadata": {
            "needs_background": "light"
          }
        }
      ],
      "source": [
        "plt.figure(figsize=(6,4))\n",
        "sns.countplot(x='target', data= df_B, order = df_B['target'].value_counts().index)\n",
        "plt.show()"
      ]
    },
    {
      "cell_type": "code",
      "execution_count": null,
      "metadata": {
        "id": "7SRmLl1jvaYr"
      },
      "outputs": [],
      "source": [
        "#para usar en la función pd_Xy_splitter\n",
        "ind_ban=[\"ndvi_median\", \"mNDVI_median\", \"gari_median\",\"tcariOsavi_median\", \"sipi_median\", \n",
        "                \"ndii_median\", \"B04_median\", \"B08_median\", \"B11_median\"]\n",
        "\n",
        "add_b= [\"mes\", \"week\"] #sacamos la variable area_m2\n",
        "\n",
        "x_case_B= ind_ban+add_b\n",
        "\n",
        "y_case_B=['target']"
      ]
    },
    {
      "cell_type": "code",
      "execution_count": null,
      "metadata": {
        "id": "6h3cmQ7Kg1A5"
      },
      "outputs": [],
      "source": [
        "XY_train_B,XY_test_B=train_test_split(df_B,test_size=0.3, stratify=df_B.target, random_state=1)\n",
        "#\n",
        "X_train_B,Y_train_B = pd_Xy_splitter(XY_train_B,x_case_B,y_case_B)\n",
        "X_test_B,Y_test_B = pd_Xy_splitter(XY_test_B,x_case_B,y_case_B)"
      ]
    },
    {
      "cell_type": "code",
      "execution_count": null,
      "metadata": {
        "colab": {
          "base_uri": "https://localhost:8080/"
        },
        "id": "O8df8d4NZQPc",
        "outputId": "40562953-5624-4c96-bf0d-81802fd1c702"
      },
      "outputs": [
        {
          "output_type": "execute_result",
          "data": {
            "text/plain": [
              "XGBClassifier(random_state=10)"
            ]
          },
          "metadata": {},
          "execution_count": 102
        }
      ],
      "source": [
        "X_case_B=X_train_B; Y_case_B=Y_train_B ; Case= 'TRAIN';\n",
        "\n",
        "# Fit\n",
        "model.fit(X_case_B,Y_case_B.values.ravel())"
      ]
    },
    {
      "cell_type": "markdown",
      "metadata": {
        "id": "pP2sHlGatjfW"
      },
      "source": [
        "Analizamos las métricas para un modelo base XGBoost de clasificación"
      ]
    },
    {
      "cell_type": "markdown",
      "metadata": {
        "id": "zV0kiyTgsKga"
      },
      "source": [
        "####Métricas de train"
      ]
    },
    {
      "cell_type": "code",
      "execution_count": null,
      "metadata": {
        "colab": {
          "base_uri": "https://localhost:8080/",
          "height": 867
        },
        "id": "FWugWLUlZW-O",
        "outputId": "6e176445-c4d6-40bc-d59a-39f24f925506"
      },
      "outputs": [
        {
          "output_type": "stream",
          "name": "stdout",
          "text": [
            "TRAIN\n",
            "Reporte de clasificación  (sobre conjunto TRAIN):\n",
            "\n",
            "              precision    recall  f1-score   support\n",
            "\n",
            "    NO_VERDE       0.86      0.60      0.70     37806\n",
            "       VERDE       0.84      0.96      0.90     84698\n",
            "\n",
            "    accuracy                           0.85    122504\n",
            "   macro avg       0.85      0.78      0.80    122504\n",
            "weighted avg       0.85      0.85      0.84    122504\n",
            "\n",
            "\n",
            "================================================\n",
            "\n"
          ]
        },
        {
          "output_type": "display_data",
          "data": {
            "text/plain": [
              "<Figure size 432x288 with 1 Axes>"
            ],
            "image/png": "[encoded data removed]"
          },
          "metadata": {
            "needs_background": "light"
          }
        },
        {
          "output_type": "execute_result",
          "data": {
            "text/plain": [
              "{'NO_VERDE': {'precision': 0.8635195766384169,\n",
              "  'recall': 0.5956197428979527,\n",
              "  'f1-score': 0.7049762847705962,\n",
              "  'support': 37806},\n",
              " 'VERDE': {'precision': 0.8414551940846443,\n",
              "  'recall': 0.9579801175942761,\n",
              "  'f1-score': 0.8959447895100069,\n",
              "  'support': 84698},\n",
              " 'accuracy': 0.8461519623849018,\n",
              " 'macro avg': {'precision': 0.8524873853615307,\n",
              "  'recall': 0.7767999302461144,\n",
              "  'f1-score': 0.8004605371403015,\n",
              "  'support': 122504},\n",
              " 'weighted avg': {'precision': 0.8482644904898875,\n",
              "  'recall': 0.8461519623849018,\n",
              "  'f1-score': 0.8370099360343803,\n",
              "  'support': 122504}}"
            ]
          },
          "metadata": {},
          "execution_count": 103
        }
      ],
      "source": [
        "print_plot_classification_report(model,X_case_B,Y_case_B,Case,plotFlag=True,classes_list=['NO_VERDE','VERDE'])"
      ]
    },
    {
      "cell_type": "markdown",
      "metadata": {
        "id": "kcw2LPdWsFUT"
      },
      "source": [
        "####Métricas de test"
      ]
    },
    {
      "cell_type": "code",
      "execution_count": null,
      "metadata": {
        "colab": {
          "base_uri": "https://localhost:8080/",
          "height": 867
        },
        "id": "vdjO0hdaZbAb",
        "outputId": "93d16398-f73e-41f4-de4e-6b587e316156"
      },
      "outputs": [
        {
          "output_type": "stream",
          "name": "stdout",
          "text": [
            "TEST\n",
            "Reporte de clasificación  (sobre conjunto TEST):\n",
            "\n",
            "              precision    recall  f1-score   support\n",
            "\n",
            "    NO_VERDE       0.86      0.59      0.70     16203\n",
            "       VERDE       0.84      0.96      0.89     36300\n",
            "\n",
            "    accuracy                           0.84     52503\n",
            "   macro avg       0.85      0.77      0.80     52503\n",
            "weighted avg       0.84      0.84      0.83     52503\n",
            "\n",
            "\n",
            "================================================\n",
            "\n"
          ]
        },
        {
          "output_type": "display_data",
          "data": {
            "text/plain": [
              "<Figure size 432x288 with 1 Axes>"
            ],
            "image/png": "[encoded data removed]"
          },
          "metadata": {
            "needs_background": "light"
          }
        },
        {
          "output_type": "execute_result",
          "data": {
            "text/plain": [
              "{'NO_VERDE': {'precision': 0.8550414549344745,\n",
              "  'recall': 0.5919274208479911,\n",
              "  'f1-score': 0.6995623632385121,\n",
              "  'support': 16203},\n",
              " 'VERDE': {'precision': 0.8398488591774451,\n",
              "  'recall': 0.9552066115702479,\n",
              "  'f1-score': 0.8938210501894672,\n",
              "  'support': 36300},\n",
              " 'accuracy': 0.8430946803039826,\n",
              " 'macro avg': {'precision': 0.8474451570559598,\n",
              "  'recall': 0.7735670162091195,\n",
              "  'f1-score': 0.7966917067139896,\n",
              "  'support': 52503},\n",
              " 'weighted avg': {'precision': 0.84453746038216,\n",
              "  'recall': 0.8430946803039826,\n",
              "  'f1-score': 0.8338706948827929,\n",
              "  'support': 52503}}"
            ]
          },
          "metadata": {},
          "execution_count": 104
        }
      ],
      "source": [
        "X_case_test_B=X_test_B; Y_case_test_B=Y_test_B ; Case_test='TEST'\n",
        "\n",
        "print_plot_classification_report(model,X_case_test_B,Y_case_test_B,Case_test,plotFlag=True,classes_list=['NO_VERDE','VERDE'])"
      ]
    },
    {
      "cell_type": "markdown",
      "metadata": {
        "id": "B625amsmrz1O"
      },
      "source": [
        "####Optimización de hiperparámetros"
      ]
    },
    {
      "cell_type": "markdown",
      "metadata": {
        "id": "b78kbT-WsFqH"
      },
      "source": [
        "Usamos RandomizedSearch de la misma forma que lo utilizamos con la receta A, sólo que cambiamos los conjuntos de entrenamiento y test."
      ]
    },
    {
      "cell_type": "code",
      "execution_count": null,
      "metadata": {
        "id": "2zFV38M2r6jD"
      },
      "outputs": [],
      "source": [
        "rs_B=rs_A"
      ]
    },
    {
      "cell_type": "code",
      "execution_count": null,
      "metadata": {
        "colab": {
          "base_uri": "https://localhost:8080/"
        },
        "id": "Smb7bQHZr5b2",
        "outputId": "b904d4fb-cc5b-45de-845b-99964b18f43d"
      },
      "outputs": [
        {
          "output_type": "stream",
          "name": "stderr",
          "text": [
            "/usr/local/lib/python3.7/dist-packages/sklearn/preprocessing/_label.py:98: DataConversionWarning: A column-vector y was passed when a 1d array was expected. Please change the shape of y to (n_samples, ), for example using ravel().\n",
            "  y = column_or_1d(y, warn=True)\n",
            "/usr/local/lib/python3.7/dist-packages/sklearn/preprocessing/_label.py:133: DataConversionWarning: A column-vector y was passed when a 1d array was expected. Please change the shape of y to (n_samples, ), for example using ravel().\n",
            "  y = column_or_1d(y, warn=True)\n",
            "/usr/local/lib/python3.7/dist-packages/sklearn/preprocessing/_label.py:98: DataConversionWarning: A column-vector y was passed when a 1d array was expected. Please change the shape of y to (n_samples, ), for example using ravel().\n",
            "  y = column_or_1d(y, warn=True)\n",
            "/usr/local/lib/python3.7/dist-packages/sklearn/preprocessing/_label.py:133: DataConversionWarning: A column-vector y was passed when a 1d array was expected. Please change the shape of y to (n_samples, ), for example using ravel().\n",
            "  y = column_or_1d(y, warn=True)\n",
            "/usr/local/lib/python3.7/dist-packages/sklearn/preprocessing/_label.py:98: DataConversionWarning: A column-vector y was passed when a 1d array was expected. Please change the shape of y to (n_samples, ), for example using ravel().\n",
            "  y = column_or_1d(y, warn=True)\n",
            "/usr/local/lib/python3.7/dist-packages/sklearn/preprocessing/_label.py:133: DataConversionWarning: A column-vector y was passed when a 1d array was expected. Please change the shape of y to (n_samples, ), for example using ravel().\n",
            "  y = column_or_1d(y, warn=True)\n",
            "/usr/local/lib/python3.7/dist-packages/sklearn/preprocessing/_label.py:98: DataConversionWarning: A column-vector y was passed when a 1d array was expected. Please change the shape of y to (n_samples, ), for example using ravel().\n",
            "  y = column_or_1d(y, warn=True)\n",
            "/usr/local/lib/python3.7/dist-packages/sklearn/preprocessing/_label.py:133: DataConversionWarning: A column-vector y was passed when a 1d array was expected. Please change the shape of y to (n_samples, ), for example using ravel().\n",
            "  y = column_or_1d(y, warn=True)\n",
            "/usr/local/lib/python3.7/dist-packages/sklearn/preprocessing/_label.py:98: DataConversionWarning: A column-vector y was passed when a 1d array was expected. Please change the shape of y to (n_samples, ), for example using ravel().\n",
            "  y = column_or_1d(y, warn=True)\n",
            "/usr/local/lib/python3.7/dist-packages/sklearn/preprocessing/_label.py:133: DataConversionWarning: A column-vector y was passed when a 1d array was expected. Please change the shape of y to (n_samples, ), for example using ravel().\n",
            "  y = column_or_1d(y, warn=True)\n",
            "/usr/local/lib/python3.7/dist-packages/sklearn/preprocessing/_label.py:98: DataConversionWarning: A column-vector y was passed when a 1d array was expected. Please change the shape of y to (n_samples, ), for example using ravel().\n",
            "  y = column_or_1d(y, warn=True)\n",
            "/usr/local/lib/python3.7/dist-packages/sklearn/preprocessing/_label.py:133: DataConversionWarning: A column-vector y was passed when a 1d array was expected. Please change the shape of y to (n_samples, ), for example using ravel().\n",
            "  y = column_or_1d(y, warn=True)\n",
            "/usr/local/lib/python3.7/dist-packages/sklearn/preprocessing/_label.py:98: DataConversionWarning: A column-vector y was passed when a 1d array was expected. Please change the shape of y to (n_samples, ), for example using ravel().\n",
            "  y = column_or_1d(y, warn=True)\n",
            "/usr/local/lib/python3.7/dist-packages/sklearn/preprocessing/_label.py:133: DataConversionWarning: A column-vector y was passed when a 1d array was expected. Please change the shape of y to (n_samples, ), for example using ravel().\n",
            "  y = column_or_1d(y, warn=True)\n",
            "/usr/local/lib/python3.7/dist-packages/sklearn/preprocessing/_label.py:98: DataConversionWarning: A column-vector y was passed when a 1d array was expected. Please change the shape of y to (n_samples, ), for example using ravel().\n",
            "  y = column_or_1d(y, warn=True)\n",
            "/usr/local/lib/python3.7/dist-packages/sklearn/preprocessing/_label.py:133: DataConversionWarning: A column-vector y was passed when a 1d array was expected. Please change the shape of y to (n_samples, ), for example using ravel().\n",
            "  y = column_or_1d(y, warn=True)\n",
            "/usr/local/lib/python3.7/dist-packages/sklearn/preprocessing/_label.py:98: DataConversionWarning: A column-vector y was passed when a 1d array was expected. Please change the shape of y to (n_samples, ), for example using ravel().\n",
            "  y = column_or_1d(y, warn=True)\n",
            "/usr/local/lib/python3.7/dist-packages/sklearn/preprocessing/_label.py:133: DataConversionWarning: A column-vector y was passed when a 1d array was expected. Please change the shape of y to (n_samples, ), for example using ravel().\n",
            "  y = column_or_1d(y, warn=True)\n",
            "/usr/local/lib/python3.7/dist-packages/sklearn/preprocessing/_label.py:98: DataConversionWarning: A column-vector y was passed when a 1d array was expected. Please change the shape of y to (n_samples, ), for example using ravel().\n",
            "  y = column_or_1d(y, warn=True)\n",
            "/usr/local/lib/python3.7/dist-packages/sklearn/preprocessing/_label.py:133: DataConversionWarning: A column-vector y was passed when a 1d array was expected. Please change the shape of y to (n_samples, ), for example using ravel().\n",
            "  y = column_or_1d(y, warn=True)\n",
            "/usr/local/lib/python3.7/dist-packages/sklearn/preprocessing/_label.py:98: DataConversionWarning: A column-vector y was passed when a 1d array was expected. Please change the shape of y to (n_samples, ), for example using ravel().\n",
            "  y = column_or_1d(y, warn=True)\n",
            "/usr/local/lib/python3.7/dist-packages/sklearn/preprocessing/_label.py:133: DataConversionWarning: A column-vector y was passed when a 1d array was expected. Please change the shape of y to (n_samples, ), for example using ravel().\n",
            "  y = column_or_1d(y, warn=True)\n",
            "/usr/local/lib/python3.7/dist-packages/sklearn/preprocessing/_label.py:98: DataConversionWarning: A column-vector y was passed when a 1d array was expected. Please change the shape of y to (n_samples, ), for example using ravel().\n",
            "  y = column_or_1d(y, warn=True)\n",
            "/usr/local/lib/python3.7/dist-packages/sklearn/preprocessing/_label.py:133: DataConversionWarning: A column-vector y was passed when a 1d array was expected. Please change the shape of y to (n_samples, ), for example using ravel().\n",
            "  y = column_or_1d(y, warn=True)\n",
            "/usr/local/lib/python3.7/dist-packages/sklearn/preprocessing/_label.py:98: DataConversionWarning: A column-vector y was passed when a 1d array was expected. Please change the shape of y to (n_samples, ), for example using ravel().\n",
            "  y = column_or_1d(y, warn=True)\n",
            "/usr/local/lib/python3.7/dist-packages/sklearn/preprocessing/_label.py:133: DataConversionWarning: A column-vector y was passed when a 1d array was expected. Please change the shape of y to (n_samples, ), for example using ravel().\n",
            "  y = column_or_1d(y, warn=True)\n",
            "/usr/local/lib/python3.7/dist-packages/sklearn/preprocessing/_label.py:98: DataConversionWarning: A column-vector y was passed when a 1d array was expected. Please change the shape of y to (n_samples, ), for example using ravel().\n",
            "  y = column_or_1d(y, warn=True)\n",
            "/usr/local/lib/python3.7/dist-packages/sklearn/preprocessing/_label.py:133: DataConversionWarning: A column-vector y was passed when a 1d array was expected. Please change the shape of y to (n_samples, ), for example using ravel().\n",
            "  y = column_or_1d(y, warn=True)\n",
            "/usr/local/lib/python3.7/dist-packages/sklearn/preprocessing/_label.py:98: DataConversionWarning: A column-vector y was passed when a 1d array was expected. Please change the shape of y to (n_samples, ), for example using ravel().\n",
            "  y = column_or_1d(y, warn=True)\n",
            "/usr/local/lib/python3.7/dist-packages/sklearn/preprocessing/_label.py:133: DataConversionWarning: A column-vector y was passed when a 1d array was expected. Please change the shape of y to (n_samples, ), for example using ravel().\n",
            "  y = column_or_1d(y, warn=True)\n",
            "/usr/local/lib/python3.7/dist-packages/sklearn/preprocessing/_label.py:98: DataConversionWarning: A column-vector y was passed when a 1d array was expected. Please change the shape of y to (n_samples, ), for example using ravel().\n",
            "  y = column_or_1d(y, warn=True)\n",
            "/usr/local/lib/python3.7/dist-packages/sklearn/preprocessing/_label.py:133: DataConversionWarning: A column-vector y was passed when a 1d array was expected. Please change the shape of y to (n_samples, ), for example using ravel().\n",
            "  y = column_or_1d(y, warn=True)\n",
            "/usr/local/lib/python3.7/dist-packages/sklearn/preprocessing/_label.py:98: DataConversionWarning: A column-vector y was passed when a 1d array was expected. Please change the shape of y to (n_samples, ), for example using ravel().\n",
            "  y = column_or_1d(y, warn=True)\n",
            "/usr/local/lib/python3.7/dist-packages/sklearn/preprocessing/_label.py:133: DataConversionWarning: A column-vector y was passed when a 1d array was expected. Please change the shape of y to (n_samples, ), for example using ravel().\n",
            "  y = column_or_1d(y, warn=True)\n",
            "/usr/local/lib/python3.7/dist-packages/sklearn/preprocessing/_label.py:98: DataConversionWarning: A column-vector y was passed when a 1d array was expected. Please change the shape of y to (n_samples, ), for example using ravel().\n",
            "  y = column_or_1d(y, warn=True)\n",
            "/usr/local/lib/python3.7/dist-packages/sklearn/preprocessing/_label.py:133: DataConversionWarning: A column-vector y was passed when a 1d array was expected. Please change the shape of y to (n_samples, ), for example using ravel().\n",
            "  y = column_or_1d(y, warn=True)\n",
            "/usr/local/lib/python3.7/dist-packages/sklearn/preprocessing/_label.py:98: DataConversionWarning: A column-vector y was passed when a 1d array was expected. Please change the shape of y to (n_samples, ), for example using ravel().\n",
            "  y = column_or_1d(y, warn=True)\n",
            "/usr/local/lib/python3.7/dist-packages/sklearn/preprocessing/_label.py:133: DataConversionWarning: A column-vector y was passed when a 1d array was expected. Please change the shape of y to (n_samples, ), for example using ravel().\n",
            "  y = column_or_1d(y, warn=True)\n",
            "/usr/local/lib/python3.7/dist-packages/sklearn/preprocessing/_label.py:98: DataConversionWarning: A column-vector y was passed when a 1d array was expected. Please change the shape of y to (n_samples, ), for example using ravel().\n",
            "  y = column_or_1d(y, warn=True)\n",
            "/usr/local/lib/python3.7/dist-packages/sklearn/preprocessing/_label.py:133: DataConversionWarning: A column-vector y was passed when a 1d array was expected. Please change the shape of y to (n_samples, ), for example using ravel().\n",
            "  y = column_or_1d(y, warn=True)\n",
            "/usr/local/lib/python3.7/dist-packages/sklearn/preprocessing/_label.py:98: DataConversionWarning: A column-vector y was passed when a 1d array was expected. Please change the shape of y to (n_samples, ), for example using ravel().\n",
            "  y = column_or_1d(y, warn=True)\n",
            "/usr/local/lib/python3.7/dist-packages/sklearn/preprocessing/_label.py:133: DataConversionWarning: A column-vector y was passed when a 1d array was expected. Please change the shape of y to (n_samples, ), for example using ravel().\n",
            "  y = column_or_1d(y, warn=True)\n",
            "/usr/local/lib/python3.7/dist-packages/sklearn/preprocessing/_label.py:98: DataConversionWarning: A column-vector y was passed when a 1d array was expected. Please change the shape of y to (n_samples, ), for example using ravel().\n",
            "  y = column_or_1d(y, warn=True)\n",
            "/usr/local/lib/python3.7/dist-packages/sklearn/preprocessing/_label.py:133: DataConversionWarning: A column-vector y was passed when a 1d array was expected. Please change the shape of y to (n_samples, ), for example using ravel().\n",
            "  y = column_or_1d(y, warn=True)\n",
            "/usr/local/lib/python3.7/dist-packages/sklearn/preprocessing/_label.py:98: DataConversionWarning: A column-vector y was passed when a 1d array was expected. Please change the shape of y to (n_samples, ), for example using ravel().\n",
            "  y = column_or_1d(y, warn=True)\n",
            "/usr/local/lib/python3.7/dist-packages/sklearn/preprocessing/_label.py:133: DataConversionWarning: A column-vector y was passed when a 1d array was expected. Please change the shape of y to (n_samples, ), for example using ravel().\n",
            "  y = column_or_1d(y, warn=True)\n",
            "/usr/local/lib/python3.7/dist-packages/sklearn/preprocessing/_label.py:98: DataConversionWarning: A column-vector y was passed when a 1d array was expected. Please change the shape of y to (n_samples, ), for example using ravel().\n",
            "  y = column_or_1d(y, warn=True)\n",
            "/usr/local/lib/python3.7/dist-packages/sklearn/preprocessing/_label.py:133: DataConversionWarning: A column-vector y was passed when a 1d array was expected. Please change the shape of y to (n_samples, ), for example using ravel().\n",
            "  y = column_or_1d(y, warn=True)\n",
            "/usr/local/lib/python3.7/dist-packages/sklearn/preprocessing/_label.py:98: DataConversionWarning: A column-vector y was passed when a 1d array was expected. Please change the shape of y to (n_samples, ), for example using ravel().\n",
            "  y = column_or_1d(y, warn=True)\n",
            "/usr/local/lib/python3.7/dist-packages/sklearn/preprocessing/_label.py:133: DataConversionWarning: A column-vector y was passed when a 1d array was expected. Please change the shape of y to (n_samples, ), for example using ravel().\n",
            "  y = column_or_1d(y, warn=True)\n",
            "/usr/local/lib/python3.7/dist-packages/sklearn/preprocessing/_label.py:98: DataConversionWarning: A column-vector y was passed when a 1d array was expected. Please change the shape of y to (n_samples, ), for example using ravel().\n",
            "  y = column_or_1d(y, warn=True)\n",
            "/usr/local/lib/python3.7/dist-packages/sklearn/preprocessing/_label.py:133: DataConversionWarning: A column-vector y was passed when a 1d array was expected. Please change the shape of y to (n_samples, ), for example using ravel().\n",
            "  y = column_or_1d(y, warn=True)\n",
            "/usr/local/lib/python3.7/dist-packages/sklearn/preprocessing/_label.py:98: DataConversionWarning: A column-vector y was passed when a 1d array was expected. Please change the shape of y to (n_samples, ), for example using ravel().\n",
            "  y = column_or_1d(y, warn=True)\n",
            "/usr/local/lib/python3.7/dist-packages/sklearn/preprocessing/_label.py:133: DataConversionWarning: A column-vector y was passed when a 1d array was expected. Please change the shape of y to (n_samples, ), for example using ravel().\n",
            "  y = column_or_1d(y, warn=True)\n",
            "/usr/local/lib/python3.7/dist-packages/sklearn/preprocessing/_label.py:98: DataConversionWarning: A column-vector y was passed when a 1d array was expected. Please change the shape of y to (n_samples, ), for example using ravel().\n",
            "  y = column_or_1d(y, warn=True)\n",
            "/usr/local/lib/python3.7/dist-packages/sklearn/preprocessing/_label.py:133: DataConversionWarning: A column-vector y was passed when a 1d array was expected. Please change the shape of y to (n_samples, ), for example using ravel().\n",
            "  y = column_or_1d(y, warn=True)\n",
            "/usr/local/lib/python3.7/dist-packages/sklearn/preprocessing/_label.py:98: DataConversionWarning: A column-vector y was passed when a 1d array was expected. Please change the shape of y to (n_samples, ), for example using ravel().\n",
            "  y = column_or_1d(y, warn=True)\n",
            "/usr/local/lib/python3.7/dist-packages/sklearn/preprocessing/_label.py:133: DataConversionWarning: A column-vector y was passed when a 1d array was expected. Please change the shape of y to (n_samples, ), for example using ravel().\n",
            "  y = column_or_1d(y, warn=True)\n",
            "/usr/local/lib/python3.7/dist-packages/sklearn/preprocessing/_label.py:98: DataConversionWarning: A column-vector y was passed when a 1d array was expected. Please change the shape of y to (n_samples, ), for example using ravel().\n",
            "  y = column_or_1d(y, warn=True)\n",
            "/usr/local/lib/python3.7/dist-packages/sklearn/preprocessing/_label.py:133: DataConversionWarning: A column-vector y was passed when a 1d array was expected. Please change the shape of y to (n_samples, ), for example using ravel().\n",
            "  y = column_or_1d(y, warn=True)\n",
            "/usr/local/lib/python3.7/dist-packages/sklearn/preprocessing/_label.py:98: DataConversionWarning: A column-vector y was passed when a 1d array was expected. Please change the shape of y to (n_samples, ), for example using ravel().\n",
            "  y = column_or_1d(y, warn=True)\n",
            "/usr/local/lib/python3.7/dist-packages/sklearn/preprocessing/_label.py:133: DataConversionWarning: A column-vector y was passed when a 1d array was expected. Please change the shape of y to (n_samples, ), for example using ravel().\n",
            "  y = column_or_1d(y, warn=True)\n",
            "/usr/local/lib/python3.7/dist-packages/sklearn/preprocessing/_label.py:98: DataConversionWarning: A column-vector y was passed when a 1d array was expected. Please change the shape of y to (n_samples, ), for example using ravel().\n",
            "  y = column_or_1d(y, warn=True)\n",
            "/usr/local/lib/python3.7/dist-packages/sklearn/preprocessing/_label.py:133: DataConversionWarning: A column-vector y was passed when a 1d array was expected. Please change the shape of y to (n_samples, ), for example using ravel().\n",
            "  y = column_or_1d(y, warn=True)\n",
            "/usr/local/lib/python3.7/dist-packages/sklearn/preprocessing/_label.py:98: DataConversionWarning: A column-vector y was passed when a 1d array was expected. Please change the shape of y to (n_samples, ), for example using ravel().\n",
            "  y = column_or_1d(y, warn=True)\n",
            "/usr/local/lib/python3.7/dist-packages/sklearn/preprocessing/_label.py:133: DataConversionWarning: A column-vector y was passed when a 1d array was expected. Please change the shape of y to (n_samples, ), for example using ravel().\n",
            "  y = column_or_1d(y, warn=True)\n",
            "/usr/local/lib/python3.7/dist-packages/sklearn/preprocessing/_label.py:98: DataConversionWarning: A column-vector y was passed when a 1d array was expected. Please change the shape of y to (n_samples, ), for example using ravel().\n",
            "  y = column_or_1d(y, warn=True)\n",
            "/usr/local/lib/python3.7/dist-packages/sklearn/preprocessing/_label.py:133: DataConversionWarning: A column-vector y was passed when a 1d array was expected. Please change the shape of y to (n_samples, ), for example using ravel().\n",
            "  y = column_or_1d(y, warn=True)\n",
            "/usr/local/lib/python3.7/dist-packages/sklearn/preprocessing/_label.py:98: DataConversionWarning: A column-vector y was passed when a 1d array was expected. Please change the shape of y to (n_samples, ), for example using ravel().\n",
            "  y = column_or_1d(y, warn=True)\n",
            "/usr/local/lib/python3.7/dist-packages/sklearn/preprocessing/_label.py:133: DataConversionWarning: A column-vector y was passed when a 1d array was expected. Please change the shape of y to (n_samples, ), for example using ravel().\n",
            "  y = column_or_1d(y, warn=True)\n",
            "/usr/local/lib/python3.7/dist-packages/sklearn/preprocessing/_label.py:98: DataConversionWarning: A column-vector y was passed when a 1d array was expected. Please change the shape of y to (n_samples, ), for example using ravel().\n",
            "  y = column_or_1d(y, warn=True)\n",
            "/usr/local/lib/python3.7/dist-packages/sklearn/preprocessing/_label.py:133: DataConversionWarning: A column-vector y was passed when a 1d array was expected. Please change the shape of y to (n_samples, ), for example using ravel().\n",
            "  y = column_or_1d(y, warn=True)\n",
            "/usr/local/lib/python3.7/dist-packages/sklearn/preprocessing/_label.py:98: DataConversionWarning: A column-vector y was passed when a 1d array was expected. Please change the shape of y to (n_samples, ), for example using ravel().\n",
            "  y = column_or_1d(y, warn=True)\n",
            "/usr/local/lib/python3.7/dist-packages/sklearn/preprocessing/_label.py:133: DataConversionWarning: A column-vector y was passed when a 1d array was expected. Please change the shape of y to (n_samples, ), for example using ravel().\n",
            "  y = column_or_1d(y, warn=True)\n",
            "/usr/local/lib/python3.7/dist-packages/sklearn/preprocessing/_label.py:98: DataConversionWarning: A column-vector y was passed when a 1d array was expected. Please change the shape of y to (n_samples, ), for example using ravel().\n",
            "  y = column_or_1d(y, warn=True)\n",
            "/usr/local/lib/python3.7/dist-packages/sklearn/preprocessing/_label.py:133: DataConversionWarning: A column-vector y was passed when a 1d array was expected. Please change the shape of y to (n_samples, ), for example using ravel().\n",
            "  y = column_or_1d(y, warn=True)\n",
            "/usr/local/lib/python3.7/dist-packages/sklearn/preprocessing/_label.py:98: DataConversionWarning: A column-vector y was passed when a 1d array was expected. Please change the shape of y to (n_samples, ), for example using ravel().\n",
            "  y = column_or_1d(y, warn=True)\n",
            "/usr/local/lib/python3.7/dist-packages/sklearn/preprocessing/_label.py:133: DataConversionWarning: A column-vector y was passed when a 1d array was expected. Please change the shape of y to (n_samples, ), for example using ravel().\n",
            "  y = column_or_1d(y, warn=True)\n",
            "/usr/local/lib/python3.7/dist-packages/sklearn/preprocessing/_label.py:98: DataConversionWarning: A column-vector y was passed when a 1d array was expected. Please change the shape of y to (n_samples, ), for example using ravel().\n",
            "  y = column_or_1d(y, warn=True)\n",
            "/usr/local/lib/python3.7/dist-packages/sklearn/preprocessing/_label.py:133: DataConversionWarning: A column-vector y was passed when a 1d array was expected. Please change the shape of y to (n_samples, ), for example using ravel().\n",
            "  y = column_or_1d(y, warn=True)\n",
            "/usr/local/lib/python3.7/dist-packages/sklearn/preprocessing/_label.py:98: DataConversionWarning: A column-vector y was passed when a 1d array was expected. Please change the shape of y to (n_samples, ), for example using ravel().\n",
            "  y = column_or_1d(y, warn=True)\n",
            "/usr/local/lib/python3.7/dist-packages/sklearn/preprocessing/_label.py:133: DataConversionWarning: A column-vector y was passed when a 1d array was expected. Please change the shape of y to (n_samples, ), for example using ravel().\n",
            "  y = column_or_1d(y, warn=True)\n",
            "/usr/local/lib/python3.7/dist-packages/sklearn/preprocessing/_label.py:98: DataConversionWarning: A column-vector y was passed when a 1d array was expected. Please change the shape of y to (n_samples, ), for example using ravel().\n",
            "  y = column_or_1d(y, warn=True)\n",
            "/usr/local/lib/python3.7/dist-packages/sklearn/preprocessing/_label.py:133: DataConversionWarning: A column-vector y was passed when a 1d array was expected. Please change the shape of y to (n_samples, ), for example using ravel().\n",
            "  y = column_or_1d(y, warn=True)\n",
            "/usr/local/lib/python3.7/dist-packages/sklearn/preprocessing/_label.py:98: DataConversionWarning: A column-vector y was passed when a 1d array was expected. Please change the shape of y to (n_samples, ), for example using ravel().\n",
            "  y = column_or_1d(y, warn=True)\n",
            "/usr/local/lib/python3.7/dist-packages/sklearn/preprocessing/_label.py:133: DataConversionWarning: A column-vector y was passed when a 1d array was expected. Please change the shape of y to (n_samples, ), for example using ravel().\n",
            "  y = column_or_1d(y, warn=True)\n",
            "/usr/local/lib/python3.7/dist-packages/sklearn/preprocessing/_label.py:98: DataConversionWarning: A column-vector y was passed when a 1d array was expected. Please change the shape of y to (n_samples, ), for example using ravel().\n",
            "  y = column_or_1d(y, warn=True)\n",
            "/usr/local/lib/python3.7/dist-packages/sklearn/preprocessing/_label.py:133: DataConversionWarning: A column-vector y was passed when a 1d array was expected. Please change the shape of y to (n_samples, ), for example using ravel().\n",
            "  y = column_or_1d(y, warn=True)\n",
            "/usr/local/lib/python3.7/dist-packages/sklearn/preprocessing/_label.py:98: DataConversionWarning: A column-vector y was passed when a 1d array was expected. Please change the shape of y to (n_samples, ), for example using ravel().\n",
            "  y = column_or_1d(y, warn=True)\n",
            "/usr/local/lib/python3.7/dist-packages/sklearn/preprocessing/_label.py:133: DataConversionWarning: A column-vector y was passed when a 1d array was expected. Please change the shape of y to (n_samples, ), for example using ravel().\n",
            "  y = column_or_1d(y, warn=True)\n",
            "/usr/local/lib/python3.7/dist-packages/sklearn/preprocessing/_label.py:98: DataConversionWarning: A column-vector y was passed when a 1d array was expected. Please change the shape of y to (n_samples, ), for example using ravel().\n",
            "  y = column_or_1d(y, warn=True)\n",
            "/usr/local/lib/python3.7/dist-packages/sklearn/preprocessing/_label.py:133: DataConversionWarning: A column-vector y was passed when a 1d array was expected. Please change the shape of y to (n_samples, ), for example using ravel().\n",
            "  y = column_or_1d(y, warn=True)\n",
            "/usr/local/lib/python3.7/dist-packages/sklearn/preprocessing/_label.py:98: DataConversionWarning: A column-vector y was passed when a 1d array was expected. Please change the shape of y to (n_samples, ), for example using ravel().\n",
            "  y = column_or_1d(y, warn=True)\n",
            "/usr/local/lib/python3.7/dist-packages/sklearn/preprocessing/_label.py:133: DataConversionWarning: A column-vector y was passed when a 1d array was expected. Please change the shape of y to (n_samples, ), for example using ravel().\n",
            "  y = column_or_1d(y, warn=True)\n",
            "/usr/local/lib/python3.7/dist-packages/sklearn/preprocessing/_label.py:98: DataConversionWarning: A column-vector y was passed when a 1d array was expected. Please change the shape of y to (n_samples, ), for example using ravel().\n",
            "  y = column_or_1d(y, warn=True)\n",
            "/usr/local/lib/python3.7/dist-packages/sklearn/preprocessing/_label.py:133: DataConversionWarning: A column-vector y was passed when a 1d array was expected. Please change the shape of y to (n_samples, ), for example using ravel().\n",
            "  y = column_or_1d(y, warn=True)\n",
            "/usr/local/lib/python3.7/dist-packages/sklearn/preprocessing/_label.py:98: DataConversionWarning: A column-vector y was passed when a 1d array was expected. Please change the shape of y to (n_samples, ), for example using ravel().\n",
            "  y = column_or_1d(y, warn=True)\n",
            "/usr/local/lib/python3.7/dist-packages/sklearn/preprocessing/_label.py:133: DataConversionWarning: A column-vector y was passed when a 1d array was expected. Please change the shape of y to (n_samples, ), for example using ravel().\n",
            "  y = column_or_1d(y, warn=True)\n",
            "/usr/local/lib/python3.7/dist-packages/sklearn/preprocessing/_label.py:98: DataConversionWarning: A column-vector y was passed when a 1d array was expected. Please change the shape of y to (n_samples, ), for example using ravel().\n",
            "  y = column_or_1d(y, warn=True)\n",
            "/usr/local/lib/python3.7/dist-packages/sklearn/preprocessing/_label.py:133: DataConversionWarning: A column-vector y was passed when a 1d array was expected. Please change the shape of y to (n_samples, ), for example using ravel().\n",
            "  y = column_or_1d(y, warn=True)\n",
            "/usr/local/lib/python3.7/dist-packages/sklearn/preprocessing/_label.py:98: DataConversionWarning: A column-vector y was passed when a 1d array was expected. Please change the shape of y to (n_samples, ), for example using ravel().\n",
            "  y = column_or_1d(y, warn=True)\n",
            "/usr/local/lib/python3.7/dist-packages/sklearn/preprocessing/_label.py:133: DataConversionWarning: A column-vector y was passed when a 1d array was expected. Please change the shape of y to (n_samples, ), for example using ravel().\n",
            "  y = column_or_1d(y, warn=True)\n"
          ]
        },
        {
          "output_type": "execute_result",
          "data": {
            "text/plain": [
              "RandomizedSearchCV(cv=5, estimator=XGBClassifier(random_state=10),\n",
              "                   param_distributions={'learning_rate': [0.0001, 0.001, 0.01,\n",
              "                                                          0.1, 1],\n",
              "                                        'max_depth': range(2, 5),\n",
              "                                        'n_estimators': range(50, 300, 50),\n",
              "                                        'objetive': ['binary:logistic',\n",
              "                                                     'binary:hinge']},\n",
              "                   random_state=10, scoring='accuracy', verbose=False)"
            ]
          },
          "metadata": {},
          "execution_count": 106
        }
      ],
      "source": [
        "rs_B.fit(X_train_B, Y_train_B)"
      ]
    },
    {
      "cell_type": "markdown",
      "metadata": {
        "id": "PldtayiSuCrE"
      },
      "source": [
        "Resultados de la optimización"
      ]
    },
    {
      "cell_type": "code",
      "execution_count": null,
      "metadata": {
        "colab": {
          "base_uri": "https://localhost:8080/",
          "height": 206
        },
        "id": "38G4BuB4sevN",
        "outputId": "3bfe6065-0876-4637-9ea1-4b8e8b682764"
      },
      "outputs": [
        {
          "output_type": "execute_result",
          "data": {
            "text/plain": [
              "  param_learning_rate   param_objetive param_max_depth param_n_estimators  \\\n",
              "1                 0.1     binary:hinge               4                 50   \n",
              "0                0.01     binary:hinge               4                200   \n",
              "3                 0.1     binary:hinge               2                 50   \n",
              "6                0.01  binary:logistic               3                100   \n",
              "9               0.001     binary:hinge               4                150   \n",
              "\n",
              "   mean_test_score  std_test_score  rank_test_score  \n",
              "1         0.844487        0.002161                1  \n",
              "0         0.830806        0.002801                2  \n",
              "3         0.822169        0.003561                3  \n",
              "6         0.811884        0.001791                4  \n",
              "9         0.804439        0.002502                5  "
            ],
            "text/html": [
              "\n",
              "  <div id=\"df-000ace52-334b-4a12-8c0a-dc48bdd04e4c\">\n",
              "    <div class=\"colab-df-container\">\n",
              "      <div>\n",
              "<style scoped>\n",
              "    .dataframe tbody tr th:only-of-type {\n",
              "        vertical-align: middle;\n",
              "    }\n",
              "\n",
              "    .dataframe tbody tr th {\n",
              "        vertical-align: top;\n",
              "    }\n",
              "\n",
              "    .dataframe thead th {\n",
              "        text-align: right;\n",
              "    }\n",
              "</style>\n",
              "<table border=\"1\" class=\"dataframe\">\n",
              "  <thead>\n",
              "    <tr style=\"text-align: right;\">\n",
              "      <th></th>\n",
              "      <th>param_learning_rate</th>\n",
              "      <th>param_objetive</th>\n",
              "      <th>param_max_depth</th>\n",
              "      <th>param_n_estimators</th>\n",
              "      <th>mean_test_score</th>\n",
              "      <th>std_test_score</th>\n",
              "      <th>rank_test_score</th>\n",
              "    </tr>\n",
              "  </thead>\n",
              "  <tbody>\n",
              "    <tr>\n",
              "      <th>1</th>\n",
              "      <td>0.1</td>\n",
              "      <td>binary:hinge</td>\n",
              "      <td>4</td>\n",
              "      <td>50</td>\n",
              "      <td>0.844487</td>\n",
              "      <td>0.002161</td>\n",
              "      <td>1</td>\n",
              "    </tr>\n",
              "    <tr>\n",
              "      <th>0</th>\n",
              "      <td>0.01</td>\n",
              "      <td>binary:hinge</td>\n",
              "      <td>4</td>\n",
              "      <td>200</td>\n",
              "      <td>0.830806</td>\n",
              "      <td>0.002801</td>\n",
              "      <td>2</td>\n",
              "    </tr>\n",
              "    <tr>\n",
              "      <th>3</th>\n",
              "      <td>0.1</td>\n",
              "      <td>binary:hinge</td>\n",
              "      <td>2</td>\n",
              "      <td>50</td>\n",
              "      <td>0.822169</td>\n",
              "      <td>0.003561</td>\n",
              "      <td>3</td>\n",
              "    </tr>\n",
              "    <tr>\n",
              "      <th>6</th>\n",
              "      <td>0.01</td>\n",
              "      <td>binary:logistic</td>\n",
              "      <td>3</td>\n",
              "      <td>100</td>\n",
              "      <td>0.811884</td>\n",
              "      <td>0.001791</td>\n",
              "      <td>4</td>\n",
              "    </tr>\n",
              "    <tr>\n",
              "      <th>9</th>\n",
              "      <td>0.001</td>\n",
              "      <td>binary:hinge</td>\n",
              "      <td>4</td>\n",
              "      <td>150</td>\n",
              "      <td>0.804439</td>\n",
              "      <td>0.002502</td>\n",
              "      <td>5</td>\n",
              "    </tr>\n",
              "  </tbody>\n",
              "</table>\n",
              "</div>\n",
              "      <button class=\"colab-df-convert\" onclick=\"convertToInteractive('df-000ace52-334b-4a12-8c0a-dc48bdd04e4c')\"\n",
              "              title=\"Convert this dataframe to an interactive table.\"\n",
              "              style=\"display:none;\">\n",
              "        \n",
              "  <svg xmlns=\"http://www.w3.org/2000/svg\" height=\"24px\"viewBox=\"0 0 24 24\"\n",
              "       width=\"24px\">\n",
              "    <path d=\"M0 0h24v24H0V0z\" fill=\"none\"/>\n",
              "    <path d=\"M18.56 5.44l.94 2.06.94-2.06 2.06-.94-2.06-.94-.94-2.06-.94 2.06-2.06.94zm-11 1L8.5 8.5l.94-2.06 2.06-.94-2.06-.94L8.5 2.5l-.94 2.06-2.06.94zm10 10l.94 2.06.94-2.06 2.06-.94-2.06-.94-.94-2.06-.94 2.06-2.06.94z\"/><path d=\"M17.41 7.96l-1.37-1.37c-.4-.4-.92-.59-1.43-.59-.52 0-1.04.2-1.43.59L10.3 9.45l-7.72 7.72c-.78.78-.78 2.05 0 2.83L4 21.41c.39.39.9.59 1.41.59.51 0 1.02-.2 1.41-.59l7.78-7.78 2.81-2.81c.8-.78.8-2.07 0-2.86zM5.41 20L4 18.59l7.72-7.72 1.47 1.35L5.41 20z\"/>\n",
              "  </svg>\n",
              "      </button>\n",
              "      \n",
              "  <style>\n",
              "    .colab-df-container {\n",
              "      display:flex;\n",
              "      flex-wrap:wrap;\n",
              "      gap: 12px;\n",
              "    }\n",
              "\n",
              "    .colab-df-convert {\n",
              "      background-color: #E8F0FE;\n",
              "      border: none;\n",
              "      border-radius: 50%;\n",
              "      cursor: pointer;\n",
              "      display: none;\n",
              "      fill: #1967D2;\n",
              "      height: 32px;\n",
              "      padding: 0 0 0 0;\n",
              "      width: 32px;\n",
              "    }\n",
              "\n",
              "    .colab-df-convert:hover {\n",
              "      background-color: #E2EBFA;\n",
              "      box-shadow: 0px 1px 2px rgba(60, 64, 67, 0.3), 0px 1px 3px 1px rgba(60, 64, 67, 0.15);\n",
              "      fill: #174EA6;\n",
              "    }\n",
              "\n",
              "    [theme=dark] .colab-df-convert {\n",
              "      background-color: #3B4455;\n",
              "      fill: #D2E3FC;\n",
              "    }\n",
              "\n",
              "    [theme=dark] .colab-df-convert:hover {\n",
              "      background-color: #434B5C;\n",
              "      box-shadow: 0px 1px 3px 1px rgba(0, 0, 0, 0.15);\n",
              "      filter: drop-shadow(0px 1px 2px rgba(0, 0, 0, 0.3));\n",
              "      fill: #FFFFFF;\n",
              "    }\n",
              "  </style>\n",
              "\n",
              "      <script>\n",
              "        const buttonEl =\n",
              "          document.querySelector('#df-000ace52-334b-4a12-8c0a-dc48bdd04e4c button.colab-df-convert');\n",
              "        buttonEl.style.display =\n",
              "          google.colab.kernel.accessAllowed ? 'block' : 'none';\n",
              "\n",
              "        async function convertToInteractive(key) {\n",
              "          const element = document.querySelector('#df-000ace52-334b-4a12-8c0a-dc48bdd04e4c');\n",
              "          const dataTable =\n",
              "            await google.colab.kernel.invokeFunction('convertToInteractive',\n",
              "                                                     [key], {});\n",
              "          if (!dataTable) return;\n",
              "\n",
              "          const docLinkHtml = 'Like what you see? Visit the ' +\n",
              "            '<a target=\"_blank\" href=https://colab.research.google.com/notebooks/data_table.ipynb>data table notebook</a>'\n",
              "            + ' to learn more about interactive tables.';\n",
              "          element.innerHTML = '';\n",
              "          dataTable['output_type'] = 'display_data';\n",
              "          await google.colab.output.renderOutput(dataTable, element);\n",
              "          const docLink = document.createElement('div');\n",
              "          docLink.innerHTML = docLinkHtml;\n",
              "          element.appendChild(docLink);\n",
              "        }\n",
              "      </script>\n",
              "    </div>\n",
              "  </div>\n",
              "  "
            ]
          },
          "metadata": {},
          "execution_count": 111
        }
      ],
      "source": [
        "results_B = rs_B.cv_results_\n",
        "\n",
        "data_xgb_B=pd.DataFrame(results_B)\n",
        "data_xgb_B[['param_learning_rate','param_objetive','param_max_depth','param_n_estimators','mean_test_score','std_test_score','rank_test_score']].sort_values(by='rank_test_score', ascending=True).head(5)"
      ]
    },
    {
      "cell_type": "markdown",
      "metadata": {
        "id": "hSYmbDvkuJct"
      },
      "source": [
        "Extraemos el mejor modelo obtenido de la optimización"
      ]
    },
    {
      "cell_type": "code",
      "execution_count": null,
      "metadata": {
        "colab": {
          "base_uri": "https://localhost:8080/"
        },
        "id": "ZqIawoqHsyQb",
        "outputId": "956c4c9a-922a-4ded-8274-620c2a73c02c"
      },
      "outputs": [
        {
          "output_type": "execute_result",
          "data": {
            "text/plain": [
              "XGBClassifier(max_depth=4, n_estimators=50, objetive='binary:hinge',\n",
              "              random_state=10)"
            ]
          },
          "metadata": {},
          "execution_count": 112
        }
      ],
      "source": [
        "best_xgb_B=rs_B.best_estimator_\n",
        "best_xgb_B"
      ]
    },
    {
      "cell_type": "markdown",
      "metadata": {
        "id": "-5j7MyeNuQuq"
      },
      "source": [
        "Exploramos la importancia de las variables para el mejor modelo. Vemos que las variables temporales ocupan un lugar importante en la clasificación."
      ]
    },
    {
      "cell_type": "code",
      "execution_count": null,
      "metadata": {
        "id": "isy9H6nhtDn8"
      },
      "outputs": [],
      "source": [
        "fi_best_B = pd.DataFrame(columns=[\"FEATURE\", \"IMPORTANCE\"])\n",
        "fi_best_B[\"FEATURE\"] = X_train_B.columns\n",
        "fi_best_B[\"IMPORTANCE\"] = best_xgb_B.feature_importances_\n",
        "fi_best_B = fi_best_B.sort_values(\"IMPORTANCE\", ascending=False)"
      ]
    },
    {
      "cell_type": "code",
      "execution_count": null,
      "metadata": {
        "colab": {
          "base_uri": "https://localhost:8080/",
          "height": 877
        },
        "id": "tp57ow8atLLb",
        "outputId": "97953b16-97e6-4f56-fd50-e29fceef1b6b"
      },
      "outputs": [
        {
          "output_type": "display_data",
          "data": {
            "text/plain": [
              "<Figure size 360x1080 with 1 Axes>"
            ],
            "image/png": "[encoded data removed]"
          },
          "metadata": {
            "needs_background": "light"
          }
        }
      ],
      "source": [
        "plt.figure(figsize=(5, 15))\n",
        "sns.barplot(y=fi_best_B.FEATURE, x=fi_best_B.IMPORTANCE)\n",
        "plt.show()"
      ]
    },
    {
      "cell_type": "markdown",
      "metadata": {
        "id": "5NcC4k6QuR4C"
      },
      "source": [
        "Métricas de train y test para el mejor modelo"
      ]
    },
    {
      "cell_type": "markdown",
      "metadata": {
        "id": "ArIiWwKsvmBN"
      },
      "source": [
        "Train"
      ]
    },
    {
      "cell_type": "code",
      "execution_count": null,
      "metadata": {
        "colab": {
          "base_uri": "https://localhost:8080/",
          "height": 867
        },
        "id": "eY5hwimHtQHP",
        "outputId": "5791cc32-00bc-4e23-b7b4-7f18b90c74b7"
      },
      "outputs": [
        {
          "output_type": "stream",
          "name": "stdout",
          "text": [
            "TRAIN\n",
            "Reporte de clasificación  (sobre conjunto TRAIN):\n",
            "\n",
            "              precision    recall  f1-score   support\n",
            "\n",
            "    NO_VERDE       0.87      0.60      0.71     37806\n",
            "       VERDE       0.84      0.96      0.90     84698\n",
            "\n",
            "    accuracy                           0.85    122504\n",
            "   macro avg       0.85      0.78      0.80    122504\n",
            "weighted avg       0.85      0.85      0.84    122504\n",
            "\n",
            "\n",
            "================================================\n",
            "\n"
          ]
        },
        {
          "output_type": "display_data",
          "data": {
            "text/plain": [
              "<Figure size 432x288 with 1 Axes>"
            ],
            "image/png": "[encoded data removed]"
          },
          "metadata": {
            "needs_background": "light"
          }
        },
        {
          "output_type": "execute_result",
          "data": {
            "text/plain": [
              "{'NO_VERDE': {'precision': 0.8671632049756209,\n",
              "  'recall': 0.5974448500238058,\n",
              "  'f1-score': 0.7074687172098414,\n",
              "  'support': 37806},\n",
              " 'VERDE': {'precision': 0.8422198492592554,\n",
              "  'recall': 0.9591489763630783,\n",
              "  'f1-score': 0.89688940410146,\n",
              "  'support': 84698},\n",
              " 'accuracy': 0.8475233461764514,\n",
              " 'macro avg': {'precision': 0.8546915271174382,\n",
              "  'recall': 0.7782969131934421,\n",
              "  'f1-score': 0.8021790606556507,\n",
              "  'support': 122504},\n",
              " 'weighted avg': {'precision': 0.8499176265254093,\n",
              "  'recall': 0.8475233461764514,\n",
              "  'f1-score': 0.8384322232043094,\n",
              "  'support': 122504}}"
            ]
          },
          "metadata": {},
          "execution_count": 115
        }
      ],
      "source": [
        "print_plot_classification_report(best_xgb_B,X_case_B,Y_case_B,Case,plotFlag=True,classes_list=['NO_VERDE','VERDE'])"
      ]
    },
    {
      "cell_type": "markdown",
      "metadata": {
        "id": "82LL7Olivnv4"
      },
      "source": [
        "Test"
      ]
    },
    {
      "cell_type": "code",
      "execution_count": null,
      "metadata": {
        "colab": {
          "base_uri": "https://localhost:8080/",
          "height": 867
        },
        "id": "OjNEblFdtgP5",
        "outputId": "c93d0d67-0cdf-4021-dc84-7a395e172ef2"
      },
      "outputs": [
        {
          "output_type": "stream",
          "name": "stdout",
          "text": [
            "TEST\n",
            "Reporte de clasificación  (sobre conjunto TEST):\n",
            "\n",
            "              precision    recall  f1-score   support\n",
            "\n",
            "    NO_VERDE       0.86      0.59      0.70     16203\n",
            "       VERDE       0.84      0.96      0.89     36300\n",
            "\n",
            "    accuracy                           0.84     52503\n",
            "   macro avg       0.85      0.77      0.80     52503\n",
            "weighted avg       0.85      0.84      0.84     52503\n",
            "\n",
            "\n",
            "================================================\n",
            "\n"
          ]
        },
        {
          "output_type": "display_data",
          "data": {
            "text/plain": [
              "<Figure size 432x288 with 1 Axes>"
            ],
            "image/png": "[encoded data removed]"
          },
          "metadata": {
            "needs_background": "light"
          }
        },
        {
          "output_type": "execute_result",
          "data": {
            "text/plain": [
              "{'NO_VERDE': {'precision': 0.858494777252031,\n",
              "  'recall': 0.5934703449978399,\n",
              "  'f1-score': 0.7017953583418478,\n",
              "  'support': 16203},\n",
              " 'VERDE': {'precision': 0.8405161977628202,\n",
              "  'recall': 0.95633608815427,\n",
              "  'f1-score': 0.8946934357361924,\n",
              "  'support': 36300},\n",
              " 'accuracy': 0.8443517513284955,\n",
              " 'macro avg': {'precision': 0.8495054875074256,\n",
              "  'recall': 0.774903216576055,\n",
              "  'f1-score': 0.7982443970390201,\n",
              "  'support': 52503},\n",
              " 'weighted avg': {'precision': 0.8460645840162473,\n",
              "  'recall': 0.8443517513284955,\n",
              "  'f1-score': 0.8351629794190187,\n",
              "  'support': 52503}}"
            ]
          },
          "metadata": {},
          "execution_count": 116
        }
      ],
      "source": [
        "print_plot_classification_report(best_xgb_B, X_case_test_B, Y_case_test_B,Case_test,plotFlag=True,classes_list=['NO_VERDE','VERDE'])"
      ]
    },
    {
      "cell_type": "markdown",
      "metadata": {
        "id": "ZaBKdTUdXvPV"
      },
      "source": [
        "## XGBoost receta C"
      ]
    },
    {
      "cell_type": "markdown",
      "metadata": {
        "id": "qHHJhLN4Y_pJ"
      },
      "source": [
        "####Split y modelo"
      ]
    },
    {
      "cell_type": "code",
      "execution_count": null,
      "metadata": {
        "colab": {
          "base_uri": "https://localhost:8080/",
          "height": 279
        },
        "id": "UCrPtA75ZI6T",
        "outputId": "f5d0d529-7010-428f-95b1-2a5e8044bae5"
      },
      "outputs": [
        {
          "output_type": "display_data",
          "data": {
            "text/plain": [
              "<Figure size 432x288 with 1 Axes>"
            ],
            "image/png": "[encoded data removed]"
          },
          "metadata": {
            "needs_background": "light"
          }
        }
      ],
      "source": [
        "plt.figure(figsize=(6,4))\n",
        "sns.countplot(x='target', data= df_C, order = df_C['target'].value_counts().index)\n",
        "plt.show()"
      ]
    },
    {
      "cell_type": "markdown",
      "metadata": {
        "id": "LOaBaDrLaKSW"
      },
      "source": [
        "Como esta receta tiene en cuenta la estacionalidad vamos a incorporar las variables relacionadas a la estación del año. "
      ]
    },
    {
      "cell_type": "code",
      "execution_count": null,
      "metadata": {
        "id": "_iKpAI-oZhQg"
      },
      "outputs": [],
      "source": [
        "#para usar en la función pd_Xy_splitter\n",
        "ind_ban=[\"ndvi_median\", \"mNDVI_median\", \"gari_median\",\"tcariOsavi_median\", \"sipi_median\", \n",
        "                \"ndii_median\", \"B04_median\", \"B08_median\", \"B11_median\"]\n",
        "\n",
        "add_c= [\"week\", \"estacion_Verano\", \"estacion_Invierno\", \"estacion_Otoño\", \"estacion_Primavera\", \"año\",\"mes\"] #quitamos la variable area_m2\n",
        "\n",
        "x_case_C= ind_ban + add_c\n",
        "\n",
        "y_case_C=['target']"
      ]
    },
    {
      "cell_type": "code",
      "execution_count": null,
      "metadata": {
        "id": "Zxp8EZBDaVGf"
      },
      "outputs": [],
      "source": [
        "XY_train_C,XY_test_C=train_test_split(df_C,test_size=0.3, stratify=df_C.target, random_state=1)\n",
        "#\n",
        "X_train_C,Y_train_C = pd_Xy_splitter(XY_train_C,x_case_C,y_case_C)\n",
        "X_test_C,Y_test_C = pd_Xy_splitter(XY_test_C,x_case_C,y_case_C)"
      ]
    },
    {
      "cell_type": "code",
      "execution_count": null,
      "metadata": {
        "colab": {
          "base_uri": "https://localhost:8080/"
        },
        "id": "I-rL5noLdayM",
        "outputId": "beba3490-8453-4a8c-e8fe-e040e4b81dc1"
      },
      "outputs": [
        {
          "output_type": "execute_result",
          "data": {
            "text/plain": [
              "XGBClassifier(random_state=10)"
            ]
          },
          "metadata": {},
          "execution_count": 119
        }
      ],
      "source": [
        "X_case_C=X_train_C; Y_case_C=Y_train_C ; Case= 'TRAIN';\n",
        "\n",
        "# Fit\n",
        "model.fit(X_case_C,Y_case_C.values.ravel())"
      ]
    },
    {
      "cell_type": "code",
      "execution_count": null,
      "metadata": {
        "id": "zOGn6CGRwlR0"
      },
      "outputs": [],
      "source": [
        "fi_best_C = pd.DataFrame(columns=[\"FEATURE\", \"IMPORTANCE\"])\n",
        "fi_best_C[\"FEATURE\"] = X_train_C.columns\n",
        "fi_best_C[\"IMPORTANCE\"] = model.feature_importances_\n",
        "fi_best_C = fi_best_C.sort_values(\"IMPORTANCE\", ascending=False)"
      ]
    },
    {
      "cell_type": "code",
      "execution_count": null,
      "metadata": {
        "id": "K68gMXoBwvtd",
        "colab": {
          "base_uri": "https://localhost:8080/",
          "height": 877
        },
        "outputId": "00505c6c-4fdd-48ea-bcf1-efc339745e35"
      },
      "outputs": [
        {
          "output_type": "display_data",
          "data": {
            "text/plain": [
              "<Figure size 360x1080 with 1 Axes>"
            ],
            "image/png": "[encoded data removed]"
          },
          "metadata": {
            "needs_background": "light"
          }
        }
      ],
      "source": [
        "plt.figure(figsize=(5, 15))\n",
        "sns.barplot(y=fi_best_C.FEATURE, x=fi_best_C.IMPORTANCE)\n",
        "plt.show()"
      ]
    },
    {
      "cell_type": "markdown",
      "metadata": {
        "id": "VNNYwLjLyABZ"
      },
      "source": [
        "Analizamos las métricas para un modelo base XGBoost de clasificación"
      ]
    },
    {
      "cell_type": "markdown",
      "metadata": {
        "id": "qadEsSSPdkWf"
      },
      "source": [
        "####Métricas de train"
      ]
    },
    {
      "cell_type": "code",
      "execution_count": null,
      "metadata": {
        "colab": {
          "base_uri": "https://localhost:8080/",
          "height": 867
        },
        "id": "uTk9cYwXdj50",
        "outputId": "25dae50c-fe73-4c91-e507-28df5f76a45b"
      },
      "outputs": [
        {
          "output_type": "stream",
          "name": "stdout",
          "text": [
            "TRAIN\n",
            "Reporte de clasificación  (sobre conjunto TRAIN):\n",
            "\n",
            "              precision    recall  f1-score   support\n",
            "\n",
            "    NO_VERDE       0.86      0.61      0.71     44475\n",
            "       VERDE       0.85      0.96      0.90    102507\n",
            "\n",
            "    accuracy                           0.85    146982\n",
            "   macro avg       0.85      0.78      0.80    146982\n",
            "weighted avg       0.85      0.85      0.84    146982\n",
            "\n",
            "\n",
            "================================================\n",
            "\n"
          ]
        },
        {
          "output_type": "display_data",
          "data": {
            "text/plain": [
              "<Figure size 432x288 with 1 Axes>"
            ],
            "image/png": "[encoded data removed]"
          },
          "metadata": {
            "needs_background": "light"
          }
        },
        {
          "output_type": "execute_result",
          "data": {
            "text/plain": [
              "{'NO_VERDE': {'precision': 0.8578298671932227,\n",
              "  'recall': 0.6056211354693648,\n",
              "  'f1-score': 0.7099928829375016,\n",
              "  'support': 44475},\n",
              " 'VERDE': {'precision': 0.8482475796613689,\n",
              "  'recall': 0.9564517545143258,\n",
              "  'f1-score': 0.8991058737218579,\n",
              "  'support': 102507},\n",
              " 'accuracy': 0.8502945938958512,\n",
              " 'macro avg': {'precision': 0.8530387234272958,\n",
              "  'recall': 0.7810364449918453,\n",
              "  'f1-score': 0.8045493783296798,\n",
              "  'support': 146982},\n",
              " 'weighted avg': {'precision': 0.8511470655710666,\n",
              "  'recall': 0.8502945938958512,\n",
              "  'f1-score': 0.8418825384485983,\n",
              "  'support': 146982}}"
            ]
          },
          "metadata": {},
          "execution_count": 122
        }
      ],
      "source": [
        "print_plot_classification_report(model,X_case_C,Y_case_C,Case,plotFlag=True,classes_list=['NO_VERDE','VERDE'])"
      ]
    },
    {
      "cell_type": "markdown",
      "metadata": {
        "id": "y1aS12rbd_L-"
      },
      "source": [
        "####Métricas de test"
      ]
    },
    {
      "cell_type": "code",
      "execution_count": null,
      "metadata": {
        "colab": {
          "base_uri": "https://localhost:8080/",
          "height": 867
        },
        "id": "vXKwyP_ReASG",
        "outputId": "e681e54f-9955-477e-8c40-9c9e438001cc"
      },
      "outputs": [
        {
          "output_type": "stream",
          "name": "stdout",
          "text": [
            "TEST\n",
            "Reporte de clasificación  (sobre conjunto TEST):\n",
            "\n",
            "              precision    recall  f1-score   support\n",
            "\n",
            "    NO_VERDE       0.85      0.59      0.70     19061\n",
            "       VERDE       0.84      0.96      0.90     43932\n",
            "\n",
            "    accuracy                           0.85     62993\n",
            "   macro avg       0.85      0.78      0.80     62993\n",
            "weighted avg       0.85      0.85      0.84     62993\n",
            "\n",
            "\n",
            "================================================\n",
            "\n"
          ]
        },
        {
          "output_type": "display_data",
          "data": {
            "text/plain": [
              "<Figure size 432x288 with 1 Axes>"
            ],
            "image/png": "[encoded data removed]"
          },
          "metadata": {
            "needs_background": "light"
          }
        },
        {
          "output_type": "execute_result",
          "data": {
            "text/plain": [
              "{'NO_VERDE': {'precision': 0.8537835393427796,\n",
              "  'recall': 0.5943025024919993,\n",
              "  'f1-score': 0.7007949519007701,\n",
              "  'support': 19061},\n",
              " 'VERDE': {'precision': 0.8444846656611362,\n",
              "  'recall': 0.9558408449421834,\n",
              "  'f1-score': 0.8967188784607664,\n",
              "  'support': 43932},\n",
              " 'accuracy': 0.8464432555998286,\n",
              " 'macro avg': {'precision': 0.8491341025019579,\n",
              "  'recall': 0.7750716737170913,\n",
              "  'f1-score': 0.7987569151807683,\n",
              "  'support': 62993},\n",
              " 'weighted avg': {'precision': 0.8472984041915413,\n",
              "  'recall': 0.8464432555998286,\n",
              "  'f1-score': 0.8374344188516021,\n",
              "  'support': 62993}}"
            ]
          },
          "metadata": {},
          "execution_count": 123
        }
      ],
      "source": [
        "X_case_test_C=X_test_C; Y_case_test_C=Y_test_C ; Case_test='TEST'\n",
        "\n",
        "print_plot_classification_report(model,X_case_test_C,Y_case_test_C,Case_test,plotFlag=True,classes_list=['NO_VERDE','VERDE'])"
      ]
    },
    {
      "cell_type": "markdown",
      "metadata": {
        "id": "pzanN4Nlv3af"
      },
      "source": [
        "####Optimización de hiperparámetros"
      ]
    },
    {
      "cell_type": "markdown",
      "metadata": {
        "id": "z8NCU9XfzPAO"
      },
      "source": [
        "Usamos RandomizedSearch de la misma forma que lo utilizamos con la receta A y B, sólo que cambiamos los conjuntos de entrenamiento y test correspondiente a la receta C."
      ]
    },
    {
      "cell_type": "code",
      "execution_count": null,
      "metadata": {
        "id": "IyrLCknfv78m"
      },
      "outputs": [],
      "source": [
        "rs_C=rs_A"
      ]
    },
    {
      "cell_type": "code",
      "execution_count": null,
      "metadata": {
        "colab": {
          "base_uri": "https://localhost:8080/"
        },
        "id": "Fypuh9RLwEt2",
        "outputId": "35bec064-fdde-40a0-9d07-3cd06c4e473d"
      },
      "outputs": [
        {
          "output_type": "stream",
          "name": "stderr",
          "text": [
            "/usr/local/lib/python3.7/dist-packages/sklearn/preprocessing/_label.py:98: DataConversionWarning: A column-vector y was passed when a 1d array was expected. Please change the shape of y to (n_samples, ), for example using ravel().\n",
            "  y = column_or_1d(y, warn=True)\n",
            "/usr/local/lib/python3.7/dist-packages/sklearn/preprocessing/_label.py:133: DataConversionWarning: A column-vector y was passed when a 1d array was expected. Please change the shape of y to (n_samples, ), for example using ravel().\n",
            "  y = column_or_1d(y, warn=True)\n",
            "/usr/local/lib/python3.7/dist-packages/sklearn/preprocessing/_label.py:98: DataConversionWarning: A column-vector y was passed when a 1d array was expected. Please change the shape of y to (n_samples, ), for example using ravel().\n",
            "  y = column_or_1d(y, warn=True)\n",
            "/usr/local/lib/python3.7/dist-packages/sklearn/preprocessing/_label.py:133: DataConversionWarning: A column-vector y was passed when a 1d array was expected. Please change the shape of y to (n_samples, ), for example using ravel().\n",
            "  y = column_or_1d(y, warn=True)\n",
            "/usr/local/lib/python3.7/dist-packages/sklearn/preprocessing/_label.py:98: DataConversionWarning: A column-vector y was passed when a 1d array was expected. Please change the shape of y to (n_samples, ), for example using ravel().\n",
            "  y = column_or_1d(y, warn=True)\n",
            "/usr/local/lib/python3.7/dist-packages/sklearn/preprocessing/_label.py:133: DataConversionWarning: A column-vector y was passed when a 1d array was expected. Please change the shape of y to (n_samples, ), for example using ravel().\n",
            "  y = column_or_1d(y, warn=True)\n",
            "/usr/local/lib/python3.7/dist-packages/sklearn/preprocessing/_label.py:98: DataConversionWarning: A column-vector y was passed when a 1d array was expected. Please change the shape of y to (n_samples, ), for example using ravel().\n",
            "  y = column_or_1d(y, warn=True)\n",
            "/usr/local/lib/python3.7/dist-packages/sklearn/preprocessing/_label.py:133: DataConversionWarning: A column-vector y was passed when a 1d array was expected. Please change the shape of y to (n_samples, ), for example using ravel().\n",
            "  y = column_or_1d(y, warn=True)\n",
            "/usr/local/lib/python3.7/dist-packages/sklearn/preprocessing/_label.py:98: DataConversionWarning: A column-vector y was passed when a 1d array was expected. Please change the shape of y to (n_samples, ), for example using ravel().\n",
            "  y = column_or_1d(y, warn=True)\n",
            "/usr/local/lib/python3.7/dist-packages/sklearn/preprocessing/_label.py:133: DataConversionWarning: A column-vector y was passed when a 1d array was expected. Please change the shape of y to (n_samples, ), for example using ravel().\n",
            "  y = column_or_1d(y, warn=True)\n",
            "/usr/local/lib/python3.7/dist-packages/sklearn/preprocessing/_label.py:98: DataConversionWarning: A column-vector y was passed when a 1d array was expected. Please change the shape of y to (n_samples, ), for example using ravel().\n",
            "  y = column_or_1d(y, warn=True)\n",
            "/usr/local/lib/python3.7/dist-packages/sklearn/preprocessing/_label.py:133: DataConversionWarning: A column-vector y was passed when a 1d array was expected. Please change the shape of y to (n_samples, ), for example using ravel().\n",
            "  y = column_or_1d(y, warn=True)\n",
            "/usr/local/lib/python3.7/dist-packages/sklearn/preprocessing/_label.py:98: DataConversionWarning: A column-vector y was passed when a 1d array was expected. Please change the shape of y to (n_samples, ), for example using ravel().\n",
            "  y = column_or_1d(y, warn=True)\n",
            "/usr/local/lib/python3.7/dist-packages/sklearn/preprocessing/_label.py:133: DataConversionWarning: A column-vector y was passed when a 1d array was expected. Please change the shape of y to (n_samples, ), for example using ravel().\n",
            "  y = column_or_1d(y, warn=True)\n",
            "/usr/local/lib/python3.7/dist-packages/sklearn/preprocessing/_label.py:98: DataConversionWarning: A column-vector y was passed when a 1d array was expected. Please change the shape of y to (n_samples, ), for example using ravel().\n",
            "  y = column_or_1d(y, warn=True)\n",
            "/usr/local/lib/python3.7/dist-packages/sklearn/preprocessing/_label.py:133: DataConversionWarning: A column-vector y was passed when a 1d array was expected. Please change the shape of y to (n_samples, ), for example using ravel().\n",
            "  y = column_or_1d(y, warn=True)\n",
            "/usr/local/lib/python3.7/dist-packages/sklearn/preprocessing/_label.py:98: DataConversionWarning: A column-vector y was passed when a 1d array was expected. Please change the shape of y to (n_samples, ), for example using ravel().\n",
            "  y = column_or_1d(y, warn=True)\n",
            "/usr/local/lib/python3.7/dist-packages/sklearn/preprocessing/_label.py:133: DataConversionWarning: A column-vector y was passed when a 1d array was expected. Please change the shape of y to (n_samples, ), for example using ravel().\n",
            "  y = column_or_1d(y, warn=True)\n",
            "/usr/local/lib/python3.7/dist-packages/sklearn/preprocessing/_label.py:98: DataConversionWarning: A column-vector y was passed when a 1d array was expected. Please change the shape of y to (n_samples, ), for example using ravel().\n",
            "  y = column_or_1d(y, warn=True)\n",
            "/usr/local/lib/python3.7/dist-packages/sklearn/preprocessing/_label.py:133: DataConversionWarning: A column-vector y was passed when a 1d array was expected. Please change the shape of y to (n_samples, ), for example using ravel().\n",
            "  y = column_or_1d(y, warn=True)\n",
            "/usr/local/lib/python3.7/dist-packages/sklearn/preprocessing/_label.py:98: DataConversionWarning: A column-vector y was passed when a 1d array was expected. Please change the shape of y to (n_samples, ), for example using ravel().\n",
            "  y = column_or_1d(y, warn=True)\n",
            "/usr/local/lib/python3.7/dist-packages/sklearn/preprocessing/_label.py:133: DataConversionWarning: A column-vector y was passed when a 1d array was expected. Please change the shape of y to (n_samples, ), for example using ravel().\n",
            "  y = column_or_1d(y, warn=True)\n",
            "/usr/local/lib/python3.7/dist-packages/sklearn/preprocessing/_label.py:98: DataConversionWarning: A column-vector y was passed when a 1d array was expected. Please change the shape of y to (n_samples, ), for example using ravel().\n",
            "  y = column_or_1d(y, warn=True)\n",
            "/usr/local/lib/python3.7/dist-packages/sklearn/preprocessing/_label.py:133: DataConversionWarning: A column-vector y was passed when a 1d array was expected. Please change the shape of y to (n_samples, ), for example using ravel().\n",
            "  y = column_or_1d(y, warn=True)\n",
            "/usr/local/lib/python3.7/dist-packages/sklearn/preprocessing/_label.py:98: DataConversionWarning: A column-vector y was passed when a 1d array was expected. Please change the shape of y to (n_samples, ), for example using ravel().\n",
            "  y = column_or_1d(y, warn=True)\n",
            "/usr/local/lib/python3.7/dist-packages/sklearn/preprocessing/_label.py:133: DataConversionWarning: A column-vector y was passed when a 1d array was expected. Please change the shape of y to (n_samples, ), for example using ravel().\n",
            "  y = column_or_1d(y, warn=True)\n",
            "/usr/local/lib/python3.7/dist-packages/sklearn/preprocessing/_label.py:98: DataConversionWarning: A column-vector y was passed when a 1d array was expected. Please change the shape of y to (n_samples, ), for example using ravel().\n",
            "  y = column_or_1d(y, warn=True)\n",
            "/usr/local/lib/python3.7/dist-packages/sklearn/preprocessing/_label.py:133: DataConversionWarning: A column-vector y was passed when a 1d array was expected. Please change the shape of y to (n_samples, ), for example using ravel().\n",
            "  y = column_or_1d(y, warn=True)\n",
            "/usr/local/lib/python3.7/dist-packages/sklearn/preprocessing/_label.py:98: DataConversionWarning: A column-vector y was passed when a 1d array was expected. Please change the shape of y to (n_samples, ), for example using ravel().\n",
            "  y = column_or_1d(y, warn=True)\n",
            "/usr/local/lib/python3.7/dist-packages/sklearn/preprocessing/_label.py:133: DataConversionWarning: A column-vector y was passed when a 1d array was expected. Please change the shape of y to (n_samples, ), for example using ravel().\n",
            "  y = column_or_1d(y, warn=True)\n",
            "/usr/local/lib/python3.7/dist-packages/sklearn/preprocessing/_label.py:98: DataConversionWarning: A column-vector y was passed when a 1d array was expected. Please change the shape of y to (n_samples, ), for example using ravel().\n",
            "  y = column_or_1d(y, warn=True)\n",
            "/usr/local/lib/python3.7/dist-packages/sklearn/preprocessing/_label.py:133: DataConversionWarning: A column-vector y was passed when a 1d array was expected. Please change the shape of y to (n_samples, ), for example using ravel().\n",
            "  y = column_or_1d(y, warn=True)\n",
            "/usr/local/lib/python3.7/dist-packages/sklearn/preprocessing/_label.py:98: DataConversionWarning: A column-vector y was passed when a 1d array was expected. Please change the shape of y to (n_samples, ), for example using ravel().\n",
            "  y = column_or_1d(y, warn=True)\n",
            "/usr/local/lib/python3.7/dist-packages/sklearn/preprocessing/_label.py:133: DataConversionWarning: A column-vector y was passed when a 1d array was expected. Please change the shape of y to (n_samples, ), for example using ravel().\n",
            "  y = column_or_1d(y, warn=True)\n",
            "/usr/local/lib/python3.7/dist-packages/sklearn/preprocessing/_label.py:98: DataConversionWarning: A column-vector y was passed when a 1d array was expected. Please change the shape of y to (n_samples, ), for example using ravel().\n",
            "  y = column_or_1d(y, warn=True)\n",
            "/usr/local/lib/python3.7/dist-packages/sklearn/preprocessing/_label.py:133: DataConversionWarning: A column-vector y was passed when a 1d array was expected. Please change the shape of y to (n_samples, ), for example using ravel().\n",
            "  y = column_or_1d(y, warn=True)\n",
            "/usr/local/lib/python3.7/dist-packages/sklearn/preprocessing/_label.py:98: DataConversionWarning: A column-vector y was passed when a 1d array was expected. Please change the shape of y to (n_samples, ), for example using ravel().\n",
            "  y = column_or_1d(y, warn=True)\n",
            "/usr/local/lib/python3.7/dist-packages/sklearn/preprocessing/_label.py:133: DataConversionWarning: A column-vector y was passed when a 1d array was expected. Please change the shape of y to (n_samples, ), for example using ravel().\n",
            "  y = column_or_1d(y, warn=True)\n",
            "/usr/local/lib/python3.7/dist-packages/sklearn/preprocessing/_label.py:98: DataConversionWarning: A column-vector y was passed when a 1d array was expected. Please change the shape of y to (n_samples, ), for example using ravel().\n",
            "  y = column_or_1d(y, warn=True)\n",
            "/usr/local/lib/python3.7/dist-packages/sklearn/preprocessing/_label.py:133: DataConversionWarning: A column-vector y was passed when a 1d array was expected. Please change the shape of y to (n_samples, ), for example using ravel().\n",
            "  y = column_or_1d(y, warn=True)\n",
            "/usr/local/lib/python3.7/dist-packages/sklearn/preprocessing/_label.py:98: DataConversionWarning: A column-vector y was passed when a 1d array was expected. Please change the shape of y to (n_samples, ), for example using ravel().\n",
            "  y = column_or_1d(y, warn=True)\n",
            "/usr/local/lib/python3.7/dist-packages/sklearn/preprocessing/_label.py:133: DataConversionWarning: A column-vector y was passed when a 1d array was expected. Please change the shape of y to (n_samples, ), for example using ravel().\n",
            "  y = column_or_1d(y, warn=True)\n",
            "/usr/local/lib/python3.7/dist-packages/sklearn/preprocessing/_label.py:98: DataConversionWarning: A column-vector y was passed when a 1d array was expected. Please change the shape of y to (n_samples, ), for example using ravel().\n",
            "  y = column_or_1d(y, warn=True)\n",
            "/usr/local/lib/python3.7/dist-packages/sklearn/preprocessing/_label.py:133: DataConversionWarning: A column-vector y was passed when a 1d array was expected. Please change the shape of y to (n_samples, ), for example using ravel().\n",
            "  y = column_or_1d(y, warn=True)\n",
            "/usr/local/lib/python3.7/dist-packages/sklearn/preprocessing/_label.py:98: DataConversionWarning: A column-vector y was passed when a 1d array was expected. Please change the shape of y to (n_samples, ), for example using ravel().\n",
            "  y = column_or_1d(y, warn=True)\n",
            "/usr/local/lib/python3.7/dist-packages/sklearn/preprocessing/_label.py:133: DataConversionWarning: A column-vector y was passed when a 1d array was expected. Please change the shape of y to (n_samples, ), for example using ravel().\n",
            "  y = column_or_1d(y, warn=True)\n",
            "/usr/local/lib/python3.7/dist-packages/sklearn/preprocessing/_label.py:98: DataConversionWarning: A column-vector y was passed when a 1d array was expected. Please change the shape of y to (n_samples, ), for example using ravel().\n",
            "  y = column_or_1d(y, warn=True)\n",
            "/usr/local/lib/python3.7/dist-packages/sklearn/preprocessing/_label.py:133: DataConversionWarning: A column-vector y was passed when a 1d array was expected. Please change the shape of y to (n_samples, ), for example using ravel().\n",
            "  y = column_or_1d(y, warn=True)\n",
            "/usr/local/lib/python3.7/dist-packages/sklearn/preprocessing/_label.py:98: DataConversionWarning: A column-vector y was passed when a 1d array was expected. Please change the shape of y to (n_samples, ), for example using ravel().\n",
            "  y = column_or_1d(y, warn=True)\n",
            "/usr/local/lib/python3.7/dist-packages/sklearn/preprocessing/_label.py:133: DataConversionWarning: A column-vector y was passed when a 1d array was expected. Please change the shape of y to (n_samples, ), for example using ravel().\n",
            "  y = column_or_1d(y, warn=True)\n",
            "/usr/local/lib/python3.7/dist-packages/sklearn/preprocessing/_label.py:98: DataConversionWarning: A column-vector y was passed when a 1d array was expected. Please change the shape of y to (n_samples, ), for example using ravel().\n",
            "  y = column_or_1d(y, warn=True)\n",
            "/usr/local/lib/python3.7/dist-packages/sklearn/preprocessing/_label.py:133: DataConversionWarning: A column-vector y was passed when a 1d array was expected. Please change the shape of y to (n_samples, ), for example using ravel().\n",
            "  y = column_or_1d(y, warn=True)\n",
            "/usr/local/lib/python3.7/dist-packages/sklearn/preprocessing/_label.py:98: DataConversionWarning: A column-vector y was passed when a 1d array was expected. Please change the shape of y to (n_samples, ), for example using ravel().\n",
            "  y = column_or_1d(y, warn=True)\n",
            "/usr/local/lib/python3.7/dist-packages/sklearn/preprocessing/_label.py:133: DataConversionWarning: A column-vector y was passed when a 1d array was expected. Please change the shape of y to (n_samples, ), for example using ravel().\n",
            "  y = column_or_1d(y, warn=True)\n",
            "/usr/local/lib/python3.7/dist-packages/sklearn/preprocessing/_label.py:98: DataConversionWarning: A column-vector y was passed when a 1d array was expected. Please change the shape of y to (n_samples, ), for example using ravel().\n",
            "  y = column_or_1d(y, warn=True)\n",
            "/usr/local/lib/python3.7/dist-packages/sklearn/preprocessing/_label.py:133: DataConversionWarning: A column-vector y was passed when a 1d array was expected. Please change the shape of y to (n_samples, ), for example using ravel().\n",
            "  y = column_or_1d(y, warn=True)\n",
            "/usr/local/lib/python3.7/dist-packages/sklearn/preprocessing/_label.py:98: DataConversionWarning: A column-vector y was passed when a 1d array was expected. Please change the shape of y to (n_samples, ), for example using ravel().\n",
            "  y = column_or_1d(y, warn=True)\n",
            "/usr/local/lib/python3.7/dist-packages/sklearn/preprocessing/_label.py:133: DataConversionWarning: A column-vector y was passed when a 1d array was expected. Please change the shape of y to (n_samples, ), for example using ravel().\n",
            "  y = column_or_1d(y, warn=True)\n",
            "/usr/local/lib/python3.7/dist-packages/sklearn/preprocessing/_label.py:98: DataConversionWarning: A column-vector y was passed when a 1d array was expected. Please change the shape of y to (n_samples, ), for example using ravel().\n",
            "  y = column_or_1d(y, warn=True)\n",
            "/usr/local/lib/python3.7/dist-packages/sklearn/preprocessing/_label.py:133: DataConversionWarning: A column-vector y was passed when a 1d array was expected. Please change the shape of y to (n_samples, ), for example using ravel().\n",
            "  y = column_or_1d(y, warn=True)\n",
            "/usr/local/lib/python3.7/dist-packages/sklearn/preprocessing/_label.py:98: DataConversionWarning: A column-vector y was passed when a 1d array was expected. Please change the shape of y to (n_samples, ), for example using ravel().\n",
            "  y = column_or_1d(y, warn=True)\n",
            "/usr/local/lib/python3.7/dist-packages/sklearn/preprocessing/_label.py:133: DataConversionWarning: A column-vector y was passed when a 1d array was expected. Please change the shape of y to (n_samples, ), for example using ravel().\n",
            "  y = column_or_1d(y, warn=True)\n",
            "/usr/local/lib/python3.7/dist-packages/sklearn/preprocessing/_label.py:98: DataConversionWarning: A column-vector y was passed when a 1d array was expected. Please change the shape of y to (n_samples, ), for example using ravel().\n",
            "  y = column_or_1d(y, warn=True)\n",
            "/usr/local/lib/python3.7/dist-packages/sklearn/preprocessing/_label.py:133: DataConversionWarning: A column-vector y was passed when a 1d array was expected. Please change the shape of y to (n_samples, ), for example using ravel().\n",
            "  y = column_or_1d(y, warn=True)\n",
            "/usr/local/lib/python3.7/dist-packages/sklearn/preprocessing/_label.py:98: DataConversionWarning: A column-vector y was passed when a 1d array was expected. Please change the shape of y to (n_samples, ), for example using ravel().\n",
            "  y = column_or_1d(y, warn=True)\n",
            "/usr/local/lib/python3.7/dist-packages/sklearn/preprocessing/_label.py:133: DataConversionWarning: A column-vector y was passed when a 1d array was expected. Please change the shape of y to (n_samples, ), for example using ravel().\n",
            "  y = column_or_1d(y, warn=True)\n",
            "/usr/local/lib/python3.7/dist-packages/sklearn/preprocessing/_label.py:98: DataConversionWarning: A column-vector y was passed when a 1d array was expected. Please change the shape of y to (n_samples, ), for example using ravel().\n",
            "  y = column_or_1d(y, warn=True)\n",
            "/usr/local/lib/python3.7/dist-packages/sklearn/preprocessing/_label.py:133: DataConversionWarning: A column-vector y was passed when a 1d array was expected. Please change the shape of y to (n_samples, ), for example using ravel().\n",
            "  y = column_or_1d(y, warn=True)\n",
            "/usr/local/lib/python3.7/dist-packages/sklearn/preprocessing/_label.py:98: DataConversionWarning: A column-vector y was passed when a 1d array was expected. Please change the shape of y to (n_samples, ), for example using ravel().\n",
            "  y = column_or_1d(y, warn=True)\n",
            "/usr/local/lib/python3.7/dist-packages/sklearn/preprocessing/_label.py:133: DataConversionWarning: A column-vector y was passed when a 1d array was expected. Please change the shape of y to (n_samples, ), for example using ravel().\n",
            "  y = column_or_1d(y, warn=True)\n",
            "/usr/local/lib/python3.7/dist-packages/sklearn/preprocessing/_label.py:98: DataConversionWarning: A column-vector y was passed when a 1d array was expected. Please change the shape of y to (n_samples, ), for example using ravel().\n",
            "  y = column_or_1d(y, warn=True)\n",
            "/usr/local/lib/python3.7/dist-packages/sklearn/preprocessing/_label.py:133: DataConversionWarning: A column-vector y was passed when a 1d array was expected. Please change the shape of y to (n_samples, ), for example using ravel().\n",
            "  y = column_or_1d(y, warn=True)\n",
            "/usr/local/lib/python3.7/dist-packages/sklearn/preprocessing/_label.py:98: DataConversionWarning: A column-vector y was passed when a 1d array was expected. Please change the shape of y to (n_samples, ), for example using ravel().\n",
            "  y = column_or_1d(y, warn=True)\n",
            "/usr/local/lib/python3.7/dist-packages/sklearn/preprocessing/_label.py:133: DataConversionWarning: A column-vector y was passed when a 1d array was expected. Please change the shape of y to (n_samples, ), for example using ravel().\n",
            "  y = column_or_1d(y, warn=True)\n",
            "/usr/local/lib/python3.7/dist-packages/sklearn/preprocessing/_label.py:98: DataConversionWarning: A column-vector y was passed when a 1d array was expected. Please change the shape of y to (n_samples, ), for example using ravel().\n",
            "  y = column_or_1d(y, warn=True)\n",
            "/usr/local/lib/python3.7/dist-packages/sklearn/preprocessing/_label.py:133: DataConversionWarning: A column-vector y was passed when a 1d array was expected. Please change the shape of y to (n_samples, ), for example using ravel().\n",
            "  y = column_or_1d(y, warn=True)\n",
            "/usr/local/lib/python3.7/dist-packages/sklearn/preprocessing/_label.py:98: DataConversionWarning: A column-vector y was passed when a 1d array was expected. Please change the shape of y to (n_samples, ), for example using ravel().\n",
            "  y = column_or_1d(y, warn=True)\n",
            "/usr/local/lib/python3.7/dist-packages/sklearn/preprocessing/_label.py:133: DataConversionWarning: A column-vector y was passed when a 1d array was expected. Please change the shape of y to (n_samples, ), for example using ravel().\n",
            "  y = column_or_1d(y, warn=True)\n",
            "/usr/local/lib/python3.7/dist-packages/sklearn/preprocessing/_label.py:98: DataConversionWarning: A column-vector y was passed when a 1d array was expected. Please change the shape of y to (n_samples, ), for example using ravel().\n",
            "  y = column_or_1d(y, warn=True)\n",
            "/usr/local/lib/python3.7/dist-packages/sklearn/preprocessing/_label.py:133: DataConversionWarning: A column-vector y was passed when a 1d array was expected. Please change the shape of y to (n_samples, ), for example using ravel().\n",
            "  y = column_or_1d(y, warn=True)\n",
            "/usr/local/lib/python3.7/dist-packages/sklearn/preprocessing/_label.py:98: DataConversionWarning: A column-vector y was passed when a 1d array was expected. Please change the shape of y to (n_samples, ), for example using ravel().\n",
            "  y = column_or_1d(y, warn=True)\n",
            "/usr/local/lib/python3.7/dist-packages/sklearn/preprocessing/_label.py:133: DataConversionWarning: A column-vector y was passed when a 1d array was expected. Please change the shape of y to (n_samples, ), for example using ravel().\n",
            "  y = column_or_1d(y, warn=True)\n",
            "/usr/local/lib/python3.7/dist-packages/sklearn/preprocessing/_label.py:98: DataConversionWarning: A column-vector y was passed when a 1d array was expected. Please change the shape of y to (n_samples, ), for example using ravel().\n",
            "  y = column_or_1d(y, warn=True)\n",
            "/usr/local/lib/python3.7/dist-packages/sklearn/preprocessing/_label.py:133: DataConversionWarning: A column-vector y was passed when a 1d array was expected. Please change the shape of y to (n_samples, ), for example using ravel().\n",
            "  y = column_or_1d(y, warn=True)\n",
            "/usr/local/lib/python3.7/dist-packages/sklearn/preprocessing/_label.py:98: DataConversionWarning: A column-vector y was passed when a 1d array was expected. Please change the shape of y to (n_samples, ), for example using ravel().\n",
            "  y = column_or_1d(y, warn=True)\n",
            "/usr/local/lib/python3.7/dist-packages/sklearn/preprocessing/_label.py:133: DataConversionWarning: A column-vector y was passed when a 1d array was expected. Please change the shape of y to (n_samples, ), for example using ravel().\n",
            "  y = column_or_1d(y, warn=True)\n",
            "/usr/local/lib/python3.7/dist-packages/sklearn/preprocessing/_label.py:98: DataConversionWarning: A column-vector y was passed when a 1d array was expected. Please change the shape of y to (n_samples, ), for example using ravel().\n",
            "  y = column_or_1d(y, warn=True)\n",
            "/usr/local/lib/python3.7/dist-packages/sklearn/preprocessing/_label.py:133: DataConversionWarning: A column-vector y was passed when a 1d array was expected. Please change the shape of y to (n_samples, ), for example using ravel().\n",
            "  y = column_or_1d(y, warn=True)\n",
            "/usr/local/lib/python3.7/dist-packages/sklearn/preprocessing/_label.py:98: DataConversionWarning: A column-vector y was passed when a 1d array was expected. Please change the shape of y to (n_samples, ), for example using ravel().\n",
            "  y = column_or_1d(y, warn=True)\n",
            "/usr/local/lib/python3.7/dist-packages/sklearn/preprocessing/_label.py:133: DataConversionWarning: A column-vector y was passed when a 1d array was expected. Please change the shape of y to (n_samples, ), for example using ravel().\n",
            "  y = column_or_1d(y, warn=True)\n",
            "/usr/local/lib/python3.7/dist-packages/sklearn/preprocessing/_label.py:98: DataConversionWarning: A column-vector y was passed when a 1d array was expected. Please change the shape of y to (n_samples, ), for example using ravel().\n",
            "  y = column_or_1d(y, warn=True)\n",
            "/usr/local/lib/python3.7/dist-packages/sklearn/preprocessing/_label.py:133: DataConversionWarning: A column-vector y was passed when a 1d array was expected. Please change the shape of y to (n_samples, ), for example using ravel().\n",
            "  y = column_or_1d(y, warn=True)\n",
            "/usr/local/lib/python3.7/dist-packages/sklearn/preprocessing/_label.py:98: DataConversionWarning: A column-vector y was passed when a 1d array was expected. Please change the shape of y to (n_samples, ), for example using ravel().\n",
            "  y = column_or_1d(y, warn=True)\n",
            "/usr/local/lib/python3.7/dist-packages/sklearn/preprocessing/_label.py:133: DataConversionWarning: A column-vector y was passed when a 1d array was expected. Please change the shape of y to (n_samples, ), for example using ravel().\n",
            "  y = column_or_1d(y, warn=True)\n",
            "/usr/local/lib/python3.7/dist-packages/sklearn/preprocessing/_label.py:98: DataConversionWarning: A column-vector y was passed when a 1d array was expected. Please change the shape of y to (n_samples, ), for example using ravel().\n",
            "  y = column_or_1d(y, warn=True)\n",
            "/usr/local/lib/python3.7/dist-packages/sklearn/preprocessing/_label.py:133: DataConversionWarning: A column-vector y was passed when a 1d array was expected. Please change the shape of y to (n_samples, ), for example using ravel().\n",
            "  y = column_or_1d(y, warn=True)\n",
            "/usr/local/lib/python3.7/dist-packages/sklearn/preprocessing/_label.py:98: DataConversionWarning: A column-vector y was passed when a 1d array was expected. Please change the shape of y to (n_samples, ), for example using ravel().\n",
            "  y = column_or_1d(y, warn=True)\n",
            "/usr/local/lib/python3.7/dist-packages/sklearn/preprocessing/_label.py:133: DataConversionWarning: A column-vector y was passed when a 1d array was expected. Please change the shape of y to (n_samples, ), for example using ravel().\n",
            "  y = column_or_1d(y, warn=True)\n",
            "/usr/local/lib/python3.7/dist-packages/sklearn/preprocessing/_label.py:98: DataConversionWarning: A column-vector y was passed when a 1d array was expected. Please change the shape of y to (n_samples, ), for example using ravel().\n",
            "  y = column_or_1d(y, warn=True)\n",
            "/usr/local/lib/python3.7/dist-packages/sklearn/preprocessing/_label.py:133: DataConversionWarning: A column-vector y was passed when a 1d array was expected. Please change the shape of y to (n_samples, ), for example using ravel().\n",
            "  y = column_or_1d(y, warn=True)\n",
            "/usr/local/lib/python3.7/dist-packages/sklearn/preprocessing/_label.py:98: DataConversionWarning: A column-vector y was passed when a 1d array was expected. Please change the shape of y to (n_samples, ), for example using ravel().\n",
            "  y = column_or_1d(y, warn=True)\n",
            "/usr/local/lib/python3.7/dist-packages/sklearn/preprocessing/_label.py:133: DataConversionWarning: A column-vector y was passed when a 1d array was expected. Please change the shape of y to (n_samples, ), for example using ravel().\n",
            "  y = column_or_1d(y, warn=True)\n"
          ]
        },
        {
          "output_type": "execute_result",
          "data": {
            "text/plain": [
              "RandomizedSearchCV(cv=5, estimator=XGBClassifier(random_state=10),\n",
              "                   param_distributions={'learning_rate': [0.0001, 0.001, 0.01,\n",
              "                                                          0.1, 1],\n",
              "                                        'max_depth': range(2, 5),\n",
              "                                        'n_estimators': range(50, 300, 50),\n",
              "                                        'objetive': ['binary:logistic',\n",
              "                                                     'binary:hinge']},\n",
              "                   random_state=10, scoring='accuracy', verbose=False)"
            ]
          },
          "metadata": {},
          "execution_count": 125
        }
      ],
      "source": [
        "rs_C.fit(X_train_C, Y_train_C)"
      ]
    },
    {
      "cell_type": "markdown",
      "metadata": {
        "id": "aWvpvFNty5M7"
      },
      "source": [
        "Resultados de la optimización"
      ]
    },
    {
      "cell_type": "code",
      "execution_count": null,
      "metadata": {
        "colab": {
          "base_uri": "https://localhost:8080/",
          "height": 206
        },
        "id": "-qs1FJ-Oy7fv",
        "outputId": "6e77aeb3-52b3-47e9-a43d-3ba1a8a4189a"
      },
      "outputs": [
        {
          "output_type": "execute_result",
          "data": {
            "text/plain": [
              "  param_learning_rate param_objetive param_max_depth param_n_estimators  \\\n",
              "1                 0.1   binary:hinge               4                 50   \n",
              "0                0.01   binary:hinge               4                200   \n",
              "3                 0.1   binary:hinge               2                 50   \n",
              "7                0.01   binary:hinge               2                200   \n",
              "9               0.001   binary:hinge               4                150   \n",
              "\n",
              "   mean_test_score  std_test_score  rank_test_score  \n",
              "1         0.848043        0.001258                1  \n",
              "0         0.837082        0.001012                2  \n",
              "3         0.829564        0.000560                3  \n",
              "7         0.822611        0.000912                4  \n",
              "9         0.821618        0.001668                5  "
            ],
            "text/html": [
              "\n",
              "  <div id=\"df-78070ab4-5816-4241-8962-8aee21e3fb53\">\n",
              "    <div class=\"colab-df-container\">\n",
              "      <div>\n",
              "<style scoped>\n",
              "    .dataframe tbody tr th:only-of-type {\n",
              "        vertical-align: middle;\n",
              "    }\n",
              "\n",
              "    .dataframe tbody tr th {\n",
              "        vertical-align: top;\n",
              "    }\n",
              "\n",
              "    .dataframe thead th {\n",
              "        text-align: right;\n",
              "    }\n",
              "</style>\n",
              "<table border=\"1\" class=\"dataframe\">\n",
              "  <thead>\n",
              "    <tr style=\"text-align: right;\">\n",
              "      <th></th>\n",
              "      <th>param_learning_rate</th>\n",
              "      <th>param_objetive</th>\n",
              "      <th>param_max_depth</th>\n",
              "      <th>param_n_estimators</th>\n",
              "      <th>mean_test_score</th>\n",
              "      <th>std_test_score</th>\n",
              "      <th>rank_test_score</th>\n",
              "    </tr>\n",
              "  </thead>\n",
              "  <tbody>\n",
              "    <tr>\n",
              "      <th>1</th>\n",
              "      <td>0.1</td>\n",
              "      <td>binary:hinge</td>\n",
              "      <td>4</td>\n",
              "      <td>50</td>\n",
              "      <td>0.848043</td>\n",
              "      <td>0.001258</td>\n",
              "      <td>1</td>\n",
              "    </tr>\n",
              "    <tr>\n",
              "      <th>0</th>\n",
              "      <td>0.01</td>\n",
              "      <td>binary:hinge</td>\n",
              "      <td>4</td>\n",
              "      <td>200</td>\n",
              "      <td>0.837082</td>\n",
              "      <td>0.001012</td>\n",
              "      <td>2</td>\n",
              "    </tr>\n",
              "    <tr>\n",
              "      <th>3</th>\n",
              "      <td>0.1</td>\n",
              "      <td>binary:hinge</td>\n",
              "      <td>2</td>\n",
              "      <td>50</td>\n",
              "      <td>0.829564</td>\n",
              "      <td>0.000560</td>\n",
              "      <td>3</td>\n",
              "    </tr>\n",
              "    <tr>\n",
              "      <th>7</th>\n",
              "      <td>0.01</td>\n",
              "      <td>binary:hinge</td>\n",
              "      <td>2</td>\n",
              "      <td>200</td>\n",
              "      <td>0.822611</td>\n",
              "      <td>0.000912</td>\n",
              "      <td>4</td>\n",
              "    </tr>\n",
              "    <tr>\n",
              "      <th>9</th>\n",
              "      <td>0.001</td>\n",
              "      <td>binary:hinge</td>\n",
              "      <td>4</td>\n",
              "      <td>150</td>\n",
              "      <td>0.821618</td>\n",
              "      <td>0.001668</td>\n",
              "      <td>5</td>\n",
              "    </tr>\n",
              "  </tbody>\n",
              "</table>\n",
              "</div>\n",
              "      <button class=\"colab-df-convert\" onclick=\"convertToInteractive('df-78070ab4-5816-4241-8962-8aee21e3fb53')\"\n",
              "              title=\"Convert this dataframe to an interactive table.\"\n",
              "              style=\"display:none;\">\n",
              "        \n",
              "  <svg xmlns=\"http://www.w3.org/2000/svg\" height=\"24px\"viewBox=\"0 0 24 24\"\n",
              "       width=\"24px\">\n",
              "    <path d=\"M0 0h24v24H0V0z\" fill=\"none\"/>\n",
              "    <path d=\"M18.56 5.44l.94 2.06.94-2.06 2.06-.94-2.06-.94-.94-2.06-.94 2.06-2.06.94zm-11 1L8.5 8.5l.94-2.06 2.06-.94-2.06-.94L8.5 2.5l-.94 2.06-2.06.94zm10 10l.94 2.06.94-2.06 2.06-.94-2.06-.94-.94-2.06-.94 2.06-2.06.94z\"/><path d=\"M17.41 7.96l-1.37-1.37c-.4-.4-.92-.59-1.43-.59-.52 0-1.04.2-1.43.59L10.3 9.45l-7.72 7.72c-.78.78-.78 2.05 0 2.83L4 21.41c.39.39.9.59 1.41.59.51 0 1.02-.2 1.41-.59l7.78-7.78 2.81-2.81c.8-.78.8-2.07 0-2.86zM5.41 20L4 18.59l7.72-7.72 1.47 1.35L5.41 20z\"/>\n",
              "  </svg>\n",
              "      </button>\n",
              "      \n",
              "  <style>\n",
              "    .colab-df-container {\n",
              "      display:flex;\n",
              "      flex-wrap:wrap;\n",
              "      gap: 12px;\n",
              "    }\n",
              "\n",
              "    .colab-df-convert {\n",
              "      background-color: #E8F0FE;\n",
              "      border: none;\n",
              "      border-radius: 50%;\n",
              "      cursor: pointer;\n",
              "      display: none;\n",
              "      fill: #1967D2;\n",
              "      height: 32px;\n",
              "      padding: 0 0 0 0;\n",
              "      width: 32px;\n",
              "    }\n",
              "\n",
              "    .colab-df-convert:hover {\n",
              "      background-color: #E2EBFA;\n",
              "      box-shadow: 0px 1px 2px rgba(60, 64, 67, 0.3), 0px 1px 3px 1px rgba(60, 64, 67, 0.15);\n",
              "      fill: #174EA6;\n",
              "    }\n",
              "\n",
              "    [theme=dark] .colab-df-convert {\n",
              "      background-color: #3B4455;\n",
              "      fill: #D2E3FC;\n",
              "    }\n",
              "\n",
              "    [theme=dark] .colab-df-convert:hover {\n",
              "      background-color: #434B5C;\n",
              "      box-shadow: 0px 1px 3px 1px rgba(0, 0, 0, 0.15);\n",
              "      filter: drop-shadow(0px 1px 2px rgba(0, 0, 0, 0.3));\n",
              "      fill: #FFFFFF;\n",
              "    }\n",
              "  </style>\n",
              "\n",
              "      <script>\n",
              "        const buttonEl =\n",
              "          document.querySelector('#df-78070ab4-5816-4241-8962-8aee21e3fb53 button.colab-df-convert');\n",
              "        buttonEl.style.display =\n",
              "          google.colab.kernel.accessAllowed ? 'block' : 'none';\n",
              "\n",
              "        async function convertToInteractive(key) {\n",
              "          const element = document.querySelector('#df-78070ab4-5816-4241-8962-8aee21e3fb53');\n",
              "          const dataTable =\n",
              "            await google.colab.kernel.invokeFunction('convertToInteractive',\n",
              "                                                     [key], {});\n",
              "          if (!dataTable) return;\n",
              "\n",
              "          const docLinkHtml = 'Like what you see? Visit the ' +\n",
              "            '<a target=\"_blank\" href=https://colab.research.google.com/notebooks/data_table.ipynb>data table notebook</a>'\n",
              "            + ' to learn more about interactive tables.';\n",
              "          element.innerHTML = '';\n",
              "          dataTable['output_type'] = 'display_data';\n",
              "          await google.colab.output.renderOutput(dataTable, element);\n",
              "          const docLink = document.createElement('div');\n",
              "          docLink.innerHTML = docLinkHtml;\n",
              "          element.appendChild(docLink);\n",
              "        }\n",
              "      </script>\n",
              "    </div>\n",
              "  </div>\n",
              "  "
            ]
          },
          "metadata": {},
          "execution_count": 126
        }
      ],
      "source": [
        "results_C = rs_C.cv_results_\n",
        "\n",
        "data_xgb_C=pd.DataFrame(results_C)\n",
        "data_xgb_C[['param_learning_rate','param_objetive','param_max_depth','param_n_estimators','mean_test_score','std_test_score','rank_test_score']].sort_values(by='rank_test_score', ascending=True).head(5)"
      ]
    },
    {
      "cell_type": "markdown",
      "metadata": {
        "id": "9am3AQrZzArZ"
      },
      "source": [
        "Extraemos el mejor modelo de la optimización"
      ]
    },
    {
      "cell_type": "code",
      "execution_count": null,
      "metadata": {
        "colab": {
          "base_uri": "https://localhost:8080/"
        },
        "id": "v8UNws02zfFB",
        "outputId": "d3d75d93-46a9-46f1-e895-3b7cecab6f44"
      },
      "outputs": [
        {
          "output_type": "execute_result",
          "data": {
            "text/plain": [
              "XGBClassifier(max_depth=4, n_estimators=50, objetive='binary:hinge',\n",
              "              random_state=10)"
            ]
          },
          "metadata": {},
          "execution_count": 127
        }
      ],
      "source": [
        "best_xgb_C=rs_C.best_estimator_\n",
        "best_xgb_C"
      ]
    },
    {
      "cell_type": "markdown",
      "metadata": {
        "id": "5MzRYFfszib0"
      },
      "source": [
        "Exploramos la importancia de las variables para el mejor modelo. Vemos que las variables temporales ocupan un lugar importante en la clasificación."
      ]
    },
    {
      "cell_type": "code",
      "execution_count": null,
      "metadata": {
        "id": "LAKhyXFozrEd"
      },
      "outputs": [],
      "source": [
        "fi_best_C = pd.DataFrame(columns=[\"FEATURE\", \"IMPORTANCE\"])\n",
        "fi_best_C[\"FEATURE\"] = X_train_C.columns\n",
        "fi_best_C[\"IMPORTANCE\"] = best_xgb_C.feature_importances_\n",
        "fi_best_C = fi_best_C.sort_values(\"IMPORTANCE\", ascending=False)"
      ]
    },
    {
      "cell_type": "code",
      "execution_count": null,
      "metadata": {
        "colab": {
          "base_uri": "https://localhost:8080/",
          "height": 877
        },
        "id": "q8ttLNuRzznb",
        "outputId": "a1370f61-2e98-4682-d8a3-5a729392bb03"
      },
      "outputs": [
        {
          "output_type": "display_data",
          "data": {
            "text/plain": [
              "<Figure size 360x1080 with 1 Axes>"
            ],
            "image/png": "[encoded data removed]"
          },
          "metadata": {
            "needs_background": "light"
          }
        }
      ],
      "source": [
        "plt.figure(figsize=(5, 15))\n",
        "sns.barplot(y=fi_best_C.FEATURE, x=fi_best_C.IMPORTANCE)\n",
        "plt.show()"
      ]
    },
    {
      "cell_type": "markdown",
      "metadata": {
        "id": "O8YCYhToz5hm"
      },
      "source": [
        "Métricas de entrenamiento y test para el mejor modelo."
      ]
    },
    {
      "cell_type": "markdown",
      "metadata": {
        "id": "45-TZec50OcG"
      },
      "source": [
        "Train"
      ]
    },
    {
      "cell_type": "code",
      "execution_count": null,
      "metadata": {
        "colab": {
          "base_uri": "https://localhost:8080/",
          "height": 867
        },
        "id": "yyoZ5uILz4-u",
        "outputId": "54140488-aa59-4818-ef56-c957f27f62f6"
      },
      "outputs": [
        {
          "output_type": "stream",
          "name": "stdout",
          "text": [
            "TRAIN\n",
            "Reporte de clasificación  (sobre conjunto TRAIN):\n",
            "\n",
            "              precision    recall  f1-score   support\n",
            "\n",
            "    NO_VERDE       0.86      0.61      0.71     44475\n",
            "       VERDE       0.85      0.96      0.90    102507\n",
            "\n",
            "    accuracy                           0.85    146982\n",
            "   macro avg       0.85      0.78      0.80    146982\n",
            "weighted avg       0.85      0.85      0.84    146982\n",
            "\n",
            "\n",
            "================================================\n",
            "\n"
          ]
        },
        {
          "output_type": "display_data",
          "data": {
            "text/plain": [
              "<Figure size 432x288 with 1 Axes>"
            ],
            "image/png": "[encoded data removed]"
          },
          "metadata": {
            "needs_background": "light"
          }
        },
        {
          "output_type": "execute_result",
          "data": {
            "text/plain": [
              "{'NO_VERDE': {'precision': 0.8554258895160779,\n",
              "  'recall': 0.6065205171444632,\n",
              "  'f1-score': 0.7097843676406742,\n",
              "  'support': 44475},\n",
              " 'VERDE': {'precision': 0.8484166031460051,\n",
              "  'recall': 0.9555249885373682,\n",
              "  'f1-score': 0.8987910348466426,\n",
              "  'support': 102507},\n",
              " 'accuracy': 0.8499203984161325,\n",
              " 'macro avg': {'precision': 0.8519212463310415,\n",
              "  'recall': 0.7810227528409157,\n",
              "  'f1-score': 0.8042877012436584,\n",
              "  'support': 146982},\n",
              " 'weighted avg': {'precision': 0.8505375295948832,\n",
              "  'recall': 0.8499203984161325,\n",
              "  'f1-score': 0.8415998718199765,\n",
              "  'support': 146982}}"
            ]
          },
          "metadata": {},
          "execution_count": 130
        }
      ],
      "source": [
        "print_plot_classification_report(best_xgb_C,X_case_C,Y_case_C,Case,plotFlag=True,classes_list=['NO_VERDE','VERDE'])"
      ]
    },
    {
      "cell_type": "markdown",
      "metadata": {
        "id": "OroPLtXm0Qd5"
      },
      "source": [
        "Test"
      ]
    },
    {
      "cell_type": "code",
      "execution_count": null,
      "metadata": {
        "colab": {
          "base_uri": "https://localhost:8080/",
          "height": 867
        },
        "id": "-RPy_PQq0Rgv",
        "outputId": "6e060119-cf59-445d-fa13-8a4997cb9f03"
      },
      "outputs": [
        {
          "output_type": "stream",
          "name": "stdout",
          "text": [
            "TEST\n",
            "Reporte de clasificación  (sobre conjunto TEST):\n",
            "\n",
            "              precision    recall  f1-score   support\n",
            "\n",
            "    NO_VERDE       0.85      0.59      0.70     19061\n",
            "       VERDE       0.84      0.96      0.90     43932\n",
            "\n",
            "    accuracy                           0.85     62993\n",
            "   macro avg       0.85      0.77      0.80     62993\n",
            "weighted avg       0.85      0.85      0.84     62993\n",
            "\n",
            "\n",
            "================================================\n",
            "\n"
          ]
        },
        {
          "output_type": "display_data",
          "data": {
            "text/plain": [
              "<Figure size 432x288 with 1 Axes>"
            ],
            "image/png": "[encoded data removed]"
          },
          "metadata": {
            "needs_background": "light"
          }
        },
        {
          "output_type": "execute_result",
          "data": {
            "text/plain": [
              "{'NO_VERDE': {'precision': 0.8509771372519429,\n",
              "  'recall': 0.5916793452599549,\n",
              "  'f1-score': 0.6980256235687318,\n",
              "  'support': 19061},\n",
              " 'VERDE': {'precision': 0.8435263369521512,\n",
              "  'recall': 0.9550441591550578,\n",
              "  'f1-score': 0.8958279955589717,\n",
              "  'support': 43932},\n",
              " 'accuracy': 0.845093899322147,\n",
              " 'macro avg': {'precision': 0.847251737102047,\n",
              "  'recall': 0.7733617522075064,\n",
              "  'f1-score': 0.7969268095638518,\n",
              "  'support': 62993},\n",
              " 'weighted avg': {'precision': 0.8457808684796913,\n",
              "  'recall': 0.845093899322147,\n",
              "  'f1-score': 0.8359751386938286,\n",
              "  'support': 62993}}"
            ]
          },
          "metadata": {},
          "execution_count": 131
        }
      ],
      "source": [
        "print_plot_classification_report(best_xgb_C, X_case_test_C, Y_case_test_C,Case_test,plotFlag=True,classes_list=['NO_VERDE','VERDE'])"
      ]
    },
    {
      "cell_type": "markdown",
      "metadata": {
        "id": "dwc-e7mOeNTA"
      },
      "source": [
        "##XGBoost receta D"
      ]
    },
    {
      "cell_type": "markdown",
      "metadata": {
        "id": "L-fyLc8neUYn"
      },
      "source": [
        "####Split y modelo"
      ]
    },
    {
      "cell_type": "code",
      "execution_count": null,
      "metadata": {
        "colab": {
          "base_uri": "https://localhost:8080/",
          "height": 279
        },
        "id": "y0jr2hpCekkw",
        "outputId": "7a87a78f-5c7b-45ef-e33d-30137865fe0b"
      },
      "outputs": [
        {
          "output_type": "display_data",
          "data": {
            "text/plain": [
              "<Figure size 432x288 with 1 Axes>"
            ],
            "image/png": "[encoded data removed]"
          },
          "metadata": {
            "needs_background": "light"
          }
        }
      ],
      "source": [
        "plt.figure(figsize=(6,4))\n",
        "sns.countplot(x='target', data= df_D, order = df_D['target'].value_counts().index)\n",
        "plt.show()"
      ]
    },
    {
      "cell_type": "code",
      "execution_count": null,
      "metadata": {
        "id": "iryqpuuZevlv"
      },
      "outputs": [],
      "source": [
        "ind_ban=[\"ndvi_median\", \"mNDVI_median\", \"gari_median\",\"tcariOsavi_median\", \"sipi_median\", \n",
        "                \"ndii_median\", \"B04_median\", \"B08_median\", \"B11_median\"]\n",
        "\n",
        "add_d= [\"week\", \"estacion_Verano\", \"estacion_Invierno\", \"estacion_Otoño\", \"estacion_Primavera\", \"mes\"] #quitamos la variable año porque no tiene mucho peso en el modelo de la receta C\n",
        "\n",
        "x_case_D= add_d + ind_ban\n",
        "\n",
        "y_case_D=['target']"
      ]
    },
    {
      "cell_type": "code",
      "source": [
        "from sklearn.preprocessing import RobustScaler\n",
        "\n",
        "transformer = RobustScaler()"
      ],
      "metadata": {
        "id": "h4fi0_u44fEo"
      },
      "execution_count": null,
      "outputs": []
    },
    {
      "cell_type": "code",
      "source": [
        "df_D_escal=df_D.copy()"
      ],
      "metadata": {
        "id": "eCnSiW1q4nNq"
      },
      "execution_count": null,
      "outputs": []
    },
    {
      "cell_type": "code",
      "source": [
        "df_D_escal.loc[:,x_case_D]=transformer.fit_transform(df_D_escal[x_case_D])"
      ],
      "metadata": {
        "id": "lkrkLI1FzeVp"
      },
      "execution_count": null,
      "outputs": []
    },
    {
      "cell_type": "code",
      "execution_count": null,
      "metadata": {
        "id": "nfb4KBnEfPdk"
      },
      "outputs": [],
      "source": [
        "XY_train_D,XY_test_D=train_test_split(df_D_escal,test_size=0.3, stratify=df_D.target, random_state=1)\n",
        "#\n",
        "X_train_D,Y_train_D = pd_Xy_splitter(XY_train_D,x_case_D,y_case_D)\n",
        "X_test_D,Y_test_D = pd_Xy_splitter(XY_test_D,x_case_D,y_case_D)"
      ]
    },
    {
      "cell_type": "code",
      "execution_count": null,
      "metadata": {
        "colab": {
          "base_uri": "https://localhost:8080/"
        },
        "id": "mfUY9dELfQK0",
        "outputId": "b34b07d5-f328-4820-ec37-0312f05c9135"
      },
      "outputs": [
        {
          "output_type": "execute_result",
          "data": {
            "text/plain": [
              "XGBClassifier(random_state=10)"
            ]
          },
          "metadata": {},
          "execution_count": 137
        }
      ],
      "source": [
        "X_case_D=X_train_D; Y_case_D=Y_train_D ; Case= 'TRAIN';\n",
        "# Fit\n",
        "model.fit(X_case_D,Y_case_D.values.ravel())"
      ]
    },
    {
      "cell_type": "markdown",
      "metadata": {
        "id": "38IDn8BZ0sfP"
      },
      "source": [
        "Analizamos las métricas para un modelo base XGBoost de clasificación"
      ]
    },
    {
      "cell_type": "markdown",
      "metadata": {
        "id": "5uadWhcVeXcP"
      },
      "source": [
        "####Métricas de train"
      ]
    },
    {
      "cell_type": "code",
      "execution_count": null,
      "metadata": {
        "colab": {
          "base_uri": "https://localhost:8080/",
          "height": 867
        },
        "id": "HIe5KSmtej0k",
        "outputId": "183ce6e9-7097-438f-a7bb-0ba81a4c011e"
      },
      "outputs": [
        {
          "output_type": "stream",
          "name": "stdout",
          "text": [
            "TRAIN\n",
            "Reporte de clasificación  (sobre conjunto TRAIN):\n",
            "\n",
            "              precision    recall  f1-score   support\n",
            "\n",
            "    NO_VERDE       0.88      0.20      0.33     44475\n",
            "       VERDE       0.74      0.99      0.85    102507\n",
            "\n",
            "    accuracy                           0.75    146982\n",
            "   macro avg       0.81      0.60      0.59    146982\n",
            "weighted avg       0.78      0.75      0.69    146982\n",
            "\n",
            "\n",
            "================================================\n",
            "\n"
          ]
        },
        {
          "output_type": "display_data",
          "data": {
            "text/plain": [
              "<Figure size 432x288 with 1 Axes>"
            ],
            "image/png": "[encoded data removed]"
          },
          "metadata": {
            "needs_background": "light"
          }
        },
        {
          "output_type": "execute_result",
          "data": {
            "text/plain": [
              "{'NO_VERDE': {'precision': 0.8755546980513216,\n",
              "  'recall': 0.20406970207982011,\n",
              "  'f1-score': 0.3309932349884211,\n",
              "  'support': 44475},\n",
              " 'VERDE': {'precision': 0.7408868653744803,\n",
              "  'recall': 0.9874154935760485,\n",
              "  'f1-score': 0.8465685024025293,\n",
              "  'support': 102507},\n",
              " 'accuracy': 0.7503844008109837,\n",
              " 'macro avg': {'precision': 0.808220781712901,\n",
              "  'recall': 0.5957425978279343,\n",
              "  'f1-score': 0.5887808686954752,\n",
              "  'support': 146982},\n",
              " 'weighted avg': {'precision': 0.7816357452257717,\n",
              "  'recall': 0.7503844008109837,\n",
              "  'f1-score': 0.6905615762602638,\n",
              "  'support': 146982}}"
            ]
          },
          "metadata": {},
          "execution_count": 138
        }
      ],
      "source": [
        "print_plot_classification_report(model,X_case_D,Y_case_D,Case,plotFlag=True,classes_list=['NO_VERDE','VERDE'])"
      ]
    },
    {
      "cell_type": "markdown",
      "metadata": {
        "id": "Ekx3PdeCeabI"
      },
      "source": [
        "####Métricas de test"
      ]
    },
    {
      "cell_type": "code",
      "execution_count": null,
      "metadata": {
        "colab": {
          "base_uri": "https://localhost:8080/",
          "height": 867
        },
        "id": "_z9KHQ7qeenM",
        "outputId": "d0bf7cb6-fca9-4f4d-a992-ac99456fee33"
      },
      "outputs": [
        {
          "output_type": "stream",
          "name": "stdout",
          "text": [
            "TEST\n",
            "Reporte de clasificación  (sobre conjunto TEST):\n",
            "\n",
            "              precision    recall  f1-score   support\n",
            "\n",
            "    NO_VERDE       0.88      0.20      0.32     19061\n",
            "       VERDE       0.74      0.99      0.85     43932\n",
            "\n",
            "    accuracy                           0.75     62993\n",
            "   macro avg       0.81      0.59      0.59     62993\n",
            "weighted avg       0.78      0.75      0.69     62993\n",
            "\n",
            "\n",
            "================================================\n",
            "\n"
          ]
        },
        {
          "output_type": "display_data",
          "data": {
            "text/plain": [
              "<Figure size 432x288 with 1 Axes>"
            ],
            "image/png": "[encoded data removed]"
          },
          "metadata": {
            "needs_background": "light"
          }
        },
        {
          "output_type": "execute_result",
          "data": {
            "text/plain": [
              "{'NO_VERDE': {'precision': 0.8764407561088059,\n",
              "  'recall': 0.19946487592466292,\n",
              "  'f1-score': 0.3249711526133595,\n",
              "  'support': 19061},\n",
              " 'VERDE': {'precision': 0.7398516750490154,\n",
              "  'recall': 0.9877993262314486,\n",
              "  'f1-score': 0.8460331231052668,\n",
              "  'support': 43932},\n",
              " 'accuracy': 0.7492578540472751,\n",
              " 'macro avg': {'precision': 0.8081462155789106,\n",
              "  'recall': 0.5936321010780558,\n",
              "  'f1-score': 0.5855021378593132,\n",
              "  'support': 62993},\n",
              " 'weighted avg': {'precision': 0.7811820526160573,\n",
              "  'recall': 0.7492578540472751,\n",
              "  'f1-score': 0.6883654105094824,\n",
              "  'support': 62993}}"
            ]
          },
          "metadata": {},
          "execution_count": 139
        }
      ],
      "source": [
        "X_case_test_D=X_test_D; Y_case_test_D=Y_test_D ; Case_test='TEST'\n",
        "\n",
        "print_plot_classification_report(model,X_case_test_D,Y_case_test_D,Case_test,plotFlag=True,classes_list=['NO_VERDE','VERDE'])"
      ]
    },
    {
      "cell_type": "markdown",
      "metadata": {
        "id": "QWtHo7Hr0uLU"
      },
      "source": [
        "####Optimización de hiperparámetros"
      ]
    },
    {
      "cell_type": "markdown",
      "metadata": {
        "id": "zCYtyNFj03HJ"
      },
      "source": [
        "Usamos RandomizedSearch de la misma forma que lo utilizamos para el resto de las recetas, sólo que cambiamos los conjuntos de entrenamiento y test correspondiente a la receta D."
      ]
    },
    {
      "cell_type": "code",
      "execution_count": null,
      "metadata": {
        "id": "IOdfZ1QQ1A_r"
      },
      "outputs": [],
      "source": [
        "rs_D=rs_A"
      ]
    },
    {
      "cell_type": "code",
      "execution_count": null,
      "metadata": {
        "colab": {
          "base_uri": "https://localhost:8080/"
        },
        "id": "Okh4KzAm08f-",
        "outputId": "d7676fa0-b53f-4356-bb1b-8aa249bbe632"
      },
      "outputs": [
        {
          "output_type": "stream",
          "name": "stderr",
          "text": [
            "/usr/local/lib/python3.7/dist-packages/sklearn/preprocessing/_label.py:98: DataConversionWarning: A column-vector y was passed when a 1d array was expected. Please change the shape of y to (n_samples, ), for example using ravel().\n",
            "  y = column_or_1d(y, warn=True)\n",
            "/usr/local/lib/python3.7/dist-packages/sklearn/preprocessing/_label.py:133: DataConversionWarning: A column-vector y was passed when a 1d array was expected. Please change the shape of y to (n_samples, ), for example using ravel().\n",
            "  y = column_or_1d(y, warn=True)\n",
            "/usr/local/lib/python3.7/dist-packages/sklearn/preprocessing/_label.py:98: DataConversionWarning: A column-vector y was passed when a 1d array was expected. Please change the shape of y to (n_samples, ), for example using ravel().\n",
            "  y = column_or_1d(y, warn=True)\n",
            "/usr/local/lib/python3.7/dist-packages/sklearn/preprocessing/_label.py:133: DataConversionWarning: A column-vector y was passed when a 1d array was expected. Please change the shape of y to (n_samples, ), for example using ravel().\n",
            "  y = column_or_1d(y, warn=True)\n",
            "/usr/local/lib/python3.7/dist-packages/sklearn/preprocessing/_label.py:98: DataConversionWarning: A column-vector y was passed when a 1d array was expected. Please change the shape of y to (n_samples, ), for example using ravel().\n",
            "  y = column_or_1d(y, warn=True)\n",
            "/usr/local/lib/python3.7/dist-packages/sklearn/preprocessing/_label.py:133: DataConversionWarning: A column-vector y was passed when a 1d array was expected. Please change the shape of y to (n_samples, ), for example using ravel().\n",
            "  y = column_or_1d(y, warn=True)\n",
            "/usr/local/lib/python3.7/dist-packages/sklearn/preprocessing/_label.py:98: DataConversionWarning: A column-vector y was passed when a 1d array was expected. Please change the shape of y to (n_samples, ), for example using ravel().\n",
            "  y = column_or_1d(y, warn=True)\n",
            "/usr/local/lib/python3.7/dist-packages/sklearn/preprocessing/_label.py:133: DataConversionWarning: A column-vector y was passed when a 1d array was expected. Please change the shape of y to (n_samples, ), for example using ravel().\n",
            "  y = column_or_1d(y, warn=True)\n",
            "/usr/local/lib/python3.7/dist-packages/sklearn/preprocessing/_label.py:98: DataConversionWarning: A column-vector y was passed when a 1d array was expected. Please change the shape of y to (n_samples, ), for example using ravel().\n",
            "  y = column_or_1d(y, warn=True)\n",
            "/usr/local/lib/python3.7/dist-packages/sklearn/preprocessing/_label.py:133: DataConversionWarning: A column-vector y was passed when a 1d array was expected. Please change the shape of y to (n_samples, ), for example using ravel().\n",
            "  y = column_or_1d(y, warn=True)\n",
            "/usr/local/lib/python3.7/dist-packages/sklearn/preprocessing/_label.py:98: DataConversionWarning: A column-vector y was passed when a 1d array was expected. Please change the shape of y to (n_samples, ), for example using ravel().\n",
            "  y = column_or_1d(y, warn=True)\n",
            "/usr/local/lib/python3.7/dist-packages/sklearn/preprocessing/_label.py:133: DataConversionWarning: A column-vector y was passed when a 1d array was expected. Please change the shape of y to (n_samples, ), for example using ravel().\n",
            "  y = column_or_1d(y, warn=True)\n",
            "/usr/local/lib/python3.7/dist-packages/sklearn/preprocessing/_label.py:98: DataConversionWarning: A column-vector y was passed when a 1d array was expected. Please change the shape of y to (n_samples, ), for example using ravel().\n",
            "  y = column_or_1d(y, warn=True)\n",
            "/usr/local/lib/python3.7/dist-packages/sklearn/preprocessing/_label.py:133: DataConversionWarning: A column-vector y was passed when a 1d array was expected. Please change the shape of y to (n_samples, ), for example using ravel().\n",
            "  y = column_or_1d(y, warn=True)\n",
            "/usr/local/lib/python3.7/dist-packages/sklearn/preprocessing/_label.py:98: DataConversionWarning: A column-vector y was passed when a 1d array was expected. Please change the shape of y to (n_samples, ), for example using ravel().\n",
            "  y = column_or_1d(y, warn=True)\n",
            "/usr/local/lib/python3.7/dist-packages/sklearn/preprocessing/_label.py:133: DataConversionWarning: A column-vector y was passed when a 1d array was expected. Please change the shape of y to (n_samples, ), for example using ravel().\n",
            "  y = column_or_1d(y, warn=True)\n",
            "/usr/local/lib/python3.7/dist-packages/sklearn/preprocessing/_label.py:98: DataConversionWarning: A column-vector y was passed when a 1d array was expected. Please change the shape of y to (n_samples, ), for example using ravel().\n",
            "  y = column_or_1d(y, warn=True)\n",
            "/usr/local/lib/python3.7/dist-packages/sklearn/preprocessing/_label.py:133: DataConversionWarning: A column-vector y was passed when a 1d array was expected. Please change the shape of y to (n_samples, ), for example using ravel().\n",
            "  y = column_or_1d(y, warn=True)\n",
            "/usr/local/lib/python3.7/dist-packages/sklearn/preprocessing/_label.py:98: DataConversionWarning: A column-vector y was passed when a 1d array was expected. Please change the shape of y to (n_samples, ), for example using ravel().\n",
            "  y = column_or_1d(y, warn=True)\n",
            "/usr/local/lib/python3.7/dist-packages/sklearn/preprocessing/_label.py:133: DataConversionWarning: A column-vector y was passed when a 1d array was expected. Please change the shape of y to (n_samples, ), for example using ravel().\n",
            "  y = column_or_1d(y, warn=True)\n",
            "/usr/local/lib/python3.7/dist-packages/sklearn/preprocessing/_label.py:98: DataConversionWarning: A column-vector y was passed when a 1d array was expected. Please change the shape of y to (n_samples, ), for example using ravel().\n",
            "  y = column_or_1d(y, warn=True)\n",
            "/usr/local/lib/python3.7/dist-packages/sklearn/preprocessing/_label.py:133: DataConversionWarning: A column-vector y was passed when a 1d array was expected. Please change the shape of y to (n_samples, ), for example using ravel().\n",
            "  y = column_or_1d(y, warn=True)\n",
            "/usr/local/lib/python3.7/dist-packages/sklearn/preprocessing/_label.py:98: DataConversionWarning: A column-vector y was passed when a 1d array was expected. Please change the shape of y to (n_samples, ), for example using ravel().\n",
            "  y = column_or_1d(y, warn=True)\n",
            "/usr/local/lib/python3.7/dist-packages/sklearn/preprocessing/_label.py:133: DataConversionWarning: A column-vector y was passed when a 1d array was expected. Please change the shape of y to (n_samples, ), for example using ravel().\n",
            "  y = column_or_1d(y, warn=True)\n",
            "/usr/local/lib/python3.7/dist-packages/sklearn/preprocessing/_label.py:98: DataConversionWarning: A column-vector y was passed when a 1d array was expected. Please change the shape of y to (n_samples, ), for example using ravel().\n",
            "  y = column_or_1d(y, warn=True)\n",
            "/usr/local/lib/python3.7/dist-packages/sklearn/preprocessing/_label.py:133: DataConversionWarning: A column-vector y was passed when a 1d array was expected. Please change the shape of y to (n_samples, ), for example using ravel().\n",
            "  y = column_or_1d(y, warn=True)\n",
            "/usr/local/lib/python3.7/dist-packages/sklearn/preprocessing/_label.py:98: DataConversionWarning: A column-vector y was passed when a 1d array was expected. Please change the shape of y to (n_samples, ), for example using ravel().\n",
            "  y = column_or_1d(y, warn=True)\n",
            "/usr/local/lib/python3.7/dist-packages/sklearn/preprocessing/_label.py:133: DataConversionWarning: A column-vector y was passed when a 1d array was expected. Please change the shape of y to (n_samples, ), for example using ravel().\n",
            "  y = column_or_1d(y, warn=True)\n",
            "/usr/local/lib/python3.7/dist-packages/sklearn/preprocessing/_label.py:98: DataConversionWarning: A column-vector y was passed when a 1d array was expected. Please change the shape of y to (n_samples, ), for example using ravel().\n",
            "  y = column_or_1d(y, warn=True)\n",
            "/usr/local/lib/python3.7/dist-packages/sklearn/preprocessing/_label.py:133: DataConversionWarning: A column-vector y was passed when a 1d array was expected. Please change the shape of y to (n_samples, ), for example using ravel().\n",
            "  y = column_or_1d(y, warn=True)\n",
            "/usr/local/lib/python3.7/dist-packages/sklearn/preprocessing/_label.py:98: DataConversionWarning: A column-vector y was passed when a 1d array was expected. Please change the shape of y to (n_samples, ), for example using ravel().\n",
            "  y = column_or_1d(y, warn=True)\n",
            "/usr/local/lib/python3.7/dist-packages/sklearn/preprocessing/_label.py:133: DataConversionWarning: A column-vector y was passed when a 1d array was expected. Please change the shape of y to (n_samples, ), for example using ravel().\n",
            "  y = column_or_1d(y, warn=True)\n",
            "/usr/local/lib/python3.7/dist-packages/sklearn/preprocessing/_label.py:98: DataConversionWarning: A column-vector y was passed when a 1d array was expected. Please change the shape of y to (n_samples, ), for example using ravel().\n",
            "  y = column_or_1d(y, warn=True)\n",
            "/usr/local/lib/python3.7/dist-packages/sklearn/preprocessing/_label.py:133: DataConversionWarning: A column-vector y was passed when a 1d array was expected. Please change the shape of y to (n_samples, ), for example using ravel().\n",
            "  y = column_or_1d(y, warn=True)\n",
            "/usr/local/lib/python3.7/dist-packages/sklearn/preprocessing/_label.py:98: DataConversionWarning: A column-vector y was passed when a 1d array was expected. Please change the shape of y to (n_samples, ), for example using ravel().\n",
            "  y = column_or_1d(y, warn=True)\n",
            "/usr/local/lib/python3.7/dist-packages/sklearn/preprocessing/_label.py:133: DataConversionWarning: A column-vector y was passed when a 1d array was expected. Please change the shape of y to (n_samples, ), for example using ravel().\n",
            "  y = column_or_1d(y, warn=True)\n",
            "/usr/local/lib/python3.7/dist-packages/sklearn/preprocessing/_label.py:98: DataConversionWarning: A column-vector y was passed when a 1d array was expected. Please change the shape of y to (n_samples, ), for example using ravel().\n",
            "  y = column_or_1d(y, warn=True)\n",
            "/usr/local/lib/python3.7/dist-packages/sklearn/preprocessing/_label.py:133: DataConversionWarning: A column-vector y was passed when a 1d array was expected. Please change the shape of y to (n_samples, ), for example using ravel().\n",
            "  y = column_or_1d(y, warn=True)\n",
            "/usr/local/lib/python3.7/dist-packages/sklearn/preprocessing/_label.py:98: DataConversionWarning: A column-vector y was passed when a 1d array was expected. Please change the shape of y to (n_samples, ), for example using ravel().\n",
            "  y = column_or_1d(y, warn=True)\n",
            "/usr/local/lib/python3.7/dist-packages/sklearn/preprocessing/_label.py:133: DataConversionWarning: A column-vector y was passed when a 1d array was expected. Please change the shape of y to (n_samples, ), for example using ravel().\n",
            "  y = column_or_1d(y, warn=True)\n",
            "/usr/local/lib/python3.7/dist-packages/sklearn/preprocessing/_label.py:98: DataConversionWarning: A column-vector y was passed when a 1d array was expected. Please change the shape of y to (n_samples, ), for example using ravel().\n",
            "  y = column_or_1d(y, warn=True)\n",
            "/usr/local/lib/python3.7/dist-packages/sklearn/preprocessing/_label.py:133: DataConversionWarning: A column-vector y was passed when a 1d array was expected. Please change the shape of y to (n_samples, ), for example using ravel().\n",
            "  y = column_or_1d(y, warn=True)\n",
            "/usr/local/lib/python3.7/dist-packages/sklearn/preprocessing/_label.py:98: DataConversionWarning: A column-vector y was passed when a 1d array was expected. Please change the shape of y to (n_samples, ), for example using ravel().\n",
            "  y = column_or_1d(y, warn=True)\n",
            "/usr/local/lib/python3.7/dist-packages/sklearn/preprocessing/_label.py:133: DataConversionWarning: A column-vector y was passed when a 1d array was expected. Please change the shape of y to (n_samples, ), for example using ravel().\n",
            "  y = column_or_1d(y, warn=True)\n",
            "/usr/local/lib/python3.7/dist-packages/sklearn/preprocessing/_label.py:98: DataConversionWarning: A column-vector y was passed when a 1d array was expected. Please change the shape of y to (n_samples, ), for example using ravel().\n",
            "  y = column_or_1d(y, warn=True)\n",
            "/usr/local/lib/python3.7/dist-packages/sklearn/preprocessing/_label.py:133: DataConversionWarning: A column-vector y was passed when a 1d array was expected. Please change the shape of y to (n_samples, ), for example using ravel().\n",
            "  y = column_or_1d(y, warn=True)\n",
            "/usr/local/lib/python3.7/dist-packages/sklearn/preprocessing/_label.py:98: DataConversionWarning: A column-vector y was passed when a 1d array was expected. Please change the shape of y to (n_samples, ), for example using ravel().\n",
            "  y = column_or_1d(y, warn=True)\n",
            "/usr/local/lib/python3.7/dist-packages/sklearn/preprocessing/_label.py:133: DataConversionWarning: A column-vector y was passed when a 1d array was expected. Please change the shape of y to (n_samples, ), for example using ravel().\n",
            "  y = column_or_1d(y, warn=True)\n",
            "/usr/local/lib/python3.7/dist-packages/sklearn/preprocessing/_label.py:98: DataConversionWarning: A column-vector y was passed when a 1d array was expected. Please change the shape of y to (n_samples, ), for example using ravel().\n",
            "  y = column_or_1d(y, warn=True)\n",
            "/usr/local/lib/python3.7/dist-packages/sklearn/preprocessing/_label.py:133: DataConversionWarning: A column-vector y was passed when a 1d array was expected. Please change the shape of y to (n_samples, ), for example using ravel().\n",
            "  y = column_or_1d(y, warn=True)\n",
            "/usr/local/lib/python3.7/dist-packages/sklearn/preprocessing/_label.py:98: DataConversionWarning: A column-vector y was passed when a 1d array was expected. Please change the shape of y to (n_samples, ), for example using ravel().\n",
            "  y = column_or_1d(y, warn=True)\n",
            "/usr/local/lib/python3.7/dist-packages/sklearn/preprocessing/_label.py:133: DataConversionWarning: A column-vector y was passed when a 1d array was expected. Please change the shape of y to (n_samples, ), for example using ravel().\n",
            "  y = column_or_1d(y, warn=True)\n",
            "/usr/local/lib/python3.7/dist-packages/sklearn/preprocessing/_label.py:98: DataConversionWarning: A column-vector y was passed when a 1d array was expected. Please change the shape of y to (n_samples, ), for example using ravel().\n",
            "  y = column_or_1d(y, warn=True)\n",
            "/usr/local/lib/python3.7/dist-packages/sklearn/preprocessing/_label.py:133: DataConversionWarning: A column-vector y was passed when a 1d array was expected. Please change the shape of y to (n_samples, ), for example using ravel().\n",
            "  y = column_or_1d(y, warn=True)\n",
            "/usr/local/lib/python3.7/dist-packages/sklearn/preprocessing/_label.py:98: DataConversionWarning: A column-vector y was passed when a 1d array was expected. Please change the shape of y to (n_samples, ), for example using ravel().\n",
            "  y = column_or_1d(y, warn=True)\n",
            "/usr/local/lib/python3.7/dist-packages/sklearn/preprocessing/_label.py:133: DataConversionWarning: A column-vector y was passed when a 1d array was expected. Please change the shape of y to (n_samples, ), for example using ravel().\n",
            "  y = column_or_1d(y, warn=True)\n",
            "/usr/local/lib/python3.7/dist-packages/sklearn/preprocessing/_label.py:98: DataConversionWarning: A column-vector y was passed when a 1d array was expected. Please change the shape of y to (n_samples, ), for example using ravel().\n",
            "  y = column_or_1d(y, warn=True)\n",
            "/usr/local/lib/python3.7/dist-packages/sklearn/preprocessing/_label.py:133: DataConversionWarning: A column-vector y was passed when a 1d array was expected. Please change the shape of y to (n_samples, ), for example using ravel().\n",
            "  y = column_or_1d(y, warn=True)\n",
            "/usr/local/lib/python3.7/dist-packages/sklearn/preprocessing/_label.py:98: DataConversionWarning: A column-vector y was passed when a 1d array was expected. Please change the shape of y to (n_samples, ), for example using ravel().\n",
            "  y = column_or_1d(y, warn=True)\n",
            "/usr/local/lib/python3.7/dist-packages/sklearn/preprocessing/_label.py:133: DataConversionWarning: A column-vector y was passed when a 1d array was expected. Please change the shape of y to (n_samples, ), for example using ravel().\n",
            "  y = column_or_1d(y, warn=True)\n",
            "/usr/local/lib/python3.7/dist-packages/sklearn/preprocessing/_label.py:98: DataConversionWarning: A column-vector y was passed when a 1d array was expected. Please change the shape of y to (n_samples, ), for example using ravel().\n",
            "  y = column_or_1d(y, warn=True)\n",
            "/usr/local/lib/python3.7/dist-packages/sklearn/preprocessing/_label.py:133: DataConversionWarning: A column-vector y was passed when a 1d array was expected. Please change the shape of y to (n_samples, ), for example using ravel().\n",
            "  y = column_or_1d(y, warn=True)\n",
            "/usr/local/lib/python3.7/dist-packages/sklearn/preprocessing/_label.py:98: DataConversionWarning: A column-vector y was passed when a 1d array was expected. Please change the shape of y to (n_samples, ), for example using ravel().\n",
            "  y = column_or_1d(y, warn=True)\n",
            "/usr/local/lib/python3.7/dist-packages/sklearn/preprocessing/_label.py:133: DataConversionWarning: A column-vector y was passed when a 1d array was expected. Please change the shape of y to (n_samples, ), for example using ravel().\n",
            "  y = column_or_1d(y, warn=True)\n",
            "/usr/local/lib/python3.7/dist-packages/sklearn/preprocessing/_label.py:98: DataConversionWarning: A column-vector y was passed when a 1d array was expected. Please change the shape of y to (n_samples, ), for example using ravel().\n",
            "  y = column_or_1d(y, warn=True)\n",
            "/usr/local/lib/python3.7/dist-packages/sklearn/preprocessing/_label.py:133: DataConversionWarning: A column-vector y was passed when a 1d array was expected. Please change the shape of y to (n_samples, ), for example using ravel().\n",
            "  y = column_or_1d(y, warn=True)\n",
            "/usr/local/lib/python3.7/dist-packages/sklearn/preprocessing/_label.py:98: DataConversionWarning: A column-vector y was passed when a 1d array was expected. Please change the shape of y to (n_samples, ), for example using ravel().\n",
            "  y = column_or_1d(y, warn=True)\n",
            "/usr/local/lib/python3.7/dist-packages/sklearn/preprocessing/_label.py:133: DataConversionWarning: A column-vector y was passed when a 1d array was expected. Please change the shape of y to (n_samples, ), for example using ravel().\n",
            "  y = column_or_1d(y, warn=True)\n",
            "/usr/local/lib/python3.7/dist-packages/sklearn/preprocessing/_label.py:98: DataConversionWarning: A column-vector y was passed when a 1d array was expected. Please change the shape of y to (n_samples, ), for example using ravel().\n",
            "  y = column_or_1d(y, warn=True)\n",
            "/usr/local/lib/python3.7/dist-packages/sklearn/preprocessing/_label.py:133: DataConversionWarning: A column-vector y was passed when a 1d array was expected. Please change the shape of y to (n_samples, ), for example using ravel().\n",
            "  y = column_or_1d(y, warn=True)\n",
            "/usr/local/lib/python3.7/dist-packages/sklearn/preprocessing/_label.py:98: DataConversionWarning: A column-vector y was passed when a 1d array was expected. Please change the shape of y to (n_samples, ), for example using ravel().\n",
            "  y = column_or_1d(y, warn=True)\n",
            "/usr/local/lib/python3.7/dist-packages/sklearn/preprocessing/_label.py:133: DataConversionWarning: A column-vector y was passed when a 1d array was expected. Please change the shape of y to (n_samples, ), for example using ravel().\n",
            "  y = column_or_1d(y, warn=True)\n",
            "/usr/local/lib/python3.7/dist-packages/sklearn/preprocessing/_label.py:98: DataConversionWarning: A column-vector y was passed when a 1d array was expected. Please change the shape of y to (n_samples, ), for example using ravel().\n",
            "  y = column_or_1d(y, warn=True)\n",
            "/usr/local/lib/python3.7/dist-packages/sklearn/preprocessing/_label.py:133: DataConversionWarning: A column-vector y was passed when a 1d array was expected. Please change the shape of y to (n_samples, ), for example using ravel().\n",
            "  y = column_or_1d(y, warn=True)\n",
            "/usr/local/lib/python3.7/dist-packages/sklearn/preprocessing/_label.py:98: DataConversionWarning: A column-vector y was passed when a 1d array was expected. Please change the shape of y to (n_samples, ), for example using ravel().\n",
            "  y = column_or_1d(y, warn=True)\n",
            "/usr/local/lib/python3.7/dist-packages/sklearn/preprocessing/_label.py:133: DataConversionWarning: A column-vector y was passed when a 1d array was expected. Please change the shape of y to (n_samples, ), for example using ravel().\n",
            "  y = column_or_1d(y, warn=True)\n",
            "/usr/local/lib/python3.7/dist-packages/sklearn/preprocessing/_label.py:98: DataConversionWarning: A column-vector y was passed when a 1d array was expected. Please change the shape of y to (n_samples, ), for example using ravel().\n",
            "  y = column_or_1d(y, warn=True)\n",
            "/usr/local/lib/python3.7/dist-packages/sklearn/preprocessing/_label.py:133: DataConversionWarning: A column-vector y was passed when a 1d array was expected. Please change the shape of y to (n_samples, ), for example using ravel().\n",
            "  y = column_or_1d(y, warn=True)\n",
            "/usr/local/lib/python3.7/dist-packages/sklearn/preprocessing/_label.py:98: DataConversionWarning: A column-vector y was passed when a 1d array was expected. Please change the shape of y to (n_samples, ), for example using ravel().\n",
            "  y = column_or_1d(y, warn=True)\n",
            "/usr/local/lib/python3.7/dist-packages/sklearn/preprocessing/_label.py:133: DataConversionWarning: A column-vector y was passed when a 1d array was expected. Please change the shape of y to (n_samples, ), for example using ravel().\n",
            "  y = column_or_1d(y, warn=True)\n",
            "/usr/local/lib/python3.7/dist-packages/sklearn/preprocessing/_label.py:98: DataConversionWarning: A column-vector y was passed when a 1d array was expected. Please change the shape of y to (n_samples, ), for example using ravel().\n",
            "  y = column_or_1d(y, warn=True)\n",
            "/usr/local/lib/python3.7/dist-packages/sklearn/preprocessing/_label.py:133: DataConversionWarning: A column-vector y was passed when a 1d array was expected. Please change the shape of y to (n_samples, ), for example using ravel().\n",
            "  y = column_or_1d(y, warn=True)\n",
            "/usr/local/lib/python3.7/dist-packages/sklearn/preprocessing/_label.py:98: DataConversionWarning: A column-vector y was passed when a 1d array was expected. Please change the shape of y to (n_samples, ), for example using ravel().\n",
            "  y = column_or_1d(y, warn=True)\n",
            "/usr/local/lib/python3.7/dist-packages/sklearn/preprocessing/_label.py:133: DataConversionWarning: A column-vector y was passed when a 1d array was expected. Please change the shape of y to (n_samples, ), for example using ravel().\n",
            "  y = column_or_1d(y, warn=True)\n",
            "/usr/local/lib/python3.7/dist-packages/sklearn/preprocessing/_label.py:98: DataConversionWarning: A column-vector y was passed when a 1d array was expected. Please change the shape of y to (n_samples, ), for example using ravel().\n",
            "  y = column_or_1d(y, warn=True)\n",
            "/usr/local/lib/python3.7/dist-packages/sklearn/preprocessing/_label.py:133: DataConversionWarning: A column-vector y was passed when a 1d array was expected. Please change the shape of y to (n_samples, ), for example using ravel().\n",
            "  y = column_or_1d(y, warn=True)\n",
            "/usr/local/lib/python3.7/dist-packages/sklearn/preprocessing/_label.py:98: DataConversionWarning: A column-vector y was passed when a 1d array was expected. Please change the shape of y to (n_samples, ), for example using ravel().\n",
            "  y = column_or_1d(y, warn=True)\n",
            "/usr/local/lib/python3.7/dist-packages/sklearn/preprocessing/_label.py:133: DataConversionWarning: A column-vector y was passed when a 1d array was expected. Please change the shape of y to (n_samples, ), for example using ravel().\n",
            "  y = column_or_1d(y, warn=True)\n",
            "/usr/local/lib/python3.7/dist-packages/sklearn/preprocessing/_label.py:98: DataConversionWarning: A column-vector y was passed when a 1d array was expected. Please change the shape of y to (n_samples, ), for example using ravel().\n",
            "  y = column_or_1d(y, warn=True)\n",
            "/usr/local/lib/python3.7/dist-packages/sklearn/preprocessing/_label.py:133: DataConversionWarning: A column-vector y was passed when a 1d array was expected. Please change the shape of y to (n_samples, ), for example using ravel().\n",
            "  y = column_or_1d(y, warn=True)\n",
            "/usr/local/lib/python3.7/dist-packages/sklearn/preprocessing/_label.py:98: DataConversionWarning: A column-vector y was passed when a 1d array was expected. Please change the shape of y to (n_samples, ), for example using ravel().\n",
            "  y = column_or_1d(y, warn=True)\n",
            "/usr/local/lib/python3.7/dist-packages/sklearn/preprocessing/_label.py:133: DataConversionWarning: A column-vector y was passed when a 1d array was expected. Please change the shape of y to (n_samples, ), for example using ravel().\n",
            "  y = column_or_1d(y, warn=True)\n",
            "/usr/local/lib/python3.7/dist-packages/sklearn/preprocessing/_label.py:98: DataConversionWarning: A column-vector y was passed when a 1d array was expected. Please change the shape of y to (n_samples, ), for example using ravel().\n",
            "  y = column_or_1d(y, warn=True)\n",
            "/usr/local/lib/python3.7/dist-packages/sklearn/preprocessing/_label.py:133: DataConversionWarning: A column-vector y was passed when a 1d array was expected. Please change the shape of y to (n_samples, ), for example using ravel().\n",
            "  y = column_or_1d(y, warn=True)\n",
            "/usr/local/lib/python3.7/dist-packages/sklearn/preprocessing/_label.py:98: DataConversionWarning: A column-vector y was passed when a 1d array was expected. Please change the shape of y to (n_samples, ), for example using ravel().\n",
            "  y = column_or_1d(y, warn=True)\n",
            "/usr/local/lib/python3.7/dist-packages/sklearn/preprocessing/_label.py:133: DataConversionWarning: A column-vector y was passed when a 1d array was expected. Please change the shape of y to (n_samples, ), for example using ravel().\n",
            "  y = column_or_1d(y, warn=True)\n",
            "/usr/local/lib/python3.7/dist-packages/sklearn/preprocessing/_label.py:98: DataConversionWarning: A column-vector y was passed when a 1d array was expected. Please change the shape of y to (n_samples, ), for example using ravel().\n",
            "  y = column_or_1d(y, warn=True)\n",
            "/usr/local/lib/python3.7/dist-packages/sklearn/preprocessing/_label.py:133: DataConversionWarning: A column-vector y was passed when a 1d array was expected. Please change the shape of y to (n_samples, ), for example using ravel().\n",
            "  y = column_or_1d(y, warn=True)\n",
            "/usr/local/lib/python3.7/dist-packages/sklearn/preprocessing/_label.py:98: DataConversionWarning: A column-vector y was passed when a 1d array was expected. Please change the shape of y to (n_samples, ), for example using ravel().\n",
            "  y = column_or_1d(y, warn=True)\n",
            "/usr/local/lib/python3.7/dist-packages/sklearn/preprocessing/_label.py:133: DataConversionWarning: A column-vector y was passed when a 1d array was expected. Please change the shape of y to (n_samples, ), for example using ravel().\n",
            "  y = column_or_1d(y, warn=True)\n",
            "/usr/local/lib/python3.7/dist-packages/sklearn/preprocessing/_label.py:98: DataConversionWarning: A column-vector y was passed when a 1d array was expected. Please change the shape of y to (n_samples, ), for example using ravel().\n",
            "  y = column_or_1d(y, warn=True)\n",
            "/usr/local/lib/python3.7/dist-packages/sklearn/preprocessing/_label.py:133: DataConversionWarning: A column-vector y was passed when a 1d array was expected. Please change the shape of y to (n_samples, ), for example using ravel().\n",
            "  y = column_or_1d(y, warn=True)\n"
          ]
        },
        {
          "output_type": "execute_result",
          "data": {
            "text/plain": [
              "RandomizedSearchCV(cv=5, estimator=XGBClassifier(random_state=10),\n",
              "                   param_distributions={'learning_rate': [0.0001, 0.001, 0.01,\n",
              "                                                          0.1, 1],\n",
              "                                        'max_depth': range(2, 5),\n",
              "                                        'n_estimators': range(50, 300, 50),\n",
              "                                        'objetive': ['binary:logistic',\n",
              "                                                     'binary:hinge']},\n",
              "                   random_state=10, scoring='accuracy', verbose=False)"
            ]
          },
          "metadata": {},
          "execution_count": 141
        }
      ],
      "source": [
        "rs_D.fit(X_train_D, Y_train_D)"
      ]
    },
    {
      "cell_type": "markdown",
      "metadata": {
        "id": "BKbUPXzs1OQf"
      },
      "source": [
        "Resultados de la optimización"
      ]
    },
    {
      "cell_type": "code",
      "execution_count": null,
      "metadata": {
        "id": "Nc1pLHhV1NEK",
        "colab": {
          "base_uri": "https://localhost:8080/",
          "height": 206
        },
        "outputId": "801543d4-c348-49b5-fdba-809e7e5b63e7"
      },
      "outputs": [
        {
          "output_type": "execute_result",
          "data": {
            "text/plain": [
              "  param_learning_rate   param_objetive param_max_depth param_n_estimators  \\\n",
              "1                 0.1     binary:hinge               4                 50   \n",
              "0                0.01     binary:hinge               4                200   \n",
              "6                0.01  binary:logistic               3                100   \n",
              "3                 0.1     binary:hinge               2                 50   \n",
              "9               0.001     binary:hinge               4                150   \n",
              "\n",
              "   mean_test_score  std_test_score  rank_test_score  \n",
              "1         0.746799        0.001288                1  \n",
              "0         0.729865        0.001640                2  \n",
              "6         0.721326        0.001755                3  \n",
              "3         0.720993        0.001243                4  \n",
              "9         0.720830        0.002602                5  "
            ],
            "text/html": [
              "\n",
              "  <div id=\"df-5ef7f57d-4a8d-4fdc-9b3f-085a93f760c5\">\n",
              "    <div class=\"colab-df-container\">\n",
              "      <div>\n",
              "<style scoped>\n",
              "    .dataframe tbody tr th:only-of-type {\n",
              "        vertical-align: middle;\n",
              "    }\n",
              "\n",
              "    .dataframe tbody tr th {\n",
              "        vertical-align: top;\n",
              "    }\n",
              "\n",
              "    .dataframe thead th {\n",
              "        text-align: right;\n",
              "    }\n",
              "</style>\n",
              "<table border=\"1\" class=\"dataframe\">\n",
              "  <thead>\n",
              "    <tr style=\"text-align: right;\">\n",
              "      <th></th>\n",
              "      <th>param_learning_rate</th>\n",
              "      <th>param_objetive</th>\n",
              "      <th>param_max_depth</th>\n",
              "      <th>param_n_estimators</th>\n",
              "      <th>mean_test_score</th>\n",
              "      <th>std_test_score</th>\n",
              "      <th>rank_test_score</th>\n",
              "    </tr>\n",
              "  </thead>\n",
              "  <tbody>\n",
              "    <tr>\n",
              "      <th>1</th>\n",
              "      <td>0.1</td>\n",
              "      <td>binary:hinge</td>\n",
              "      <td>4</td>\n",
              "      <td>50</td>\n",
              "      <td>0.746799</td>\n",
              "      <td>0.001288</td>\n",
              "      <td>1</td>\n",
              "    </tr>\n",
              "    <tr>\n",
              "      <th>0</th>\n",
              "      <td>0.01</td>\n",
              "      <td>binary:hinge</td>\n",
              "      <td>4</td>\n",
              "      <td>200</td>\n",
              "      <td>0.729865</td>\n",
              "      <td>0.001640</td>\n",
              "      <td>2</td>\n",
              "    </tr>\n",
              "    <tr>\n",
              "      <th>6</th>\n",
              "      <td>0.01</td>\n",
              "      <td>binary:logistic</td>\n",
              "      <td>3</td>\n",
              "      <td>100</td>\n",
              "      <td>0.721326</td>\n",
              "      <td>0.001755</td>\n",
              "      <td>3</td>\n",
              "    </tr>\n",
              "    <tr>\n",
              "      <th>3</th>\n",
              "      <td>0.1</td>\n",
              "      <td>binary:hinge</td>\n",
              "      <td>2</td>\n",
              "      <td>50</td>\n",
              "      <td>0.720993</td>\n",
              "      <td>0.001243</td>\n",
              "      <td>4</td>\n",
              "    </tr>\n",
              "    <tr>\n",
              "      <th>9</th>\n",
              "      <td>0.001</td>\n",
              "      <td>binary:hinge</td>\n",
              "      <td>4</td>\n",
              "      <td>150</td>\n",
              "      <td>0.720830</td>\n",
              "      <td>0.002602</td>\n",
              "      <td>5</td>\n",
              "    </tr>\n",
              "  </tbody>\n",
              "</table>\n",
              "</div>\n",
              "      <button class=\"colab-df-convert\" onclick=\"convertToInteractive('df-5ef7f57d-4a8d-4fdc-9b3f-085a93f760c5')\"\n",
              "              title=\"Convert this dataframe to an interactive table.\"\n",
              "              style=\"display:none;\">\n",
              "        \n",
              "  <svg xmlns=\"http://www.w3.org/2000/svg\" height=\"24px\"viewBox=\"0 0 24 24\"\n",
              "       width=\"24px\">\n",
              "    <path d=\"M0 0h24v24H0V0z\" fill=\"none\"/>\n",
              "    <path d=\"M18.56 5.44l.94 2.06.94-2.06 2.06-.94-2.06-.94-.94-2.06-.94 2.06-2.06.94zm-11 1L8.5 8.5l.94-2.06 2.06-.94-2.06-.94L8.5 2.5l-.94 2.06-2.06.94zm10 10l.94 2.06.94-2.06 2.06-.94-2.06-.94-.94-2.06-.94 2.06-2.06.94z\"/><path d=\"M17.41 7.96l-1.37-1.37c-.4-.4-.92-.59-1.43-.59-.52 0-1.04.2-1.43.59L10.3 9.45l-7.72 7.72c-.78.78-.78 2.05 0 2.83L4 21.41c.39.39.9.59 1.41.59.51 0 1.02-.2 1.41-.59l7.78-7.78 2.81-2.81c.8-.78.8-2.07 0-2.86zM5.41 20L4 18.59l7.72-7.72 1.47 1.35L5.41 20z\"/>\n",
              "  </svg>\n",
              "      </button>\n",
              "      \n",
              "  <style>\n",
              "    .colab-df-container {\n",
              "      display:flex;\n",
              "      flex-wrap:wrap;\n",
              "      gap: 12px;\n",
              "    }\n",
              "\n",
              "    .colab-df-convert {\n",
              "      background-color: #E8F0FE;\n",
              "      border: none;\n",
              "      border-radius: 50%;\n",
              "      cursor: pointer;\n",
              "      display: none;\n",
              "      fill: #1967D2;\n",
              "      height: 32px;\n",
              "      padding: 0 0 0 0;\n",
              "      width: 32px;\n",
              "    }\n",
              "\n",
              "    .colab-df-convert:hover {\n",
              "      background-color: #E2EBFA;\n",
              "      box-shadow: 0px 1px 2px rgba(60, 64, 67, 0.3), 0px 1px 3px 1px rgba(60, 64, 67, 0.15);\n",
              "      fill: #174EA6;\n",
              "    }\n",
              "\n",
              "    [theme=dark] .colab-df-convert {\n",
              "      background-color: #3B4455;\n",
              "      fill: #D2E3FC;\n",
              "    }\n",
              "\n",
              "    [theme=dark] .colab-df-convert:hover {\n",
              "      background-color: #434B5C;\n",
              "      box-shadow: 0px 1px 3px 1px rgba(0, 0, 0, 0.15);\n",
              "      filter: drop-shadow(0px 1px 2px rgba(0, 0, 0, 0.3));\n",
              "      fill: #FFFFFF;\n",
              "    }\n",
              "  </style>\n",
              "\n",
              "      <script>\n",
              "        const buttonEl =\n",
              "          document.querySelector('#df-5ef7f57d-4a8d-4fdc-9b3f-085a93f760c5 button.colab-df-convert');\n",
              "        buttonEl.style.display =\n",
              "          google.colab.kernel.accessAllowed ? 'block' : 'none';\n",
              "\n",
              "        async function convertToInteractive(key) {\n",
              "          const element = document.querySelector('#df-5ef7f57d-4a8d-4fdc-9b3f-085a93f760c5');\n",
              "          const dataTable =\n",
              "            await google.colab.kernel.invokeFunction('convertToInteractive',\n",
              "                                                     [key], {});\n",
              "          if (!dataTable) return;\n",
              "\n",
              "          const docLinkHtml = 'Like what you see? Visit the ' +\n",
              "            '<a target=\"_blank\" href=https://colab.research.google.com/notebooks/data_table.ipynb>data table notebook</a>'\n",
              "            + ' to learn more about interactive tables.';\n",
              "          element.innerHTML = '';\n",
              "          dataTable['output_type'] = 'display_data';\n",
              "          await google.colab.output.renderOutput(dataTable, element);\n",
              "          const docLink = document.createElement('div');\n",
              "          docLink.innerHTML = docLinkHtml;\n",
              "          element.appendChild(docLink);\n",
              "        }\n",
              "      </script>\n",
              "    </div>\n",
              "  </div>\n",
              "  "
            ]
          },
          "metadata": {},
          "execution_count": 142
        }
      ],
      "source": [
        "results_D = rs_D.cv_results_\n",
        "\n",
        "data_xgb_D=pd.DataFrame(results_D)\n",
        "data_xgb_D[['param_learning_rate','param_objetive','param_max_depth','param_n_estimators','mean_test_score','std_test_score','rank_test_score']].sort_values(by='rank_test_score', ascending=True).head(5)"
      ]
    },
    {
      "cell_type": "markdown",
      "metadata": {
        "id": "F_eXEmu31HWo"
      },
      "source": [
        "Extraemos el mejor modelo de la optimización"
      ]
    },
    {
      "cell_type": "code",
      "execution_count": null,
      "metadata": {
        "id": "bnuCz1Ya1hSM",
        "colab": {
          "base_uri": "https://localhost:8080/"
        },
        "outputId": "35c11830-c323-44f1-8da6-9eda3c586753"
      },
      "outputs": [
        {
          "output_type": "execute_result",
          "data": {
            "text/plain": [
              "XGBClassifier(max_depth=4, n_estimators=50, objetive='binary:hinge',\n",
              "              random_state=10)"
            ]
          },
          "metadata": {},
          "execution_count": 143
        }
      ],
      "source": [
        "best_xgb_D=rs_D.best_estimator_\n",
        "best_xgb_D"
      ]
    },
    {
      "cell_type": "markdown",
      "metadata": {
        "id": "DeNFgMeL1lIa"
      },
      "source": [
        "Exploramos la importancia de las variables para el mejor modelo. Vemos que las variables temporales ocupan un lugar importante en la clasificación."
      ]
    },
    {
      "cell_type": "code",
      "execution_count": null,
      "metadata": {
        "id": "EEs7CSiI1x-w"
      },
      "outputs": [],
      "source": [
        "fi_best_D = pd.DataFrame(columns=[\"FEATURE\", \"IMPORTANCE\"])\n",
        "fi_best_D[\"FEATURE\"] = X_train_D.columns\n",
        "fi_best_D[\"IMPORTANCE\"] = best_xgb_D.feature_importances_\n",
        "fi_best_D = fi_best_D.sort_values(\"IMPORTANCE\", ascending=False)"
      ]
    },
    {
      "cell_type": "code",
      "execution_count": null,
      "metadata": {
        "id": "dWCO5hMi14FR",
        "colab": {
          "base_uri": "https://localhost:8080/",
          "height": 877
        },
        "outputId": "ebab669d-db54-4e8b-ad1e-f426fb977650"
      },
      "outputs": [
        {
          "output_type": "display_data",
          "data": {
            "text/plain": [
              "<Figure size 360x1080 with 1 Axes>"
            ],
            "image/png": "[encoded data removed]"
          },
          "metadata": {
            "needs_background": "light"
          }
        }
      ],
      "source": [
        "plt.figure(figsize=(5, 15))\n",
        "sns.barplot(y=fi_best_D.FEATURE, x=fi_best_D.IMPORTANCE)\n",
        "plt.show()"
      ]
    },
    {
      "cell_type": "markdown",
      "metadata": {
        "id": "Qr8gyJwJ2Cif"
      },
      "source": [
        "Métricas de entrenamiento y test para el mejor modelo"
      ]
    },
    {
      "cell_type": "markdown",
      "metadata": {
        "id": "0FRl3wLD2Od0"
      },
      "source": [
        "Train"
      ]
    },
    {
      "cell_type": "code",
      "execution_count": null,
      "metadata": {
        "id": "ufasA_nj2NUR",
        "colab": {
          "base_uri": "https://localhost:8080/",
          "height": 867
        },
        "outputId": "9535af17-2503-49e0-f6f4-7686f8ebf0ec"
      },
      "outputs": [
        {
          "output_type": "stream",
          "name": "stdout",
          "text": [
            "TRAIN\n",
            "Reporte de clasificación  (sobre conjunto TRAIN):\n",
            "\n",
            "              precision    recall  f1-score   support\n",
            "\n",
            "    NO_VERDE       0.91      0.18      0.30     44475\n",
            "       VERDE       0.74      0.99      0.85    102507\n",
            "\n",
            "    accuracy                           0.75    146982\n",
            "   macro avg       0.82      0.59      0.58    146982\n",
            "weighted avg       0.79      0.75      0.68    146982\n",
            "\n",
            "\n",
            "================================================\n",
            "\n"
          ]
        },
        {
          "output_type": "display_data",
          "data": {
            "text/plain": [
              "<Figure size 432x288 with 1 Axes>"
            ],
            "image/png": "[encoded data removed]"
          },
          "metadata": {
            "needs_background": "light"
          }
        },
        {
          "output_type": "execute_result",
          "data": {
            "text/plain": [
              "{'NO_VERDE': {'precision': 0.9131020545638262,\n",
              "  'recall': 0.18286677908937604,\n",
              "  'f1-score': 0.3047094526244801,\n",
              "  'support': 44475},\n",
              " 'VERDE': {'precision': 0.7367952199891363,\n",
              "  'recall': 0.992449296145629,\n",
              "  'f1-score': 0.8457241190113973,\n",
              "  'support': 102507},\n",
              " 'accuracy': 0.747479283177532,\n",
              " 'macro avg': {'precision': 0.8249486372764813,\n",
              "  'recall': 0.5876580376175026,\n",
              "  'f1-score': 0.5752167858179387,\n",
              "  'support': 146982},\n",
              " 'weighted avg': {'precision': 0.7901435651450693,\n",
              "  'recall': 0.747479283177532,\n",
              "  'f1-score': 0.6820195341808865,\n",
              "  'support': 146982}}"
            ]
          },
          "metadata": {},
          "execution_count": 146
        }
      ],
      "source": [
        "print_plot_classification_report(best_xgb_D,X_case_D,Y_case_D,Case,plotFlag=True,classes_list=['NO_VERDE','VERDE'])"
      ]
    },
    {
      "cell_type": "markdown",
      "metadata": {
        "id": "D_7Yz2rv2Rz_"
      },
      "source": [
        "Test"
      ]
    },
    {
      "cell_type": "code",
      "execution_count": null,
      "metadata": {
        "id": "Te1OXXIl2StD",
        "colab": {
          "base_uri": "https://localhost:8080/",
          "height": 867
        },
        "outputId": "a4236365-efc5-4cf0-d566-38b44d6fd062"
      },
      "outputs": [
        {
          "output_type": "stream",
          "name": "stdout",
          "text": [
            "TEST\n",
            "Reporte de clasificación  (sobre conjunto TEST):\n",
            "\n",
            "              precision    recall  f1-score   support\n",
            "\n",
            "    NO_VERDE       0.91      0.18      0.30     19061\n",
            "       VERDE       0.74      0.99      0.84     43932\n",
            "\n",
            "    accuracy                           0.75     62993\n",
            "   macro avg       0.82      0.59      0.57     62993\n",
            "weighted avg       0.79      0.75      0.68     62993\n",
            "\n",
            "\n",
            "================================================\n",
            "\n"
          ]
        },
        {
          "output_type": "display_data",
          "data": {
            "text/plain": [
              "<Figure size 432x288 with 1 Axes>"
            ],
            "image/png": "[encoded data removed]"
          },
          "metadata": {
            "needs_background": "light"
          }
        },
        {
          "output_type": "execute_result",
          "data": {
            "text/plain": [
              "{'NO_VERDE': {'precision': 0.9079542431497739,\n",
              "  'recall': 0.1790567126593568,\n",
              "  'f1-score': 0.2991235758106923,\n",
              "  'support': 19061},\n",
              " 'VERDE': {'precision': 0.7358273964277273,\n",
              "  'recall': 0.9921241919329874,\n",
              "  'f1-score': 0.8449683035108465,\n",
              "  'support': 43932},\n",
              " 'accuracy': 0.7460987728795263,\n",
              " 'macro avg': {'precision': 0.8218908197887507,\n",
              "  'recall': 0.5855904522961721,\n",
              "  'f1-score': 0.5720459396607694,\n",
              "  'support': 62993},\n",
              " 'weighted avg': {'precision': 0.7879111172438327,\n",
              "  'recall': 0.7460987728795263,\n",
              "  'f1-score': 0.6798015968181562,\n",
              "  'support': 62993}}"
            ]
          },
          "metadata": {},
          "execution_count": 148
        }
      ],
      "source": [
        "print_plot_classification_report(best_xgb_D, X_case_test_D, Y_case_test_D,Case_test,plotFlag=True,classes_list=['NO_VERDE','VERDE'])"
      ]
    },
    {
      "cell_type": "markdown",
      "source": [
        "##Resumen"
      ],
      "metadata": {
        "id": "w8VTaOXJtmNp"
      }
    },
    {
      "cell_type": "code",
      "source": [
        "print('Hiperparámetros mejor modelo Receta A: {}'.format(best_xgb_A))\n",
        "print('Hiperparámetros mejor modelo Receta B: {}'.format(best_xgb_B))\n",
        "print('Hiperparámetros mejor modelo Receta C: {}'.format(best_xgb_C))\n",
        "print('Hiperparámetros mejor modelo Receta D: {}'.format(best_xgb_D))"
      ],
      "metadata": {
        "colab": {
          "base_uri": "https://localhost:8080/"
        },
        "id": "TheiDOzG7gDU",
        "outputId": "437819c7-485a-427e-ba72-4b46c8a83513"
      },
      "execution_count": null,
      "outputs": [
        {
          "output_type": "stream",
          "name": "stdout",
          "text": [
            "Hiperparámetros mejor modelo Receta A: XGBClassifier(max_depth=4, n_estimators=50, objetive='binary:hinge',\n",
            "              random_state=10)\n",
            "Hiperparámetros mejor modelo Receta B: XGBClassifier(max_depth=4, n_estimators=50, objetive='binary:hinge',\n",
            "              random_state=10)\n",
            "Hiperparámetros mejor modelo Receta C: XGBClassifier(max_depth=4, n_estimators=50, objetive='binary:hinge',\n",
            "              random_state=10)\n",
            "Hiperparámetros mejor modelo Receta D: XGBClassifier(max_depth=4, n_estimators=50, objetive='binary:hinge',\n",
            "              random_state=10)\n"
          ]
        }
      ]
    },
    {
      "cell_type": "markdown",
      "source": [
        "Espacios verdes"
      ],
      "metadata": {
        "id": "CeyiPh4z6uxU"
      }
    },
    {
      "cell_type": "code",
      "source": [
        "best_xgb_A.fit(X_train_A_1, Y_train_A_1)\n"
      ],
      "metadata": {
        "colab": {
          "base_uri": "https://localhost:8080/"
        },
        "id": "4Iaz2Gv9rhTf",
        "outputId": "7fb3f49e-9c5f-4518-b2d0-d7dc56ea5523"
      },
      "execution_count": null,
      "outputs": [
        {
          "output_type": "stream",
          "name": "stderr",
          "text": [
            "/usr/local/lib/python3.7/dist-packages/sklearn/preprocessing/_label.py:98: DataConversionWarning: A column-vector y was passed when a 1d array was expected. Please change the shape of y to (n_samples, ), for example using ravel().\n",
            "  y = column_or_1d(y, warn=True)\n",
            "/usr/local/lib/python3.7/dist-packages/sklearn/preprocessing/_label.py:133: DataConversionWarning: A column-vector y was passed when a 1d array was expected. Please change the shape of y to (n_samples, ), for example using ravel().\n",
            "  y = column_or_1d(y, warn=True)\n"
          ]
        },
        {
          "output_type": "execute_result",
          "data": {
            "text/plain": [
              "XGBClassifier(max_depth=4, n_estimators=50, objetive='binary:hinge',\n",
              "              random_state=10)"
            ]
          },
          "metadata": {},
          "execution_count": 158
        }
      ]
    },
    {
      "cell_type": "code",
      "source": [
        "best_xgb_B.fit(X_train_B, Y_train_B)"
      ],
      "metadata": {
        "colab": {
          "base_uri": "https://localhost:8080/"
        },
        "id": "cWhdjhkbwhQw",
        "outputId": "0999f718-091e-4a91-8874-856d27412416"
      },
      "execution_count": null,
      "outputs": [
        {
          "output_type": "stream",
          "name": "stderr",
          "text": [
            "/usr/local/lib/python3.7/dist-packages/sklearn/preprocessing/_label.py:98: DataConversionWarning: A column-vector y was passed when a 1d array was expected. Please change the shape of y to (n_samples, ), for example using ravel().\n",
            "  y = column_or_1d(y, warn=True)\n",
            "/usr/local/lib/python3.7/dist-packages/sklearn/preprocessing/_label.py:133: DataConversionWarning: A column-vector y was passed when a 1d array was expected. Please change the shape of y to (n_samples, ), for example using ravel().\n",
            "  y = column_or_1d(y, warn=True)\n"
          ]
        },
        {
          "output_type": "execute_result",
          "data": {
            "text/plain": [
              "XGBClassifier(max_depth=4, n_estimators=50, objetive='binary:hinge',\n",
              "              random_state=10)"
            ]
          },
          "metadata": {},
          "execution_count": 162
        }
      ]
    },
    {
      "cell_type": "code",
      "source": [
        "best_xgb_C.fit(X_train_C, Y_train_C)"
      ],
      "metadata": {
        "colab": {
          "base_uri": "https://localhost:8080/"
        },
        "id": "y0AP0DZOw2QB",
        "outputId": "7ffffee0-158f-4569-811c-33b9c9eee054"
      },
      "execution_count": null,
      "outputs": [
        {
          "output_type": "stream",
          "name": "stderr",
          "text": [
            "/usr/local/lib/python3.7/dist-packages/sklearn/preprocessing/_label.py:98: DataConversionWarning: A column-vector y was passed when a 1d array was expected. Please change the shape of y to (n_samples, ), for example using ravel().\n",
            "  y = column_or_1d(y, warn=True)\n",
            "/usr/local/lib/python3.7/dist-packages/sklearn/preprocessing/_label.py:133: DataConversionWarning: A column-vector y was passed when a 1d array was expected. Please change the shape of y to (n_samples, ), for example using ravel().\n",
            "  y = column_or_1d(y, warn=True)\n"
          ]
        },
        {
          "output_type": "execute_result",
          "data": {
            "text/plain": [
              "XGBClassifier(max_depth=4, n_estimators=50, objetive='binary:hinge',\n",
              "              random_state=10)"
            ]
          },
          "metadata": {},
          "execution_count": 163
        }
      ]
    },
    {
      "cell_type": "code",
      "source": [
        "best_xgb_D.fit(X_train_D, Y_train_D)"
      ],
      "metadata": {
        "colab": {
          "base_uri": "https://localhost:8080/"
        },
        "id": "gByATvOWxAiW",
        "outputId": "d570f751-3301-452d-d781-5e45d445bae9"
      },
      "execution_count": null,
      "outputs": [
        {
          "output_type": "stream",
          "name": "stderr",
          "text": [
            "/usr/local/lib/python3.7/dist-packages/sklearn/preprocessing/_label.py:98: DataConversionWarning: A column-vector y was passed when a 1d array was expected. Please change the shape of y to (n_samples, ), for example using ravel().\n",
            "  y = column_or_1d(y, warn=True)\n",
            "/usr/local/lib/python3.7/dist-packages/sklearn/preprocessing/_label.py:133: DataConversionWarning: A column-vector y was passed when a 1d array was expected. Please change the shape of y to (n_samples, ), for example using ravel().\n",
            "  y = column_or_1d(y, warn=True)\n"
          ]
        },
        {
          "output_type": "execute_result",
          "data": {
            "text/plain": [
              "XGBClassifier(max_depth=4, n_estimators=50, objetive='binary:hinge',\n",
              "              random_state=10)"
            ]
          },
          "metadata": {},
          "execution_count": 164
        }
      ]
    },
    {
      "cell_type": "code",
      "source": [
        "y_pred_xgb_A = best_xgb_A.predict(X_test_A_1)\n",
        "y_pred_xgb_B = best_xgb_B.predict(X_test_B)\n",
        "y_pred_xgb_C = best_xgb_C.predict(X_test_C)\n",
        "y_pred_xgb_D = best_xgb_D.predict(X_test_D)\n"
      ],
      "metadata": {
        "id": "_BDs-a_Lwr55"
      },
      "execution_count": null,
      "outputs": []
    },
    {
      "cell_type": "code",
      "source": [
        "acc_test_a = accuracy_score(Y_test_A_1,y_pred_xgb_A)\n",
        "acc_test_b = accuracy_score(Y_test_B,y_pred_xgb_B)\n",
        "acc_test_c = accuracy_score(Y_test_C,y_pred_xgb_C)\n",
        "acc_test_d = accuracy_score(Y_test_D,y_pred_xgb_D)"
      ],
      "metadata": {
        "id": "J6EfcoV4rgYq"
      },
      "execution_count": null,
      "outputs": []
    },
    {
      "cell_type": "code",
      "source": [
        "recall_test_a = recall_score(Y_test_A_1,y_pred_xgb_A)\n",
        "recall_test_b = recall_score(Y_test_B,y_pred_xgb_B)\n",
        "recall_test_c = recall_score(Y_test_C,y_pred_xgb_C)\n",
        "recall_test_d = recall_score(Y_test_D,y_pred_xgb_D)"
      ],
      "metadata": {
        "id": "WhkAesjKwJBg"
      },
      "execution_count": null,
      "outputs": []
    },
    {
      "cell_type": "code",
      "source": [
        "prec_test_a = precision_score(Y_test_A_1,y_pred_xgb_A)\n",
        "prec_test_b = precision_score(Y_test_B,y_pred_xgb_B)\n",
        "prec_test_c = precision_score(Y_test_C,y_pred_xgb_C)\n",
        "prec_test_d = precision_score(Y_test_D,y_pred_xgb_D)"
      ],
      "metadata": {
        "id": "-p_cMXxyymql"
      },
      "execution_count": null,
      "outputs": []
    },
    {
      "cell_type": "code",
      "source": [
        "print('Resumen de métricas para los modelos XGBoostClassifier\\n----------------------------------------\\\n",
        "---------------------\\nRecall y precision para espacios verdes')\n",
        "filas=['Receta A','Receta B', 'Receta C','Receta D']\n",
        "columnas= ['recall', 'precision', 'accuracy']\n",
        "datos= [[recall_test_a, prec_test_a, acc_test_a],[recall_test_b, prec_test_b, acc_test_b], \n",
        "        [recall_test_c, prec_test_c, acc_test_c], [recall_test_d, prec_test_d, acc_test_d]]\n",
        "resumen_metricas_test = pd.DataFrame(datos, columns=columnas, index=filas)\n",
        "resumen_metricas_test"
      ],
      "metadata": {
        "colab": {
          "base_uri": "https://localhost:8080/",
          "height": 227
        },
        "id": "BX-sXWvariKF",
        "outputId": "2687b005-0ad1-4ab4-a6c1-ee26947143c6"
      },
      "execution_count": null,
      "outputs": [
        {
          "output_type": "stream",
          "name": "stdout",
          "text": [
            "Resumen de métricas para los modelos XGBoostClassifier\n",
            "-------------------------------------------------------------\n",
            "Recall y precision para espacios verdes\n"
          ]
        },
        {
          "output_type": "execute_result",
          "data": {
            "text/plain": [
              "            recall  precision  accuracy\n",
              "Receta A  0.958205   0.839020  0.843730\n",
              "Receta B  0.956336   0.840516  0.844352\n",
              "Receta C  0.955044   0.843526  0.845094\n",
              "Receta D  0.992124   0.735827  0.746099"
            ],
            "text/html": [
              "\n",
              "  <div id=\"df-eea14222-7396-4bd0-8814-28dfd99ea28b\">\n",
              "    <div class=\"colab-df-container\">\n",
              "      <div>\n",
              "<style scoped>\n",
              "    .dataframe tbody tr th:only-of-type {\n",
              "        vertical-align: middle;\n",
              "    }\n",
              "\n",
              "    .dataframe tbody tr th {\n",
              "        vertical-align: top;\n",
              "    }\n",
              "\n",
              "    .dataframe thead th {\n",
              "        text-align: right;\n",
              "    }\n",
              "</style>\n",
              "<table border=\"1\" class=\"dataframe\">\n",
              "  <thead>\n",
              "    <tr style=\"text-align: right;\">\n",
              "      <th></th>\n",
              "      <th>recall</th>\n",
              "      <th>precision</th>\n",
              "      <th>accuracy</th>\n",
              "    </tr>\n",
              "  </thead>\n",
              "  <tbody>\n",
              "    <tr>\n",
              "      <th>Receta A</th>\n",
              "      <td>0.958205</td>\n",
              "      <td>0.839020</td>\n",
              "      <td>0.843730</td>\n",
              "    </tr>\n",
              "    <tr>\n",
              "      <th>Receta B</th>\n",
              "      <td>0.956336</td>\n",
              "      <td>0.840516</td>\n",
              "      <td>0.844352</td>\n",
              "    </tr>\n",
              "    <tr>\n",
              "      <th>Receta C</th>\n",
              "      <td>0.955044</td>\n",
              "      <td>0.843526</td>\n",
              "      <td>0.845094</td>\n",
              "    </tr>\n",
              "    <tr>\n",
              "      <th>Receta D</th>\n",
              "      <td>0.992124</td>\n",
              "      <td>0.735827</td>\n",
              "      <td>0.746099</td>\n",
              "    </tr>\n",
              "  </tbody>\n",
              "</table>\n",
              "</div>\n",
              "      <button class=\"colab-df-convert\" onclick=\"convertToInteractive('df-eea14222-7396-4bd0-8814-28dfd99ea28b')\"\n",
              "              title=\"Convert this dataframe to an interactive table.\"\n",
              "              style=\"display:none;\">\n",
              "        \n",
              "  <svg xmlns=\"http://www.w3.org/2000/svg\" height=\"24px\"viewBox=\"0 0 24 24\"\n",
              "       width=\"24px\">\n",
              "    <path d=\"M0 0h24v24H0V0z\" fill=\"none\"/>\n",
              "    <path d=\"M18.56 5.44l.94 2.06.94-2.06 2.06-.94-2.06-.94-.94-2.06-.94 2.06-2.06.94zm-11 1L8.5 8.5l.94-2.06 2.06-.94-2.06-.94L8.5 2.5l-.94 2.06-2.06.94zm10 10l.94 2.06.94-2.06 2.06-.94-2.06-.94-.94-2.06-.94 2.06-2.06.94z\"/><path d=\"M17.41 7.96l-1.37-1.37c-.4-.4-.92-.59-1.43-.59-.52 0-1.04.2-1.43.59L10.3 9.45l-7.72 7.72c-.78.78-.78 2.05 0 2.83L4 21.41c.39.39.9.59 1.41.59.51 0 1.02-.2 1.41-.59l7.78-7.78 2.81-2.81c.8-.78.8-2.07 0-2.86zM5.41 20L4 18.59l7.72-7.72 1.47 1.35L5.41 20z\"/>\n",
              "  </svg>\n",
              "      </button>\n",
              "      \n",
              "  <style>\n",
              "    .colab-df-container {\n",
              "      display:flex;\n",
              "      flex-wrap:wrap;\n",
              "      gap: 12px;\n",
              "    }\n",
              "\n",
              "    .colab-df-convert {\n",
              "      background-color: #E8F0FE;\n",
              "      border: none;\n",
              "      border-radius: 50%;\n",
              "      cursor: pointer;\n",
              "      display: none;\n",
              "      fill: #1967D2;\n",
              "      height: 32px;\n",
              "      padding: 0 0 0 0;\n",
              "      width: 32px;\n",
              "    }\n",
              "\n",
              "    .colab-df-convert:hover {\n",
              "      background-color: #E2EBFA;\n",
              "      box-shadow: 0px 1px 2px rgba(60, 64, 67, 0.3), 0px 1px 3px 1px rgba(60, 64, 67, 0.15);\n",
              "      fill: #174EA6;\n",
              "    }\n",
              "\n",
              "    [theme=dark] .colab-df-convert {\n",
              "      background-color: #3B4455;\n",
              "      fill: #D2E3FC;\n",
              "    }\n",
              "\n",
              "    [theme=dark] .colab-df-convert:hover {\n",
              "      background-color: #434B5C;\n",
              "      box-shadow: 0px 1px 3px 1px rgba(0, 0, 0, 0.15);\n",
              "      filter: drop-shadow(0px 1px 2px rgba(0, 0, 0, 0.3));\n",
              "      fill: #FFFFFF;\n",
              "    }\n",
              "  </style>\n",
              "\n",
              "      <script>\n",
              "        const buttonEl =\n",
              "          document.querySelector('#df-eea14222-7396-4bd0-8814-28dfd99ea28b button.colab-df-convert');\n",
              "        buttonEl.style.display =\n",
              "          google.colab.kernel.accessAllowed ? 'block' : 'none';\n",
              "\n",
              "        async function convertToInteractive(key) {\n",
              "          const element = document.querySelector('#df-eea14222-7396-4bd0-8814-28dfd99ea28b');\n",
              "          const dataTable =\n",
              "            await google.colab.kernel.invokeFunction('convertToInteractive',\n",
              "                                                     [key], {});\n",
              "          if (!dataTable) return;\n",
              "\n",
              "          const docLinkHtml = 'Like what you see? Visit the ' +\n",
              "            '<a target=\"_blank\" href=https://colab.research.google.com/notebooks/data_table.ipynb>data table notebook</a>'\n",
              "            + ' to learn more about interactive tables.';\n",
              "          element.innerHTML = '';\n",
              "          dataTable['output_type'] = 'display_data';\n",
              "          await google.colab.output.renderOutput(dataTable, element);\n",
              "          const docLink = document.createElement('div');\n",
              "          docLink.innerHTML = docLinkHtml;\n",
              "          element.appendChild(docLink);\n",
              "        }\n",
              "      </script>\n",
              "    </div>\n",
              "  </div>\n",
              "  "
            ]
          },
          "metadata": {},
          "execution_count": 208
        }
      ]
    },
    {
      "cell_type": "markdown",
      "source": [
        "Espacios no verdes"
      ],
      "metadata": {
        "id": "P2PzQklK4pNf"
      }
    },
    {
      "cell_type": "code",
      "source": [
        "from sklearn.metrics import precision_recall_fscore_support as score\n"
      ],
      "metadata": {
        "id": "4LdAT9hK3rOO"
      },
      "execution_count": null,
      "outputs": []
    },
    {
      "cell_type": "code",
      "source": [
        "precision_A, recall_A, fscore_A, support_A = score(Y_test_A_1,y_pred_xgb_A)\n",
        "precision_B, recall_B, fscore_B, support_B = score(Y_test_B,y_pred_xgb_B)\n",
        "precision_C, recall_C, fscore_C, support_C = score(Y_test_C,y_pred_xgb_C)\n",
        "precision_D, recall_D, fscore_D, support_D = score(Y_test_D,y_pred_xgb_D)\n"
      ],
      "metadata": {
        "id": "qtQrpokg4vNo"
      },
      "execution_count": null,
      "outputs": []
    },
    {
      "cell_type": "code",
      "source": [
        "print('Resumen de métricas para los modelos XGBoostClassifier\\n----------------------------------------\\\n",
        "---------------------\\nRecall y precision para espacios NO verdes')\n",
        "filas=['Receta A','Receta B', 'Receta C','Receta D']\n",
        "columnas= ['recall', 'precision', 'accuracy']\n",
        "datos= [[recall_A[0], precision_A[0], acc_test_a],[recall_B[0], precision_B[0], acc_test_b], \n",
        "        [recall_C[0], precision_C[0], acc_test_c], [recall_D[0], precision_D[0], acc_test_d]]\n",
        "resumen_metricas_test_no_verde = pd.DataFrame(datos, columns=columnas, index=filas)\n",
        "resumen_metricas_test_no_verde"
      ],
      "metadata": {
        "colab": {
          "base_uri": "https://localhost:8080/",
          "height": 227
        },
        "id": "GImJbMtp42uk",
        "outputId": "317e7b1f-92b4-4580-b27e-715ac8458210"
      },
      "execution_count": null,
      "outputs": [
        {
          "output_type": "stream",
          "name": "stdout",
          "text": [
            "Resumen de métricas para los modelos XGBoostClassifier\n",
            "-------------------------------------------------------------\n",
            "Recall y precision para espacios NO verdes\n"
          ]
        },
        {
          "output_type": "execute_result",
          "data": {
            "text/plain": [
              "            recall  precision  accuracy\n",
              "Receta A  0.585862   0.861549  0.843730\n",
              "Receta B  0.593470   0.858495  0.844352\n",
              "Receta C  0.591679   0.850977  0.845094\n",
              "Receta D  0.179057   0.907954  0.746099"
            ],
            "text/html": [
              "\n",
              "  <div id=\"df-5ebde83d-068e-44e4-a111-d437a8fb33c7\">\n",
              "    <div class=\"colab-df-container\">\n",
              "      <div>\n",
              "<style scoped>\n",
              "    .dataframe tbody tr th:only-of-type {\n",
              "        vertical-align: middle;\n",
              "    }\n",
              "\n",
              "    .dataframe tbody tr th {\n",
              "        vertical-align: top;\n",
              "    }\n",
              "\n",
              "    .dataframe thead th {\n",
              "        text-align: right;\n",
              "    }\n",
              "</style>\n",
              "<table border=\"1\" class=\"dataframe\">\n",
              "  <thead>\n",
              "    <tr style=\"text-align: right;\">\n",
              "      <th></th>\n",
              "      <th>recall</th>\n",
              "      <th>precision</th>\n",
              "      <th>accuracy</th>\n",
              "    </tr>\n",
              "  </thead>\n",
              "  <tbody>\n",
              "    <tr>\n",
              "      <th>Receta A</th>\n",
              "      <td>0.585862</td>\n",
              "      <td>0.861549</td>\n",
              "      <td>0.843730</td>\n",
              "    </tr>\n",
              "    <tr>\n",
              "      <th>Receta B</th>\n",
              "      <td>0.593470</td>\n",
              "      <td>0.858495</td>\n",
              "      <td>0.844352</td>\n",
              "    </tr>\n",
              "    <tr>\n",
              "      <th>Receta C</th>\n",
              "      <td>0.591679</td>\n",
              "      <td>0.850977</td>\n",
              "      <td>0.845094</td>\n",
              "    </tr>\n",
              "    <tr>\n",
              "      <th>Receta D</th>\n",
              "      <td>0.179057</td>\n",
              "      <td>0.907954</td>\n",
              "      <td>0.746099</td>\n",
              "    </tr>\n",
              "  </tbody>\n",
              "</table>\n",
              "</div>\n",
              "      <button class=\"colab-df-convert\" onclick=\"convertToInteractive('df-5ebde83d-068e-44e4-a111-d437a8fb33c7')\"\n",
              "              title=\"Convert this dataframe to an interactive table.\"\n",
              "              style=\"display:none;\">\n",
              "        \n",
              "  <svg xmlns=\"http://www.w3.org/2000/svg\" height=\"24px\"viewBox=\"0 0 24 24\"\n",
              "       width=\"24px\">\n",
              "    <path d=\"M0 0h24v24H0V0z\" fill=\"none\"/>\n",
              "    <path d=\"M18.56 5.44l.94 2.06.94-2.06 2.06-.94-2.06-.94-.94-2.06-.94 2.06-2.06.94zm-11 1L8.5 8.5l.94-2.06 2.06-.94-2.06-.94L8.5 2.5l-.94 2.06-2.06.94zm10 10l.94 2.06.94-2.06 2.06-.94-2.06-.94-.94-2.06-.94 2.06-2.06.94z\"/><path d=\"M17.41 7.96l-1.37-1.37c-.4-.4-.92-.59-1.43-.59-.52 0-1.04.2-1.43.59L10.3 9.45l-7.72 7.72c-.78.78-.78 2.05 0 2.83L4 21.41c.39.39.9.59 1.41.59.51 0 1.02-.2 1.41-.59l7.78-7.78 2.81-2.81c.8-.78.8-2.07 0-2.86zM5.41 20L4 18.59l7.72-7.72 1.47 1.35L5.41 20z\"/>\n",
              "  </svg>\n",
              "      </button>\n",
              "      \n",
              "  <style>\n",
              "    .colab-df-container {\n",
              "      display:flex;\n",
              "      flex-wrap:wrap;\n",
              "      gap: 12px;\n",
              "    }\n",
              "\n",
              "    .colab-df-convert {\n",
              "      background-color: #E8F0FE;\n",
              "      border: none;\n",
              "      border-radius: 50%;\n",
              "      cursor: pointer;\n",
              "      display: none;\n",
              "      fill: #1967D2;\n",
              "      height: 32px;\n",
              "      padding: 0 0 0 0;\n",
              "      width: 32px;\n",
              "    }\n",
              "\n",
              "    .colab-df-convert:hover {\n",
              "      background-color: #E2EBFA;\n",
              "      box-shadow: 0px 1px 2px rgba(60, 64, 67, 0.3), 0px 1px 3px 1px rgba(60, 64, 67, 0.15);\n",
              "      fill: #174EA6;\n",
              "    }\n",
              "\n",
              "    [theme=dark] .colab-df-convert {\n",
              "      background-color: #3B4455;\n",
              "      fill: #D2E3FC;\n",
              "    }\n",
              "\n",
              "    [theme=dark] .colab-df-convert:hover {\n",
              "      background-color: #434B5C;\n",
              "      box-shadow: 0px 1px 3px 1px rgba(0, 0, 0, 0.15);\n",
              "      filter: drop-shadow(0px 1px 2px rgba(0, 0, 0, 0.3));\n",
              "      fill: #FFFFFF;\n",
              "    }\n",
              "  </style>\n",
              "\n",
              "      <script>\n",
              "        const buttonEl =\n",
              "          document.querySelector('#df-5ebde83d-068e-44e4-a111-d437a8fb33c7 button.colab-df-convert');\n",
              "        buttonEl.style.display =\n",
              "          google.colab.kernel.accessAllowed ? 'block' : 'none';\n",
              "\n",
              "        async function convertToInteractive(key) {\n",
              "          const element = document.querySelector('#df-5ebde83d-068e-44e4-a111-d437a8fb33c7');\n",
              "          const dataTable =\n",
              "            await google.colab.kernel.invokeFunction('convertToInteractive',\n",
              "                                                     [key], {});\n",
              "          if (!dataTable) return;\n",
              "\n",
              "          const docLinkHtml = 'Like what you see? Visit the ' +\n",
              "            '<a target=\"_blank\" href=https://colab.research.google.com/notebooks/data_table.ipynb>data table notebook</a>'\n",
              "            + ' to learn more about interactive tables.';\n",
              "          element.innerHTML = '';\n",
              "          dataTable['output_type'] = 'display_data';\n",
              "          await google.colab.output.renderOutput(dataTable, element);\n",
              "          const docLink = document.createElement('div');\n",
              "          docLink.innerHTML = docLinkHtml;\n",
              "          element.appendChild(docLink);\n",
              "        }\n",
              "      </script>\n",
              "    </div>\n",
              "  </div>\n",
              "  "
            ]
          },
          "metadata": {},
          "execution_count": 207
        }
      ]
    }
  ],
  "metadata": {
    "colab": {
      "name": " XGBoost_MEV.ipynb",
      "provenance": []
    },
    "kernelspec": {
      "display_name": "Python 3",
      "name": "python3"
    },
    "language_info": {
      "name": "python"
    }
  },
  "nbformat": 4,
  "nbformat_minor": 0
}